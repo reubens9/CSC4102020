{
 "cells": [
  {
   "cell_type": "markdown",
   "metadata": {},
   "source": [
    "\n",
    "# Introduction\n",
    "The aim of this notebook purports to illucidate the flow of nutrients through an ecosystem.\n",
    "This will be done by taking an engineering centered approach. Despite the fact that the chemistry and bacteria involved in the nitrogen cycle are well studied, there is a lot to be said regarding the mass and energy fluxes and the varying amounts of the species that influence this sensitive flows of material and energy. With the former in mind, it is the aim of this notebook to set forward a general flux model that intends to illustrate how mass and energy flows through an [ecosystem](https://www.boredpanda.com/sealed-bottle-garden-david-latimer/?utm_source=google&utm_medium=organic&utm_campaign=organic).\n",
    "\n",
    "![ecosystem](ecosystem_introduction.png)\n",
    "\n",
    "#  Approach\n",
    "\n",
    "Initially, it will be advantageous to select an aquatic ecosystem, as it hold the following advantages:\n",
    "* Uniform concentrations throughout the sample volume;\n",
    "* All the organisms can be selected carefully to be either single-celled or to possess uniform structures; and\n",
    "* The availability of data pertaining to the abovementioned microorganisms.\n",
    "\n",
    "In summary, a few of the microbes in the system will be used to produce simple flux models, which will expand both in amount and complexity over the course of the project. These flux models will result in algebraic response functions and their bio-masses will yield differential equations,all of which will be used to study the flow of nutrients through the ecosystem\n",
    "\n",
    "\n",
    "\n",
    "\n",
    "\n"
   ]
  },
  {
   "cell_type": "markdown",
   "metadata": {},
   "source": [
    "# Plant model \n",
    "\n",
    "\n",
    "\n",
    "\n",
    "\n",
    "The reactions taking place in the plant will be sperated into two diferent models, 1: Photosynthesis and 2: Growth model\n",
    "\n",
    "Photosynthesis is the process by which plants, algae, and certain bacteria (such as cyanobacteria) harnass energy from sunlight and convert it into chemical energy. During oxygenic photosynthesis light energy is captured and fascilitates the transfer of electrons from water to carbon dioxide to produce carbohydrates such as sugar. Therefore carbon dioxide is reduced and water is oxidized. Ultimately oxygen gas is produced alongside the sugar in the reaction as set out below:\n",
    "\n",
    "$$CO_{2} + H_{2}O + light → CH_{2}O + O_{2}$$\n",
    "\n",
    "In turn, the sugar produced will provide the energy to support energy production for plant growth. The proposed model for the synthesis of [biomass](https://www.researchgate.net/publication/223835531_An_overview_of_the_chemical_composition_of_biomass) can be set out as follow:\n",
    "\n",
    "$$aCH_{2}O + bO_{2} → CH_{1.5}O_{0.64}N_{0.04} + dCO_{2} + eH_{2}O  $$\n",
    "\n",
    "![Plant_Model](Plant_Modell.jpg)\n",
    "\n",
    "Lastly, for simplicity it is assumed that the plant only absorbs $NO_{3}^{-}$ as the source of nitrogen and that $NH_{4}^{+}$ and other forms of nitrogen will not be absorbed by the plant.\n",
    "\n",
    "# Nitrogen cycle\n",
    "\n",
    "\n",
    "\n",
    "\n",
    "\n",
    "There are numerous types of bacteria that play their part in the nitrogen cycle. Therefore, it was thought good to name but a few of the types of bacteria that will play a part in the ecosystem. The index of bacteria provided is by no means exhaustive and will serve to simplify the modelling of the two phase system.\n",
    "\n",
    "![index](Bacteria_Index.jpg)\n",
    "\n",
    "The nitrogen cycle can be summarised by the  diagram below. Each individual step of our model will be discussed accordingly.\n",
    "\n",
    "![index](Nitrogen_Cyclle.jpg)\n",
    "\n",
    "\n",
    "\n",
    "\n",
    "\n",
    "\n",
    "\n"
   ]
  },
  {
   "cell_type": "markdown",
   "metadata": {},
   "source": [
    "## Nitrogen fixation\n",
    "\n",
    "Nitrogen plays a big role in a plant growth as it forms part of the cholorphyll and the ammino acids which make the proteins of which the plant consists. Quite ironically, despite 79% of the air consisting of molecular nitrogen $N_{2}$ plants are unable to assimilate it due it being inert. So... for the plants to obtain nitrogen it has to be converted into forms that are susceptible to uptake by the plant such as Ammonium ($NH_{4}^+$) or Nitrate ($NO_3^{-}$) so that they can produce DNA, RNA, and proteins which are require nitrogen. This process is called nitrogen fixation and is performed by heterocysts, which are specialized nitrogen fixing cells in filamentous cyanobacteria [filamentous nitrogen bacteria](). Looking at the image below it is evident that the formation of heterocysts inside photosynthetic cells is known as cooperation, where a symbiotic sharing of metabolic products take place. For instance: the heretocysts share the ammonia produced and the photosynthetic green cells produce and share glucose.\n",
    "\n",
    "![Heterocyst](Heterocyst.jpg)\n",
    "\n",
    "Some cyanobacteria have a compartmentilisation strategy due to the fact that nitrogen fixation relies on an enzyme called nitrogenase which is inactivated by oxygen. Therefore, if you have photsynthesis occcuring, you cannot have nitrogen fixation occuring. Logically, the heterocysts have to create an anaerobic enviroment that is seperated from the photosynthetic cells so that fixation can take place.\n",
    "\n",
    "Nitrogen fixation as a [chemical reaction](https://www.sciencedirect.com/science/article/pii/B9780128146675000088) can be described as follow:\n",
    "\n",
    "$$ N_2 + 10H^{+} + 8e^{-} + 16MgATP  → 2NH_{3} + H_{2} + 16MgADP + 16Pi $$\n",
    "\n",
    "For the ecosystem chosen we have chosen to use a simplified nitrogen fixing model. We will assume that the growth rate of the nitrate fixing bacteria will be related to the uptake of glucose and nitrogen , i.e.\n",
    "$$ X(CH_{2}O,N_{2}) $$\n",
    "\n",
    "\n",
    "\n",
    "Nitrogeen uptake rate given as $24.75$ $\\mu mol.L^{-1}.h^{-1}$ [LOOK AT TABLE 7 page 286](https://mmbr.asm.org/content/mmbr/49/3/270.full.pdf)\n",
    "\n",
    "\n",
    "With $μ_{2}$ reported as $0.085 ± 0.015 h^{-1}$ and the assumption that the nitrogen fixation is the only mechanism by which the bacteria is assimilating nitrogen. Nitrogen uptake has reported to be between $ 0.13 - 0.17 $ $nmol$ $C_{2}H_{4}$ $.mg$ $dry$ $weight^{-1}. h^{-1}$. With these parameters known, the model below will be sufficient to play its part in the ecosystem.\n",
    "\n",
    "The following image is represents nitrogen fixation used in the model for the system.\n",
    "![X2](Nitrogen_fixating_bacteria_explainedd.jpg)\n"
   ]
  },
  {
   "cell_type": "code",
   "execution_count": 1,
   "metadata": {},
   "outputs": [
    {
     "data": {
      "text/plain": [
       "matrix([[1.   ],\n",
       "        [0.395],\n",
       "        [0.2  ],\n",
       "        [0.75 ],\n",
       "        [0.8  ]])"
      ]
     },
     "execution_count": 1,
     "metadata": {},
     "output_type": "execute_result"
    }
   ],
   "source": [
    "import numpy as np\n",
    "Stoichiometry_Matrix = np.matrix([[-1, 0, 1, 0, 1],\n",
    "                        [0, -2, 0.2, 1, 0],\n",
    "                        [-4, 6, 4.4, 1, 0],\n",
    "                        [1, 0, 0, 0, 0],\n",
    "                        [0, 0, 1, 0, 0]])\n",
    "sol = np.matrix([[0, 0, 0, 1, 0.2]]).T\n",
    "knownrates = np.linalg.solve(Stoichiometry_Matrix,sol) \n",
    "knownrates\n",
    "#R_S, R_N2, RX, RNH4, RCO2"
   ]
  },
  {
   "cell_type": "markdown",
   "metadata": {},
   "source": [
    "# Nitrification\n",
    "\n",
    "Can be described as the microbially fascilitated two step biological process that fascilitates the  oxidation of ammonia to nitrate.Therefore, multiple types of bacteria are needed to perform the process of nitrification such as ammonia oxiding bacteria and nitrite oxidizing bacteria.\n",
    "\n",
    "In order to simplify the model, the nitrifying bacteria model will assume that the bacteria chosen will be able to do both the oxidation of ammonia to nitrite and the oxidation of nitrite to nitrate. Therefore, the initial model will be something like:\n",
    "\n",
    "![Nitrification_Steps](Nitrification_Steps.jpg) \n",
    "\n",
    "Furthermore,similar $\\mu$ values and $NH_{4}^{+}$ $/$  $NO_{2}$ uptake rates will be assumed. Subsequently, the model will assume that growth is a function of the rate of uptake of nitrogen uptake, with a reported specific growth rate:\n",
    "$$X_{3}(N-Uptake)$$\n",
    "\n",
    "Literature has confirmed that a typical biomass formula for nitrifying bacteria is in the order of $CH_{1.4}N_{0.2}O_{0.4}$.Furthermore, Nitrifying bacteria make use of $CO_{2}$ as their primary source of carbon and make use of either $NH_3$$/$$NH_{4}^{+}$ or $NO_{2}$ to produce ATP. The [overall reaction](https://www.sciencedirect.com/science/article/pii/B9780124701007500224) for the production of new biomass coupled with ammonia can be represented as follow:\n",
    "\n",
    "$$ NH_{3} + 1.83 O_{2} + 1.98 HCO_{3}^{-1}  →  0.021 C_{5}H_{7}NO_{2}\n",
    "+ 1.041 H_{2}O + 0.98 NO_{3} + 1.88 H_{2}CO_{3}$$\n",
    "\n",
    "The  physilogical parameters for nitrifying bacteria growth kinetics were obtained with a [specific growth](https://www.researchgate.net/publication/247876208_Growth_kinetic_studies_of_nitrifying_bacteria_by_the_immunofluorescent_counting_method) $\\mu_{3} = 0.81$ $day^{-1}$\n",
    "\n",
    "![Nitrification_bacteria_explained](Nitrification_bacteria_explained.jpg)\n"
   ]
  },
  {
   "cell_type": "markdown",
   "metadata": {},
   "source": [
    "## Denitrification\n",
    "\n",
    "Denitrification can be regarded as the micribially fascilitated process where nitrates are reduced to gaseous nitrogen, mostly, $N_{2}O$ and $N_{2}$. Denitrification is a response to a drop in oxygen concentration, which enables the anaerobic use of $NO_{2}$. Naturally in ecosystems this process is beneficial for the removal of nitrates. The bacterial growth model will be a function of nitrate uptake rate i.e. \n",
    "$$X(NO_{3}^{-1})$$\n",
    "\n",
    "\n",
    "[overallreaction](https://sci-hub.tw/https://doi.org/10.1016/S0166-1116(08)70526-0) using CO2 as source of carbon...\n",
    "id glucose is the electron acceptor then denitrification can be written as [Kinetics of Nitrification and Denitrification\n",
    "Reactions](https://sci-hub.tw/10.1002/bit.260200105)\n",
    "\n",
    "\n",
    "\n",
    "[insertbacteria formula,parracoccus Denitrificans](https://www.sciencedirect.com/science/article/pii/S2405844018385852#bib48)\n",
    "\n",
    "\n",
    "![X3](Denitryfying_bacteria_explainedd.jpg)\n",
    "\n",
    "$\\mu$ (muvalues)[https://www.ncbi.nlm.nih.gov/pmc/articles/PMC6936282/]\n"
   ]
  },
  {
   "cell_type": "markdown",
   "metadata": {},
   "source": [
    "## [Decomposer](https://www.education.txstate.edu/ci/faculty/dickinson/PBI/PBISpring05/Lake/Content/Decomposition.htm)\n",
    "Decomposers, which include bacteria, fungi, and other microorganisms for an intricate part of the food web. Despite the fact that decomposers break down organic matter, they function as sinks for plant and animal waste where they recycle nutrients for photosynthesis. For instance, phosphorus and nitrogen are regenerated to be bio available in the forms of $PO_{4}^{-3}$ and $NH_{4}^{+}$. The proposed model chosen does not account for the flux of $CO_{2}$ through the decomposer and therefore, as can be seen from the image below, no $CO_{2}$ or $CH_{4}$. However, there has been accounted for the $O_{2}$ consumed in the system as in certain zones it might be in sparce quantities.\n",
    "\n",
    "![Decomposing_bacteria_explained](Decomposing_bacteria_explained.jpg)"
   ]
  },
  {
   "cell_type": "markdown",
   "metadata": {},
   "source": [
    "## Flow models\n",
    "\n",
    "In order to summarise the above information and the flow of elements a two way system split is proposed where the flow of carbon and nitrogen are seperated into two seperate flow models. In short $CO_{2}$ is converted by plants into carbohydrates, in turn the Nitrogen fixing bacteria consumes carbohydrates and reproduces $CO_{2}$ which is then consumed by the nitrifying, denitrifying and decomposing bacteria. THe carbon and nitrogen flow model is presented below:\n",
    "\n",
    "![Carbon_Model](Carbon_Model.jpg)\n",
    "\n",
    "## NItrogen flow model\n",
    "\n",
    "\n",
    "![Nitrogen_Modell](Nitrogen_Modell.jpg)"
   ]
  },
  {
   "cell_type": "markdown",
   "metadata": {},
   "source": [
    "# Next step\n",
    "Once preliminary models of each type organism is produced and simulated in a two phase system. Our main goal will be to improve the accuracy of these models where the inclusion of a simplified energy balance of each organisms metabolism will act as a general starting point for these improvements."
   ]
  },
  {
   "cell_type": "markdown",
   "metadata": {},
   "source": [
    "## Stoichiometry"
   ]
  },
  {
   "cell_type": "markdown",
   "metadata": {},
   "source": [
    "## Bacterial Reactions"
   ]
  },
  {
   "cell_type": "code",
   "execution_count": 2,
   "metadata": {},
   "outputs": [],
   "source": [
    "import numpy\n",
    "from numpy import linalg\n",
    "import numpy as np"
   ]
  },
  {
   "cell_type": "markdown",
   "metadata": {},
   "source": [
    "This section is dedicated to show the method used to obtain and fix the stoichiometric ratios of each reaction as set out above. Each plant and bacterial reaction with correponding component balances will be set out below to illustrate how the stoichiometry of each component was obtained.\n",
    "Firstly, the general overall reaction of each organims was determined based on the characteristics of each organism. Once, the general reaction is determined the coefficients for each component is solved by means of using linear algebra."
   ]
  },
  {
   "cell_type": "markdown",
   "metadata": {},
   "source": [
    "Note: **All reactant rate values were taken as a negative i.e ($-r_{Reactant A}$) whereas products were taken as $r_{Product B}$ this is based on a rate of consumption and rate of production. In the event that a negate rate is obtained. It signals that the reactant was merely a product in the reaction or vice versa.**"
   ]
  },
  {
   "cell_type": "markdown",
   "metadata": {},
   "source": [
    "### Nitrogen Fixation\n",
    "\n",
    "For information regarding the chemical kinetics of nitrogen fixing cyanobacteria that make use of autotrophic growth(Continuous Cultivation as a Method to Assess the Maximum Specific Growth Rate of Photosynthetic Organisms)[https://www.ncbi.nlm.nih.gov/pmc/articles/PMC6811504/]\n",
    "\n",
    "(further on stoichiometry for whole nitrogen cycle and plants)[https://sci-hub.tw/10.1016/j.aquaculture.2006.03.019]\n",
    "\n",
    "\n",
    "\n",
    "\n",
    "Nitrogen fixation as an overall chemical reaction can be described by the reaction below:\n",
    "\n",
    "\n",
    "$$ CH_2O +Y_{SN} N_2 + Y_{SO}O_2 \\to Y_{SX} CH_{1.2}O_{0.4}N{0.22} + Y_{SC} CO_2 + Y_{SW} H_2 O $$\n",
    "\n",
    "By spesifying the ratio betweem biomass produced and the amount of glucose fed, in addition to a basis of 1 cmol glucose, the matrix below can be solved. Take cognisance of the fact that for the subsequent sections either $1mol$ $CH_20$ / ${NO_{3}}^{-}$ or $NH_{4}^{+}$ was used as a basis. Furthermore, a ratio between biomass produced based on the amount of $CH_20$ / ${NO_{3}}^{-}$ or , $NH_{4}^{+}$ fed was used to specify the system.\n",
    "\n",
    "\n",
    "\n",
    "\n",
    "\n",
    "\n",
    "\n"
   ]
  },
  {
   "cell_type": "code",
   "execution_count": 3,
   "metadata": {},
   "outputs": [
    {
     "name": "stdout",
     "output_type": "stream",
     "text": [
      "[[1.        ]\n",
      " [0.0669507 ]\n",
      " [0.330493  ]\n",
      " [0.60864273]\n",
      " [0.39135727]\n",
      " [0.63481436]]\n"
     ]
    }
   ],
   "source": [
    "Fixation = np.matrix([\n",
    "     [-1,0,0,1,1,0],\n",
    "     [-2,0,0,1.2,0,2],\n",
    "     [-1,0,-2,0.4,2,1],\n",
    "     [0,-2,0,0.22,0,0],\n",
    "     [1,0,0,0,0,0],\n",
    "     [1,0,0,-1.643,0,0] ]) ## ratio between biomass produced per cmol substrate fed found in literature as set out in rough notebook\n",
    "\n",
    "\n",
    "Fixation_sol = np.matrix([0,0,0,0,1,0]).T\n",
    "Fixation_stoichiometry = np.linalg.solve(Fixation,Fixation_sol)\n",
    "r_glucose,r_N2,r_O2,r_X,r_CO2,r_H20 = Fixation_stoichiometry\n",
    "print(Fixation_stoichiometry)"
   ]
  },
  {
   "cell_type": "markdown",
   "metadata": {},
   "source": [
    "Consequently, the stoichiometry describing **Nitrogen Fixation**- bacteria can be defined as:\n",
    " $$ CH_2O +0.067 N_2 +0.33 O_2 \\to 0.608 CH_{1.2}O_{0.4}N{0.22} +0.39  CO_2 +0.63 H_2 O $$\n"
   ]
  },
  {
   "cell_type": "markdown",
   "metadata": {},
   "source": [
    "### Nitrification\n",
    "a General formula for nitrification can be set out as follow:\n",
    " \n",
    "$$NH_{4}^{+} +Y_{SO} O_2 +Y_{SC} CO_2\\to Y_{SX}  CH_{1.4}O_{0.4}N_{0.22} +Y_{SN} NO_{3}^{-} + Y_{SW} H_2 O $$"
   ]
  },
  {
   "cell_type": "code",
   "execution_count": 4,
   "metadata": {},
   "outputs": [
    {
     "name": "stdout",
     "output_type": "stream",
     "text": [
      "[[1.        ]\n",
      " [1.61214953]\n",
      " [0.93457944]\n",
      " [0.93457944]\n",
      " [0.81308411]\n",
      " [2.28037383]]\n"
     ]
    }
   ],
   "source": [
    "Nitrification = np.matrix([[0,0,-1,1,0,0],\n",
    "                           [-4,0,-2,1.4,0,2],\n",
    "                           [0,-2,-2,0.4,3,1],\n",
    "                           [-1,0,0,0.2,1,0],\n",
    "                           [1,0,0,0,0,0],\n",
    "                           [-1,0,0,1.07,0,0]]) # In this case a ratio between the ammount of ammonium and biomass production was specified\n",
    "\n",
    "Nitrification_sol = np.matrix([[0,0,0,0,1,0]]).T\n",
    "Nitrification_stoichiometry = np.linalg.solve(Nitrification,Nitrification_sol)\n",
    "print(Nitrification_stoichiometry)"
   ]
  },
  {
   "cell_type": "markdown",
   "metadata": {},
   "source": [
    "Therefore, Nitrifying Bacteria and its coupled reactions can be represented as set out in the equation below: \n",
    "$$ NH_{4}^{+} +1.61 O_2 +0.93 CO_2\\to0.93  CH_{1.4}O_{0.4}N_{0.22} +0.81 NO_{3}^{-} +2.28 H_2 O $$\n"
   ]
  },
  {
   "cell_type": "markdown",
   "metadata": {},
   "source": [
    "###  Denitrification\n",
    "\n",
    "\n",
    "As illucidated to above, denitrification is a complex process that involes the reduction of Nitrates in order to form either N_{2} or N_{2}O. Based on empirical data denitrification including the growth of the bacteria performing the function can be represented as follow(page 499)[https://sci-hub.tw/10.1002/biot.200600078]:\n",
    "$$ 1.08 CH_{3}OH + NO_{3}^{-} + 0.24 H_{2}CO_3 \\to 0.056 C_{5}H_{7}O_{2}N +0.47N_2 +1.68H_{2}O +HCO_{3}^{-} $$\n",
    "However, our simplified model has assumed that for now this ecosystem will operate in the absence of carbonic acid as a proton donor and therefore no bicarbonate will be produced:\n",
    "\n",
    "$$CH_2O +Y_{SN} NO_{3}^{-} \\to Y_{SX}  CH_{1.2}O_{0.51}N_{0.2} +Y_{SC} CO_{2} + Y_{SN_{2}} N_2 +Y_{SH} H_{2}O $$\n",
    "\n"
   ]
  },
  {
   "cell_type": "markdown",
   "metadata": {},
   "source": [
    "For an in depth discussion regarding the reaction kinetics for denitrifying bacteria (see)[https://sci-hub.tw/10.2175/193864708788735556]"
   ]
  },
  {
   "cell_type": "markdown",
   "metadata": {},
   "source": [
    "Subsequently, the matrix of denitrification can be set out as follow:\n"
   ]
  },
  {
   "cell_type": "code",
   "execution_count": 5,
   "metadata": {},
   "outputs": [
    {
     "name": "stdout",
     "output_type": "stream",
     "text": [
      "[[ 1.        ]\n",
      " [ 0.48618307]\n",
      " [-0.74093264]\n",
      " [ 0.25906736]\n",
      " [ 0.2171848 ]\n",
      " [ 0.84455959]]\n"
     ]
    }
   ],
   "source": [
    "Denitrification = np.matrix([[-1,0,-1,1,0,0],\n",
    "                             [-2,0,0,1.2,0,2],\n",
    "                             [-1,-3,-2,0.51,0,1],\n",
    "                             [0,-1,0,0.2,2,0],\n",
    "                             [1,0,0,0,0,0],\n",
    "                             [1,0,0,-3.86,0,0]]) # \n",
    "\n",
    "#In this instance a literature value relating the ratio \n",
    "#between carbon substrate fed to the amount of biomass \n",
    "#produced was used as a specification found in literature\n",
    "\n",
    "\n",
    "Denitrification_sol = np.matrix([0,0,0,0,1,0]).T\n",
    "Denitrification_stoichiometry = np.linalg.solve(Denitrification,Denitrification_sol)\n",
    "print(Denitrification_stoichiometry)"
   ]
  },
  {
   "cell_type": "markdown",
   "metadata": {},
   "source": [
    "Therefore the stoichiometry as calculated translates to the following overall equation:\n",
    "$$CH_2O + 0.48 NO_{3}^{-} \\to0.26  CH_{1.2}O_{0.51}N_{0.2} +0.74 CO_{2} +0.22 N_2 +0.84 H_{2}O $$"
   ]
  },
  {
   "cell_type": "markdown",
   "metadata": {},
   "source": [
    "### Decomposition:\n",
    "\n"
   ]
  },
  {
   "cell_type": "markdown",
   "metadata": {},
   "source": [
    "For a starting model an assumption will be made that all biomass will just be returned to the basic components fed. Accordingly, all plants and bacteria will decompose into $NH_{4}^{+}$ and $CO_2$ at a spesific rate. It follows that the stoiciometry will be as follow:\n",
    "$$ Biomass + O_2 \\to NH_{4}^{+} +CO_{2}$$\n",
    "\n",
    "[https://academic.oup.com/femsec/article/11/1/1/666725]\n",
    "The value for $k_{d}$, the decay cofficient is given between $0.0048-0.0089 h^{-1}$ for plant matter(decay coefficient given in this article)[https://sci-hub.tw/10.4025/actascibiolsci.v34i4.9396]"
   ]
  },
  {
   "cell_type": "markdown",
   "metadata": {},
   "source": [
    "# Plant reactions"
   ]
  },
  {
   "cell_type": "code",
   "execution_count": 6,
   "metadata": {},
   "outputs": [],
   "source": [
    "import numpy as np"
   ]
  },
  {
   "cell_type": "markdown",
   "metadata": {},
   "source": [
    "The as the sugars produced by photosynthesis will not only serve to feed the growth of the plant it is proposed that there be a model for photosynthesis as well as a growth equation for the plant in the system:\n",
    "<ol> <li> Photsynthesis: $CO_{2} + H_{2}O \\to CH_{2}O + O_{2}$ <li> Growth: $CH_2O +Y_{SO} O_2 + Y_{SN} NO_{3}^{-1}  \\to Y_{SX} CH_{1.44}O_{0.66}N{0.04} +Y_{SC}  CO_2 +Y_{SW} H_2 O$ </ol>\n",
    "\n",
    "Using the same logic above: using 1 cmol glucose as a basis and a specification ratio for biomass produced per cmol glucose fed as \n"
   ]
  },
  {
   "cell_type": "code",
   "execution_count": 7,
   "metadata": {},
   "outputs": [
    {
     "name": "stdout",
     "output_type": "stream",
     "text": [
      "[[1.        ]\n",
      " [0.63666667]\n",
      " [0.01333333]\n",
      " [0.33333333]\n",
      " [0.66666667]\n",
      " [0.76      ]]\n"
     ]
    }
   ],
   "source": [
    "plantgrowth = np.matrix([[-1,0,0,1,1,0],\n",
    "                         [-2,0,0,1.44,0,2],\n",
    "                         [-1,-2,-3,0.66,2,1],\n",
    "                         [0,0,-1,0.04,0,0],\n",
    "                         [1,0,0,0,0,0],\n",
    "                         [1,0,0,-3,0,0]]) \n",
    "plantgrowth_sol = np.matrix([0,0,0,0,1,0]).T\n",
    "plantgrowth_stoichiometry = np.linalg.solve(plantgrowth,plantgrowth_sol)\n",
    "print(plantgrowth_stoichiometry)\n"
   ]
  },
  {
   "cell_type": "markdown",
   "metadata": {},
   "source": [
    "Therfore Plant growth can be represented as:\n",
    "$$CH_2O +0.64 O_2 +0.01 NO_{3}^{-1}  \\to0.33 CH_{1.44}O_{0.66}N{0.04} +0.67  CO_2 +0.76 H_2 O$$"
   ]
  },
  {
   "cell_type": "markdown",
   "metadata": {},
   "source": [
    "## Stoichiometry summary:"
   ]
  },
  {
   "cell_type": "markdown",
   "metadata": {},
   "source": [
    "The stoichiometry can be set out as follow:\n",
    "<ol> \n",
    "<li> Fixation: $ CH_2O +0.067 N_2 +0.33 O_2 \\to 0.608 CH_{1.2}O_{0.4}N{0.22} +0.39  CO_2 +0.63 H_2 O $ <li> Nitrification: $ NH_{4}^{+} +1.61 O_2 +0.93 CO_2\\to0.93  CH_{1.4}O_{0.4}N_{0.22} +0.81 NO_{3}^{-} +2.28 H_2 O $ <li> Denitrification: $CH_2O + 0.48 NO_{3}^{-} \\to0.26  CH_{1.2}O_{0.51}N_{0.2} +0.74 CO_{2} +0.22 N_2 +0.84 H_{2}O $ <li> Decomposition: $ X_{i} + O_2 \\to NH_{4}^{+} +CO_{2}$ <li> Photosynthesis:  $CO_{2} + H_{2}O \\to CH_{2}O + O_{2}$ <li>Plant growth: $CH_2O +0.64 O_2 +0.01 NO_{3}^{-1}  \\to0.33 CH_{1.44}O_{0.66}N{0.04} +0.67  CO_2 +0.76 H_2 O$ </ol>"
   ]
  },
  {
   "cell_type": "markdown",
   "metadata": {},
   "source": [
    "## Concentration profile model\n",
    "\n",
    "As the stoichiometry is now fixed a set of differential equations can be used to solve  the concentration profiles of each chemical and biological specicies respectively. For starters $\\mu$ will be assumed to approximately similar to that of $\\mu_{max}$. However, as more is obtained these simplifying assumptions will dissipate and substrate inhibition as exepmlified by the Monod function will be used to determine the kinetics of each reaction.\n",
    "The respective $\\mu_{X_{n}}$ value will serve as a reaction rate. Using the $\\mu$ value in conjunction with the stoichiometry as solved above the rate of production of each chemical and biological species is defined and by implication the system is solveable by means of numerical integration."
   ]
  },
  {
   "cell_type": "markdown",
   "metadata": {},
   "source": [
    "## Reaction rate constants and specific growth rate values:\n"
   ]
  },
  {
   "cell_type": "markdown",
   "metadata": {},
   "source": [
    "\n",
    "<ol>\n",
    "<li> $ k_{X_{Fix}} =\\mu_{Fixation} = 0.05 h^{-1}$ \n",
    "    <li> $ k_{X_{Nit}} =\\mu_{Nitrification} =0.034 h^{-1}$ \n",
    "    <li> $ k_{X_{Den}} =\\mu_{Denitrification} =0.022 h^{-1}$\n",
    "    <li> $ k_{Decomposition} =0.034 h^{-1}$ \n",
    "    <li> $k_{X_{Plant}}=\\mu_{Plant} =0.1 h^{-1}$\n",
    "    <li> $k_{gluc} = r_{CO_{2}} = 0.73 mol CO_{2}.h^{-1}$ </ol>\n",
    "Knowing the various rates of each reaction enables the calculation of the concentration profile for each species in the ecosystem as they are related by the stoichiometry of each individual reaction containing them. \n",
    "\n",
    "\n",
    "      "
   ]
  },
  {
   "cell_type": "markdown",
   "metadata": {},
   "source": [
    "## Individual reaction rates:"
   ]
  },
  {
   "cell_type": "markdown",
   "metadata": {},
   "source": [
    "<ol> \n",
    "<li>$r_{Fix} = k_{X_{Fix}}\\times C_{Fix}$\n",
    "<li>$r_{Nit} = k_{X_{Nit}}\\times C_{Nit}$\n",
    "<li>$r_{Den} = k_{X_{Den}}\\times C_{Den}$\n",
    "<li>$r_{Dec} = k_{D}\\times C_{Dec}$\n",
    "<li>$r_{photosynthesis} = -r_{CO_{2}}\\times C_{CO_{2}}$\n",
    "<li>$r_{Plant} = \\mu_{Plant}\\times C_{Plant}$\n",
    " </ol>\n",
    " Accordingly, with these specification of each reaction rate, the rate of formation and consumption of each component in the system can be calculated using the stoichiometry in each reach raction and the total of each individual components' rate will be the rate of change of concentration of that component."
   ]
  },
  {
   "cell_type": "markdown",
   "metadata": {},
   "source": [
    "## Differential equations\n"
   ]
  },
  {
   "cell_type": "markdown",
   "metadata": {},
   "source": [
    "<ol> $$\\frac{dC_{CO2}}{dt}= r_{CO_{2}} C_{CO_{2}}$$\n",
    "<li>$$\\frac{dC_{CH_{2}O}}{dt}= r_{CH_{2}O} C_{CH_{2}O}$$\n",
    "<li>$$\\frac{dC_{O_{2}}}{dt}= r_{O_{2}} C_{O_{2}}$$\n",
    "<li>$$\\frac{dC_{H_{2}O}}{dt}= r_{H_{2}O} C_{H_{2}O}$$\n",
    "<li>$$\\frac{dC_{NH_{4}^{+}}}{dt}= r_{NH_{4}^{+}} C_{NH_{4}^{+}}$$\n",
    "<li>$$\\frac{dC_{NO_{3}^{-}}}{dt}= r_{NO_{3}^{-}} C_{NO_{3}^{-}}$$\n",
    "     \n",
    "<li>$$\\frac{dC_{Fixation}}{dt}= k_{X_{Fix}} C_{X_{Fix}}$$\n",
    "<li>$$\\frac{dC_{Nitrification}}{dt}= k_{X_{Nit}} C_{X_{Nit}}$$\n",
    "<li>$$\\frac{dC_{Denitrification}}{dt}= k_{X_{Den}} C_{X_{Den}}$$\n",
    "\n",
    "\n",
    "<li>$$\\frac{dC_{Plant}}{dt}= k_{X_{Plant}} C_{X_{Plant}}$$ </ol>"
   ]
  },
  {
   "cell_type": "markdown",
   "metadata": {},
   "source": [
    "As the decomposer is currently not modelled by means of a decomposing fungi/bacteria it will be assumed that there is no biomass and that each bacteria and respective bacteria in the ecosystem will disintegrate and form into the basic components of $NH_{4}^{+}$ and $CO_{2}$. Accordingly there is spesific differential equation for the decomposer and the decay constant will feature in both the former components' balance."
   ]
  },
  {
   "cell_type": "code",
   "execution_count": null,
   "metadata": {},
   "outputs": [],
   "source": []
  }
 ],
 "metadata": {
  "kernelspec": {
   "display_name": "Python 3",
   "language": "python",
   "name": "python3"
  },
  "language_info": {
   "codemirror_mode": {
    "name": "ipython",
    "version": 3
   },
   "file_extension": ".py",
   "mimetype": "text/x-python",
   "name": "python",
   "nbconvert_exporter": "python",
   "pygments_lexer": "ipython3",
   "version": "3.7.3"
  }
 },
 "nbformat": 4,
 "nbformat_minor": 2
}

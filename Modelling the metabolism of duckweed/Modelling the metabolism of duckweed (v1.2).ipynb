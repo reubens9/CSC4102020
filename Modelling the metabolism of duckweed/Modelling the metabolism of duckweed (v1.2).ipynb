{
 "cells": [
  {
   "cell_type": "markdown",
   "metadata": {},
   "source": [
    "# Modelling the metabolism of duckweed"
   ]
  },
  {
   "cell_type": "markdown",
   "metadata": {},
   "source": [
    "## Background\n"
   ]
  },
  {
   "cell_type": "markdown",
   "metadata": {},
   "source": [
    "Duckweed are floating aquatic plants which belong to the monocotyledon family $Lemnaceae$. The plants are one of the smallest and simplest flowering plants, and can be identified by plants egg-shaped frond which is a few millimeters in diameter and short roots that are less than 1 cm in length (Landesman, Parker & Fedler)\n",
    "\n",
    "The duckweed family reproduces asexually. This occurs by the branching and afterwards the fragmenation of the shoots into fronds forming daughter and granddaughter fronds. The rate at which this occurs depends on the [(Lemon _et al._, 2000)](https://www.sciencedirect.com/science/article/abs/pii/S0304377000001315?via%3Dihub):\n",
    "\n",
    "1. Temperature\n",
    "2. Availability of nutrients\n",
    "3. Light intensity. \n",
    "\n",
    "<img src=\"duckweed.jpg\"/>\n",
    "\n",
    "**Figure 1:** shows how *Spirodela polyrhiza* also known as *'Greater Duckweed'* looks like and the different parental fronds [(Mejbel & Simons, 2018)](https://www.ncbi.nlm.nih.gov/pmc/articles/PMC5817126/).\n",
    "\n",
    "The main reason for the interest in modeling metabolism of duckweed might be a versatile plant that could change the world as we know it due to the research being done concerning this plant. \n",
    "\n",
    "Duckweed is seen as a potential source of protein  with the solr dried duckweed crude proteins ranging from 25.2% - 36.5% and the protein concentrate from 37.5% - 44.7%, this protein range was due to the fact that the duckweed was in a nutrient-rich aquatic environment. Consumers of duckweed include [(Rusoff _et al._, 1980)](https://pubs.acs.org/doi/abs/10.1021/jf60230a040):\n",
    "\n",
    "1. Domestic and Wild Fowl\n",
    "2. Fish\n",
    "3. Herbivorous animals\n",
    "4. Humans\n",
    "\n",
    "Duckweed can aid in waste management as it absorbs nutrients and is quick to multiply itself. This plant seems to fit well in the *'big picture'* to move from using copious amount of fertilizer to no fertiliser. If the use of domestic wastewater is used to grow these plants then a great protein concentration will be available that can be used in agricultural fertilization and as animal feed [(Oron, 1994)](https://www.sciencedirect.com/science/article/abs/pii/0378377494900221)."
   ]
  },
  {
   "cell_type": "markdown",
   "metadata": {},
   "source": [
    "### Species Selection"
   ]
  },
  {
   "cell_type": "markdown",
   "metadata": {},
   "source": [
    "In order to start considering the effect of different parameters resulting in good growth modelling, knowledge of the duckweed species may be required.  The reason for this is each duckweed species have been studied at different conditions that promote optimum growth. Commonly studied duckweed species are:\n",
    "\n",
    "1. *Spirodela polyrhiza*\n",
    "2. *Lemna minor*\n",
    "3. *Wolffia borealis*\n",
    "\n",
    "**Table 1:** below depicts the defining characteristics of each species of the Duckweed family  [(Lemon _et al._, 2000)](https://www.sciencedirect.com/science/article/abs/pii/S0304377000001315?via%3Dihub)\n",
    "\n",
    "Taxonomy|Number of pockets|Frond size|Frond longevity|Daughter frond retention|Frond production rate|Frond removal effects|\n",
    "----|-----------------|----------|---------------|------------------------|---------------------|---------------------|\t\t\t\t\t\t\n",
    "Wolffia|\t1|\tsmall (0.5-1.5mm)|\tMedium|\tReleased before maturity|\tRapid|\tNot performed|\t\t\t\t\t\n",
    "Lemna|\t2|\tMedium (2-5 mm)|\tHigh|\tReleased near maturity|\tMedium|\tNo change in mother frond |life span| or frond production rate|\t\t\t\t\t\n",
    "Spirodela|\t2|\tLarge (4-12 mm)|\tLow|\tRetained before maturity|\tSlow|\tNo change in mother frond life span, increased frond production rate|\n",
    "\n",
    "**Table 2:** below depicts the differences in the 3 speciesn in averages (and standard deviantions) [(Lemon _et al._, 2000)](https://www.sciencedirect.com/science/article/abs/pii/S0304377000001315?via%3Dihub):\n",
    "\n",
    "Taxonomy|\tLifespan (day)|\tDaughter fronds (number)|\tProduction rate (fronds per day)|\n",
    "--------|-----------------|-------------------------|-----------------------------------|\n",
    "W. borealis|\t15.8 (1.5)|\t9.8 (0.7)|\t0.62 (0.03)|\n",
    "L. minor|\t31.3 (1.1)|\t14 (0.5)|\t0.45 (0.02)|\t\t\t\n",
    "S. polyrhiza|\t12.1 (1.1)|\t1.1 (0.5)|\t0.08 (0.02)|\n",
    "\n",
    "\n",
    "A suggested species should be *Spirodela polyrhiza* as it has a shorter lifespan. It might be intersting to see if this results in quicker response with different initial nutrient concentrations."
   ]
  },
  {
   "cell_type": "markdown",
   "metadata": {},
   "source": [
    "## Model Considerations"
   ]
  },
  {
   "cell_type": "markdown",
   "metadata": {},
   "source": [
    "We wish to model the growth of duckweed plant. Due to most of the information being unknown, several assumptions have been made as to keep the model simple. Set-up of the model also needs be adaptable to try and closely match available growth data. This will be useful in predicting the a fairly accurate growth rate of duckweed.\n",
    "\n",
    "As mentioned above that the plant growth depends on the environmental conditions. It is useful to consider in the process model the effects the temperature has on the growth of duckwweed as most literature has studied its effect. Initially, air humidity, temperature, light intensity effects have been ignored.  In reality environmental conditions  like temperature, humidity and light intensity will have an influence on plant growth. In literature these variables are controlled for. It is assumed that a desirable amount of light exposure was supplied to the plant. The temperature was assumed to be at room temperature (similar to laboratory conditions).\n",
    "\n",
    "The last major condition that influences plant growth would be the availability of nutrients. These variables were allowed to vary to observe the rates at which the nutrients are absorbed. More should be done to account for saturation limits mentioned in reading. For example, the maximum amount of nutrients that the duckweed can absorb and the minimum concentration of nutrients that can be supply for plant growth to take place. An assumed empircal biomass formula shall be used."
   ]
  },
  {
   "cell_type": "markdown",
   "metadata": {},
   "source": [
    "## Model Equations"
   ]
  },
  {
   "cell_type": "markdown",
   "metadata": {},
   "source": [
    "The simple model was developed to be solved by integration of differential equations. The response function contains the rates of different nutrients. The mathematically equations have been developed by simple elements balances. A simple degree of reduction balance has been used to balance the charges of the feed ions.\n"
   ]
  },
  {
   "cell_type": "markdown",
   "metadata": {},
   "source": [
    "The block flow diagram of duckweed being modelled is shown in **Figure 3** below and will be used to get the growth model. It was assumed that a fraction of photosyntheically produced glucose is consumed by the organism.\n",
    "<img src=\"Slide1.png\"/>\n",
    "\n",
    "**Figure 2:** Graphical representation of duckweed model\n",
    "\n",
    "1) Photosynthesis: $$6CO_2 + 6H_2O + \\text{light} \\to C_6H_{12}O_6 + 6O_2$$\n",
    "\n",
    "2) Respiration: $$C_6H_{12}O_6 + O_2 + K^{+} + NO_3^{-} + H^+ \\to X + CO_2 + H_2O$$\n",
    "\n",
    "With: $$X (\\text{Biomass}) = CH_wO_yN_zK_a$$"
   ]
  },
  {
   "cell_type": "markdown",
   "metadata": {},
   "source": [
    "**Table 3:** below contains biomass empirical formulas for use and comparison in the model\n",
    "\n",
    "Biomass|Formula|Reference|\n",
    "-------|-------|---------|\n",
    "Calculated|$CH_{1.75}O_{0.875}N_{0.1}K_{0.03}$|-|\n",
    "Version of _L. gibba_|$CH_{0.0856}O_{0.0881}N_{0.7879}S_{0.0202}$|[(Verma, 2016)](https://www.tandfonline.com/doi/abs/10.1080/15567036.2015.1098750?src=recsys&journalCode=ueso20)|\n",
    "Pleurotus ostreatus mushroom strain ceba-gliie-po-010106|$CH_{1.83}O_{0.84}N_{0.26}$|[(Pineda-Insuasti _et al., 2014)](https://www.medigraphic.com/cgi-bin/new/resumenI.cgi?IDARTICULO=48671)|\n",
    "Phaseolus vulgaris (fresh-dried pickling bean)|$CH_{1.81}O_{0.81}N_{0.15}$|[(Pineda-Insuasti _et al., 2014)](https://www.medigraphic.com/cgi-bin/new/resumenI.cgi?IDARTICULO=48671)|"
   ]
  },
  {
   "cell_type": "markdown",
   "metadata": {},
   "source": [
    "The current interaction between the photosynthesis and respiration is unknown, so below a preliminary model of the respiration and photosynthetic sections have been proposed. Doing a degree of freedom - DOF- analysis, there are 8 unknowns as seen in 2). 8 rate equations are needed to attain a DOF that is equal to zero.  The list of equations below will be used to model duckweed growth."
   ]
  },
  {
   "cell_type": "markdown",
   "metadata": {},
   "source": [
    "## Respiration Section"
   ]
  },
  {
   "cell_type": "markdown",
   "metadata": {},
   "source": [
    "### Elemental balances:"
   ]
  },
  {
   "cell_type": "markdown",
   "metadata": {},
   "source": [
    "Oxygen balance:  $$-6r_S - 2r_{O_2} - 3r_{NO_3} + 0.0881r_X + 2r_{CO_2} + r_{H_2O} = 0$$\n",
    "\n",
    "Hydrogen balance: $$-12r_S - r_H + 0.0856r_X = 0$$\n",
    "\n",
    "Nitrogen balance: $$-r_{NO_3} +  0.7879r_X = 0$$\n",
    "\n",
    "Potasium balance: $$-r_K + 0.02r_X = 0$$\n",
    "\n",
    "Carbon balance: $$-6r_S + r_{CO_2} + r_X = 0$$"
   ]
  },
  {
   "cell_type": "markdown",
   "metadata": {},
   "source": [
    "### Charge balance:"
   ]
  },
  {
   "cell_type": "markdown",
   "metadata": {},
   "source": [
    "Degree of reduction balance: $$-24r_s -r_K +9r_{NO_3} -r_H + 1.566r_X =0$$"
   ]
  },
  {
   "cell_type": "markdown",
   "metadata": {},
   "source": [
    "### Energy balance:"
   ]
  },
  {
   "cell_type": "markdown",
   "metadata": {},
   "source": [
    "$$\\theta = \\Gamma r _{O_2} -  \\phi r_X  $$ where  $\\theta$ is the maintainence parameter, $\\phi$ is the energy consumed for growth and $\\Gamma$ is the energy value provided to respiration."
   ]
  },
  {
   "cell_type": "markdown",
   "metadata": {},
   "source": [
    "### Specifying equation:"
   ]
  },
  {
   "cell_type": "markdown",
   "metadata": {},
   "source": [
    "For the last equation, the model specifation may be obtained from experimental data of either the nitrate or the biomass. The rate of nitrate uptake will be a function of the nitrate concentration in the medium and growth rate will be given by a function of the duckweed wet mass. This will determine the units of the stoichiometric rates.\n",
    "\n",
    "Nitrate uptake: $$r_{NO_3} = f(C_{NO_3})$$\n",
    "\n",
    "Biomas Specifaction: $$r_X = g(m_{duckweed})$$\n",
    "Functions $f$ and $g$ fix the units."
   ]
  },
  {
   "cell_type": "markdown",
   "metadata": {},
   "source": [
    "### Differential Equations"
   ]
  },
  {
   "cell_type": "markdown",
   "metadata": {},
   "source": [
    "The model would consist of differential equations as the concentration of nutrients change as the duckweed absorbs them. As mentioned before, the units are determined by the specifying equation. $C$ is a variable similar to concentration.\n",
    "\n",
    "If biomass is specified as the eighth equation, $$C = C_x = h(m_{duckweed})$$\n",
    "\n",
    "and if nitrate is specified, $$C = C_{NO_3}$$\n",
    "\n",
    "Biomass:  $$\\frac{dC_x}{dt} = r_xC - r_{x,out}$$\n",
    "\n",
    "Protons: $$\\frac{dC_H}{dt} = -r_HC - r_{s,out}$$\n",
    "\n",
    "Nitrate: $$\\frac{dC_{NO_3}}{dt} = -r_{NO_3}C$$\n",
    "\n",
    "Potassium: $$\\frac{dC_K}{dt} = -r_KC$$"
   ]
  },
  {
   "cell_type": "markdown",
   "metadata": {},
   "source": [
    "## Photosynthetic Section:"
   ]
  },
  {
   "cell_type": "markdown",
   "metadata": {},
   "source": [
    "Mass balance shows that $$ r_{G_{Total}} = r_{G_1} = r_{G_{measured}} + r_{G_{2}}$$ where $G_1$ is the glucose produced in the photosynthetic section. $G_{measured}$ is the measured glucose in the medium and $G_2$ is the glucose supplied to the respiration."
   ]
  },
  {
   "cell_type": "markdown",
   "metadata": {},
   "source": [
    "Assume that the glucose split is parameter $\\alpha$ defined as: $$\\alpha = \\frac{G_{measured}}{G_2}$$"
   ]
  },
  {
   "cell_type": "markdown",
   "metadata": {},
   "source": [
    "As in reaction 1, the rate of consumption and production ($v$) of atmospheric carbon dioxide and oxygen respectively as well as water uptake can be found by the following:\n",
    "\n",
    "$$v_{CO_2} = v_{O_2}$$\n",
    "\n",
    "$$v_{CO_2} = \\frac{\\text{1}}{\\text{6}}r_{G_1}$$"
   ]
  },
  {
   "cell_type": "markdown",
   "metadata": {},
   "source": [
    "The optimum light supply (cycling schedule and intensity) may be found by the relating to the glucose produced and measured."
   ]
  },
  {
   "cell_type": "markdown",
   "metadata": {},
   "source": [
    "$$r_{G_1} = j(\\text{light})$$"
   ]
  },
  {
   "cell_type": "markdown",
   "metadata": {},
   "source": [
    "$$r_{G_{measured}} = \\frac{\\alpha}{\\text{1}+\\alpha}j(\\text{light})$$"
   ]
  },
  {
   "cell_type": "markdown",
   "metadata": {},
   "source": [
    "The model equations are listed now there is a need for find concentration functions for unknown parameters, $\\theta$, $\\phi$, and  $\\gamma$ and determining the functions $f$, $g$, $h$ and $j$. Another limitation of the model is that plant growth does not apply closely to microbial growth. Where internal cellular activities are safely neglected, in plant cells, significant concentration may exist between the medium and cell wall. Photosynthetic glucose is produced in the plant cell and only excess glucose is excreted along with other exudates. Thus, further work is required to integrate the photosynthetic section. "
   ]
  },
  {
   "cell_type": "markdown",
   "metadata": {},
   "source": [
    "## Calculations"
   ]
  },
  {
   "cell_type": "code",
   "execution_count": 2,
   "metadata": {},
   "outputs": [
    {
     "name": "stdout",
     "output_type": "stream",
     "text": [
      "[0.08567314614830812, 0.0880729541636669, 0.7878569714422845, 0.0199184065274778, 0.22]\n"
     ]
    },
    {
     "data": {
      "image/png": "[encoded data removed]",
      "text/plain": [
       "<Figure size 432x288 with 1 Axes>"
      ]
     },
     "metadata": {
      "needs_background": "light"
     },
     "output_type": "display_data"
    },
    {
     "data": {
      "image/png": "[encoded data removed]",
      "text/plain": [
       "<Figure size 432x288 with 1 Axes>"
      ]
     },
     "metadata": {
      "needs_background": "light"
     },
     "output_type": "display_data"
    }
   ],
   "source": [
    "import numpy as np\n",
    "from scipy.integrate import odeint as ode\n",
    "from scipy.optimize import*\n",
    "\n",
    "\n",
    "import matplotlib.pyplot as plt\n",
    "\n",
    "MMx = 12.011 + 3.57/41.67*1.008 + 3.67/41.67*15.997 + 32.83/41.67*14.007 + 0.83/41.67*39.1\n",
    "\n",
    "Constants = [3.57/41.67, 3.67/41.67, 32.83/41.67, 0.83/41.67, 0.22]\n",
    "print(Constants)\n",
    "\n",
    "w, y, z, a, Γ = Constants\n",
    "thetamax = 0.1\n",
    "k = 0.5\n",
    "\n",
    "def response_function(C):\n",
    "    MMx = 12.011 + 3.57/41.67*1.008 + 3.67/41.67*15.997 + 32.83/41.67*14.007 + 0.83/41.67*39.1\n",
    "\n",
    "    Constants = [3.57/41.67, 3.67/41.67, 32.83/41.67, 0.83/41.67, 0.22, 1.8]\n",
    "\n",
    "\n",
    "    w, y, z, a, Γ, ϕ = Constants\n",
    "    A = 1 #what is this  A ?\n",
    "    k = 0.02\n",
    "    thetamax = 0.04\n",
    "    \n",
    "    #fnCn =  k*(C[3]**3)\n",
    "    \n",
    "    fnCn = k*(1-C[3])/0.02 #((1+C[3])*(1-(C[3]/0.0004))) #uptake is influenced concentration of nitrate, k i constant when Cn = 0 )\n",
    "    \n",
    "    theta = thetamax*((1+C[3]/2)**-1)  #(1 - C[3])/((1+C[3])* \n",
    "    #theta = thetamax\n",
    "\n",
    "#respiration\n",
    "    M = np.array([\n",
    "           #[G,    O,  K,  N,  H,             X,  C,  W]\n",
    "            [-6,   0,  0,  0,  0,             1,  1,  0], #C\n",
    "            [-12,  0,  0,  0, -1,             w,  0,  2], #H\n",
    "            [-6,  -2,  0, -3, -1,             y,  2,  1], #O\n",
    "            [ 0,   0,  0, -1,  0,             z,  0,  0], #N\n",
    "          \n",
    "            [-24,  0,  -1, 9, -1, 4+w-2*y-3*z+a,  0,  0], #DOR\n",
    "            [0,    0,  -1,  0,  0,            a,  0,  0], #K\n",
    "            [0,    0,  0,  1,  0,             0,  0,  0], #NO3 (Uptake)\n",
    "            [0,    Γ,  0,  0,  0,            -ϕ,  0,  0]  #EB\n",
    "        ])\n",
    "    \n",
    "    \n",
    "\n",
    "    B = np.array([\n",
    "            [0,0,0,0,0,0.02,fnCn,theta]\n",
    "        ]).T\n",
    "    r = np.linalg.solve(M,B)\n",
    "    #print([r[0,0], r[2,0], r[4,0],r[3,0],r[5,0],r[6,0]])\n",
    "    return [-A*r[0,0], \n",
    "            -r[2,0], \n",
    "            -r[4,0],\n",
    "            -r[3,0],\n",
    "            r[5,0]] \n",
    "\n",
    "\n",
    "\n",
    "def farm(C,t):\n",
    "    Cs, Ck, Ch, Cn, Cx = C\n",
    "    r = np.asarray(response_function([Cs, Ck, Ch, Cn, Cx]))\n",
    "    dC = r*Cn\n",
    "    return dC\n",
    "\n",
    "from scipy.integrate import odeint\n",
    "Co=[10/180,0.006,0.002,0.0325, 1/MMx]                    \n",
    "tmax=90                                      \n",
    "tspan=np.linspace(0,10,1000)           \n",
    "Ci = odeint(farm, Co, tspan)\n",
    "Cs, Ck, Ch, Cn, Cx = Ci.T                       \n",
    "\n",
    "\n",
    "# time = np.linspace(0, 10, 30)\n",
    "# Cs, Ck, Ch, Cn, Cx = ode(farm, [10/180,0.006,0.002,0.015, 1/MMx], time).T\n",
    "plt.figure()\n",
    "plt.plot(tspan, Cs, 'r', label = 'Glucos')\n",
    "plt.plot(tspan, Cn, 'b', label = 'Nitrogen')\n",
    "plt.plot(tspan, Ck, 'g', label = 'Potassium')\n",
    "plt.plot(tspan, Cx, 'k', label = 'Biomass')\n",
    "plt.xlabel('time')\n",
    "plt.ylabel('Concentration')\n",
    "plt.legend()\n",
    "plt.show()\n",
    "\n",
    "Cn_curve=np.linspace(0,3,100)\n",
    "fcn_curve=0.2*(1-Cn_curve)/0.0002 #((1+Cn_curve)*(1-Cn_curve)/0.0004)\n",
    "theta_curve=0.2*(1+Cn_curve/1)**(-1)  #(1 - C[3])/(1+C[3])*(1-C[3]/0.0004)\n",
    "#% matplotlib notebook   \n",
    "plt.figure()\n",
    "plt.plot(Cn_curve, fcn_curve, color='blue', label='fcn')\n",
    "plt.plot(Cn_curve, theta_curve, color='red', label='theta')\n",
    "plt.legend(loc='best')\n",
    "plt.ylabel('rate') \n",
    "plt.xlabel('Concentration Cn ') \n",
    "plt.show()"
   ]
  },
  {
   "cell_type": "code",
   "execution_count": null,
   "metadata": {},
   "outputs": [],
   "source": []
  }
 ],
 "metadata": {
  "kernelspec": {
   "display_name": "Python 3",
   "language": "python",
   "name": "python3"
  },
  "language_info": {
   "codemirror_mode": {
    "name": "ipython",
    "version": 3
   },
   "file_extension": ".py",
   "mimetype": "text/x-python",
   "name": "python",
   "nbconvert_exporter": "python",
   "pygments_lexer": "ipython3",
   "version": "3.7.3"
  }
 },
 "nbformat": 4,
 "nbformat_minor": 2
}

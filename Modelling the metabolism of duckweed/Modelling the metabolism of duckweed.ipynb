{
 "cells": [
  {
   "cell_type": "markdown",
   "metadata": {},
   "source": [
    "# Modelling the metabolism of duckweed"
   ]
  },
  {
   "cell_type": "markdown",
   "metadata": {},
   "source": [
    "## Background\n"
   ]
  },
  {
   "cell_type": "markdown",
   "metadata": {},
   "source": [
    "Duckweed are floating aquatic plants which belong to the monocotyledon family $Lemnaceae$. The plants are one of the smallest and simplest flowering plants, and can be identified by plants egg-shaped frond which is a few millimeters in diameter and short roots that are less than 1 cm in length (Landesman, Parker & Fedler)\n",
    "\n",
    "The duckweed family reproduces asexually. This occurs by the branching and afterwards the fragmenation of the shoots into fronds forming daughter and granddaughter fronds. The rate at which this occurs depends on the [(Lemon _et al._, 2000)](https://www.sciencedirect.com/science/article/abs/pii/S0304377000001315?via%3Dihub):\n",
    "\n",
    "1. Temperature\n",
    "2. Availability of nutrients\n",
    "3. Light intensity. \n",
    "\n",
    "<img src=\"duckweed.jpg\"/>\n",
    "\n",
    "**Figure 1:** shows how *Spirodela polyrhiza* also known as *'Greater Duckweed'* looks like and the different parental fronds [(Mejbel & Simons, 2018)](https://www.ncbi.nlm.nih.gov/pmc/articles/PMC5817126/). \n",
    "\n",
    "Duckweed is seen as a potential source of protein  with the solr dried duckweed crude proteins ranging from 25.2% - 36.5% and the protein concentrate from 37.5% - 44.7%, this protein range was due to the fact that the duckweed was in a nutrient-rich aquatic environment [(Rusoff _et al._, 1980)](https://pubs.acs.org/doi/abs/10.1021/jf60230a040). A comparison of protein percentage of different crops includiing duckweed can be seen in Table 1.\n",
    "\n",
    "**Table 1:** compares the annual protein productivity of duckweed and other selected crops [(Hillman & Culley, 1978)](https://www.jstor.org/stable/27848752?seq=1#metadata_info_tab_contents/).\n",
    "\n",
    "Crop|\tAnnual tons/ acre*|\tcrude protein %|fat %| fiber %| ash %| relative protein production per acre/year † |\n",
    "--------|-----------------|----------------|-----|--------|------|------------------------------------------|\n",
    "Duckweed| 7.85 | 37 | 5 | 7.5 | 11 | 100|\n",
    "Soybean| 0.71 | 41.7 | 19.2 | 5.8 | 5.4 | 10.2 |\t\t\n",
    "Cottenseed|\t0.34 |\t24.9 | 24.7 | 18.2 | 3.8 | 2.9 |\n",
    "Peanut with skin and hulls| 0.70-1.39 | 23.6 | 37.9 | 21.1 | 3.2 | 5.7 - 11.3 |\n",
    "Alfafa hay| 1.95-7.00| 15.9-17| 1.9| 30.6| 9.9| 11.4 - 38.3|\n",
    "\n",
    "*\\* multiply by 2241.7 for kg/ha*\n",
    "\n",
    "*† Annual Production percentage of protein as a percentage of value Annual Production percentage of protein as a percentage of value\n",
    "of duckweed —100%  = 2.9045 tons.*\n",
    "\n",
    "It can be seen that duckweed yields the largest protein amount when grown in a nutrient rich medium compared to the different selected crops. The high nutritional value of duckweed does command attention, this nutritional aspects of the plant are largely due to the fact that most of the plant body consists of metabollically active cells than structural cells  [(Hillman & Culley, 1978)](https://www.jstor.org/stable/27848752?seq=1#metadata_info_tab_contents/). This is one of the major reasons for the study of this plant, it possess the potential of being a *'superfood'* which is a food with exceptional nutrient density and has great health benefits.\n",
    "\n",
    " Consumers of duckweed include [(Rusoff _et al._, 1980)](https://pubs.acs.org/doi/abs/10.1021/jf60230a040):\n",
    " \n",
    "1. Domestic and Wild Fowl\n",
    "2. Fish\n",
    "3. Herbivorous animals  (Figure 2)\n",
    "4. Humans  (Figure 3)\n",
    "\n",
    "<img src=\"animal duckweed.jpg\"/>\n",
    "\n",
    "**Figure 2:** Cow being fed duckweed\n",
    "\n",
    "<img src=\"lentein powder made from duck.jpg\"/>\n",
    "\n",
    "**Figure 3:** Lentein, a 68% protein filled powder made from duckweed\n",
    "\n",
    "\n",
    "One of the duckweed family, Wolffia arrhiza has been traditionally eaten in Burma Loas and nothern Thailand, but it was  considered as a 'poor mans food' and has since been abandoned even though it produces roughly 20 % protein which is more than double the amount found in rice  [(Hillman & Culley, 1978)](https://www.jstor.org/stable/27848752?seq=1#metadata_info_tab_contents/). $$This crop might be better suited as animal feed than food for people because of the stigma duckweed may poses.$$\n",
    "\n",
    "$waste management$\n",
    "\n",
    "Eutrophication occurs when run off of nutrients, composed of phosphate nitrates, flow into a body of water such as lakes and dams, which results in a dense growth of plant life. Figure 4 shows duckweed cover the Maracaibo lake in Venezuela. The weed is known to double itself in a span of a day as shown in Table 3. Figure 4 duckweed covering 12% of the Maracaibo Lake in Venezuela.\n",
    "\n",
    "<img src=\"venezuella duckweed.jpg\"/>\n",
    "\n",
    "**Figure 4:** Duckweed harvesting in the Marcaibo Lake in Venezuela [(Fernandez, 2015)](https://www.dailymail.co.uk/sciencetech/article-3161195/Would-eat-pond-scum-Protein-rich-powder-duckweed-help-feed-world.html)\n",
    "\n",
    "Figure 5 shows that in a short time span duckweed exponentially grows in the Marcaibo Lake in Venezuela.\n",
    "\n",
    "<img src=\"Maracaibo_AMO_2004245.jpg\"/>\n",
    "\n",
    "**Figure 5:** NASA image of Lake Maracaibos.  Duckweed (Lemna obscura) can be seen in large swirls across the lake surface.\n",
    "[(Olsen, 2004)](http://www.mobot.org/jwcross/duckweed/duckweed.htm).\n",
    "\n",
    "These aspects of excess duckweed growth are undesirable as they cause limited supply of oxygen to aquatic animals causing the death of aquatic animals as seen in Figure 6 and take over the entire surface area of these water bodies.\n",
    "\n",
    "<img src=\"fish kill.jpg\"/>\n",
    "\n",
    "**Figure 6:** Fish kill due to lack of oxygen at the Heinrich Martin Dam Impoundment (HMDI)\n",
    "[( Balangoda, 2017)](https://thescipub.com/pdf/10.3844/ajessp.2017.30.46.pdf)\n",
    "\n",
    "This undesirable trait of duckweed multiplying excessively could be used to our advantage for waste water treatment, by re-using nutrients inorder to grow duckweed  this initself will aid in the reduction of run-off of nutrients to different bodies of water, as the duckweed will be used to uptake the excess nutrients that could not used up. An example of this would be  growing kale hydroponically and reusing excess nutrient solution left in the end to be nutrient solution for duckweed, provided the solution provides sufficient nutrients needed to grow duckweed.\n",
    "\n",
    "Duckweed as a waste water treatment plant is seen in an experiment conducted by Oron [(1994)](https://www.sciencedirect.com/science/article/abs/pii/0378377494900221) where the performance of Lemna -a duckweed species- as a purifier of domestic wastewater was studied. The study concluded that using domestic water with adequate nutrients yielded an annual dry matter of duckweed of 55 ton/ha with protein content of 30%. Therefore the duckweed converted domestic waste water into valuable protein rich biomass which can be used as animal feed or agricultural fertilizion. The economic benefit of using biomass as domestic water treatment is a reduction of wastewater expenditure by  0.020 to US$ 0.050 per each treated m3 of wastewater. This reduction may not be considered worth pursuing as time needs to be considered. Table 3 considers the different nutritional compositions of various duckweed species from different type of waste water.\n",
    "\n",
    "**Table 3:** Approximate composition of duckweeds grown on various waste-treatment sites  [(Hillman & Culley, 1978)](https://www.jstor.org/stable/27848752?seq=1#metadata_info_tab_contents/).\n",
    "\n",
    "Treatment source |\tSpecies |\tcrude protein % |fat % | fiber % | ash % | Ca % | K % | P % |\n",
    "----------------|----------|------------------------------|-----|--------|------|----|---|---|\n",
    "Municipal waste lagoons| Spirodela oligorhiza| 32.7 | 6.3 | 13.5 | 20.3 | 1.5| 1.8 | 1.1 |\n",
    "Anaerobic swine waste lagoons| S.oligorhiza | 44.7 | 4.6 | 8.3 | 13.4 | 1.0 | 2.8 | 1.8 |\t\n",
    "Municipal waste lagoons |\tmixture of Lemna minor and L.gibba |\t39.0 | - | - | - | - | - | - |\n",
    "Dairy cattle waste lagoons | S.oligorhiza | 37.8 | 3.8 | 7.3 | 12.0 | 1.3 | 2.9 | 1.5 |\n",
    "Dairy cattle waste lagoons | S.polyrhiza| 40.9 | 6.7 | 8.7 | 12.9 | 2.1 | 2.1 | 1.4 |\n",
    "Dairy cattle waste lagoons | L.gibba| 38.5 | 3.0 | 9.4 | 16.4 | 1.0 | 4.2 | 1.6 |\n",
    "\n",
    "The percentage, %, from Table 3 is in dry mass. This table illustrates how high in protein duckweed is and that different nutrient sources can be used to attain this high protein percentage. Duckweed can be used as a purifier for different waste traetment sites with different types of waste\n",
    "\n",
    "Duckweed can aid in *waste management* as it absorbs nutrients and is quick to multiply itself. This plant seems to fit well in the *'big picture'* to move from using copious amount of fertilizer to fertilizer containing macro-nutrients and micro-nutrients with no synthetic nitrogen . If the use of domestic wastewater is used to grow these plants then a great protein concentration will be available that can be used in agricultural fertilization and as animal feed [(Oron, 1994)](https://www.sciencedirect.com/science/article/abs/pii/0378377494900221)."
   ]
  },
  {
   "cell_type": "markdown",
   "metadata": {},
   "source": [
    "### Species Selection"
   ]
  },
  {
   "cell_type": "markdown",
   "metadata": {},
   "source": [
    "In order to start considering the effect of different parameters resulting in good growth modelling, knowledge of the duckweed species may be required.  The reason for this is each duckweed species have been studied at different conditions that promote optimum growth. Commonly studied duckweed species are:\n",
    "\n",
    "1. *Spirodela polyrhiza*\n",
    "2. *Lemna minor*\n",
    "3. *Wolffia borealis*\n",
    "\n",
    "Figure X shows the different appearance of species of duckweed mentioned above.\n",
    "\n",
    "<img src=\"all types of duckweed.jpg\"/>\n",
    "\n",
    "Figure X: Morphology of five representative species for\n",
    "duckweed genera. [(Fourounjian, Fakhoorian & Cao, 2020)](https://www.researchgate.net/profile/Sunjeet_Kumar2/publication/338428099_Transformation_Development_in_Duckweeds/links/5e1d891c4585159aa4ce94bf/Transformation-Development-in-Duckweeds.pdf).\n",
    "\n",
    "**Table 2:** below depicts the defining characteristics of each species of the Duckweed family  [(Lemon _et al._, 2000)](https://www.sciencedirect.com/science/article/abs/pii/S0304377000001315?via%3Dihub)\n",
    "\n",
    "Taxonomy|Number of pockets|Frond size |Frond longevity|Daughter frond retention|Frond production rate|Frond removal effects|\n",
    "----|-----------------|----------|---------------|------------------------|---------------------|---------------------|\t\t\t\t\t\t\n",
    "Wolffia|\t1|\tsmall (0.5-1.5mm)|\tMedium|\tReleased before maturity|\tRapid|\tNot performed|\t\t\t\t\t\n",
    "Lemna|\t2|\tMedium (2-5 mm)|\tHigh|\tReleased near maturity|\tMedium|\tNo change in mother frond |life span| or frond production rate|\t\t\t\t\t\n",
    "Spirodela|\t2|\tLarge (4-12 mm)|\tLow|\tRetained before maturity|\tSlow|\tNo change in mother frond life span, increased frond production rate\n",
    "\n",
    "\n",
    "\n",
    "**Table 3:** below depicts the differences in the 3 speciesn in averages (and standard deviantions) [(Lemon _et al._, 2000)](https://www.sciencedirect.com/science/article/abs/pii/S0304377000001315?via%3Dihub):\n",
    "\n",
    "Taxonomy|\tLifespan (day)|\tDaughter fronds (number)|\tProduction rate (fronds per day)|\n",
    "--------|-----------------|-------------------------|-----------------------------------|\n",
    "W. borealis|\t15.8 (1.5)\\*|\t9.8 (0.7)\\*|\t0.62 (0.03)\\*|\n",
    "L. minor|\t31.3 (1.1)\\*|\t14 (0.5)\\*|\t0.45 (0.02)\\*|\t\t\t\n",
    "S. polyrhiza|\t12.1 (1.1)\\*|\t1.1 (0.5)\\*|\t0.08 (0.02)\\*|\n",
    "\n",
    " *\\*shows the standard deviation*\n",
    "\n",
    "A suggested species should be *Spirodela polyrhiza* as it has a shorter lifespan. It might be intersting to see if this results in quicker response with different initial nutrient concentrations."
   ]
  },
  {
   "cell_type": "markdown",
   "metadata": {},
   "source": [
    "### Plant Biomass"
   ]
  },
  {
   "cell_type": "markdown",
   "metadata": {},
   "source": [
    "**Table 4:** below contains biomass empirical formulas for use and comparison in the model\n",
    "\n",
    "Biomass|Formula|Reference|\n",
    "-------|-------|---------|\n",
    "Calculated|$CH_{1.75}O_{0.875}N_{0.1}K_{0.03}$|-|\n",
    "Version of _L. gibba_|$CH_{0.0856}O_{0.0881}N_{0.7879}S_{0.0202}$|[(Verma, 2016)](https://www.tandfonline.com/doi/abs/10.1080/15567036.2015.1098750?src=recsys&journalCode=ueso20)|\n",
    "Pleurotus ostreatus mushroom strain ceba-gliie-po-010106|$CH_{1.83}O_{0.84}N_{0.26}$|[(Pineda-Insuasti _et al., 2014)](https://www.medigraphic.com/cgi-bin/new/resumenI.cgi?IDARTICULO=48671)|\n",
    "Phaseolus vulgaris (fresh-dried pickling bean)|$CH_{1.81}O_{0.81}N_{0.15}$|[(Pineda-Insuasti _et al., 2014)](https://www.medigraphic.com/cgi-bin/new/resumenI.cgi?IDARTICULO=48671)|"
   ]
  },
  {
   "cell_type": "markdown",
   "metadata": {},
   "source": [
    "## Model Considerations"
   ]
  },
  {
   "cell_type": "markdown",
   "metadata": {},
   "source": [
    "We wish to model the growth of duckweed plant. Due to most of the information being unknown, several assumptions have been made as to keep the model simple. Set-up of the model also needs be adaptable to try and closely match available growth data. This will be useful in predicting the a fairly accurate growth rate of duckweed.\n",
    "\n",
    "As mentioned above that the plant growth depends on the environmental conditions. It is useful to consider in the process model the effects the temperature has on the growth of duckwweed as most literature has studied its effect. Initially, air humidity, temperature, light intensity effects have been ignored.  In reality environmental conditions  like temperature, humidity and light intensity will have an influence on plant growth. In literature these variables are controlled for. It is assumed that a desirable amount of light exposure was supplied to the plant. The temperature was assumed to be at room temperature (similar to laboratory conditions).\n",
    "\n",
    "The last major condition that influences plant growth would be the availability of nutrients. These variables were allowed to vary to observe the rates at which the nutrients are absorbed. More should be done to account for saturation limits mentioned in reading. For example, the maximum amount of nutrients that the duckweed can absorb and the minimum concentration of nutrients that can be supply for plant growth to take place. An assumed empircal biomass formula shall be used."
   ]
  },
  {
   "cell_type": "markdown",
   "metadata": {},
   "source": [
    "## Model Equations"
   ]
  },
  {
   "cell_type": "markdown",
   "metadata": {},
   "source": [
    "The simple model was developed to be solved by integration of differential equations. The response function contains the rates of different nutrients. The mathematically equations have been developed by simple elements balances. A simple degree of reduction balance has been used to balance the charges of the feed ions.\n"
   ]
  },
  {
   "cell_type": "markdown",
   "metadata": {},
   "source": [
    "The block flow diagram of duckweed being modelled is shown in **Figure 3** below and will be used to get the growth model. It was assumed that a fraction of photosyntheically produced glucose is consumed by the organism.\n",
    "<img src=\"Slide1.png\"/>\n",
    "\n",
    "**Figure 2:** Graphical representation of duckweed model\n",
    "\n",
    "1) Photosynthesis: $$6CO_2 + 6H_2O + \\text{light} \\to C_6H_{12}O_6 + 6O_2$$\n",
    "\n",
    "2) Respiration: $$C_6H_{12}O_6 + O_2 + K^{+} + NO_3^{-} + H^+ \\to X + CO_2 + H_2O$$\n",
    "\n",
    "With: $$X (\\text{Biomass}) = \\alpha C_6H_{12}O_6+ \\omega CH_wO_yN_zK_a$$"
   ]
  },
  {
   "cell_type": "code",
   "execution_count": 1,
   "metadata": {},
   "outputs": [],
   "source": [
    "# * - mol i per mol NO3 \n",
    "# Biomass:\n",
    "\n",
    "# N*n = rn\n",
    "# N*c = 6rx1 + 6rs - rc\n",
    "# N*h = 12(rx1+rs) - 2rw\n",
    "# rg = rx1 + rs\n",
    "# N*o = 2ro + 6rx1 - (6rg) - 2rc\n",
    "# N*k = rk\n",
    "\n",
    "#\n",
    "#O: y = N*o/N*c\n",
    "#H: w = N*h/N*c\n",
    "#N: z = N*n/N*c\n",
    "#K: a = N*k/N*c"
   ]
  },
  {
   "cell_type": "markdown",
   "metadata": {},
   "source": [
    "#### Model biomass:\n",
    "It is not possible to find an exact empirical formula for duckweed biomass. The elemental content in the biomass should be dependent on the materials which are absorbed. To determine the elemental ratios, it was necessary to carry out an element balance after the matrix had calculated new rates.\n",
    "\n",
    "Carbon content: $$n^*_{C} = 6(r_{X_1}+r_{S}) - r_C$$\n",
    "\n",
    "Nitrogen content:$$n^*_{N} = r_{NO_3^-}$$\n",
    "\n",
    "Oxygen content: $$n^*_{O} = 2r_{O_2} +  6(r_{X_1}+r_{S}) - 2r_{CO_2} -r_{H_2O}$$\n",
    "\n",
    "Hydrogen content:$$n^*_{H} = 12(r_{X_1}+r_S) - 2r_{H_2O}$$\n",
    "\n",
    "Potassium content: $$n^*_{K^+} = r_{K^+}$$\n"
   ]
  },
  {
   "cell_type": "markdown",
   "metadata": {},
   "source": [
    "Elemental ratios:\n",
    "$$y = \\frac{n^*_O}{n^*_C}$$\n",
    "\n",
    "$$w = \\frac{n^*_H}{n^*_C}$$\n",
    "\n",
    "$$z = \\frac{n^*_N}{n^*_C}$$\n",
    "\n",
    "$$a = \\frac{n^*_K}{n^*_C}$$\n"
   ]
  },
  {
   "cell_type": "markdown",
   "metadata": {},
   "source": [
    "The current interaction between the photosynthesis and respiration is unknown, so below a preliminary model of the respiration and photosynthetic sections have been proposed. Doing a degree of freedom - DOF- analysis, there are 8 unknowns as seen in 2). 8 rate equations are needed to attain a DOF that is equal to zero. The list of equations below will be used to model duckweed growth."
   ]
  },
  {
   "cell_type": "markdown",
   "metadata": {},
   "source": [
    "## Photosynthetic Unit:\n",
    "\n",
    "Mass balance shows that $$ r_{total} = r_{G} = r_{X_{1}} + r_{S}$$ where $G$ refers to the glucose produced in the photosynthetic unit. $X_{1}$ refers to the biomass carbohydrate content (approximated as glucose) and $S$ is the glucose supplied for the respiration.\n",
    "\n",
    "Assume that the glucose split is parameter $\\beta$ defined as: $$\\beta = \\frac{X_{1}}{S}$$\n",
    "\n",
    "As in reaction 1, the rate of consumption and production ($v$) of atmospheric carbon dioxide and oxygen respectively as well as water uptake can be found by the following:\n",
    "\n",
    "$$v_{CO_2} = v_{O_2}$$\n",
    "\n",
    "$$v_{CO_2} = \\frac{\\text{1}}{\\text{6}}r_{X_1}$$\n",
    "\n",
    "The optimum light supply (cycling schedule and intensity) may be found by the relating to the glucose produced and measured.\n",
    "\n",
    "$$r_{G} = f(\\text{light})$$\n",
    "\n",
    "$$r_{X_1} = \\frac{\\beta}{\\text{1}+\\beta}f(\\text{light})$$\n",
    "\n",
    "The model equations are listed now there is a need for find concentration functions for unknown parameters, $\\theta$, $\\phi$, and  $\\gamma$ and determining the functions $f$. Another limitation of the model is that plant growth does not apply closely to microbial growth. Where internal cellular activities are safely neglected, in plant cells, significant concentration may exist between the medium and cell wall. Photosynthetic glucose is produced in the plant cell and only excess glucose is excreted along with other exudates. Thus, further work is required to integrate the photosynthetic section. "
   ]
  },
  {
   "cell_type": "markdown",
   "metadata": {},
   "source": [
    "## Respiration Section"
   ]
  },
  {
   "cell_type": "markdown",
   "metadata": {},
   "source": [
    "### Elemental balances:"
   ]
  },
  {
   "cell_type": "markdown",
   "metadata": {},
   "source": [
    "Oxygen balance:  $$-6r_S - 2r_{O_2} - 3r_{NO_3} + yr_{X_2} + 2r_{CO_2} + r_{H_2O} = 0$$\n",
    "\n",
    "Hydrogen balance: $$-12r_S + wr_{X_2} = 0$$\n",
    "\n",
    "Nitrogen balance: $$-r_{NO_3} +  zr_{X_2} = 0$$\n",
    "\n",
    "Potasium balance: $$-r_K + ar_{X_2} = 0$$\n",
    "\n",
    "Carbon balance: $$-6r_S + r_{CO_2} + r_{X_2} = 0$$"
   ]
  },
  {
   "cell_type": "markdown",
   "metadata": {},
   "source": [
    "### Charge balance:"
   ]
  },
  {
   "cell_type": "markdown",
   "metadata": {},
   "source": [
    "Degree of reduction balance: $$-24r_s -r_K +9r_{NO_3} -r_H + (4+w-2y-3z+a)r_X =0$$"
   ]
  },
  {
   "cell_type": "markdown",
   "metadata": {},
   "source": [
    "### Energy balance:"
   ]
  },
  {
   "cell_type": "markdown",
   "metadata": {},
   "source": [
    "$$\\theta = \\Gamma r _{O_2} -  \\phi r_X  $$ where  $\\theta$ is the maintainence parameter, $\\phi$ is the energy consumed for growth and $\\Gamma$ is the energy value provided to respiration."
   ]
  },
  {
   "cell_type": "markdown",
   "metadata": {},
   "source": [
    "### Specifying equation:"
   ]
  },
  {
   "cell_type": "markdown",
   "metadata": {},
   "source": [
    "For the last equation, the model specifation may be obtained from experimental data of either the nitrate or the biomass. The rate of nitrate uptake will be a function of the nitrate concentration in the medium and growth rate will be given by a function of the duckweed wet mass. This will determine the units of the stoichiometric rates.\n",
    "\n",
    "Let the nitrate uptake be defined as the variable $\\nu$: $$r_{NO_3^-} = \\nu(C_{NO_3^-})$$\n",
    "\n",
    "It is assumed that the rate determining equation is a Monod expression.\n",
    "$$\\nu(C_{NO_3^-}) = \\nu_{max} \\frac{C_{NO_3^-}}{K^{\\nu}_N+C_{NO_3^-}}$$\n",
    "\n",
    "and maintenance parameter is:\n",
    "$$\\theta(C_{NO_3^-}) = \\theta_{max} \\frac{C_{NO_3^-}}{K^{\\theta}_N+C_{NO_3^-}}$$"
   ]
  },
  {
   "cell_type": "markdown",
   "metadata": {},
   "source": [
    "### Differential Equations"
   ]
  },
  {
   "cell_type": "markdown",
   "metadata": {},
   "source": [
    "The model would consist of differential equations as the concentration of nutrients change as the duckweed absorbs them. The nitrate concentration, $C_{NO_3^-}$, is present in the differential equations specified because the eighth equation determines the rate and fixes the units for the different nutrient rates.\n",
    "\n",
    "Biomass:  $$\\frac{dN_X}{dt} = r_XC_{NO_3}V - F_{X_{out}}$$\n",
    "\n",
    "Protons: $$\\frac{dN_{H^+}}{dt} = Q_fC_{H^+, f} - r_{H^+}C_{NO_3}V - Q_{out}C_{H^+}$$\n",
    "\n",
    "Nitrate: $$\\frac{dN_{NO_3^-}}{dt} = Q_fC_{NO_3^-, f} -r_{NO_3^-}C_{NO_3^-}V - Q_{out}C_{NO_3^-}$$\n",
    "\n",
    "Potassium: $$\\frac{dN_{K^+}}{dt} = Q_fC_{K^+, f}-r_{K^+}C_{NO_3^-}V - Q_{out}C_{K^+}$$"
   ]
  },
  {
   "cell_type": "code",
   "execution_count": 2,
   "metadata": {},
   "outputs": [],
   "source": [
    "import numpy as np\n",
    "from scipy.integrate import odeint as ode\n",
    "from scipy.optimize import*"
   ]
  },
  {
   "cell_type": "code",
   "execution_count": 3,
   "metadata": {},
   "outputs": [],
   "source": [
    "import matplotlib.pyplot as plt"
   ]
  },
  {
   "cell_type": "code",
   "execution_count": 4,
   "metadata": {},
   "outputs": [],
   "source": [
    "def respiration(C, const):\n",
    "    Cx, Ck, Ch, Cn  = C\n",
    "    z, w, a,y, DORx = const\n",
    "#     if t == 0:\n",
    "#         w, y, z, a = 1.75, 0.875, 0.1, 0.05\n",
    "    nu = nmax*Cn/(Kn+Cn)\n",
    "    theta = thmax*Cn/(Kn+Cn)\n",
    "    \n",
    "#     DORx = 4+w-2*y-3*z+a\n",
    "    xmat = np.matrix([\n",
    "       #[X1, S,  O2,  K,  NO3,  H,   X, CO2, W]\n",
    "        [-6,  -6,   0,  0,    0,  0,   1,   1, 0], #C\n",
    "        [0,    0,   0,  0,   -1,  0,   z,   0, 0], #N\n",
    "        [-12,-12,   0,  0,    0,  0,   w,   0, 2], #H\n",
    "        [0,    0,   0, -1,    0,  0,   a,   0, 0], #K\n",
    "        [-6,  -6,  -2,  0,   -3,  0,   y,   2, 1], #O\n",
    "   \n",
    "        [-24,-24,   0,  -1,   9,  -1, DORx, 0, 0], #DOR\n",
    "        [0,    0,   Γ,   0,    0,  0,   -ϕ,  0, 0], #Energy\n",
    "        [-1,  -1,   0,   0,    0,  0,    1,  0, 0],\n",
    "        [0,    0,   0,   0,    1,  0,    0,  0, 0] #N-uptake\n",
    "    ])\n",
    "    Bmat = np.array([[0,0,0,0,0,0,nu,0,theta]]).T\n",
    "    r = np.linalg.solve(xmat,Bmat)  \n",
    "    \n",
    "    Beta = r[0,0]/r[1,0]\n",
    "    nc = 6*(r[0,0]+r[1,0]) - r[7,0]\n",
    "    nh = 12*(r[0,0]+r[1,0]) - r[8,0]*2\n",
    "    nn = -r[4,0]\n",
    "    no = 6*(r[0,0]+r[1,0]) + 2*r[2,0] - 2*r[7,0] -r[8,0]\n",
    "    nk = r[3,0]\n",
    "    \n",
    "    z = nn/nc\n",
    "    w = nh/nc\n",
    "    a = nk/nc\n",
    "    y = no/nc\n",
    "    #print(z,w,a,y)\n",
    "    return [\n",
    "        r[6,0],\n",
    "        r[3,0],\n",
    "        r[5,0],\n",
    "        r[4,0],\n",
    "        z, w, a,y\n",
    "    ]"
   ]
  },
  {
   "cell_type": "code",
   "execution_count": 5,
   "metadata": {},
   "outputs": [],
   "source": [
    "def DE(C,t,const):\n",
    "    Nx, Nk, Nh, Nn, V  = C\n",
    "    Cx, Ck, Ch, Cn = Nx/V, Nk/V, Nh/V, Nn/V\n",
    "    Cin = [Cx, Ck, Ch, Cn]\n",
    "    \n",
    "    r = np.asarray(respiration(Cin,const))\n",
    "    z, w, a, y = r[4],r[5],r[6],r[7]\n",
    "    dNx = r[0]*Cn*V + Qin*Cin[0] - Qin*Cx\n",
    "    dNk = r[1]*Cn*V + Qin*Cin[1] - Qin*Ck\n",
    "    dNh = r[2]*Cn*V + Qin*Cin[2] - Qin*Ch\n",
    "    dNn = r[3]*Cn*V + Qin*Cin[2] - Qin*Cn\n",
    "    dV = Qin - Qin\n",
    "    \n",
    "    \n",
    "    return [dNx, dNk, dNh, dNn, dV, z, w, a, y]"
   ]
  },
  {
   "cell_type": "code",
   "execution_count": 6,
   "metadata": {},
   "outputs": [],
   "source": [
    "def routine(N0,tspan):\n",
    "    X = []\n",
    "    K = []\n",
    "    H = []\n",
    "    Nitro = []\n",
    "    Vol = []\n",
    "    dt = tspan[1]\n",
    "    for t in tspan:\n",
    "        if t > 0:\n",
    "            DORx = 4+w-2*y-3*z+a\n",
    "            const =  w, y, z, a, DORx \n",
    "        else:\n",
    "            w, y, z, a = 1.75, 0.875, 0.1, 0.05\n",
    "            DORx = 4+w-2*y-3*z+a\n",
    "            const =  w, y, z, a, DORx \n",
    "        \n",
    "        N, const = integrate(N0,t,dt,const)\n",
    "        N0 = N\n",
    "        X.append(N[0])\n",
    "        K.append(N[1])\n",
    "        H.append(N[2])\n",
    "        Nitro.append(N[3])\n",
    "        Vol.append(N[4])\n",
    "    return np.asarray(X), np.asarray(K), np.asarray(H), np.asarray(Nitro), np.asarray(Vol)\n",
    "\n",
    "def integrate(N0,t,dt,const):\n",
    "    dNdt,const = np.asarray(DE(N0,t,const))[:5],np.asarray(DE(N0,t,const))[5:8]\n",
    "    #const = z, w, a, y\n",
    "    Ni = dNdt*dt + N0\n",
    "    return Ni, const"
   ]
  },
  {
   "cell_type": "code",
   "execution_count": 7,
   "metadata": {},
   "outputs": [],
   "source": [
    "#Energy_constants:\n",
    "\n",
    "thmax = 0.03\n",
    "nmax = 1.15\n",
    "Kn = 0.02\n",
    "\n",
    "Γ = 2.5\n",
    "ϕ = 3.3\n",
    "\n",
    "#Initial elemental_content:\n",
    "\n",
    "w, y, z, a = 1.75, 0.875, 0.1, 0.05\n",
    "MMx = 12.011+w*1.008+y*15.997+z*14.007+a*39.001\n",
    "\n",
    "# Control Variables:\n",
    "\n",
    "Qin = 1.2 #L/h"
   ]
  },
  {
   "cell_type": "code",
   "execution_count": 8,
   "metadata": {},
   "outputs": [
    {
     "data": {
      "image/png": "[encoded data removed]",
      "text/plain": [
       "<Figure size 432x288 with 1 Axes>"
      ]
     },
     "metadata": {
      "needs_background": "light"
     },
     "output_type": "display_data"
    }
   ],
   "source": [
    "from scipy.integrate import odeint\n",
    "#[X, K, H, N]\n",
    "Xo = 10 #g\n",
    "Vo = 10 #L\n",
    "No = 0.325\n",
    "N0 = [Xo/MMx, 0.006*Vo, 0.001*Vo, No*Vo, Vo]   \n",
    "\n",
    "tmax=90                                      \n",
    "tspan=np.linspace(0,tmax,1000)   \n",
    "\n",
    "#Ni = odeint(DE, Co, tspan)\n",
    "Ni = routine(N0, tspan) #Python won't use variable that I have already declared outside of odeint\n",
    "Nx, Nk, Nh, Nn, Vol = Ni                       \n",
    "Cx, Ck, Ch, Cn = Nx/Vol, Nk/Vol, Nh/Vol, Nn/Vol\n",
    "\n",
    "# time = np.linspace(0, 10, 30)\n",
    "# Cs, Ck, Ch, Cn, Cx = ode(farm, [10/180,0.006,0.002,0.015, 1/MMx], time).T\n",
    "\n",
    "plt.figure()\n",
    "plt.plot(tspan, Ch, 'r', label = 'Proton')\n",
    "plt.plot(tspan, Cn, 'b', label = 'Nitrogen')\n",
    "plt.plot(tspan, Ck, 'g', label = 'Potassium')\n",
    "plt.plot(tspan, Cx, 'k', label = 'Biomass')\n",
    "plt.xlabel('time')\n",
    "plt.ylabel('Concentration')\n",
    "plt.legend()\n",
    "plt.show()"
   ]
  },
  {
   "cell_type": "markdown",
   "metadata": {},
   "source": [
    "6CO2 + 6H2O ==> C6H12O6 + Xglu\n",
    "\n",
    "Xglu = CaHbOc"
   ]
  },
  {
   "cell_type": "markdown",
   "metadata": {},
   "source": [
    "C balance: 6rco2 - 6rs - arx\n",
    "\n",
    "\n",
    "H balance : 12rho2 - 12 rs + brx\n",
    "\n",
    "\n",
    "O balance : 12rco2 + 6rh2o - 6rs - crx\n",
    "\n",
    "Specification : rcO2 = 2\n"
   ]
  },
  {
   "cell_type": "code",
   "execution_count": null,
   "metadata": {},
   "outputs": [],
   "source": []
  }
 ],
 "metadata": {
  "kernelspec": {
   "display_name": "Python 3",
   "language": "python",
   "name": "python3"
  },
  "language_info": {
   "codemirror_mode": {
    "name": "ipython",
    "version": 3
   },
   "file_extension": ".py",
   "mimetype": "text/x-python",
   "name": "python",
   "nbconvert_exporter": "python",
   "pygments_lexer": "ipython3",
   "version": "3.7.1"
  }
 },
 "nbformat": 4,
 "nbformat_minor": 2
}

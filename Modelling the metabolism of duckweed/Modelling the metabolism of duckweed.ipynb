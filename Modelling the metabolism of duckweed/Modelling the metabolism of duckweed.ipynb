{
 "cells": [
  {
   "cell_type": "markdown",
   "metadata": {},
   "source": [
    "<!DOCTYPE html> \n",
    "<html> \n",
    "    <head> \n",
    "        <title style=\"text-align:center;\"> Technical Report as partial fulfilment for the BEngHons degree</title>\n",
    "         <style> \n",
    "            h1 { \n",
    "                text-align:center; \n",
    "            } \n",
    "            h2 { \n",
    "                text-align:center;  \n",
    "            } \n",
    "             h3 { \n",
    "                text-align:center;  \n",
    "            } \n",
    "               h4 { \n",
    "                text-align:center; \n",
    "            } \n",
    "            h5 { \n",
    "                text-align:center;  \n",
    "            } \n",
    "             h6 { \n",
    "                text-align:center;  \n",
    "        </style> \n",
    "    <body> \n",
    "        <center> \n",
    "            <h1 style=\"text-align:center;\">  Technical Report as partial fulfilment for the BEngHons degree</h1>\n",
    "            <br>\n",
    "            <br>\n",
    "            <br>\n",
    "            <br>\n",
    "            <h2>Modelling the metabolism of duckweed based on Biochemical Engineering principles</h2> \n",
    "              <br>\n",
    "            <br>\n",
    "            <br>\n",
    "            <br>\n",
    "            <h3> Sigcau, K (Kwanele), Mr </h3> \n",
    "            <h3> 16226268 </h3>\n",
    "            <br>\n",
    "            <h3> Supervisor: Willie Nicol </h3> \n",
    "            <br>\n",
    "             <br>\n",
    "            <br>\n",
    "            <h3>  Department of Chemical Engineering </h3>\n",
    "            <h3>  University of Pretoria</h3> \n",
    "             <h3> South Africa </h3> \n",
    "            <br>\n",
    "            <br>\n",
    "            <br>\n",
    "            <br>\n",
    "             <br>\n",
    "            <br>\n",
    "            <br>\n",
    "            <br>\n",
    "            <h3 style=\"text-align:right;\"> CRH 732 </h3>\n",
    "             <h3 style=\"text-align:right;\"> 2020-12-15 </h3>\n",
    "          </center> \n",
    "    </body>    \n",
    "    </head>\n",
    "</html>                "
   ]
  },
  {
   "cell_type": "markdown",
   "metadata": {},
   "source": [
    "# Modelling the metabolism of duckweed based on Biochemical Engineering principles"
   ]
  },
  {
   "cell_type": "markdown",
   "metadata": {},
   "source": [
    "## Background\n"
   ]
  },
  {
   "cell_type": "markdown",
   "metadata": {},
   "source": [
    "Duckweed are floating aquatic plants which belong to the monocotyledon family $Lemnaceae$. The plants are one of the smallest, simplest flowering plants, and can be identified by their egg-shaped frond which is a few millimeters in diameter and short roots that are less than 1 cm in length [(Landesman, Parker & Fedler, 2005)](http://www.oocities.org/landesman.geo/modelingduckweedgrowth3.pdf)\n",
    "\n",
    "The duckweed family reproduces asexually. This occurs by the branching and afterwards the fragmenation of the shoots into fronds forming daughter and granddaughter fronds. The rate at which this occurs depends on the [(Lemon _et al._, 2000)](https://www.sciencedirect.com/science/article/abs/pii/S0304377000001315?via%3Dihub):\n",
    "\n",
    "1. Temperature\n",
    "2. Availability of nutrients\n",
    "3. Light intensity. \n",
    "\n",
    "\n",
    "<img src=\"resized_image.jpg\"/>\n",
    "\n",
    "**Figure 1:** shows how *Spirodela polyrhiza*, also known as *'Greater Duckweed'*, looks like and the different parental fronds [(Mejbel & Simons, 2018)](https://www.ncbi.nlm.nih.gov/pmc/articles/PMC5817126/). \n",
    "\n",
    "Duckweed is seen as a potential source of protein  with the solar dried duckweed crude proteins ranging from 25.2% - 36.5% and the protein concentrate from 37.5% - 44.7%, this protein range was due to the fact that the duckweed was in a nutrient-rich aquatic environment [(Rusoff _et al._, 1980)](https://pubs.acs.org/doi/abs/10.1021/jf60230a040). A comparison of protein percentage of different crops including duckweed can be seen in Table 1.\n",
    "\n",
    "**Table 1:** compares the annual protein productivity of duckweed and other selected crops [(Hillman & Culley, 1978)](https://www.jstor.org/stable/27848752?seq=1#metadata_info_tab_contents/).\n",
    "\n",
    "Crop|\tAnnual tons/ acre*|\tcrude protein %|fat %| fiber %| ash %| relative protein production per acre/year † |\n",
    "--------|-----------------|----------------|-----|--------|------|------------------------------------------|\n",
    "Duckweed| 7.85 | 37 | 5 | 7.5 | 11 | 100|\n",
    "Soybean| 0.71 | 41.7 | 19.2 | 5.8 | 5.4 | 10.2 |\t\t\n",
    "Cottenseed|\t0.34 |\t24.9 | 24.7 | 18.2 | 3.8 | 2.9 |\n",
    "Peanut with skin and hulls| 0.70-1.39 | 23.6 | 37.9 | 21.1 | 3.2 | 5.7 - 11.3 |\n",
    "Alfafa hay| 1.95-7.00| 15.9-17| 1.9| 30.6| 9.9| 11.4 - 38.3|\n",
    "\n",
    "<font size=\"0.4\">*\\* multiply by 2241.7 for kg/ha*\n",
    "\n",
    "*† Annual Production percentage of protein as a percentage of value Annual Production percentage of protein as a percentage of value\n",
    "of duckweed —100%  = 2.9045 tons.* </font>\n",
    "\n",
    "Table 1 shows that duckweed yields the largest protein concentration when grown in a nutrient rich medium compared to the different selected crops. The high nutritional value of duckweed does command attention, this nutritional aspects of the plant are largely due to the fact that most of the plant body consists of metabollically active cells than structural cells  [(Hillman & Culley, 1978)](https://www.jstor.org/stable/27848752?seq=1#metadata_info_tab_contents/). This is one of the major reasons for the study of this plant, it possess the potential of being a *'superfood'* which is a food with exceptional nutrient density and has great health benefits.\n",
    "\n",
    " Consumers of duckweed include [(Rusoff _et al._, 1980)](https://pubs.acs.org/doi/abs/10.1021/jf60230a040):\n",
    " \n",
    "1. Domestic and Wild Fowl\n",
    "2. Fish\n",
    "3. Herbivorous animals  (Figure 2)\n",
    "4. Humans  (Figure 3)\n",
    "\n",
    "&nbsp;\n",
    "\n",
    "<img src=\"animal duckweed.jpg\"/>\n",
    "\n",
    "**Figure 2:** Cow being fed duckweed mixture [(Leng, 1999)](http://www.fao.org/ag/againfo/resources/documents/DW/Dw2.htm)\n",
    "\n",
    "&nbsp;\n",
    "\n",
    "<img src=\"lentein powder made from duck.jpg\"/>\n",
    "\n",
    "**Figure 3:** Lentein, a 68% protein filled flour made from duckweed might be an alternative to whey powder which is made from milk and soya  [(Fernandez, 2015)](https://www.dailymail.co.uk/sciencetech/article-3161195/Would-eat-pond-scum-Protein-rich-powder-duckweed-help-feed-world.html)\n",
    "\n",
    "\n",
    "One of the duckweed family, Wolffia arrhiza has been traditionally eaten in Burma Loas and nothern Thailand, but it was  considered as a 'poor mans food' and has since been abandoned even though it produces roughly 20 % protein which is more than double the amount found in rice  [(Hillman & Culley, 1978)](https://www.jstor.org/stable/27848752?seq=1#metadata_info_tab_contents/). This crop might be better suited as animal feed than food for people because of the stigma duckweed may poses.\n",
    "\n",
    "### Waste management\n",
    "\n",
    "Cultural eutrophication occurs when coastal waters are poluted by nutrients, composed of phosphate nitrates,this is a result of population growth, food production and energy production and consumption.  It is considered one of the largest problems globally [(Glibert, Seitzinger, Heil *et al*, 2005)](https://chnep.wateratlas.usf.edu/upload/documents/EutrophicationAndHABs.pdf). Figure 4 shows duckweed cover the Maracaibo lake in Venezuela. The weed is known to double itself in a span of a day as shown in Table 3. Figure 4 shows duckweed covering 12% of the Maracaibo Lake in Venezuela.\n",
    "\n",
    "&nbsp;\n",
    "\n",
    "<img src=\"venezuella duckweed.jpg\"/>\n",
    "\n",
    "**Figure 4:** Duckweed harvesting in the Marcaibo Lake in Venezuela [(Fernandez, 2015)](https://www.dailymail.co.uk/sciencetech/article-3161195/Would-eat-pond-scum-Protein-rich-powder-duckweed-help-feed-world.html)\n",
    "\n",
    "&nbsp;\n",
    "\n",
    "To further emphasize the fast growth rate of duckweed, Figure 5 shows that in a short time span duckweed exponentially grows in the Marcaibo Lake in Venezuela.\n",
    "\n",
    "&nbsp;\n",
    "\n",
    "<img src=\"Maracaibo_AMO_2004245.jpg\"/>\n",
    "\n",
    "**Figure 5:** NASA image of Lake Maracaibos.  Duckweed (Lemna obscura) can be seen in large swirls across the lake surface.\n",
    "[(Olsen, 2004)](http://www.mobot.org/jwcross/duckweed/duckweed.htm).\n",
    "\n",
    "&nbsp; \n",
    "\n",
    "The excessively high rate of duckweed growth is undesirable in this case, as the plant causes a limited supply of oxygen to aquatic animals causing the death of aquatic animals as seen in Figure 6. Duckweed takes over the entire surface area of these water bodies.\n",
    "\n",
    "<img src=\"fish kill.jpg\"/>\n",
    "\n",
    "**Figure 6:** Fish kill due to lack of oxygen at the Heinrich Martin Dam Impoundment (HMDI)\n",
    "[( Balangoda, 2017)](https://thescipub.com/pdf/10.3844/ajessp.2017.30.46.pdf)\n",
    "\n",
    "This undesirable trait of duckweed multiplying excessively could be used to our advantage for waste water treatment, by re-using nutrients inorder to grow duckweed  this in itself will aid in the reduction of the run-off of nutrients to different bodies of water, as the duckweed will be used to uptake the excess nutrients that were not used up. An example of this would be  growing kale hydroponically and re-using the excess nutrient solution to be the nutrient solution for duckweed, provided the solution provides sufficient nutrients needed to grow duckweed.\n",
    "\n",
    "Duckweed as a waste water treatment plant is seen in an experiment conducted by Oron [(1994)](https://www.sciencedirect.com/science/article/abs/pii/0378377494900221) where the performance of Lemna -a duckweed species- as a purifier of domestic wastewater was studied. The study concluded that using domestic water with adequate nutrients yielded an annual dry matter of duckweed of 55 ton/ha with protein content of 30%. As seen in this experiment the duckweed converted domestic waste water into valuable protein rich biomass which can be used as animal feed or agricultural fertilizion. The economic benefit of using biomass as domestic water treatment is a reduction of wastewater expenditure by  0.020 to US$ 0.050 per each treated m^3 of wastewater. This reduction may not be considered worth pursuing as time needs to be considered. Table 3 considers the different nutritional compositions of various duckweed species from different type of waste water.\n",
    "\n",
    "**Table 3:** Approximate composition of duckweeds grown on various waste-treatment sites  [(Hillman & Culley, 1978)](https://www.jstor.org/stable/27848752?seq=1#metadata_info_tab_contents/).\n",
    "\n",
    "\n",
    "Treatment source |\tSpecies |\tCrude protein \\% |Fat \\% | Fiber \\% | Ash \\% | Ca \\% | K \\% | P \\% |\n",
    "----------------|----------|------------------------------|-----|--------|------|----|---|---|\n",
    "Municipal waste lagoons| Spirodela oligorhiza| 32.7 | 6.3 | 13.5 | 20.3 | 1.5| 1.8 | 1.1 |\n",
    "Anaerobic swine waste lagoons| S.oligorhiza | 44.7 | 4.6 | 8.3 | 13.4 | 1.0 | 2.8 | 1.8 |\t\n",
    "Municipal waste lagoons |\tmixture of Lemna minor and L.gibba |\t39.0 | - | - | - | - | - | - |\n",
    "Dairy cattle waste lagoons | S.oligorhiza | 37.8 | 3.8 | 7.3 | 12.0 | 1.3 | 2.9 | 1.5 |\n",
    "Dairy cattle waste lagoons | S.polyrhiza| 40.9 | 6.7 | 8.7 | 12.9 | 2.1 | 2.1 | 1.4 |\n",
    "Dairy cattle waste lagoons | L.gibba| 38.5 | 3.0 | 9.4 | 16.4 | 1.0 | 4.2 | 1.6 |\n",
    "\n",
    "<font size=\"0.4\">*\\*\\% in dry mass* </font>\n",
    "&nbsp;\n",
    "\n",
    "Table 3 quantifies the different protein content found in duckweed when different nutrient sources are be used. Table 3 further illustrates that duckweed can be used as a purifier for different waste treatment sites with different types of waste.\n",
    "\n",
    "Duckweed can aid in waste management as it absorbs nutrients and is quick to multiply itself. This plant seems to fit well in the *'big picture'* which the *Diazoponic* group aspires to, which is to  to move from using copious amount of fertilizer to fertilizer containing macro-nutrients and micro-nutrients with little to no synthetic nitrogen . If the use of domestic wastewater is used to grow these plants then a great protein concentration will be available that can be used in agricultural fertilization and as animal feed [(Oron, 1994)](https://www.sciencedirect.com/science/article/abs/pii/0378377494900221)."
   ]
  },
  {
   "cell_type": "markdown",
   "metadata": {},
   "source": [
    "### Species Selection"
   ]
  },
  {
   "cell_type": "markdown",
   "metadata": {},
   "source": [
    "Before we start modelling duckweed growth we need to consider how different variables affect duckweed growth. Duckweed has different species and these species have different growth conditions, so when modelling duckweed these conditions need to be altered as to not over-predict or under predict the growth rate for the species being investigated. Duckweed has over 40 different species but the most commonly studied duckweed species are:\n",
    "\n",
    "1. *Spirodela polyrhiza*\n",
    "2. *Lemna minor*\n",
    "3. *Wolffia borealis*\n",
    "\n",
    "Figure 7 shows the different appearance of species of duckweed mentioned above.\n",
    "\n",
    "<img src=\"all types of duckweed.jpg\"/>\n",
    "\n",
    "**Figure 7**: Morphology of five representative species for\n",
    "duckweed genera. [(Fourounjian, Fakhoorian & Cao, 2020)](https://www.researchgate.net/profile/Sunjeet_Kumar2/publication/338428099_Transformation_Development_in_Duckweeds/links/5e1d891c4585159aa4ce94bf/Transformation-Development-in-Duckweeds.pdf).\n",
    "\n",
    "**Table 4:** below depicts the defining characteristics of each species of the Duckweed family  [(Lemon _et al._, 2000)](https://www.sciencedirect.com/science/article/abs/pii/S0304377000001315?via%3Dihub)\n",
    "\n",
    "Taxonomy|Number of pockets|Frond size |Frond longevity|Daughter frond retention|Frond production rate|Frond removal effects|\n",
    "----|-----------------|----------|---------------|------------------------|---------------------|---------------------|\t\t\t\t\t\t\n",
    "Wolffia|\t1|\tsmall (0.5-1.5mm)|\tMedium|\tReleased before maturity|\tRapid|\tNot performed|\t\t\t\t\t\n",
    "Lemna|\t2|\tMedium (2-5 mm)|\tHigh|\tReleased near maturity|\tMedium|\tNo change in mother frond |life span| or frond production rate|\t\t\t\t\t\n",
    "Spirodela|\t2|\tLarge (4-12 mm)|\tLow|\tRetained before maturity|\tSlow|\tNo change in mother frond life span, increased frond production rate\n",
    "&nbsp;\n",
    "\n",
    "**Table 5:** below depicts the differences in the 3 species in averages and  standard deviations [(Lemon _et al._, 2000)](https://www.sciencedirect.com/science/article/abs/pii/S0304377000001315?via%3Dihub):\n",
    "\n",
    "Taxonomy|\tLifespan (day)|\tDaughter fronds (number)|\tProduction rate (fronds per day)|\n",
    "--------|-----------------|-------------------------|-----------------------------------|\n",
    "W. borealis|\t15.8 (±1.5)|\t9.8 (±0.7)|\t0.62 (±0.03)|\n",
    "L. minor|\t31.3 (±1.1)|\t14 (±0.5)|\t0.45 (±0.02)|\t\t\t\n",
    "S. polyrhiza|\t12.1 (±1.1)|\t1.1 (±0.5)|\t0.08 (±0.02)|\n",
    "&nbsp;"
   ]
  },
  {
   "cell_type": "markdown",
   "metadata": {},
   "source": [
    "### Conditions for growing Duckweed:\n",
    "\n",
    "The effect of Ammonia nitrogen and pH on growth rate of duckweed (S. polyrhiza) was studied by   Caicedo, van der Steen, Arce, and Gijzen [(2000)](https://www.sciencedirect.com/science/article/pii/S0043135400001287#FIG3) Different Ammonia nitrogen concentrations were used in a fed batch process. The constant parameters  were:\n",
    "Temperature at 25 \\*C and the duckweed under a flourescent lamp with light intensity of 85-100 mE/($m^{2}$s, the lamp was on for 16 hours providing light to the plant and off for 8 hours. The results for the effect of ammonia-N on growth is shown In Figure 8.\n",
    "\n",
    "<img src=\"n and growth.gif\"/>\n",
    "\n",
    "**Figure 8:** Comparison of RGR based on frond number\n",
    "counting and RGR based on dry weight biomass production for incubation in Huttner media with pH 7-8 [(Caicedo *et al*, 2000)](https://www.sciencedirect.com/science/article/pii/S0043135400001287#FIG3).\n",
    "\n",
    "The greatest growth is seen when the ammonia N is 3.5 g$L^{-1}$ and decreases as N concentration is increased. Figure 9 illustrates the effect of ammonia-N has on the duckweed growth rate taking pH into account.\n",
    "\n",
    "<img src=\"n and ph.gif\"/>\n",
    "\n",
    "**Figure 9:** the Effect of total ammonia on relative growth rates (based on dry weight measurements) in three different media at four pH ranges. The missing bars at average pH values of 7.9 and 8.5 indicate duckweed die-off. Standard errors are indicated [(Caicedo *et al*, 2000)](https://www.sciencedirect.com/science/article/pii/S0043135400001287#FIG3).\n",
    "\n",
    "As seen from the above figures the optimum conditions for growing S. polyrhiza in Huttner medium are seen in Table 6 below:\n",
    "\n",
    "**Table 6**: Optimum conditions for growing S. polyrhiza in Huttner medium [(Caicedo *et al*, 2000)](https://www.sciencedirect.com/science/article/pii/S0043135400001287#FIG3).\n",
    "\n",
    "| Temperature | Light intensity ( mE.$m^{-2}{s^{-1}}$ ) | pH | Ammonia-N  (g$L^{-1}$ ) | biomass growth rate ( $d^{-1}$ )\n",
    "|-------------|-----------------------------------------|----|-------------------------|--|\n",
    "| 25          |                                  85-100 | 5.7-7.3 |                3.5 | 0.23 |\n",
    "\n",
    "&nbsp;\n",
    "\n",
    "Another experimental study was done by Paolaccia, Harrison and Jansen [(2016)](https://www.sciencedirect.com/science/article/pii/S0304377016300845) with different N sources with different concentrations, this was done with duckweed species *Lemna minuta* and *Lemna minor*, the plants were cultured under sterile conditions, in glass flasks, on 100 ml of half-strength Hutner's nutrient solution \n",
    "The results of this experiment are seen in the Figures below.\n",
    "\n",
    "&nbsp;\n",
    "\n",
    "<img src=\"nRGR.jpg\"/>\n",
    "\n",
    "<font size=\"0.4\">*\\**The asterisks indicate a significant difference between the 2 species. The numbers above the graphs indicate the ratio of the RGR of L. minuta over the RGR of L. minor at each concentration of $NO_{3}$—N. The control in this experiment is included in the N gradient tested. </font>\n",
    "\n",
    "**Figure 10:** RGR based on biomass accumulated (a) or fronds formation (b) of the two species grown at different concentration of $NO_3$−N. Values are means of 4 replicates anderror bars are standard errors [(Paolaccia *et al*, 2016)](https://www.sciencedirect.com/science/article/pii/S0304377016300845).\n",
    "\n",
    "&nbsp;\n",
    "\n",
    "**Table 7**: Optimum conditions for growing L. minor in Huttner medium using nitrate as a source of N taken from results seen above\n",
    "\n",
    "| Temperature | Light intensity (micro-mol.$m^{-2}{s^{-1}}$ ) | pH | $NO_3$-N  (g$L^{-1}$ ) | L.minor biomass growth rate ( $d^{-1}$ )| L.minuta biomass growth rate ( $d^{-1}$ ) |\n",
    "|-------------|-----------------------------------------|----|-------------------------|---|--|\n",
    "| 20          |                              40 | 4.5 |                0.03 | 0.17| 0.258 |\n"
   ]
  },
  {
   "cell_type": "markdown",
   "metadata": {},
   "source": [
    "&nbsp;\n",
    "\n",
    "Another experiment was done with the nitrogen source coming from ammonium\n",
    "\n",
    "<img src=\"NHRGR.jpg\"/>\n",
    "\n",
    "**Figure 11:** RGR based on biomass accumulated (a) or fronds formation (b) of the two species grown in allopatric conditions and at different concentration of $NH_4$-N. Values are means of 4 replicates and error bars are standard errors [(Paolaccia *et al*, 2016)](https://www.sciencedirect.com/science/article/pii/S0304377016300845).\n",
    "\n",
    "&nbsp;\n",
    "\n",
    "**Table 8**: Optimum conditions for growing L. minor in Huttner medium using ammonium as a source of N taken from results seen above\n",
    "\n",
    " Temperature | Light intensity           ( micro mol.$m^{-2}{s^{-1}}$ ) | pH | $NH_4$-N  (g$L^{-1}$ ) | L.minor biomass growth rate ( $d^{-1}$ )| L.minuta biomass growth rate            ( $d^{-1}$ ) \n",
    "-------------|-----------------------------------------|----|-------------------------|---|--\n",
    " 20          |   40 | 4.5 |   0.3 | 0.174| 0.243\n",
    "\n",
    "&nbsp;\n",
    "\n",
    "As seen from the results obtained from the various experiments, the biomass growth rate depends on the nitrogen source and the nitrogen concentration supplied. There is a nitrogen concentration that limits the growth rate so when doing our experiment we need to consider the most optimal N-concentration to use to get the greatest biomass growth rate."
   ]
  },
  {
   "cell_type": "markdown",
   "metadata": {},
   "source": [
    "## Effect of nitrogen uptake on the growth"
   ]
  },
  {
   "cell_type": "markdown",
   "metadata": {},
   "source": [
    "Growth rates should be higher at higher nitrogen concentrations. Cedergreen (2002) confirms this. Population growth rate increased as well as N-tissue in _Lemna minor_ when in high nitrogen (both nitrate and ammonium was supplied). The relative growth rate increased similarly with the reported value five and eight times larger at intermediate and high N concentrations respectively."
   ]
  },
  {
   "cell_type": "markdown",
   "metadata": {},
   "source": [
    "When comparing looking the available literature, [Cedergreen (2002)](https://nph.onlinelibrary.wiley.com/doi/full/10.1046/j.1469-8137.2002.00463.x#b10) gives a good reference. Cedergreen fit to a model of nitrate and ammonium uptake which was a modified version Monod-Menten function (Barber, 1979).\n",
    "\n",
    "$$\\nu(C_{NO_3^-}) = \\nu_{max} \\frac{C_{NO_3^-}-C_{min}}{K^{\\nu}_N+C_{NO_3^-}-C_{min}}$$ where $C_{min}$ is the concentration where net uptake is zero. \n",
    "\n",
    "Rate of uptake vs supplied nitrogen followed the kinetics closely. It should be noted that the nitrate uptake by roots rather followed a more linear relationship. The uptake of nitrate and ammonium are plotted below.\n",
    "\n",
    "\n",
    " <img src=\"NO3NH4.png\"/>\n",
    " \n",
    "__Figure 10:__ Uptake of $\\text{NO}_3^−$ and $\\text{NH}_4^+$ by roots (open circles) and fronds (closed circles) of Lemna minor grown for 2 wk at three concentrations of $\\text{NH}_4\\text{NO}_3$  (low‐N, 5 $\\text{mmol NH}_4\\text{NO}_3 \\cdot\\text{m}^{−3}$; intermediate‐N, 50 $\\text{mmol NH}_4\\text{NO}_3 \\cdot\\text{m}^{−3}$; and high‐N, 250 $\\text{mmol NH}_4\\text{NO}_3 \\cdot\\text{m}^{−3}$).\n",
    "\n",
    "From the figure above, the roots are more likely to uptake nitrogen species at low and intermediate concentrations compared to the frond where higher nitrogen concentrations are required. Ammonium is the preferred nitrogen species by _L. minor_. \n",
    "\n",
    " <img src=\"NH4uptake_per_area.png\"/>\n",
    " \n",
    " __Figure 11:__ Root area vs. $\\text{NH}_4^+$ uptake by _L. minor_. Uptake rates of fronds at concentrations greater than 80 $\\text{mmol NH}_4\\cdot\\text{m}^{−3}$ (open circles) and uptake rates of roots at 80 $\\text{mmol NH}_4\\cdot\\text{m}^{−3}$ (closed circles) are shown.\n",
    "\n",
    "__Table 8:__ Uptake parameters for $NO_3^−$ of Lemna minor grown for 2 weeks at three concentrations of $NH_4NO_3$\n",
    "\n",
    "Growth-N $(\\frac{\\text{mmol NH}_4\\text{NO}_3}{\\text{m}^3})$|$V_{max}$ $(\\frac{\\text{μmol}}{\\text{m}^2\\text{plant} \\cdot\\text{h}})$| $\\alpha$ $(\\frac{\\text{μmol}}{\\text{m}^2\\cdot\\text{h}\\cdot\\text{mmol}\\cdot\\text{m}^3})$       |\t$C_{min}$ $(\\frac{\\text{mmol}}{\\text{m}^3})$|\n",
    "--------|-----------------|----------------------------|----------------------|\n",
    "5| | |\n",
    "Root|\t173 ± 12|\t10.6 ± 0.8|\t     13.3 ± 1.9|\t \n",
    "Frond|\t151 ± 18|\t 3.0 ± 0.2|\t    22.6 ± 0.4|\t\n",
    "50| | |\n",
    "Root|\t169 ± 14|\t 9.5 ± 0.7|\t    10.5 ± 1.0|\t\n",
    "Frond|\t112 ± 17|\t 1.8 ± 0.1|\t    16.8 ± 4.4|\t\n",
    "250| | |\n",
    "Root|\t218 ± 43|\t 1.1 ± 0.1|\t     66.6 ± 62|\t \n",
    "Frond|\t290 ± 8|\t14.9 ± 2.8|\t     12.3 ± 1.4|\t \n",
    "\n",
    "\n",
    "The author measured some morphlogical parameters of _Lemna minor_ after his nitrogen treatment. Biomass was greatly increased by the availability of nitrogen.\n",
    "\n",
    "__Table 9__: Morphology parameters for _Lemna minor_ grown for 2 weeks at three different concentrations of $\\text{NH}_4\\text{NO}_3$\n",
    "\n",
    "N-treatment $(\\frac{\\text{mmol NH}_4\\text{NO}_3}{\\text{m}^3})$|5|50|250|\n",
    "-------|----------|---------|-----------|\n",
    "Dry weight : fresh weight ratio|\t0.14 ± 0.00|\t0.11 ± 0.00|\t0.09 ± 0.00|\n",
    "Root : frond biomass ratio|\t0.23 ± 0.00|\t0.22 ± 0.02|\t0.17 ± 0.00|\n",
    "Root length (cm per plant)|\t3.3 ± 0.1|\t2.6 ± 0.1|\t3.1 ± 0.0|\n",
    "Root diameter (µm)|\t140 ± 2|\t156 ± 4|\t176 ± 2|\n",
    "Root surface area $(\\text{cm}^2 \\text{per plant})$* |\t0.146 ± 0.003|\t0.129 ± 0.00|\t0.171 ± 0.002|\n",
    "Root weight $(\\text{mg DM per plant})$|\t0.075 ± 0.002|\t0.060 ± 0.00|\t0.046 ± 0.002|\n",
    "Specific root area (SRA) $(\\text{cm}^2 \\cdot\\text{mg}^{−1} \\text{DM})$|\t1.959 ± 0.034|\t2.140 ± 0.081|\t3.730 ± 0.135|\n",
    "Frond surface area $(\\text{cm}^2 \\text{per plant})$†|\t0.059 ± 0.001|\t0.056 ± 0.003|\t0.104 ± 0.003|\n",
    "Frond weight $(\\text{mg DM per plant})$|\t0.322 ± 0.007|\t0.272 ± 0.017|\t0.272 ± 0.08|\n",
    "Specific leaf area (SLA) $(\\text{cm}^2 \\text{mg}^{−1} \\text{DM})$†|\t0.184 ± 0.001|\t0.208 ± 0.003|\t0.380 ± 0.002|\n",
    "\n",
    "<font size=\"0.4\">*\\** *Calculated using mean root diameter and length  </font>\n",
    "&nbsp;\n",
    "\n",
    "<font size=\"0.4\">*\\** †One side only </font>"
   ]
  },
  {
   "cell_type": "markdown",
   "metadata": {},
   "source": [
    "Nutrient uptake by roots in plants grown at low nitrogn concentration had the highest contribution. This agreed morphological parameters where a higher root biomass and a greater root : frond biomass ratio values compared to high‐nitrogen grown plants. Aquatic plants like duckweed both leaves and roots participate in nutrient uptake. The author hypothesises that biomass is allocated to the roots rather than the frond under nutrient stress conditions is a result of lower carbon cost per unit area in the roots. This study is useful in showing that _L. minor_ acquires significant amount of inorganic N through both root and frond. _Lemna_ get adapts morphologically and physiologically to nitrogen availability of the growth medium."
   ]
  },
  {
   "cell_type": "markdown",
   "metadata": {},
   "source": [
    "### Plant Biomass"
   ]
  },
  {
   "cell_type": "markdown",
   "metadata": {},
   "source": [
    "**Table 6:** below contains biomass empirical formulas for use and comparison in the model\n",
    "\n",
    "Biomass|Formula|Reference|\n",
    "-------|-------|---------|\n",
    "Calculated|$CH_{1.75}O_{0.875}N_{0.1}K_{0.03}$|-|\n",
    "Pleurotus ostreatus mushroom strain ceba-gliie-po-010106|$CH_{1.83}O_{0.84}N_{0.26}$|[(Pineda-Insuasti _et al., 2014)](https://www.medigraphic.com/cgi-bin/new/resumenI.cgi?IDARTICULO=48671)|\n",
    "Phaseolus vulgaris (fresh-dried pickling bean)|$CH_{1.81}O_{0.81}N_{0.15}$|[(Pineda-Insuasti _et al., 2014)](https://www.medigraphic.com/cgi-bin/new/resumenI.cgi?IDARTICULO=48671)|"
   ]
  },
  {
   "cell_type": "markdown",
   "metadata": {},
   "source": [
    "## Model Considerations and assumptions"
   ]
  },
  {
   "cell_type": "markdown",
   "metadata": {},
   "source": [
    "We wish to model the growth of duckweed plant. Due to most of the information being unknown, several assumptions have been made as to keep the model simple. Set-up of the model also needs be adaptable to try and closely match available growth data. This will be useful in predicting the a fairly accurate growth rate of duckweed.\n",
    "\n",
    "As mentioned above that the plant growth depends on the environmental conditions. It is useful to consider in the process model the effects the temperature has on the growth of duckwweed as most literature has studied its effect. Initially, air humidity, temperature, light intensity effects have been ignored.  In reality environmental conditions  like temperature, humidity and light intensity will have an influence on plant growth. In literature these variables are controlled for. It is assumed that a desirable amount of light exposure was supplied to the plant. The temperature was assumed to be at room temperature (similar to laboratory conditions). \n",
    "\n",
    "The last major condition that influences plant growth would be the availability of nutrients. These variables were allowed to vary to observe the rates at which the nutrients are absorbed. Roots and frond nutrient uptake is assumed to be the same. More should be done to account for saturation limits mentioned in reading. For example, the maximum amount of nutrients that the duckweed can absorb and the minimum concentration of nutrients that can be supply for plant growth to take place. An assumed empircal biomass formula shall be used."
   ]
  },
  {
   "cell_type": "markdown",
   "metadata": {},
   "source": [
    "## Symbols"
   ]
  },
  {
   "cell_type": "markdown",
   "metadata": {},
   "source": [
    "$t$ : Time ($\\text{h})$\n",
    "\n",
    "$N_i$ : Cmoles of nutrient i ($\\text{cmol i})$\n",
    "\n",
    "$C_i$ : Concentration of nutrient i ($\\frac{\\text{cmol i}}{\\text{L}})$\n",
    "\n",
    "$r_i$ : Rate of production/consumption of nutrient i $(\\frac{\\text{cmol i}}{\\text{cmol X} \\cdot \\text{h}})$\n",
    "\n",
    "$\\Gamma$ : Energy supplied to respiration proportional to rate of oxygen consumption $(\\frac{\\text{cmol ATP}}{\\text{cmol O}_2})$\n",
    "\n",
    "$\\phi$ : Energy consumed by growth proportional to the rate of biomass production  $(\\frac{\\text{cmol ATP}}{\\text{cmol X}})$ \n",
    "\n",
    "$\\theta$ : Energy required for cellular maintenance of duckweed frond  $(\\frac{\\text{cmol ATP}}{\\text{cmol X}\\cdot \\text{h}})$  \n",
    "\n",
    "$\\nu$ : The rate of nitrate uptake $(\\frac{\\text{cmol NO}_3^-}{\\text{cmol X}\\cdot \\text{h}})$\n",
    "\n",
    "$\\nu_{max}$ : The maximum rate of nitrate uptake $(\\frac{\\text{cmol NO}_3^-}{\\text{cmol X}\\cdot \\text{h}})$ \n",
    "\n",
    "$K^{\\nu}_N$ : The Monod Constant for nitrate substrate uptake \n",
    "$(\\frac{\\text{cmol NO}_3^-}{\\text{L}})$\n",
    "\n",
    "$Q_{in}$ : Reactor inlet flowrate $(\\frac{\\text{L}}{\\text{h}})$\n",
    "\n",
    "$Q_{out}$ : Reactor outlet flowrate $(\\frac{\\text{L}}{\\text{h}})$\n",
    "\n",
    "$C_{i,f}$ : Concentration of nutrient i in the inlet of the reactor  $(\\frac{\\text{cmol i}}{\\text{L}})$\n",
    "\n",
    "$F_{x_{out}}$ : Removal rate of the duckweed biomass $(\\frac{\\text{cmol i}}{\\text{L}})$\n",
    "\n",
    "$V$ : Reactor volume $(\\text{L})$"
   ]
  },
  {
   "cell_type": "code",
   "execution_count": 1,
   "metadata": {},
   "outputs": [],
   "source": [
    "import numpy as np\n",
    "from scipy.integrate import odeint\n",
    "from scipy.optimize import*\n",
    "import matplotlib.pyplot as plt"
   ]
  },
  {
   "cell_type": "markdown",
   "metadata": {},
   "source": [
    "## Model Equations"
   ]
  },
  {
   "cell_type": "markdown",
   "metadata": {},
   "source": [
    "The simple model was developed to be solved by integration of differential equations. The response function contains the rates of different nutrients. The mathematically equations have been developed by simple elements balances. A simple degree of reduction balance has been used to balance the charges of the feed ions\n"
   ]
  },
  {
   "cell_type": "markdown",
   "metadata": {},
   "source": [
    "The block flow diagram of duckweed being modelled is shown in **Figure 8** below and will be used to get the growth model. It was assumed that a fraction of photosyntheically produced glucose is consumed by the organism.\n",
    "<img src=\"Slide1.png\"/>\n",
    "\n",
    "**Figure 8:** Graphical representation of duckweed model\n",
    "\n",
    "Photosynthesis: \\begin{equation*} 6CO_2 + 6H_2O + \\text{light} \\to CH_{2}O + 6O_2\n",
    "\\label{eq:photo} \\tag{RXN 1}\n",
    "\\end{equation*}\n",
    "\n",
    "\n",
    "Respiration: \\begin{equation*} CH_{2}O+ O_2 + K^{+} + NO_3^{-} + H^+ \\to X + CO_2 + H_2O \\label{eq:resp} \\tag{RXN 2}\n",
    "\\end{equation*}\n",
    "\n",
    "With: $$X =\\text{Biomass}$$"
   ]
  },
  {
   "cell_type": "markdown",
   "metadata": {},
   "source": [
    "Below, a model of a photosynthetic unit and respiratory unit  has been developed."
   ]
  },
  {
   "cell_type": "markdown",
   "metadata": {},
   "source": [
    "## Photosynthetic Unit:"
   ]
  },
  {
   "cell_type": "markdown",
   "metadata": {},
   "source": [
    "### Photosynthesis in Plants\n",
    "\n",
    "Photosynthesis is a series of light-dependent reactions, where water is oxidised and most ATP and NADH (NADPH) is produced and light-independent reactions, where $CO_2$ is fixated, ATP and NADH is consumed to produce glucose. According to [Rooijakkers (2016)](https://edepot.wur.nl/389579), a minimum light intensity is required for photosynthesis to take place; this will occur at 300 $\\frac{\\mu mol}{m^2\\cdot s}$. The saturation point at 30 &deg;C, is 600 $\\frac{\\mu mol}{m^2\\cdot s}$. Light intensity and temperature were proportional to growth rate. Generally, a growth of 0.29$k$ was found as optimal ($k$ is the light-dependence on the growth rate)."
   ]
  },
  {
   "cell_type": "markdown",
   "metadata": {},
   "source": [
    "\n",
    "\n",
    "Mass balance shows that \\begin{equation*} r_{total} = r_{G} = r_{X_{1}} + r_{S}\\tag{1}\n",
    "\\end{equation*}  \n",
    "\n",
    "where $G$ refers to the glucose produced in the photosynthetic unit. $X_{1}$ refers to the biomass carbohydrate content (approximated as glucose) and $S$ is the glucose supplied for the respiration.\n",
    "\n",
    "Assume that the glucose split is parameter $\\beta$ defined as:\n",
    "\n",
    "\\begin{equation*} \\beta = \\frac{X_{1}}{S} \\tag{2} \\end{equation*}\n",
    "\n",
    "As in *RXN 1*, the rate of consumption and production ($v$) of atmospheric carbon dioxide and oxygen respectively as well as water uptake can be found by the following:\n",
    "\n",
    "\\begin{equation*} v_{CO_2} = v_{O_2} \\tag{3}\n",
    "\\end{equation*}\n",
    "\n",
    "\\begin{equation*} v_{CO_2} = r_{G} \\tag{4}\n",
    "\\end{equation*}\n",
    "\n",
    "The carbon assimilated and sugars produced by photosynthesis are related (cycling schedule and intensity) [(Stoop, 1991)](https://www.ncbi.nlm.nih.gov/pmc/articles/PMC1080802/), [(Ritchie, 2010)](https://link.springer.com/article/10.1007/s11099-010-0077-5).\n",
    "\n",
    "\\begin{equation*} r_{G} = f(\\text{light}) \\tag{5}\n",
    "\\end{equation*}\n",
    "\n"
   ]
  },
  {
   "cell_type": "markdown",
   "metadata": {},
   "source": [
    "For the purpose of this model, the rate of glucose production is assumed at a constant light intensity and constant rate carbon assimilation. This value will be set as $r_G$."
   ]
  },
  {
   "cell_type": "markdown",
   "metadata": {},
   "source": [
    "## Respiration Unit"
   ]
  },
  {
   "cell_type": "markdown",
   "metadata": {},
   "source": [
    "### Elemental balances:"
   ]
  },
  {
   "cell_type": "markdown",
   "metadata": {},
   "source": [
    "Carbon balance:\\begin{equation*} -r_S + r_{CO_2} + r_{X_2} = 0 \\tag{6}\n",
    "\\end{equation*}\n",
    "Hydrogen balance: \\begin{equation*} -2r_S + wr_{X_2} + 2r_{H_2O} = 0 \\tag{7}\n",
    "\\end{equation*}\n",
    "Oxygen balance:  \\begin{equation*} -r_S - 2r_{O_2} - 3r_{NO_3} + yr_{X_2} + 2r_{CO_2} + r_{H_2O} = 0 \\tag{8}\n",
    "\\end{equation*}\n",
    "Nitrogen balance: \\begin{equation*} -r_{NO_3} +  zr_{X_2} = 0 \\tag{9}\n",
    "\\end{equation*}\n",
    "Potasium balance: \\begin{equation*} -r_K + ar_{X_2} = 0 \\tag{10}\n",
    "\\end{equation*}"
   ]
  },
  {
   "cell_type": "markdown",
   "metadata": {},
   "source": [
    "### Charge balance:"
   ]
  },
  {
   "cell_type": "markdown",
   "metadata": {},
   "source": [
    "\\begin{equation*} r_{H^+} + r_{K^+} - r_{NO_3^-} = 0 \\tag{11}\n",
    "\\end{equation*}"
   ]
  },
  {
   "cell_type": "markdown",
   "metadata": {},
   "source": [
    "### Energy balance:"
   ]
  },
  {
   "cell_type": "markdown",
   "metadata": {},
   "source": [
    "\\begin{equation*}  \\theta = \\Gamma r _{O_2} -  \\phi r_X  \\tag{12}\n",
    "\\end{equation*}\n",
    "\n",
    "where  $\\theta$ is the maintainence parameter, $\\phi$ is the energy consumed for growth and $\\Gamma$ is the energy value provided to respiration."
   ]
  },
  {
   "cell_type": "markdown",
   "metadata": {},
   "source": [
    "### Specifying equation:"
   ]
  },
  {
   "cell_type": "markdown",
   "metadata": {},
   "source": [
    "For the last equation, the model specifation may be obtained from experimental data of either the nitrate or the biomass. The rate of nitrate uptake will be a function of the nitrate concentration in the medium and growth rate will be given by a function of the duckweed wet mass. This will determine the units of the stoichiometric rates.\n",
    "\n",
    "Let the nitrate uptake be defined as the variable $\\nu$: \\begin{equation*} r_{NO_3^-} = \\nu(C_{NO_3^-}) \\tag{13}\n",
    "\\end{equation*}\n",
    "\n",
    "It is assumed that the rate determining equation is a Monod expression.\n",
    "\n",
    "\\begin{equation*} \\nu(C_{NO_3^-}) = \\nu_{max} \\frac{C_{NO_3^-}}{K^{\\nu}_N+C_{NO_3^-}}\\tag{14}\n",
    "\\end{equation*}\n"
   ]
  },
  {
   "cell_type": "markdown",
   "metadata": {},
   "source": [
    "The list of equations above will be used to model duckweed growth as a response to the medium solution. The response function has been defined below as \"respiration\", containing the matrix of equations."
   ]
  },
  {
   "cell_type": "code",
   "execution_count": 2,
   "metadata": {},
   "outputs": [],
   "source": [
    "def nitrogen_uptake_Monod(Cn):\n",
    "    return nu_max*(Cn)/(Kn+(Cn))\n",
    "\n",
    "def respiration(C):\n",
    "    Cx, Ck, Ch, Cn  = C\n",
    "    nu = nitrogen_uptake_Monod(Cn)    \n",
    "    #theta = theta_max*Cn/(Kn+Cn)\n",
    "    S = np.matrix([\n",
    "       #[S,  O2,  K,  NO3,  H,   X, CO2, W]\n",
    "        [-1,   0,  0,    0,  0,   1,   1, 0], #C\n",
    "        [0,   0,  0,   -1,  0,   z,   0, 0],  #N\n",
    "        [-2,   0,  0,    0,  0,   w,   0, 2], #H\n",
    "        [0,   0, -1,    0,  0,   a,   0, 0],  #K\n",
    "        [-1,  -2,  0,   -3,  0,   y,   2, 1], #O\n",
    "        [0,   0,  +1,   -1,  +1,  0,   0, 0], #Charge balance\n",
    "        [0,   Γ,   0,    0,  0,   -ϕ,  0, 0], #Energy balance\n",
    "        [0,   0,   0,    1,  0,    0,  0, 0]  #N-uptake\n",
    "    ])\n",
    "    B = np.array([[0,0,0,0,0,0,0,nu]]).T\n",
    "    r = np.linalg.solve(S,B)  \n",
    "    \n",
    "    return r[0,0],r[1,0],r[2,0],r[3,0],r[4,0],r[5,0],r[6,0],r[7,0]"
   ]
  },
  {
   "cell_type": "markdown",
   "metadata": {},
   "source": [
    "### Model biomass\n",
    "\n",
    "It is not possible to find an exact empirical formula for duckweed biomass. It was thus taken that the elemental content in the biomass should be dependent on the materials which are absorbed by the organism (which is true in reality). Biomass was taken to have a starch component (modelled as glucose) produced during photosynthesis and a protein component produced during respiration.\n",
    "\\begin{equation*} X_1(CH_{2}O)+ X_2(CH_wO_yN_zK_a) \\to X(\\text{Biomass}) \\tag{RXN 3} \\end{equation*} \n",
    "\n",
    "To determine the elemental ratios, it was necessary to recalculate the unknown symbols in the above $X_2$ from the element balances.\n",
    "From the H balance, the H content may be found as:\n",
    "\n",
    "\\begin{equation*} w = \\frac{2n_S-2n_{H_2O}} {n_{X_2}} \\tag{15} \\end{equation*} \n",
    "\n",
    "\n",
    "\n",
    "\\begin{equation*}  y = \\frac{n_s+2n_{O_2}-n_{H_2O}-2n_{CO_2}}{n_{X_2}}\\tag{16} \\end{equation*} \n",
    "\n",
    "From the N balance, the N content may be found as: \\begin{equation*} z = \\frac{n_{NO_3^-}}{n_{X_2}} \\tag{17} \\end{equation*}\n",
    "From the K balance, the K content may be found as: \\begin{equation*} a = \\frac{n_{K^+}}{n_{X_2}} \\tag{18} \\end{equation*} \n"
   ]
  },
  {
   "cell_type": "code",
   "execution_count": 3,
   "metadata": {},
   "outputs": [],
   "source": [
    "# Calculating a cmol value (ni) from the balance above should work\n",
    "def biomass(r):\n",
    "    rs,ro,rw,rc,rx2,rn,rk = r\n",
    "    y = ((rs)+2*(ro)-(rw)-2*(rc))/(rx2)\n",
    "    w = (2*(rs)-2*(rw))/(rx2)\n",
    "    z = (rn)/(rx2)\n",
    "    a = (rk)/(rx2)\n",
    "    return y,w,z,a,MMx"
   ]
  },
  {
   "cell_type": "markdown",
   "metadata": {},
   "source": [
    "Doing a degree of freedom (DOF) analysis, there are eight unknowns as seen in 2). The eight rate equations are needed to get DOF equal to zero."
   ]
  },
  {
   "cell_type": "markdown",
   "metadata": {},
   "source": [
    "### Differential Equations"
   ]
  },
  {
   "cell_type": "markdown",
   "metadata": {},
   "source": [
    "The following differential equations are integrated as the concentration of nutrients change as the duckweed absorbs them. $C_{X}$ present in the differential equations refers to the total biomass concentration. A certain amount of biomass will remain constant at pseudo-steady state. The additional biomass is removed and is denoted by $F_{X_{out}}$. This pseudo-steady state implies that inlet (feed) and outlet flowrates are the same, $Q_f = Q_{out}$ and volume, $V$, remains constant. Liquid loss with biomass is assumed to be negligible.\n",
    "\n",
    "With respect to the phyiscal design, the medium is recycling into the reactor.\n",
    "\n",
    "Biomass:  \\begin{equation*} \\frac{dN_X}{dt} = r_XC_{X}V - F_{X_{out}} \\tag{19} \\end{equation*} \n",
    "\n",
    "Protons:  \\begin{equation*} \\frac{dN_{H^+}}{dt} = Q_fC_{H^+, f} - r_{H^+}C_{X}V - Q_{out}C_{H^+} \\tag{20} \\end{equation*} \n",
    "\n",
    "Nitrate:  \\begin{equation*} \\frac{dN_{NO_3^-}}{dt} = Q_fC_{NO_3^-, f} -r_{NO_3^-}C_{X}V - Q_{out}C_{NO_3^-} \\tag{21} \\end{equation*} \n",
    "\n",
    "Potassium: \\begin{equation*} \\frac{dN_{K^+}}{dt} = Q_fC_{K^+, f}-r_{K^+}C_{X}V - Q_{out}C_{K^+} \\tag{22} \\end{equation*} \n"
   ]
  },
  {
   "cell_type": "code",
   "execution_count": 4,
   "metadata": {},
   "outputs": [],
   "source": [
    "# Remove biomass when the vessel gets full\n",
    "mass_out_per_day = 0.8 #g/d\n",
    "max_biomass = 50 #g\n",
    "def removal(Cx,V):\n",
    "    mass = Cx*MMx*V\n",
    "    #print(mass)\n",
    "    if mass >= max_biomass:\n",
    "        return mass_out_per_day/MMx/24\n",
    "    else: \n",
    "        return 0"
   ]
  },
  {
   "cell_type": "code",
   "execution_count": 5,
   "metadata": {},
   "outputs": [],
   "source": [
    "def differential_equations(N,t):\n",
    "    'All differential equations will be calculated here' \n",
    "    Nx, Nk, Nh, Nn, V  = N\n",
    "    \n",
    "    Cx, Ck, Ch, Cn = Nx/V, Nk/V, Nh/V, Nn/V\n",
    "    C0 = [Cx, Ck, Ch, Cn]\n",
    "    rs,ro,rk,rn,rh,rx2,rc,rw = respiration(C0)\n",
    "        \n",
    "    'Total rate of biomass formation should be calculated here' \n",
    "    #rx, rx1 = photosynthesis_to_resp(rg,[rs,ro,rk,rn,rh,rx2,rc,rw])\n",
    "    'rx = rx1 + rx2'\n",
    "    rx = rx2 + rg-rs\n",
    "    r = [rx, rk, rh, rn, rs]\n",
    "    \n",
    "    Fx_out = removal(Cx,V)\n",
    "    dNx = rx*Cx*V - Fx_out\n",
    "    # Assumed fresh medium is fed into reactor\n",
    "    dNk = -r[1]*Cx*V + Q*C_initial[1] - Q*Ck\n",
    "    dNh = -r[2]*Cx*V + Q*C_initial[2] - Q*Ch\n",
    "    dNn = -r[3]*Cx*V + Q*C_initial[3] - Q*Cn\n",
    "    dV = Q - Q    \n",
    "    \n",
    "    return [dNx, dNk, dNh, dNn, dV]"
   ]
  },
  {
   "cell_type": "markdown",
   "metadata": {},
   "source": [
    "## Values"
   ]
  },
  {
   "cell_type": "code",
   "execution_count": 6,
   "metadata": {},
   "outputs": [
    {
     "data": {
      "text/plain": [
       "0.014"
      ]
     },
     "execution_count": 6,
     "metadata": {},
     "output_type": "execute_result"
    }
   ],
   "source": [
    "Vo = 10 #L    : Reactor volume (initial)\n",
    "Q = 0#1.4 #L/h : Inlet/Outlet flowrate\n",
    "\n",
    "w, y, z, a = 1.75, 0.875, 0.1, 0.05 # Estimation of elemental compositiom\n",
    "MMx = 12.011+w*1.008+y*15.997+z*14.007+a*39.001 #g/mol :molecular mass\n",
    "\n",
    "# Initial conditions for ODEint:\n",
    "m_xo = 10 #g               :initial biomass used\n",
    "C_xo = m_xo/MMx/Vo #mol/L  :biomass concentration\n",
    "\n",
    "MMn = 62.005 #g/mol        :Molecular weight of nitrate\n",
    "C_no = 168e-3/MMn #mol/L   :initial nitrate concentration\n",
    "\n",
    "MMk = 39.098 #g/mol        :Molecular weight of nitrate \n",
    "C_ko = 195.5e-3/MMk #mol/L    :initial potassium concentration\n",
    "\n",
    "MMh = 1.008 #g/mol\n",
    "pH = 6 #                   :pH of growth medium solution \n",
    "C_ho = 1.5e-3#10**(-pH) #mol/L    :molarity of avaliable hydrogen ions\n",
    "\n",
    "#[X, K, H, N] -> This is the order that the ODEint function will return\n",
    "N_initial = [C_xo*Vo, C_ko*Vo, C_ho*Vo, C_no*Vo, Vo]\n",
    "C_initial = [C_xo, C_ko, C_ho, C_no]\n",
    "\n",
    "\n",
    "#Energy balance constants:\n",
    "Kn = 0.0010 #cmol/L\n",
    "nu_max = 0.00052 #cmol NO3/ cmol X/h\n",
    "Γ = 2.5 #cmol ATP/cmol O2\n",
    "ϕ = 3.3 #cmol ATP/ cmol X2\n",
    "theta_max = 0.03  #cmol ATP/cmol X/h\n",
    "\n",
    "# Carbon produced\n",
    "rg = 1400e-5 #mol/m2/h :\n",
    "rg"
   ]
  },
  {
   "cell_type": "markdown",
   "metadata": {},
   "source": [
    "## Biomass growth over time"
   ]
  },
  {
   "cell_type": "code",
   "execution_count": 7,
   "metadata": {
    "scrolled": false
   },
   "outputs": [
    {
     "data": {
      "image/png": "[encoded data removed]",
      "text/plain": [
       "<Figure size 432x288 with 1 Axes>"
      ]
     },
     "metadata": {
      "needs_background": "light"
     },
     "output_type": "display_data"
    },
    {
     "data": {
      "image/png": "[encoded data removed]",
      "text/plain": [
       "<Figure size 432x288 with 1 Axes>"
      ]
     },
     "metadata": {
      "needs_background": "light"
     },
     "output_type": "display_data"
    },
    {
     "data": {
      "image/png": "[encoded data removed]",
      "text/plain": [
       "<Figure size 432x288 with 1 Axes>"
      ]
     },
     "metadata": {
      "needs_background": "light"
     },
     "output_type": "display_data"
    },
    {
     "data": {
      "image/png": "[encoded data removed]",
      "text/plain": [
       "<Figure size 432x288 with 1 Axes>"
      ]
     },
     "metadata": {
      "needs_background": "light"
     },
     "output_type": "display_data"
    }
   ],
   "source": [
    "tmax=360\n",
    "tspan=np.linspace(0,tmax,1000+1)\n",
    "\n",
    "Ni = odeint(differential_equations, N_initial, tspan)\n",
    "Nx, Nk, Nh, Nn, Vol = Ni.T                       \n",
    "Cx, Ck, Ch, Cn = Nx/Vol, Nk/Vol, Nh/Vol, Nn/Vol\n",
    "plt.figure()\n",
    "plt.plot(tspan/24, Cx*MMx, 'k', label = 'Biomass')\n",
    "\n",
    "plt.xlabel('time (d)')\n",
    "plt.ylabel('Concentration (g/L)')\n",
    "plt.legend()\n",
    "plt.savefig('mu_time.png')\n",
    "plt.show()\n",
    "\n",
    "plt.figure()\n",
    "\n",
    "plt.plot(tspan/24, Cn*MMn*1000, 'b', label = 'Nitrogen')\n",
    "plt.xlabel('time (d)')\n",
    "plt.ylabel('Concentration (mg/L)')\n",
    "plt.legend()\n",
    "plt.show()\n",
    "\n",
    "r = np.asarray([respiration([Cx[i], Ck[i], Ch[i], Cn[i]]) for i,n in enumerate(Cn)])\n",
    "rs,ro,rk,rn,rh,rx2,rc,rw =r[:,0],r[:,1],r[:,2],r[:,3],r[:,4],r[:,5],r[:,6],r[:,7]\n",
    "\n",
    "rx1 = rg - rs\n",
    "rx = rx2 + rx1\n",
    "\n",
    "plt.figure()\n",
    "plt.plot(tspan/24, rx1, 'g', label = 'X1')\n",
    "plt.plot(tspan/24, rx2, 'b', label = 'X2')\n",
    "plt.plot(tspan/24, rx, 'k', label = 'X')\n",
    "\n",
    "plt.xlabel('time (d)')\n",
    "plt.ylabel('mu (cmol/cmolX/h)')\n",
    "plt.legend()\n",
    "plt.savefig('mu_tspan.png')\n",
    "plt.show()\n",
    "\n",
    "plt.figure()\n",
    "plt.plot(Cn*MMn, rx1, 'g', label = 'X1')\n",
    "plt.plot(Cn*MMn, rx2, 'b', label = 'X2')\n",
    "plt.plot(Cn*MMn, rx, 'k', label = 'X')\n",
    "\n",
    "plt.xlabel('Concentration N (mg/L)')\n",
    "plt.ylabel('mu (cmol/cmolX/h)')\n",
    "plt.legend()\n",
    "plt.savefig('mu_N.png')\n",
    "plt.show()"
   ]
  },
  {
   "cell_type": "markdown",
   "metadata": {},
   "source": [
    "## Nitrate influence on growth"
   ]
  },
  {
   "cell_type": "code",
   "execution_count": 8,
   "metadata": {},
   "outputs": [],
   "source": [
    "Cn = np.linspace(C_no,0.0001,1000)\n",
    "\n",
    "def rates(C):\n",
    "    Cx, Ck, Ch, Cn = C\n",
    "    rs,ro,rk,rn,rh,rx2,rc,rw = respiration(C)\n",
    "    return rx2, rs, rn\n",
    "\n",
    "r = np.asarray([rates([_,_,_,i]) for i in Cn])\n",
    "rx2, rs, rn = r[:,0], r[:,1], r[:,2] \n",
    "\n",
    "rx = rx2 + rg-rs"
   ]
  },
  {
   "cell_type": "code",
   "execution_count": 9,
   "metadata": {},
   "outputs": [
    {
     "data": {
      "image/png": "[encoded data removed]",
      "text/plain": [
       "<Figure size 432x288 with 1 Axes>"
      ]
     },
     "metadata": {
      "needs_background": "light"
     },
     "output_type": "display_data"
    }
   ],
   "source": [
    "plt.figure()\n",
    "plt.plot(Cn*MMn*1000, z*rx2/rx*100,  label = 'N-content')\n",
    "#plt.plot(Cn*MMn*1000, rx*1000*MMx/MMx,  label = 'μ')\n",
    "plt.xlabel('Concentration of NO3 (mg/L)')\n",
    "plt.ylabel('mol frac N to total biomass (%)')\n",
    "plt.legend()\n",
    "plt.show()"
   ]
  },
  {
   "cell_type": "code",
   "execution_count": 10,
   "metadata": {},
   "outputs": [
    {
     "data": {
      "image/png": "[encoded data removed]",
      "text/plain": [
       "<Figure size 432x288 with 1 Axes>"
      ]
     },
     "metadata": {
      "needs_background": "light"
     },
     "output_type": "display_data"
    }
   ],
   "source": [
    "plt.figure()\n",
    "plt.plot(Cn*MMn*1000, rx*MMx/MMx*24,  label = 'μ')\n",
    "plt.xlabel('Concentration of NO3 (mg/L)')\n",
    "plt.ylabel('Rate of growth (mg/gDM/d)')\n",
    "plt.legend()\n",
    "plt.savefig('mu_NO.png')\n",
    "plt.show()"
   ]
  },
  {
   "cell_type": "code",
   "execution_count": null,
   "metadata": {},
   "outputs": [],
   "source": []
  },
  {
   "cell_type": "code",
   "execution_count": null,
   "metadata": {},
   "outputs": [],
   "source": []
  }
 ],
 "metadata": {
  "kernelspec": {
   "display_name": "Python 3",
   "language": "python",
   "name": "python3"
  },
  "language_info": {
   "codemirror_mode": {
    "name": "ipython",
    "version": 3
   },
   "file_extension": ".py",
   "mimetype": "text/x-python",
   "name": "python",
   "nbconvert_exporter": "python",
   "pygments_lexer": "ipython3",
   "version": "3.7.1"
  }
 },
 "nbformat": 4,
 "nbformat_minor": 2
}

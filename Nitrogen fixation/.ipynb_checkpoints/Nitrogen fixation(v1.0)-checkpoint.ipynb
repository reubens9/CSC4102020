{
 "cells": [
  {
   "cell_type": "markdown",
   "metadata": {},
   "source": [
    "# <div style=\"text-align: center\"> Nitrogen Fixation: Background, Modelling and Experiments </div>"
   ]
  },
  {
   "cell_type": "markdown",
   "metadata": {},
   "source": [
    "### <div style=\"text-align: center\"> By: Yasemin de Zoete, Maria da Silva and Zelda van Staden </div>"
   ]
  },
  {
   "cell_type": "markdown",
   "metadata": {},
   "source": [
    "# The Nitrogen Cycle"
   ]
  },
  {
   "cell_type": "markdown",
   "metadata": {},
   "source": [
    "<div style=\"text-align: justify\"> Nitrogen is a crucial component for living organisms in order for them to create proteins and nucleic acids (Kuypers, Marchant & Kartal, 2018). Nitrogen is rarely found in Earth’s crust however elemental nitrogen makes up the majority of the atmosphere (Kuypers et al, 2018).  The main dilemma of the atmospheric nitrogen is that most organisms cannot use it in the unreactive ($N_{2}$) form.  The nitrogen must be converted to a usable form of nitrogen for living organisms, a process which is completely controlled by microorganisms called diazotrophs (Stein & Klotz, 2016).</div>\n"
   ]
  },
  {
   "cell_type": "markdown",
   "metadata": {},
   "source": [
    "<div>\n",
    "<img src=\"Nitrogen_cycle.jpg\" width=\"800\"/>\n",
    "</div>"
   ]
  },
  {
   "cell_type": "markdown",
   "metadata": {},
   "source": [
    "# Nitrogen Fixation"
   ]
  },
  {
   "cell_type": "markdown",
   "metadata": {},
   "source": [
    "<div style=\"text-align: justify\"> Nitrogen  fixation  is  a  process  where  dinitrogen  found  in  the  atmosphere  is  reduced  to form ammonia,  which can be used as a nitrogen source for living-organisms.  Nitrogen fixation  is  accomplished  by  prokaryotes  such  as  bacteria  and  archaea  (Stein  &  Klotz,2016).  Nitrogenase is an enzyme which causes nitrogen fixation.  First extracted in 1960, there  were  various  observations  made  that  affected  the  enzyme.   Nitrogenase  is  highly oxygen sensitive and an absence of oxygen is needed.  A reducing power source and ATP are needed. Ferrodoxin is an electron carrier for the enzyme.  Finally, $Mg^{2+}$ ions are essential (Yates, 1976).  The balanced chemical equation of nitrogen fixation is shown in Equation 1 (Kuyperset al, 2018). </div>"
   ]
  },
  {
   "cell_type": "markdown",
   "metadata": {},
   "source": [
    "<div style=\"text-align: center\">$N_{2} + 8e^{-} + 8H^{+} + 16ATP \\xrightarrow{} 2NH_{3} + H_{2} + 16ADP + 16P_{i}$</div>"
   ]
  },
  {
   "cell_type": "markdown",
   "metadata": {},
   "source": [
    "<div>\n",
    "<img src=\"Nitrogen_fixation.jpg\" width=\"700\"/>\n",
    "</div>"
   ]
  },
  {
   "cell_type": "markdown",
   "metadata": {},
   "source": [
    "## Artificial Nitrogen Fixation"
   ]
  },
  {
   "cell_type": "markdown",
   "metadata": {},
   "source": [
    "<div style=\"text-align: justify\"> The creation of ammonia from the Haber-Bosch process is one of the biggest industrial processes in the world (Ertl, 2012).  The Haber-Bosch process is shown in Equation 2.</div>"
   ]
  },
  {
   "cell_type": "markdown",
   "metadata": {},
   "source": [
    "<div style=\"text-align: center\">$N_{2} + 3H_{2} \\xrightarrow{} 2NH_{3}$</div>"
   ]
  },
  {
   "cell_type": "markdown",
   "metadata": {},
   "source": [
    "<div style=\"text-align: justify\">The Haber-Bosch process uses high-pressure and moderate-temperature conditions for the chemical reaction along with a iron catalyst, which gives the highest ammonia yield.  The Haber-Bosch process is at this time the most economical way to artificially fix nitrogenand thereby produce fertilizer (Augustyn et al,  2020).  The Haber-Bosch process is an energy intensive process using an unprecedented amount of fossil fuel energy which results in an enormous amount of $CO_{2}$ formed (Udvardi et al, 2015).  The increased use of high-nitrogen fertilizers has doubled the terrestrial amount of nitrogen because only 50 % of the nitrogen is taken up by the intended crops (Udvardi et al, 2015).</div>"
   ]
  },
  {
   "cell_type": "markdown",
   "metadata": {},
   "source": [
    "<div>\n",
    "<img src=\"Haber_Bosch.png\" width=\"800\"/>\n",
    "</div>"
   ]
  },
  {
   "cell_type": "markdown",
   "metadata": {},
   "source": [
    "# Diazotrophs"
   ]
  },
  {
   "cell_type": "markdown",
   "metadata": {},
   "source": [
    "<div style=\"text-align: justify\"> Nitrogen fixed in biological manners provide a lot of useful nitrogen to plants’ rhizo-sphere (area in close proximity to plant roots) (Prayitno & Rolfe, 2010).  Symbiotic nitrogen fixing bacteria infect the root of the plant, especially legumes, to fix the nitrogen just for that particular plant.  Free living bacteria that fix nitrogen are called diazotrophs (Mahantyet al, 2017). \n",
    "The microbe’s community has an influence on its nitrogen fixation rates, as well as the surrounding conditions (Hsu & Buckley, 2009). Less available oxygen increases the rate, while low pH decreases the rate (Hsu & Buckley, 2009). The relationship to available nitrogen is more complex and thus not fixed (Hsu & Buckley, 2009). This makes it evident that a microbe’s community will impact the nitrogen fixation, since certain organisms will consume the dissolved oxygen and thus increase the rate of fixation.\n",
    "The structure of the surrounding community becomes largely affected by pH below 5.3 (Limmer & Drake, 1996; Nelson & Mele, 2006).\n",
    "All of these factors can have affects on the nitrogen fixation rates of the biomass. To model growth and fixation accurately, as many of these factors as possible need to be taken into account.\n",
    " </div>"
   ]
  },
  {
   "cell_type": "markdown",
   "metadata": {},
   "source": [
    "# Azotobacter"
   ]
  },
  {
   "cell_type": "markdown",
   "metadata": {},
   "source": [
    "<div style=\"text-align: justify\"> Azotobacter is a sub-species of diazotrophs. The conditions under which azotobacter fix nitrogen might not be the same conditions needed for growth of more biomass. This could mean that models would perform differently for the two processes. (Bulen, Lecomte, and Bales) </div>"
   ]
  },
  {
   "cell_type": "markdown",
   "metadata": {},
   "source": [
    "<div>\n",
    "<img src=\"Azotobacter.png\" width=\"500\"/>\n",
    "</div>"
   ]
  },
  {
   "cell_type": "markdown",
   "metadata": {},
   "source": [
    "# Biofilms"
   ]
  },
  {
   "cell_type": "markdown",
   "metadata": {},
   "source": [
    "<div style=\"text-align: justify\">A biofilm is a grouping of microbes which clump together and become embedded into a matrix of substances, often a biofilm forms on a surface or on a porous or solid surfaces. Microorganisms normally tend to form biofilms rather than live in isolation as there are major benefits to live in these protected colony (Wanget al, 2017).</div>"
   ]
  },
  {
   "cell_type": "markdown",
   "metadata": {},
   "source": [
    "<div style=\"text-align: justify\">Exopolysaccharides (EPS) are large carbohydrate polymers that are made by microorganisms (Balsnelli et al, 2014).  EPSs vary in composition and structure depending on the microorganisms secreting that EPS but EPS is certainly considered as the fundamental building  block  of  a  biofilm.   Bacterial  EPS  are  normally  the  reason  for  attachment  to solid surfaces and other bacteria (Balsnelli et al, 2014).  Biofilms are extremely important in the control of energy flow, nutrient recycling and biological processes and patterns in aquatic ecosystems (Li et al, 2016).</div>"
   ]
  },
  {
   "cell_type": "markdown",
   "metadata": {},
   "source": [
    "<div style=\"text-align: justify\">The matrix is formed by extracellular polymeric substance (EPS) which is mainly made up  of  exopolysaccharides,  extracellular  DNA,  water  and  proteins  (Wang et  al,  2017). The  matrix  part  of  the  biofilm  is  built  up  to  make  all  the  nutrients  needed  for  the bacteria  available  (Sutherland,  2001).   The  matrix  is  a  continuously  changing  micro-environment which is affected by the external environment but ultimately a steady state is created.  A physical force can be applied to the biofilm that can change this steady state which can cause the biofilm to detach from surfaces.  The structure of the matrix greatly  depends  on  the  microorganisms,  the  nutrients  available  and  the environment(Sutherland, 2001). The existence of a matrix between groups of microorganisms proves to be advantageous in the following ways; there is a level of protection against environmental factors,  the  microorganism  groups  can  retain  nutrients  and  moisture  and  for  general mechanical protection (Balsnelli et al, 2014).</div>"
   ]
  },
  {
   "cell_type": "markdown",
   "metadata": {},
   "source": [
    "<div style=\"text-align: justify\">Nitrogen fixation is the only way for atmospheric nitrogen to become available to living organisms.  Biofilms is a location where nitrogen cycling can occur in aquatic ecosystems (Li et al,  2016). The  enzyme  nitrogenase,  which  catalyses  nitrogen  fixation,  is  highly oxygen sensitive and because of this many anti-oxygen mechanisms have been formed in nitrogen fixing bacteria (Wang et al, 2017).  In order for free-living bacteria in an aerobic environment to fix nitrogen a great emphasis must be placed on the carbon and nitrogen sources available.  Studies were done where there was a deficient and excessive amount of inorganic nitrogen.  It was found that the amount of nitrogen plays an important part on the structure, physiology and the diversity of the biofilm (Li et al, 2016).  The biomass of the nitrogen deficient biome was significantly lower while the diversity in the biofilm was significantly higher (Liet al, 2016).  It has been found that when adequate carbon sources are available while restricting the nitrogen source nitrogen fixation occurs in a biofilm (Wang et al, 2017).</div>"
   ]
  },
  {
   "cell_type": "markdown",
   "metadata": {},
   "source": [
    "<div style=\"text-align: justify\">Non-cyanobacterial diazotrophs (NCDs) are a type of bacteria abundant in marine life which perform nitrogen fixation (Pedersen et al, 2018).  Research has gone into under-standing  how  NCDs  can  perform  nitrogen  fixation  in  the  presence  of  oxygen.   Somenon-marine NCDs create an anti-oxygen layer made of extracellular polymers, but this strategy uses a large amount of energy and is not efficient enough to be a viable method. It was noticed that colonies became visible on filter surfaces creating a biofilm.  Nitrogen fixation rates were correlating with the amount of natural external particles in the medium. It  was  noted  that  high  levels  of  nitrogen  fixation  could  occur  in  a  sediment layer,  even  when  that  sediment  was  suspended  in  a  liquid  (Pedersenet al,  2018). An experiment was done with artificial surfaces to note if the NCDs could also colonise these surfaces and it was found that they were secondary colonizers, there were other bacteria that dominated the artificial surface before the NCDs, this is because the NCDs greatly depend on the conditions of the surroundings, a primary colony must first condition the environment for them to thrive (Pedersenet al, 2018).</div>"
   ]
  },
  {
   "cell_type": "markdown",
   "metadata": {},
   "source": [
    "# Modelling"
   ]
  },
  {
   "cell_type": "code",
   "execution_count": 1,
   "metadata": {},
   "outputs": [],
   "source": [
    "import numpy as np\n",
    "import scipy.integrate as sp\n",
    "import pandas\n",
    "import matplotlib.pyplot as plt\n",
    "from ipywidgets import widgets, interact"
   ]
  },
  {
   "cell_type": "markdown",
   "metadata": {},
   "source": [
    "## Importing Data"
   ]
  },
  {
   "cell_type": "code",
   "execution_count": 2,
   "metadata": {},
   "outputs": [],
   "source": [
    "data_set1 = pandas.read_excel('Pure_culture_data.xlsx', sheet_name = 'Bali')\n",
    "df1 = pandas.DataFrame(data_set1, columns=['Time','Growth (KLETTZ)','Growth (OD600)','pH','Ammonia','Biomass (cells/mL)','Sucrose (mmol/L)','Biomass (g/L)','Biomass'])\n",
    "t1,ph1,x1,a1 = df1.Time,df1.pH,df1.Biomass,df1.Ammonia"
   ]
  },
  {
   "cell_type": "markdown",
   "metadata": {},
   "source": [
    "## Stoiciometry"
   ]
  },
  {
   "cell_type": "markdown",
   "metadata": {},
   "source": [
    "<div style=\"text-align: justify\">Using a C,H,O,N balance, a basis, and an assumption, a matrix could be solved to give the microbial growth reaction (aerobic):</div>"
   ]
  },
  {
   "cell_type": "markdown",
   "metadata": {},
   "source": [
    "<div style=\"text-align: center\">$ Sucrose + v O2 + w NH3 \\xrightarrow{} x X + y CO2 + z H2O $ </div>"
   ]
  },
  {
   "cell_type": "markdown",
   "metadata": {},
   "source": [
    "<div style=\"text-align: justify\">The biological nitrogen fixation (BNF) could be described with the following equation: </div>"
   ]
  },
  {
   "cell_type": "markdown",
   "metadata": {},
   "source": [
    "<div style=\"text-align: center\">$N_{2} + 8 H^{+} \\xrightarrow{} 2 NH_{4}+$ (OR  $2 NH_{3} + H_{2}$) </div>"
   ]
  },
  {
   "cell_type": "markdown",
   "metadata": {},
   "source": [
    "<div style=\"text-align: justify \">Using the pH, we can find the ratio of $NH_{3}$ and $NH_{4}^{+}$, one must note that using the data we can calculate how much $NH_{3}$ there initially was: </div>"
   ]
  },
  {
   "cell_type": "markdown",
   "metadata": {},
   "source": [
    "<div style=\"text-align: center\">$NH_{3} + H_{2}O <=> NH_{4}+ + OH^{-} $</div>"
   ]
  },
  {
   "cell_type": "markdown",
   "metadata": {},
   "source": [
    "<div style=\"text-align: center\">$pOH = 14 - pH = - log([OH^{-}])$</div>"
   ]
  },
  {
   "cell_type": "markdown",
   "metadata": {},
   "source": [
    "<div style=\"text-align: center\">$Kb = [OH^{-}]x[NH_{4}^{+}]/[NH_{3}]$</div>"
   ]
  },
  {
   "cell_type": "markdown",
   "metadata": {},
   "source": [
    "<div style=\"text-align: center\">$K_{w} = K_{b}K_{a}$</div>"
   ]
  },
  {
   "cell_type": "markdown",
   "metadata": {},
   "source": [
    "<div style=\"text-align: justify\"> Where $K_{w}$ and $K_{a}$ are constants. </div>"
   ]
  },
  {
   "cell_type": "code",
   "execution_count": 3,
   "metadata": {},
   "outputs": [],
   "source": [
    "Ka = 5.6e-10\n",
    "Kw = 1e-14\n",
    "Kb = Kw/Ka"
   ]
  },
  {
   "cell_type": "markdown",
   "metadata": {},
   "source": [
    "<div style=\"text-align: justify\">Some constants used to create the model include $K_{m}$ as the monod constant and $C_{a1} ^{*}$ is the inhibition constant. $\\alpha$ is related to the stoichiometry of the process, it is a relationship between the final amount of biomass and glucose amount. $A$ is the carrying capcity, the highest value reached on the y-axis and finally $m$ is a constant\n",
    "</div>"
   ]
  },
  {
   "cell_type": "code",
   "execution_count": 4,
   "metadata": {},
   "outputs": [],
   "source": [
    "Km = 0.01\n",
    "α = 0.073 \n",
    "m = 0.4 \n",
    "Ca1_star = 0.7\n",
    "A = x1[11] "
   ]
  },
  {
   "cell_type": "markdown",
   "metadata": {},
   "source": [
    "## Modelling a Data set"
   ]
  },
  {
   "cell_type": "markdown",
   "metadata": {},
   "source": [
    "<div style=\"text-align: justify\"> There are numerous growth models one can use to model the growth of bacteria, although some work better for certain data sets than others. Below you can choose a model you would like to fit the data to and vary the $\\mu$ and $\\beta$ values to get the best fit. For simplicity a first order growth model was used as using higher order ones did not seem to make much of a difference. It can be concluded that the more biomass created the more ammonia will be present that is why the ammonia is a function of the biomass and the growth rate of the biomass. </div>\n"
   ]
  },
  {
   "cell_type": "code",
   "execution_count": 5,
   "metadata": {},
   "outputs": [],
   "source": [
    "def ModelSet(TypeOfModel,mu_max,β_max):\n",
    "    def growth_function(C,t): \n",
    "        Cx,Cs,Ca1 = C #Biomass, sucrose, NH4+\n",
    "\n",
    "        #Various models: Uncomment to select\n",
    "        if TypeOfModel == 'Brody':\n",
    "            mu1 = mu_max*(A/Cx-1) #Brody\n",
    "            β1 = β_max\n",
    "            mu = mu1\n",
    "            \n",
    "        if TypeOfModel == 'Gompertz':\n",
    "            mu1 = mu_max*np.log(A/Cx)\n",
    "            β1 = β_max\n",
    "            mu = mu1\n",
    "            \n",
    "        if TypeOfModel == 'Logistic':\n",
    "            mu1 = mu_max*(A-Cx)/A\n",
    "            β1 = β_max\n",
    "            mu = mu1\n",
    "            \n",
    "        if TypeOfModel == 'Monod':\n",
    "            mu1 = mu_max*Cs/(Km+Cs)*(1-Ca1/Ca1_star) \n",
    "            β1 = β_max\n",
    "            mu = mu1\n",
    "            \n",
    "        if TypeOfModel == 'Richard':\n",
    "            mu1 = mu_max*((A/Cx)**(1-m)-1)/(1-m)\n",
    "            β1 = β_max\n",
    "            mu = mu1\n",
    "        \n",
    "        \n",
    "        \n",
    "\n",
    "        M = np.matrix([[-1,0,0,1,1,0],      #C\n",
    "                  [-22/12,-3,0,1.8,0,2],    #H\n",
    "                  [-11/12,0,-2,0.5,2,1],    #O\n",
    "                  [0,-1,0,0.2,0,0],         #M\n",
    "                  [1,0,0,0,0,0],            #BASIS\n",
    "                  [0,0,0,1,0,0]])           #ASSUMPTION\n",
    "        C = np.matrix([0,0,0,0,1,α]).T\n",
    "        r = np.linalg.solve(M,C)      \n",
    "\n",
    "        if mu < 0: #No negative growth\n",
    "            mu = 0\n",
    "\n",
    "\n",
    "        if t < 3: #Time delay\n",
    "            mu = 0\n",
    "\n",
    "        if t<7: #Time delay\n",
    "            β1 = 0\n",
    "\n",
    "        else:\n",
    "            mu = mu1\n",
    "            β1 = β1\n",
    "\n",
    "        if Cs <= 1e-8:\n",
    "            dCs = 0\n",
    "            dCx = 0\n",
    "            dCa1 = 0\n",
    "\n",
    "        else:    \n",
    "            dCx = mu*Cx               #Biomass production\n",
    "            dCs = -r[0]/r[3]*mu*Cx    #Glucose consumption\n",
    "            dCa1 = β1*mu*Cx           #TFirst order reaction\n",
    "\n",
    "        return dCx,dCs,dCa1\n",
    "    \n",
    "    C0 = [x1[0],720,a1[0]] #Sucrose in cmol\n",
    "    tspan = np.linspace(0,t1[11],267)\n",
    "    C = sp.odeint(growth_function, C0, tspan)\n",
    "    Cx, Cs,Ca1 = C.T\n",
    "    \n",
    "    plt.plot(tspan, Cx, 'g', label = 'Model of growth')#,tspan,Cs)\n",
    "    plt.plot(t1,x1,'ko', label = 'Biomass data points')\n",
    "    #plt.plot(t1[11],x1[11],'ro')\n",
    "    plt.xlabel('Time [s]')\n",
    "    plt.ylabel('Biomass Growth OD660')\n",
    "    plt.legend()\n",
    "    plt.show()\n",
    "    \n",
    "    plt.plot(t1,a1,'ko', label = 'Ammonia data points')\n",
    "    plt.plot(tspan,Ca1,'m', label = 'Model of ammonia production')\n",
    "    plt.xlabel('Time [s]')\n",
    "    plt.ylabel('Ammonia amount')\n",
    "    plt.legend()\n",
    "    plt.show()\n",
    "    \n",
    "    errorsum_s = 0\n",
    "    errorsum_a = 0\n",
    "    for i in np.arange(0,len(t1),1):\n",
    "        for j in np.arange(0,len(tspan),1):\n",
    "            if abs(tspan[j] - t1[i]) < 0.05:\n",
    "                error_s = abs(x1[i]-Cx[j])\n",
    "                error_a = abs(a1[i]-Ca1[j])\n",
    "\n",
    "            else:\n",
    "                error_s = 0\n",
    "                error_a = 0\n",
    "\n",
    "        errorsum_s = errorsum_s + error_s\n",
    "        errorsum_a = errorsum_a + error_a\n",
    "\n",
    "    print(\"Biomass fitting error=\", round(errorsum_s, 3))\n",
    "    print(\"Ammonia fitting error=\", round(errorsum_a,3))"
   ]
  },
  {
   "cell_type": "code",
   "execution_count": 6,
   "metadata": {},
   "outputs": [
    {
     "data": {
      "application/vnd.jupyter.widget-view+json": {
       "model_id": "7179fb8bf788442d9a24b10a648e4739",
       "version_major": 2,
       "version_minor": 0
      },
      "text/plain": [
       "interactive(children=(Dropdown(description='TypeOfModel', options=('Brody', 'Gompertz', 'Logistic', 'Monod', '…"
      ]
     },
     "metadata": {},
     "output_type": "display_data"
    },
    {
     "data": {
      "text/plain": [
       "<function __main__.ModelSet(TypeOfModel, mu_max, β_max)>"
      ]
     },
     "execution_count": 6,
     "metadata": {},
     "output_type": "execute_result"
    }
   ],
   "source": [
    "interact(ModelSet,TypeOfModel= ['Brody','Gompertz', 'Logistic', 'Monod', 'Richard'],mu_max = (0,1.0, 0.01),β_max=(0,1.0, 0.01))"
   ]
  },
  {
   "cell_type": "markdown",
   "metadata": {},
   "source": [
    "# Experiment"
   ]
  },
  {
   "cell_type": "markdown",
   "metadata": {},
   "source": [
    "<div style=\"text-align: justify\">A number of experiments were done using shaker flasks and various soil samples and combinations of soil samples in a solution or with packing which promotes the biofilm formation. The aim of the experiment was to record the growth, glucose comsumption and pH of these different samples and determine which conditions promote growth the most. </div>"
   ]
  },
  {
   "cell_type": "markdown",
   "metadata": {},
   "source": [
    "<div>\n",
    "<img src=\"shaker_flask_solution.jpg\" width=\"500\"/>\n",
    "</div>"
   ]
  },
  {
   "cell_type": "code",
   "execution_count": 7,
   "metadata": {},
   "outputs": [],
   "source": [
    "def growth_function(C,t): #All experiments were done in a batch fermenter\n",
    "    Cx,Cs,Ca1 = C #Biomass, sucrose, NH4+\n",
    "\n",
    "    mu1 = mu_max_gomp*np.log(A/Cx) #Gompertz\n",
    "\n",
    "    mu = mu1\n",
    "\n",
    "    β1 = βmax_gomp\n",
    "\n",
    "    \n",
    "    M = np.matrix([[-1,0,0,1,1,0], #C\n",
    "              [-22/12,-3,0,1.8,0,2], #H\n",
    "              [-11/12,0,-2,0.5,2,1], #O\n",
    "              [0,-1,0,0.2,0,0], #M\n",
    "              [1,0,0,0,0,0], #BASIS\n",
    "              [0,0,0,1,0,0]])  #ASSUMPTION\n",
    "    C = np.matrix([0,0,0,0,1,α]).T\n",
    "    r = np.linalg.solve(M,C)      \n",
    "    \n",
    "    if mu < 0: #No negative growth\n",
    "        mu = 0\n",
    "        \n",
    "    \n",
    "    if t < 5: #Time delay\n",
    "        mu = 0\n",
    "\n",
    "    if t<7: #Time delay\n",
    "        β1 = 0\n",
    "        \n",
    "    else:\n",
    "        mu = mu1\n",
    "        β1 = β1\n",
    "    \n",
    "    if Cs <= 1e-8:\n",
    "        dCs = 0\n",
    "        dCx = 0\n",
    "        dCa1 = 0\n",
    "        \n",
    "    else:    \n",
    "        dCx = mu*Cx #Biomass production\n",
    "        dCs = -r[0]/r[3]*mu*Cx #Glucose consumption\n",
    "        dCa1 = β1*mu*Cx\n",
    "    \n",
    "    return dCx,dCs,dCa1"
   ]
  },
  {
   "cell_type": "markdown",
   "metadata": {},
   "source": [
    "### Solution Experiment"
   ]
  },
  {
   "cell_type": "code",
   "execution_count": null,
   "metadata": {},
   "outputs": [],
   "source": []
  },
  {
   "cell_type": "markdown",
   "metadata": {},
   "source": [
    "### Biofilm Experiment"
   ]
  },
  {
   "cell_type": "markdown",
   "metadata": {},
   "source": [
    "<div>\n",
    "<img src=\"shaker_flask_biofilm.jpg\" width=\"500\"/>\n",
    "</div>"
   ]
  },
  {
   "cell_type": "code",
   "execution_count": 8,
   "metadata": {},
   "outputs": [],
   "source": [
    "data_M = pandas.read_excel('Consortia_data.xlsx', sheet_name = 'Maria_exp')\n",
    "dfM = pandas.DataFrame(data_M, columns=['Time','pH1','A1','B1','G1','pH2','A2','B2','G2','pH3','A3','B3','G3','pH4','A4','B4','G4','pH5','A5','B5','G5','pH6','A6','B6','G6'])"
   ]
  },
  {
   "cell_type": "code",
   "execution_count": 9,
   "metadata": {},
   "outputs": [],
   "source": [
    "t1m,ph1m,x1m,g1m = dfM.Time,dfM.pH1,dfM.B1,dfM.G1\n",
    "t2m,ph2m,x2m,g2m = dfM.Time,dfM.pH2,dfM.B2,dfM.G2\n",
    "t3m,ph3m,x3m,g3m = dfM.Time,dfM.pH3,dfM.B3,dfM.G3\n",
    "t4m,ph4m,x4m,g4m = dfM.Time,dfM.pH4,dfM.B4,dfM.G4\n",
    "t5m,ph5m,x5m,g5m = dfM.Time,dfM.pH5,dfM.B5,dfM.G5\n",
    "t6m,ph6m,x6m,g6m = dfM.Time,dfM.pH6,dfM.B6,dfM.G6    "
   ]
  },
  {
   "cell_type": "markdown",
   "metadata": {},
   "source": [
    "<div style=\"text-align: justify\"> The $\\beta _{max}$  used was calculated from the first three data sets used to create the growth model. These experiments were done using soil samples and thus natural innoculants. An assumption was made that the ammonia production of the experiments would be closer to the first three data sets rather than an experiment in which the maximum amount of ammonia production possible is expected.</div>"
   ]
  },
  {
   "cell_type": "code",
   "execution_count": 10,
   "metadata": {},
   "outputs": [],
   "source": [
    "mu_max_gomp = 0.12\n",
    "βmax_gomp = 0.25 #Based on higher Biomass growth\n",
    "α = x1m[7]/g1m[0] #Guess the stoichiometry\n",
    "A = x1m[7] #Maximum carrying capacity\n",
    "\n",
    "\n",
    "C0 = [x1m[0],g1m[0],0] #Sucrose in cmol - assumed no ammonia present initially\n",
    "tspan = np.linspace(0,t1m[7],916)\n",
    "C = sp.odeint(growth_function, C0, tspan)\n",
    "Cx, Cs,Ca1 = C.T"
   ]
  },
  {
   "cell_type": "code",
   "execution_count": 11,
   "metadata": {},
   "outputs": [
    {
     "data": {
      "image/png": "[encoded data removed]",
      "text/plain": [
       "<Figure size 432x288 with 1 Axes>"
      ]
     },
     "metadata": {
      "needs_background": "light"
     },
     "output_type": "display_data"
    }
   ],
   "source": [
    "plt.plot(tspan,Cx, label ='Cx')\n",
    "plt.plot(tspan,Cs, label = 'Cs')\n",
    "plt.plot(tspan,Ca1, label = 'Ca1')\n",
    "plt.plot(t1m,x1m,'o', label = 'X')\n",
    "plt.plot(t1m,g1m,'o', label = 'S')\n",
    "plt.legend(loc='best')\n",
    "plt.title('Sample 1')\n",
    "plt.xlabel('Time [h]')\n",
    "plt.show()"
   ]
  },
  {
   "cell_type": "code",
   "execution_count": null,
   "metadata": {},
   "outputs": [],
   "source": []
  },
  {
   "cell_type": "markdown",
   "metadata": {},
   "source": [
    "# References"
   ]
  },
  {
   "cell_type": "code",
   "execution_count": null,
   "metadata": {},
   "outputs": [],
   "source": []
  }
 ],
 "metadata": {
  "kernelspec": {
   "display_name": "Python 3",
   "language": "python",
   "name": "python3"
  },
  "language_info": {
   "codemirror_mode": {
    "name": "ipython",
    "version": 3
   },
   "file_extension": ".py",
   "mimetype": "text/x-python",
   "name": "python",
   "nbconvert_exporter": "python",
   "pygments_lexer": "ipython3",
   "version": "3.7.3"
  }
 },
 "nbformat": 4,
 "nbformat_minor": 2
}

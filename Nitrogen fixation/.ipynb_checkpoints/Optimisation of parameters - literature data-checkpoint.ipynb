{
 "cells": [
  {
   "cell_type": "markdown",
   "metadata": {},
   "source": [
    "# Comparing models:\n",
    "\n",
    "The growth functions for various literature data sets were optimised in terms of their absolute error sums. Five different models were utilised to fit bacterial growth data and a linear function was applied to model the ammonia production. Each of the models assumed the theoretical ATP requirement applied and thus, results might differ when the energy demand is changed. The model with the overall best fit was found to be the logistic model as it fit each data set sufficiently. The logistic model was selected for the modelling of consortia data that was generated experimentally."
   ]
  },
  {
   "cell_type": "markdown",
   "metadata": {},
   "source": [
    "### Data set 1: Optimized parameters\n",
    "\n",
    "| Model |$\\mu_{max}$|$\\beta$| $\\sum{Error_{X}}$|$\\sum{Error_{NH4}}$|\n",
    "| ---- | ---- | ---- | ---- | ---- |\n",
    "| Monod | 0.28 | 0.02|1.77| 2.2 x $10^{-7}$ |\n",
    "| Brody | 0.20 | 0.02 |5.96 |3.5 x $10^{-8}$ |\n",
    "| Richards | 0.24 | 0.02 |5.23|3.8 x $10^{-10}$ |\n",
    "| Logistic | 0.50 | 0.02 |2.15| 8.5 x $10^{-8}$ |\n",
    "| Gompertz | 0.33 | 0.02 |3.67|1.4 x $10^{-8}$ |"
   ]
  },
  {
   "cell_type": "markdown",
   "metadata": {},
   "source": [
    "### Data set 2: Optimized parameters\n",
    "\n",
    "| Model | $\\mu_{max}$ | $\\beta$| $\\sum{Error_{X}}$| $\\sum{Error_{NH4}}$|\n",
    "| --- | --- | --- | --- | --- |\n",
    "| Monod | 0.13 | 0.005|20.62|4.41 x $10^{-7}$|\n",
    "| Brody | 0.04 | 0.0012 |10.67|1.6 x $10^{-6}$|\n",
    "| Richards | 0.055 | 0.0012 |5.10|6.4 x $10^{-7}$|\n",
    "| Logistic | 0.25 | 0.0014 |0.00 | 9.3 x $10^{-7}$|\n",
    "| Gompertz | 0.12 | 0.001 |0.04|1.2 x $10^{-7}$|"
   ]
  },
  {
   "cell_type": "markdown",
   "metadata": {},
   "source": [
    "### Data set 3: Optimized parameters\n",
    "\n",
    "| Model | $\\mu_{max}$ | $\\beta$| $\\sum{Error_{X}}$| $\\sum{Error_{NH4}}$|\n",
    "| --- | --- | --- | --- | --- |\n",
    "| Monod | 0.21 | 0.0062|10.54| 2.0|\n",
    "| Brody | 0.05 | 0.003 |39.65|2.0|\n",
    "| Richards | 0.08 | 0.0012 |24.06|2.0|\n",
    "| Logistic | 0.25 | 0.0045 |18.97|2.0|\n",
    "| Gompertz | 0.10 | 0.004 |42.22|2.0|"
   ]
  }
 ],
 "metadata": {
  "kernelspec": {
   "display_name": "Python 3",
   "language": "python",
   "name": "python3"
  },
  "language_info": {
   "codemirror_mode": {
    "name": "ipython",
    "version": 3
   },
   "file_extension": ".py",
   "mimetype": "text/x-python",
   "name": "python",
   "nbconvert_exporter": "python",
   "pygments_lexer": "ipython3",
   "version": "3.7.3"
  }
 },
 "nbformat": 4,
 "nbformat_minor": 4
}

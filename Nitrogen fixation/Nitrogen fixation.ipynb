{
 "cells": [
  {
   "cell_type": "markdown",
   "metadata": {},
   "source": [
    "# <div style=\"text-align: center\"> Nitrogen Fixation: Background, Modelling and Experiments </div>"
   ]
  },
  {
   "cell_type": "markdown",
   "metadata": {},
   "source": [
    "### <div style=\"text-align: center\"> By: Yasemin de Zoete, Maria da Silva and Zelda van Staden </div>"
   ]
  },
  {
   "cell_type": "markdown",
   "metadata": {},
   "source": [
    "# 1. Introduction"
   ]
  },
  {
   "cell_type": "markdown",
   "metadata": {},
   "source": [
    "<div style=\"text-align: justify\"> With an ever growing population the agricultural industry's demand for food production is increasing. A large portion of the stress to the environment is the demand for nitrogen-rich fertilizers used in agriculture, as nitrogen is a crucial element used during growth. The inefficient usage of the fertilizer means that some is lost to underground water through a process called leaching. The fertilizer that is lost in this way enters natural water bodies and causes the uncontrolled growth of algae which has a destructive effect on the natural eco system. </div>"
   ]
  },
  {
   "cell_type": "markdown",
   "metadata": {},
   "source": [
    "<div style=\"text-align: justify\"> The main industrial process used to create fertilizers is the Haber-Bosch process, which is one of the most taxing processes in the world which contributes to climate change due to its incredible energy requirements. An alternative to this artificial way of creating fertilizers is to turn to micororganisms. Nitrogen fixation is the process which converts atmospheric nitrogen into ammonia, a form of nitrogen that plants can absorb. The micororganisms that fixate nitorgen are known as diazotrophs and are found everywhere in nature.  </div>"
   ]
  },
  {
   "cell_type": "markdown",
   "metadata": {},
   "source": [
    "<div style=\"text-align: justify\"> The vision of the diazoponics group at the University of Pretoria is to utilize diazotrophs to create a nitrogen rich fertilizer for hydroponic systems. The use of the hydroponic system is also an improvement on the traditional form of farming since leaching does not occur and there is a lot more control over what exits this closed system. The diazotrophs will be grown in a bio-reactor and the reactive forms of nitrogen that they produce will feed the growth of the plants. The most important part of this plan is that the diazotrophs will not be given any nitrogen sources through the medium in which they are grown. The system will be aerobic and the only source of nitrogen for the organisms will be the unreactive atmospheric nitrogen. </div>"
   ]
  },
  {
   "cell_type": "markdown",
   "metadata": {},
   "source": [
    "<div style=\"text-align: justify\"> Experiments were carried out to test the hypothesis of being able to grow micro-organisms in a nitrogen free medium . The experiments were also designed to help us understand the growth and behaviour of these diazotrophs and how they could one day be used to naturally fixate nitrogen and commercially be used to create fertilizer. For this we need to understand how the nitrogen cycle as a whole works, as well as the smaller processes included in the cycle. To be able to utilise the microbes in the process for fertilizer production, it is necessary to understand how they grow and how they produce the products we need. This will be done by looking at data from research experiments using pure cultures of diazotrophs like the $Azotobacter$ and modelling the processes mathematically. To test the mathematical models we did our own experiments, producing new data to see whether the models could predict the growth and production for cultures that are not pure.  </div>"
   ]
  },
  {
   "cell_type": "markdown",
   "metadata": {},
   "source": [
    "# 2. The Nitrogen Cycle"
   ]
  },
  {
   "cell_type": "markdown",
   "metadata": {},
   "source": [
    "<div>\n",
    "<img src=\"Nitrogen_cycle.jpg\" width=\"800\" /> \n",
    "</div>"
   ]
  },
  {
   "cell_type": "markdown",
   "metadata": {},
   "source": [
    "<div style=\"text-align: justify\"> The nitrogen cycle converts nitrogen into various chemical forms through biological and physical processes. Humans have had a significant impact on the cycle through processes like the combustion of fossil fuels that release $NO_x$ gases to the atmosphere and the Haber-Bosch process used to create fertiliser<a href=\"https://link-springer-com.uplib.idm.oclc.org/article/10.1007/s10533-004-0370-0\">(Galloway et al, 2004)</a>. </div>"
   ]
  },
  {
   "cell_type": "markdown",
   "metadata": {},
   "source": [
    "<div style=\"text-align: justify\"> Nitrogen in its reactive form is a crucial component for living organisms to create proteins and nucleic acids <a href=\"https://www.nature.com/articles/nrmicro.2018.9\">(Kuypers, 2018)</a>. Nitrogen is rarely found in Earth’s crust, however elemental nitrogen makes up the majority of the atmosphere <a href=\"https://www.nature.com/articles/nrmicro.2018.9\">(Kuypers, 2018)</a>.  The main dilemma of the atmospheric nitrogen is that most organisms cannot use it in the unreactive dinitrogen ($N_{2}$) form.  The nitrogen must be converted to a usable, more reactive form for living organisms.</div>"
   ]
  },
  {
   "cell_type": "markdown",
   "metadata": {},
   "source": [
    "<div style=\"text-align: justify\"> The natural form of this process is controlled by microorganisms called diazotrophs <a href=\"https://pubmed.ncbi.nlm.nih.gov/26859274/\">(Stein, 2016)</a>, and an artificial method of nitrogen fixation was developed and is called the Haber-Bosch process. This process is energy intensive and an updated, environmentally friendly method is necessary to avoid the negative effects of Haber-Bosch. Diazotrophs and the Haber-Bosch process both produce ammonium which is assimilated by plants for growth. This means it is crucial for agriculture. A very important engineering problem in the current age is how to control the nitrogen cycle. The research in this document is focused on utilizing diazotrophs to do the heavy lifting of fixing the stable $N_2$ into ammonium. The aim is to manipulate their surroundings to maximise the amount of nitrogen that they would fix. </div>"
   ]
  },
  {
   "cell_type": "markdown",
   "metadata": {},
   "source": [
    "<div style=\"text-align: justify\"> Lightning is one of the few natural phenomena with enough energy to also fix the ureactive nitrogen found in the atmosphere. The products of this fixation are nitrogen oxide gases ($NO_x$). Fires also add to the nitrogen oxide gas in the atmosphere. These oxides are deposited on the earth's surface during rainfall and the $NO_3$ is consumed by microbes as discussed in the next paragraph.  </div>"
   ]
  },
  {
   "cell_type": "markdown",
   "metadata": {},
   "source": [
    "<div style=\"text-align: justify\">  Ammonium is also consumed by microbes during nitrification to produce nitrate ($NO_3$). This nitrate is utilised by microbes to produce nitrous oxide ($N_2O$), which is a very potent greenhouse gas as resported by the UNFCC <a href=\"https://unfccc.int/process/transparency-and-reporting/greenhouse-gas-data/greenhouse-gas-data-unfccc/global-warming-potentials\">here</a>, it has approximately 300 times the warming potential that $CO_2$ has. The nitrification process also creates the unwanted $N_2O$. For this reason it is crucial for plants to assimilate as much ammonium as possible to reduce the amount that enters the nitrification process. At present the efficiency of crops is very low and a lot of research has been done in the past 50 years to improve this, but a lot still needs to be done to improve this situation<a href=\"https://ebookcentral-proquest-com.uplib.idm.oclc.org/lib/pretoria-ebooks/reader.action?docID=1108694\">(Rengel, 2013)</a>. A staggering amount of ammonium is then left to nitrification and leaching which have detrimental environmental impacts.</div>"
   ]
  },
  {
   "cell_type": "markdown",
   "metadata": {},
   "source": [
    "<div style=\"text-align: justify\"> The excretions of animals decompose, forming ammonia gas. The ammonia is then deposited via rain. The rest of the excrement becomes part of earth in the form of organic nitrogen which can be converted to ammonium via the process of ammonification.   </div>"
   ]
  },
  {
   "cell_type": "markdown",
   "metadata": {},
   "source": [
    "# 3. Nitrogen Fixation"
   ]
  },
  {
   "cell_type": "markdown",
   "metadata": {},
   "source": [
    "<div style=\"text-align: justify\"> Nitrogen  fixation  is  a  process  where  dinitrogen  found  in  the  atmosphere  is  reduced  to form ammonia,  which can be used as a nitrogen source for living-organisms.  Nitrogen fixation  is  accomplished  by  prokaryotes  such  as  bacteria  and  archaea  <a href=\"https://pubmed.ncbi.nlm.nih.gov/26859274/\">(Stein, 2016)</a>.  Nitrogenase is an enzyme which causes nitrogen fixation.  First extracted in 1960, there  were  various  observations  made  that  affected  the  enzyme.   Nitrogenase  is  highly oxygen sensitive and an absence of oxygen is needed.  A reducing power source and ATP are needed. Ferrodoxin is an electron carrier for the enzyme.  Finally, $Mg^{2+}$ ions are essential <a href=\"https://www-sciencedirect-com.uplib.idm.oclc.org/science/article/pii/0968000476902590\">(Yates, 1976)</a>.  The balanced chemical equation of nitrogen fixation is shown in the equation below <a href=\"https://www.nature.com/articles/nrmicro.2018.9\">(Kuypers, 2018)</a>. </div>"
   ]
  },
  {
   "cell_type": "markdown",
   "metadata": {},
   "source": [
    "<div style=\"text-align: center\">$N_{2} + 8e^{-} + 8H^{+} + 16ATP \\xrightarrow{} 2NH_{3} + H_{2} + 16ADP + 16P_{i}$</div>"
   ]
  },
  {
   "cell_type": "markdown",
   "metadata": {},
   "source": [
    "<div>\n",
    "<img src=\"Nitrogen_fixation.jpg\" width=\"700\"/>\n",
    "</div>"
   ]
  },
  {
   "cell_type": "markdown",
   "metadata": {},
   "source": [
    "<img src=\"Nitrogen breaking animation.gif\" width=\"350\" align=\"center\">"
   ]
  },
  {
   "cell_type": "markdown",
   "metadata": {},
   "source": [
    "## 3.1. Artificial Nitrogen Fixation"
   ]
  },
  {
   "cell_type": "markdown",
   "metadata": {},
   "source": [
    "<div style=\"text-align: justify\"> The creation of ammonia from the Haber-Bosch process is one of the biggest industrial processes in the world <a href=\"https://onlinelibrary.wiley.com/doi/abs/10.1002/zaac.201190458\">(Ertl, 2012)</a>.  The Haber-Bosch process is shown in the equation below.</div>"
   ]
  },
  {
   "cell_type": "markdown",
   "metadata": {},
   "source": [
    "<div style=\"text-align: center\">$N_{2} + 3H_{2} \\xrightarrow{} 2NH_{3}$</div>"
   ]
  },
  {
   "cell_type": "markdown",
   "metadata": {},
   "source": [
    "<div style=\"text-align: justify\">The Haber-Bosch process uses high-pressure and moderate-temperature conditions for the chemical reaction along with an iron catalyst, which gives the highest ammonia yield.  The Haber-Bosch process is at this time the most economical way to artificially fix nitrogen and thereby produce fertilizer <a href=\"https://www.britannica.com/technology/Haber-Bosch-process\">(Augustyn,  2020)</a>.  The Haber-Bosch process is an energy intensive process using an unprecedented amount of fossil fuel energy which results in an enormous amount of $CO_{2}$ formed <a href=\"https://www.sciencedirect.com/science/article/pii/S1878029615005526\">(Udvardi, 2015)</a>.  The increased use of nitrogen-rich fertilizers has doubled the terrestrial amount of nitrogen because only 50 % of the nitrogen is taken up by the intended crops <a href=\"https://www.sciencedirect.com/science/article/pii/S1878029615005526\">(Udvardi, 2015)</a>.</div>"
   ]
  },
  {
   "cell_type": "markdown",
   "metadata": {},
   "source": [
    "<div>\n",
    "<img src=\"Haber_Bosch.png\" width=\"800\"/>\n",
    "</div>"
   ]
  },
  {
   "cell_type": "markdown",
   "metadata": {},
   "source": [
    "# 4. Diazotrophs"
   ]
  },
  {
   "cell_type": "markdown",
   "metadata": {},
   "source": [
    "<div style=\"text-align: justify\"> Nitrogen fixed in biological manners provide a lot of useful nitrogen to plants’ rhizo-sphere (area in close proximity to plant roots) <a href=\"https://www.sciencedirect.com/science/article/pii/S1978301916302145?via%3Dihub\">(Prayitno, 2010)</a>.  Symbiotic nitrogen fixing bacteria infect the root of the plant, especially legumes, to fix the nitrogen just for that particular plant.  Free living bacteria that fix nitrogen are called diazotrophs <a href=\"https://link-springer-com.uplib.idm.oclc.org/article/10.1007/s11356-016-8104-0\">(Mahanty, 2017)</a>. \n",
    "The microbe’s community has an influence on its nitrogen fixation rates, as well as the surrounding conditions <a href=\"https://search-proquest-com.uplib.idm.oclc.org/docview/1029886317?OpenUrlRefId=info:xri/sid:wcdiscovery&accountid=14717\">(Hsu, 2009)</a>. Less available oxygen increases the rate, while low pH decreases the rate <a href=\"https://search-proquest-com.uplib.idm.oclc.org/docview/1029886317?OpenUrlRefId=info:xri/sid:wcdiscovery&accountid=14717\">(Hsu, 2009)</a>. The relationship to available nitrogen is more complex and thus not fixed <a href=\"https://search-proquest-com.uplib.idm.oclc.org/docview/1029886317?OpenUrlRefId=info:xri/sid:wcdiscovery&accountid=14717\">(Hsu & Buckley, 2009)</a>. This makes it evident that a microbe’s community will impact the nitrogen fixation, since certain organisms will consume the dissolved oxygen and thus increase the rate of fixation.\n",
    "The structure of the surrounding community becomes largely affected by pH values below 5.3 <a href=\"https://www-sciencedirect-com.uplib.idm.oclc.org/science/article/pii/0038071795001182\">(Limmer & Drake, 1996</a>; <a href=\"https://www.researchgate.net/publication/240506230_The_impact_of_crop_residue_amendments_and_lime_on_microbial_community_structure_and_nitrogen-fixing_bacteria_in_the_wheat_rhizosphere\">Nelson & Mele, 2006)</a>.\n",
    "All of these factors can have affects on the nitrogen fixation rates of the biomass. To model growth and fixation accurately, as many of these factors as possible need to be taken into account.\n",
    " </div>"
   ]
  },
  {
   "cell_type": "markdown",
   "metadata": {},
   "source": [
    "## 4.1. Azotobacter"
   ]
  },
  {
   "cell_type": "markdown",
   "metadata": {},
   "source": [
    "<div style=\"text-align: justify\"> Azotobacter is a sub-species of diazotrophs. The conditions under which azotobacter fix nitrogen might not be the same conditions needed for growth of more biomass. This could mean that models would perform differently for the two processes <a href=\"https://www-ncbi-nlm-nih-gov.uplib.idm.oclc.org/pmc/articles/PMC278199/\">(Bulen, 1962)</a>.</div>"
   ]
  },
  {
   "cell_type": "markdown",
   "metadata": {},
   "source": [
    "<div>\n",
    "<img src=\"Azotobacter.png\" width=\"500\"/>\n",
    "</div>"
   ]
  },
  {
   "cell_type": "markdown",
   "metadata": {},
   "source": [
    "# 5. Biofilms"
   ]
  },
  {
   "cell_type": "markdown",
   "metadata": {},
   "source": [
    "<div style=\"text-align: justify\">A biofilm is a grouping of microbes which clump together and become embedded into a matrix of substances, often a biofilm forms on a surface or on a porous or solid surfaces. Microorganisms normally tend to form biofilms rather than live in isolation as there are major benefits to live in these protected colonies <a href=\"https://search-proquest-com.uplib.idm.oclc.org/docview/1911181484?OpenUrlRefId=info:xri/sid:wcdiscovery&accountid=14717\">(Wang, 2017)</a>.</div>"
   ]
  },
  {
   "cell_type": "markdown",
   "metadata": {},
   "source": [
    "<div style=\"text-align: justify\">Exopolysaccharides (EPS) are large carbohydrate polymers that are made by microorganisms <a href=\"https://search-proquest-com.uplib.idm.oclc.org/docview/1610992910?OpenUrlRefId=info:xri/sid:wcdiscovery&accountid=14717\">(Balsnelli, 2014)</a>.  EPSs vary in composition and structure depending on the microorganisms secreting that EPS but EPS is certainly considered as the fundamental building  block  of  a  biofilm.   Bacterial  EPS  are  normally  the  reason  for  attachment  to solid surfaces and other bacteria <a href=\"https://search-proquest-com.uplib.idm.oclc.org/docview/1610992910?OpenUrlRefId=info:xri/sid:wcdiscovery&accountid=14717\">(Balsnelli, 2014)</a>.  Biofilms are extremely important in the control of energy flow, nutrient recycling and biological processes and patterns in aquatic ecosystems <a href=\"https://link-springer-com.uplib.idm.oclc.org/article/10.1007/s00248-016-0827-4\">(Li, 2016)</a>.</div>"
   ]
  },
  {
   "cell_type": "markdown",
   "metadata": {},
   "source": [
    "<div style=\"text-align: justify\">The matrix is formed by extracellular polymeric substance (EPS) which is mainly made up  of  exopolysaccharides,  extracellular  DNA,  water  and  proteins  <a href=\"https://search-proquest-com.uplib.idm.oclc.org/docview/1911181484?OpenUrlRefId=info:xri/sid:wcdiscovery&accountid=14717\">(Wang, 2017)</a>. The  matrix  part  of  the  biofilm  is  built  up  to  make  all  the  nutrients  needed  for  the bacteria  available  (Sutherland,  2001).   The  matrix  is  a  continuously  changing  micro-environment which is affected by the external environment but ultimately a steady state is created.  A physical force can be applied to the biofilm that can change this steady state which can cause the biofilm to detach from surfaces.  The structure of the matrix greatly  depends  on  the  microorganisms,  the  nutrients  available  and  the environment(Sutherland, 2001). The existence of a matrix between groups of microorganisms proves to be advantageous in the following ways; there is a level of protection against environmental factors,  the  microorganism  groups  can  retain  nutrients  and  moisture  and  for  general mechanical protection <a href=\"https://search-proquest-com.uplib.idm.oclc.org/docview/1610992910?OpenUrlRefId=info:xri/sid:wcdiscovery&accountid=14717\">(Balsnelli, 2014)</a>.</div>"
   ]
  },
  {
   "cell_type": "markdown",
   "metadata": {},
   "source": [
    "<div style=\"text-align: justify\">Nitrogen fixation is the only way for atmospheric nitrogen to become available to living organisms.  Biofilms is a location where nitrogen cycling can occur in aquatic ecosystems <a href=\"https://link-springer-com.uplib.idm.oclc.org/article/10.1007/s00248-016-0827-4\">(Li, 2016)</a>. The  enzyme  nitrogenase,  which  catalyses  nitrogen  fixation,  is  highly oxygen sensitive and because of this many anti-oxygen mechanisms have been formed in nitrogen fixing bacteria <a href=\"https://search-proquest-com.uplib.idm.oclc.org/docview/1911181484?OpenUrlRefId=info:xri/sid:wcdiscovery&accountid=14717\">(Wang, 2017)</a>.  In order for free-living bacteria in an aerobic environment to fix nitrogen a great emphasis must be placed on the carbon and nitrogen sources available.  Studies were done where there was a deficient and excessive amount of inorganic nitrogen.  It was found that the amount of nitrogen plays an important part on the structure, physiology and the diversity of the biofilm <a href=\"https://link-springer-com.uplib.idm.oclc.org/article/10.1007/s00248-016-0827-4\">(Li, 2016)</a>.  The biomass of the nitrogen deficient biome was significantly lower while the diversity in the biofilm was significantly higher <a href=\"https://link-springer-com.uplib.idm.oclc.org/article/10.1007/s00248-016-0827-4\">(Li, 2016)</a>.  It has been found that when adequate carbon sources are available while restricting the nitrogen source nitrogen fixation occurs in a biofilm <a href=\"https://search-proquest-com.uplib.idm.oclc.org/docview/1911181484?OpenUrlRefId=info:xri/sid:wcdiscovery&accountid=14717\">(Wang, 2017)</a>.</div>"
   ]
  },
  {
   "cell_type": "markdown",
   "metadata": {},
   "source": [
    "<div style=\"text-align: justify\">Non-cyanobacterial diazotrophs (NCDs) are a type of bacteria abundant in marine life which perform nitrogen fixation <a href=\"https://www.frontiersin.org/articles/10.3389/fmicb.2018.02759/full\">(Pedersen, 2018)</a>.  Research has gone into under-standing  how  NCDs  can  perform  nitrogen  fixation  in  the  presence  of  oxygen.   Somenon-marine NCDs create an anti-oxygen layer made of extracellular polymers, but this strategy uses a large amount of energy and is not efficient enough to be a viable method. It was noticed that colonies became visible on filter surfaces creating a biofilm.  Nitrogen fixation rates were correlating with the amount of natural external particles in the medium. It  was  noted  that  high  levels  of  nitrogen  fixation  could  occur  in  a  sediment layer,  even  when  that  sediment  was  suspended  in  a  liquid  <a href=\"https://www.frontiersin.org/articles/10.3389/fmicb.2018.02759/full\">(Pedersen, 2018)</a>. An experiment was done with artificial surfaces to note if the NCDs could also colonise these surfaces and it was found that they were secondary colonizers, there were other bacteria that dominated the artificial surface before the NCDs, this is because the NCDs greatly depend on the conditions of the surroundings, a primary colony must first condition the environment for them to thrive <a href=\"https://www.frontiersin.org/articles/10.3389/fmicb.2018.02759/full\">(Pedersen, 2018)</a>.</div>"
   ]
  },
  {
   "cell_type": "markdown",
   "metadata": {},
   "source": [
    "# Imports and toggles"
   ]
  },
  {
   "cell_type": "code",
   "execution_count": 1,
   "metadata": {
    "jupyter": {
     "source_hidden": true
    }
   },
   "outputs": [],
   "source": [
    "import numpy as np\n",
    "import scipy.integrate as sp\n",
    "import pandas\n",
    "import matplotlib.pyplot as plt\n",
    "from ipywidgets import widgets, interact"
   ]
  },
  {
   "cell_type": "markdown",
   "metadata": {},
   "source": [
    "### SIDENOTE ABOUT THE UPCOMING CODE\n",
    "\n",
    "The scary code block below is created to help you hide the scary code you will see in the rest of this notebook. If you want to see the big blocks of code you are welcome but if you find them intimidating you can click the <span style=\"color:blue\">**Toggle show/hide**</span> at the bottom of the code block to hide the block."
   ]
  },
  {
   "cell_type": "code",
   "execution_count": 2,
   "metadata": {
    "jupyter": {
     "source_hidden": true
    }
   },
   "outputs": [
    {
     "data": {
      "text/html": [
       "\n",
       "        <script>\n",
       "            function code_toggle_12293287917441501571() {\n",
       "                $('div.cell.code_cell.rendered.selected').find('div.input').toggle();\n",
       "            }\n",
       "\n",
       "            \n",
       "        </script>\n",
       "\n",
       "        <a href=\"javascript:code_toggle_12293287917441501571()\">Toggle show/hide</a>\n",
       "    "
      ],
      "text/plain": [
       "<IPython.core.display.HTML object>"
      ]
     },
     "execution_count": 2,
     "metadata": {},
     "output_type": "execute_result"
    }
   ],
   "source": [
    "from IPython.display import HTML\n",
    "import random\n",
    "\n",
    "def hide_toggle(for_next=False):\n",
    "    this_cell = \"\"\"$('div.cell.code_cell.rendered.selected')\"\"\"\n",
    "    next_cell = this_cell + '.next()'\n",
    "\n",
    "    toggle_text = 'Toggle show/hide'  # text shown on toggle link\n",
    "    target_cell = this_cell  # target cell to control with toggle\n",
    "    js_hide_current = ''  # bit of JS to permanently hide code in current cell (only when toggling next cell)\n",
    "\n",
    "    if for_next:\n",
    "        target_cell = next_cell\n",
    "        toggle_text += ' next cell'\n",
    "        js_hide_current = this_cell + '.find(\"div.input\").hide();'\n",
    "\n",
    "    js_f_name = 'code_toggle_{}'.format(str(random.randint(1,2**64)))\n",
    "\n",
    "    html = \"\"\"\n",
    "        <script>\n",
    "            function {f_name}() {{\n",
    "                {cell_selector}.find('div.input').toggle();\n",
    "            }}\n",
    "\n",
    "            {js_hide_current}\n",
    "        </script>\n",
    "\n",
    "        <a href=\"javascript:{f_name}()\">{toggle_text}</a>\n",
    "    \"\"\".format(\n",
    "        f_name=js_f_name,\n",
    "        cell_selector=target_cell,\n",
    "        js_hide_current=js_hide_current, \n",
    "        toggle_text=toggle_text\n",
    "    )\n",
    "\n",
    "    return HTML(html)\n",
    "hide_toggle()"
   ]
  },
  {
   "cell_type": "markdown",
   "metadata": {},
   "source": [
    "# 6. Experiment"
   ]
  },
  {
   "cell_type": "markdown",
   "metadata": {},
   "source": [
    "<div style=\"text-align: justify\">A number of experiments were done using shaker flasks and various soil samples and combinations of soil samples in a solution or with packing (which promotes the biofilm formation). The aim of the experiment was to record the growth, glucose consumption and pH of these different samples and determine which conditions promote growth the most. </div>"
   ]
  },
  {
   "cell_type": "markdown",
   "metadata": {},
   "source": [
    "## 6.1. Experiment 1: Soil Samples"
   ]
  },
  {
   "cell_type": "markdown",
   "metadata": {},
   "source": [
    "<div style=\"text-align: justify\">The purpose of the first shaker flask experiment conducted was to determine which soil samples would cultivate the best growth. A total of six samples were gathered that were thought so be nitrogen lean and thus good diazotroph innoculum. </div>"
   ]
  },
  {
   "cell_type": "markdown",
   "metadata": {},
   "source": [
    " <div style=\"text-align: center\"> $Table 1:$ Shaker flask inoculum choices and set up of for solution and packing experiment 1.  </div>"
   ]
  },
  {
   "cell_type": "markdown",
   "metadata": {},
   "source": [
    "\n",
    "| Sample number | Sample location   | Reason sample was chosen|\n",
    "|------|------|------|\n",
    "|   1 | Engineering Dam| No fertilizer present, aquatic environment might prove to have good bacteria colonies|\n",
    "|2|Environoc| Professional innoculum |\n",
    "|3|Clarens| On top of a rock, water will remove minerals proving nitrogen lean |\n",
    "|4|Willie's garden| No foliage nearby, underneath concrete therefore no chance of fertilizer|\n",
    "|5|Boxer club garden| On top of a hill of a public park, no fertilizer |\n",
    "|6|Maria's garden| Succulents garden, no foilage | \n"
   ]
  },
  {
   "cell_type": "markdown",
   "metadata": {},
   "source": [
    "<div style=\"text-align: justify\"> The solution experiment was done with $450$ mL of modified Hoagland's solution placed in the 500 mL shaker flask while the packing experiment had a single type of packing (Parava, a professional packing type) and $300$ mL of modified Hoagland's solution. The experiments were batch runs with a total carbohydrate source of $5$ g/L which consisted of a half glucose and half sucrose mixture. It was decided that the inoculum should be $1$ % of the volume of solution in the shaker flask. The absorbance OD660 was measured over a 84 hour period. </div>"
   ]
  },
  {
   "cell_type": "markdown",
   "metadata": {},
   "source": [
    "Solution experiment set up| Packing experiment set up\n",
    "---|---\n",
    "<img src=\"shaker_flask_solution.jpg\" width=\"500\" img/> | <img src=\"shaker_flask_biofilm.jpg\" width=\"500\"/>"
   ]
  },
  {
   "cell_type": "markdown",
   "metadata": {},
   "source": [
    "<div style=\"text-align: justify\"> The following results were found </div>"
   ]
  },
  {
   "cell_type": "code",
   "execution_count": 3,
   "metadata": {},
   "outputs": [
    {
     "data": {
      "text/html": [
       "\n",
       "        <script>\n",
       "            function code_toggle_3676838394761545323() {\n",
       "                $('div.cell.code_cell.rendered.selected').find('div.input').toggle();\n",
       "            }\n",
       "\n",
       "            \n",
       "        </script>\n",
       "\n",
       "        <a href=\"javascript:code_toggle_3676838394761545323()\">Toggle show/hide</a>\n",
       "    "
      ],
      "text/plain": [
       "<IPython.core.display.HTML object>"
      ]
     },
     "execution_count": 3,
     "metadata": {},
     "output_type": "execute_result"
    }
   ],
   "source": [
    "data = pandas.read_excel('daSilva_ME_16052430_CSC_Data.xlsx')\n",
    "Juju = data['Juju']\n",
    "Abs_Sample1_exp1 = [Juju[0], Juju[6], Juju[12], Juju[18], Juju[24], Juju[36],Juju[42], Juju[48], Juju[54], Juju[60]]\n",
    "Abs_Sample2_exp1 = [Juju[1], Juju[7], Juju[13], Juju[19], Juju[25], Juju[37],Juju[43], Juju[49], Juju[55], Juju[61]]\n",
    "Abs_Sample3_exp1 = [Juju[2], Juju[8], Juju[14], Juju[20], Juju[26], Juju[38],Juju[44], Juju[50], Juju[56], Juju[62]]\n",
    "Abs_Sample4_exp1 = [Juju[3], Juju[9], Juju[15], Juju[21], Juju[27], Juju[39],Juju[45], Juju[51], Juju[57], Juju[63]]\n",
    "Abs_Sample5_exp1 = [Juju[4], Juju[10], Juju[16], Juju[22], Juju[28], Juju[40],Juju[46], Juju[52], Juju[58], Juju[64]]\n",
    "Abs_Sample6_exp1 = [Juju[5], Juju[11], Juju[17], Juju[23], Juju[29], Juju[41],Juju[47], Juju[53], Juju[59], Juju[65]]\n",
    "hours_exp1 = [0, 1, 17, 27, 42, 48, 60, 65, 70, 84]\n",
    "\n",
    "DATArun2 = pandas.read_excel('Data_collection.xlsx', sheet_name= 'Run 2')\n",
    "run2times = DATArun2['Time'][:11]\n",
    "\n",
    "run2_OD_Z1 = DATArun2['Absorptivity'][:11]\n",
    "run2_OD_Z2 = DATArun2['Absorptivity'][11:22]\n",
    "run2_OD_Z3 = DATArun2['Absorptivity'][22:33]\n",
    "run2_OD_Z4 = DATArun2['Absorptivity'][33:44]\n",
    "run2_OD_Z5 = DATArun2['Absorptivity'][44:55]\n",
    "run2_OD_Z6 = DATArun2['Absorptivity'][55:66]\n",
    "\n",
    "\n",
    "hide_toggle()"
   ]
  },
  {
   "cell_type": "code",
   "execution_count": 4,
   "metadata": {},
   "outputs": [
    {
     "data": {
      "image/png": "[encoded data removed]",
      "text/plain": [
       "<Figure size 1440x360 with 2 Axes>"
      ]
     },
     "metadata": {
      "needs_background": "light"
     },
     "output_type": "display_data"
    },
    {
     "data": {
      "text/html": [
       "\n",
       "        <script>\n",
       "            function code_toggle_10278372908738475312() {\n",
       "                $('div.cell.code_cell.rendered.selected').find('div.input').toggle();\n",
       "            }\n",
       "\n",
       "            \n",
       "        </script>\n",
       "\n",
       "        <a href=\"javascript:code_toggle_10278372908738475312()\">Toggle show/hide</a>\n",
       "    "
      ],
      "text/plain": [
       "<IPython.core.display.HTML object>"
      ]
     },
     "execution_count": 4,
     "metadata": {},
     "output_type": "execute_result"
    }
   ],
   "source": [
    "fig,(axsolution, axpacking) = plt.subplots(1,2, figsize=(20,5))\n",
    "\n",
    "axsolution.plot(run2times, run2_OD_Z1, '.', label = 'Sample 1')\n",
    "axsolution.plot(run2times, run2_OD_Z2, 'p', label = 'Sample 2')\n",
    "axsolution.plot(run2times, run2_OD_Z3, '*', label = 'Sample 3')\n",
    "axsolution.plot(run2times, run2_OD_Z4, '+', label = 'Sample 4')\n",
    "axsolution.plot(run2times, run2_OD_Z5, '^', label = 'Sample 5')\n",
    "axsolution.plot(run2times, run2_OD_Z6, 's', label = 'Sample 6')\n",
    "axsolution.legend(fontsize='12')\n",
    "axsolution.set_xlabel('Time (h)', fontsize = '12')\n",
    "axsolution.set_ylabel('Absorptivity OD660', fontsize = '12')\n",
    "axsolution.set_title('Solution experiment 1 ', fontsize = '16')\n",
    "\n",
    "\n",
    "\n",
    "axpacking.plot(hours_exp1, Abs_Sample1_exp1, '.', label = 'Sample 1')\n",
    "axpacking.plot(hours_exp1, Abs_Sample2_exp1, 'p', label = 'Sample 2')\n",
    "axpacking.plot(hours_exp1, Abs_Sample3_exp1, '*', label = 'Sample 3')\n",
    "axpacking.plot(hours_exp1, Abs_Sample4_exp1, '+', label = 'Sample 4')\n",
    "axpacking.plot(hours_exp1, Abs_Sample5_exp1, '^', label = 'Sample 5')\n",
    "axpacking.plot(hours_exp1, Abs_Sample6_exp1, 's', label = 'Sample 6')\n",
    "axpacking.legend(fontsize='12')\n",
    "axpacking.set_ylabel('Absorptivity OD660', fontsize = '12')\n",
    "axpacking.set_xlabel('Time (h)', fontsize = '12')\n",
    "axpacking.set_title('Packing experiment 1 ', fontsize = '16')\n",
    "\n",
    "plt.show()\n",
    "\n",
    "hide_toggle()"
   ]
  },
  {
   "cell_type": "markdown",
   "metadata": {},
   "source": [
    "<div style=\"text-align: justify\">The packing results show that the highest absorptivity is definitely Sample 1, this is because the packing dissolved into the medium and so the results are incorrect. The top performers, especially seen in the solution experiment, were Samples 3,4 and 5. These samples were mixed into equal parts and used for further experiments as inoculum.  </div>"
   ]
  },
  {
   "cell_type": "markdown",
   "metadata": {},
   "source": [
    "## 6.2. Experiment 2: Mixed inoculum"
   ]
  },
  {
   "cell_type": "markdown",
   "metadata": {},
   "source": [
    "<div style=\"text-align: justify\">The packing experiment 2 was done with an equal part mixture of soil samples 3,4 and 5 which is now known as Mixture 1. The solution experiment 2 was done with various soil samples and mixtures of soil samples shown in the table below. </div>"
   ]
  },
  {
   "cell_type": "markdown",
   "metadata": {},
   "source": [
    " <div style=\"text-align: center\"> $Table 2:$ Solution experiment 2 shaker flask set up.  </div>\n"
   ]
  },
  {
   "cell_type": "markdown",
   "metadata": {},
   "source": [
    "Flask number | Soil sample\n",
    "----|-----\n",
    "1| Mixture 1\n",
    "2| Mixture 1\n",
    "3| Mixture 1\n",
    "4| Clarens and Boxer garden mixture\n",
    "5| Clarens and Willie's garden mixture\n",
    "6| Yasemin's garden"
   ]
  },
  {
   "cell_type": "markdown",
   "metadata": {},
   "source": [
    "<div style=\"text-align: justify\">The inoculum amount added remained $1$ %. The solution experiment had $450$ mL of a modified nitrogen lean Burk's solution while the packing experiment had $300$ mL. The experiments were batch runs with $5$ g/L of a half glucose and sucrose mixture and ran for $140$ hours. The packing experiment had three different types of packing, $2$ cm plastic wheels, $5$ cm red porous clay cylinders and $2$ cm white ceramic tubes. Both the absorptivity and the pH were measured for experiment 2.</div>"
   ]
  },
  {
   "cell_type": "code",
   "execution_count": 5,
   "metadata": {},
   "outputs": [
    {
     "data": {
      "text/html": [
       "\n",
       "        <script>\n",
       "            function code_toggle_17092774101514750348() {\n",
       "                $('div.cell.code_cell.rendered.selected').find('div.input').toggle();\n",
       "            }\n",
       "\n",
       "            \n",
       "        </script>\n",
       "\n",
       "        <a href=\"javascript:code_toggle_17092774101514750348()\">Toggle show/hide</a>\n",
       "    "
      ],
      "text/plain": [
       "<IPython.core.display.HTML object>"
      ]
     },
     "execution_count": 5,
     "metadata": {},
     "output_type": "execute_result"
    }
   ],
   "source": [
    "DATArun3 = pandas.read_excel('Data_collection.xlsx', sheet_name= 'Run 3')\n",
    "run3times = DATArun3['Time'][:8]\n",
    "run3_OD_Z1 = DATArun3['Absorptivity'][:8]\n",
    "run3_OD_Z2 = DATArun3['Absorptivity'][8:16]\n",
    "run3_OD_Z3 = DATArun3['Absorptivity'][16:24]\n",
    "run3_OD_Z4 = DATArun3['Absorptivity'][24:32]\n",
    "run3_OD_Z5 = DATArun3['Absorptivity'][32:40]\n",
    "run3_OD_Z6 = DATArun3['Absorptivity'][40:48]\n",
    "\n",
    "hours_exp2 = [0,66,71,92,101,116,123,138]\n",
    "\n",
    "Abs_Sample3_exp2 = [0.024,1.842,1.789,1.453,1.366,0.813,0.853,0.496]\n",
    "Abs_Sample4_exp2 = [0.039,0.778,0.962,0.554,0.415,0.175,0.365,0.22,]\n",
    "\n",
    "hide_toggle()"
   ]
  },
  {
   "cell_type": "code",
   "execution_count": 6,
   "metadata": {
    "scrolled": true
   },
   "outputs": [
    {
     "data": {
      "image/png": "[encoded data removed]",
      "text/plain": [
       "<Figure size 1440x360 with 2 Axes>"
      ]
     },
     "metadata": {
      "needs_background": "light"
     },
     "output_type": "display_data"
    },
    {
     "data": {
      "text/html": [
       "\n",
       "        <script>\n",
       "            function code_toggle_16901682637553258774() {\n",
       "                $('div.cell.code_cell.rendered.selected').find('div.input').toggle();\n",
       "            }\n",
       "\n",
       "            \n",
       "        </script>\n",
       "\n",
       "        <a href=\"javascript:code_toggle_16901682637553258774()\">Toggle show/hide</a>\n",
       "    "
      ],
      "text/plain": [
       "<IPython.core.display.HTML object>"
      ]
     },
     "execution_count": 6,
     "metadata": {},
     "output_type": "execute_result"
    }
   ],
   "source": [
    "fig,(axsolution, axpacking) = plt.subplots(1,2, figsize=(20,5))\n",
    "\n",
    "axsolution.plot(run3times, run3_OD_Z1, 's', label = 'Flask 1')\n",
    "axsolution.plot(run3times, run3_OD_Z2, 'x', label = 'Flask 2')\n",
    "axsolution.plot(run3times, run3_OD_Z3, 'o', label = 'Flask 3')\n",
    "axsolution.plot(run3times, run3_OD_Z4, '^', label = 'Flask 4')\n",
    "axsolution.plot(run3times, run3_OD_Z5, '+', label = 'Flask 5')\n",
    "axsolution.plot(run3times, run3_OD_Z6, 'D', label = 'Flask 6')\n",
    "axsolution.legend(fontsize='12')\n",
    "axsolution.set_xlabel('Time (h)', fontsize = '12')\n",
    "axsolution.set_ylabel('Absorptivity OD660', fontsize = '12')\n",
    "axsolution.set_title('Solution experiment 2 absorptivity ', fontsize = '16')\n",
    "\n",
    "axpacking.plot(hours_exp2, Abs_Sample3_exp2, '*', label = 'Flask 3')\n",
    "axpacking.plot(hours_exp2, Abs_Sample4_exp2, '+', label = 'Flask 4')\n",
    "axpacking.legend(fontsize='12')\n",
    "axpacking.set_ylabel('Absorptivity OD660', fontsize = '12')\n",
    "axpacking.set_xlabel('Time (h)', fontsize = '12')\n",
    "axpacking.set_title('Packing experiment 2 absorptivity', fontsize = '16')\n",
    "plt.show()\n",
    "\n",
    "hide_toggle()"
   ]
  },
  {
   "cell_type": "code",
   "execution_count": 7,
   "metadata": {},
   "outputs": [
    {
     "data": {
      "text/html": [
       "\n",
       "        <script>\n",
       "            function code_toggle_5290690325635034180() {\n",
       "                $('div.cell.code_cell.rendered.selected').find('div.input').toggle();\n",
       "            }\n",
       "\n",
       "            \n",
       "        </script>\n",
       "\n",
       "        <a href=\"javascript:code_toggle_5290690325635034180()\">Toggle show/hide</a>\n",
       "    "
      ],
      "text/plain": [
       "<IPython.core.display.HTML object>"
      ]
     },
     "execution_count": 7,
     "metadata": {},
     "output_type": "execute_result"
    }
   ],
   "source": [
    "run3_pH_Z1 = DATArun3['pH'][:8]\n",
    "run3_pH_Z2 = DATArun3['pH'][8:16]\n",
    "run3_pH_Z3 = DATArun3['pH'][16:24]\n",
    "run3_pH_Z4 = DATArun3['pH'][24:32]\n",
    "run3_pH_Z5 = DATArun3['pH'][32:40]\n",
    "run3_pH_Z6 = DATArun3['pH'][40:48]\n",
    "\n",
    "pH_Sample3_exp2 = [7,6.4,6.4,6.5,6.3,6.3,6.2,6.8]\n",
    "pH_Sample4_exp2 = [7,6.5,6.5,6.4,5.4,6.2,6.8,6.8]\n",
    "\n",
    "hide_toggle()"
   ]
  },
  {
   "cell_type": "code",
   "execution_count": 8,
   "metadata": {},
   "outputs": [
    {
     "data": {
      "image/png": "[encoded data removed]",
      "text/plain": [
       "<Figure size 1440x360 with 2 Axes>"
      ]
     },
     "metadata": {
      "needs_background": "light"
     },
     "output_type": "display_data"
    },
    {
     "data": {
      "text/html": [
       "\n",
       "        <script>\n",
       "            function code_toggle_2316779178856539167() {\n",
       "                $('div.cell.code_cell.rendered.selected').find('div.input').toggle();\n",
       "            }\n",
       "\n",
       "            \n",
       "        </script>\n",
       "\n",
       "        <a href=\"javascript:code_toggle_2316779178856539167()\">Toggle show/hide</a>\n",
       "    "
      ],
      "text/plain": [
       "<IPython.core.display.HTML object>"
      ]
     },
     "execution_count": 8,
     "metadata": {},
     "output_type": "execute_result"
    }
   ],
   "source": [
    "fig,(axsolution, axpacking) = plt.subplots(1,2, figsize=(20,5))\n",
    "\n",
    "axsolution.plot(run3times, run3_pH_Z1, 's', label = 'Flask 1')\n",
    "axsolution.plot(run3times, run3_pH_Z2, 'x', label = 'Flask 2')\n",
    "axsolution.plot(run3times, run3_pH_Z3, 'o', label = 'Flask 3')\n",
    "axsolution.plot(run3times, run3_pH_Z4, '^', label = 'Flask 4')\n",
    "axsolution.plot(run3times, run3_pH_Z5, '+', label = 'Flask 5')\n",
    "axsolution.plot(run3times, run3_pH_Z6, 'D', label = 'Flask 6')\n",
    "axsolution.legend(fontsize='12')\n",
    "axsolution.set_xlabel('Time (h)', fontsize = '12')\n",
    "axsolution.set_ylabel('pH', fontsize = '12')\n",
    "axsolution.set_title('Solution experiment 2 pH', fontsize = '16')\n",
    "\n",
    "axpacking.plot(hours_exp2, pH_Sample3_exp2, '*', label = 'Flask 3')\n",
    "axpacking.plot(hours_exp2, pH_Sample4_exp2, '+', label = 'Flask 4')\n",
    "axpacking.legend(fontsize='12')\n",
    "axpacking.set_ylabel('pH', fontsize = '12')\n",
    "axpacking.set_xlabel('Time (h)', fontsize = '12')\n",
    "axpacking.set_title('Packing experiment 2 pH', fontsize = '16')\n",
    "plt.show()\n",
    "\n",
    "hide_toggle()"
   ]
  },
  {
   "cell_type": "markdown",
   "metadata": {},
   "source": [
    "<div style=\"text-align: justify\">The solution experiments show that the top performers are still Mixture 1 (equal parts Clarens, Willie's garden and the boxer club). The red clay and white ceramic packing dissolved in the solution, creating a paste making it impossible for readings to be taken. The plastic packing proved to withstand the shaker and are shown as Flask 3 and 4. The pH was relatively consistent for the packing and solution experiment. The initial pH was 7 and it is shown how the different consortia's growth change the pH. One can notice how the pH is slightly more acidic after the growth of biomass. </div>"
   ]
  },
  {
   "cell_type": "markdown",
   "metadata": {},
   "source": [
    "## 6.3. Experiment 3: Glucose variation"
   ]
  },
  {
   "cell_type": "markdown",
   "metadata": {},
   "source": [
    "<div style=\"text-align: justify\"> The next important measurement that should be taken is the glucose uptake, this was done with a blood sugar montior. The solution and packing experiments both used $1$ % of the volume of the shaker flask of the Mixture 1 inoculum. A modified Burk's medium was used for this batch run. The packing experiment had three different packing types. The set up of each shaker flask can be seen in the Tables below. </div> "
   ]
  },
  {
   "cell_type": "markdown",
   "metadata": {},
   "source": [
    "<div style=\"text-align: center\"> $Table 3:$ Solution experiment 3 shaker flask set up. </div>"
   ]
  },
  {
   "cell_type": "markdown",
   "metadata": {},
   "source": [
    "|Flask number | Glucose concentration (g/L)|\n",
    "|---|---|\n",
    "|1 | 5|\n",
    "|2 | 5|\n",
    "|3 | 5|\n",
    "|4 | 10|\n",
    "|5 | 10|\n",
    "|6 | 10|"
   ]
  },
  {
   "cell_type": "markdown",
   "metadata": {},
   "source": [
    "<div style=\"text-align: center\">$Table 4:$ Packing experiment 3 shaker flask set up. </div>"
   ]
  },
  {
   "cell_type": "markdown",
   "metadata": {},
   "source": [
    "|Flask number | Glucose concentration (g/L)| Packing type|\n",
    "|---|---|---|\n",
    "|1 | 5|Plastic wheels|\n",
    "|2 | 10|Plastic wheels|\n",
    "|3 | 5|Black sponge blocks|\n",
    "|4 | 10|Black sponge blocks|\n",
    "|5 | 5|Green sponge blocks|\n",
    "|6 | 10|Green sponge blocks|"
   ]
  },
  {
   "cell_type": "markdown",
   "metadata": {},
   "source": [
    "<div style=\"text-align: justify\"> The results of the absorptivity, pH and glucose after a 216 hour run for the solution experiment and 96 hour run for the packing experiment are shown below.  </div>"
   ]
  },
  {
   "cell_type": "code",
   "execution_count": 9,
   "metadata": {
    "scrolled": true
   },
   "outputs": [
    {
     "data": {
      "text/html": [
       "\n",
       "        <script>\n",
       "            function code_toggle_52680004096109231() {\n",
       "                $('div.cell.code_cell.rendered.selected').find('div.input').toggle();\n",
       "            }\n",
       "\n",
       "            \n",
       "        </script>\n",
       "\n",
       "        <a href=\"javascript:code_toggle_52680004096109231()\">Toggle show/hide</a>\n",
       "    "
      ],
      "text/plain": [
       "<IPython.core.display.HTML object>"
      ]
     },
     "execution_count": 9,
     "metadata": {},
     "output_type": "execute_result"
    }
   ],
   "source": [
    "DATArun4 = pandas.read_excel('Data_collection.xlsx', sheet_name= 'Run 4')\n",
    "\n",
    "run4times = DATArun4['Time'][:15]\n",
    "run4_OD_Z1 = DATArun4['Absorptivity'][:15]\n",
    "run4_OD_Z2 = DATArun4['Absorptivity'][15:30]\n",
    "run4_OD_Z3 = DATArun4['Absorptivity'][30:45]\n",
    "run4_OD_Z4 = DATArun4['Absorptivity'][45:60]\n",
    "run4_OD_Z5 = DATArun4['Absorptivity'][60:75]\n",
    "run4_OD_Z6 = DATArun4['Absorptivity'][75:90]\n",
    "\n",
    "hours_exp3 = [0,5,24,33,48,54,72,96]\n",
    "\n",
    "Abs_Sample1_exp3 = [0,0.025,1.392,1.7284,1.9795,2.0118,2.464,2.16]\n",
    "Abs_Sample2_exp3 = [0,0.073,1.759,1.7469,1.9967,2.0975,  0,2.5]\n",
    "Abs_Sample3_exp3 = [0,0.023,1.094,1.2781,0.58,1.0019,0.396,0.078]\n",
    "Abs_Sample4_exp3 = [0,0.058,0.075,1.0291,0.9797,1.1267,1.467,0.444]\n",
    "Abs_Sample5_exp3 = [0,0,1.564,0.0472,0.77,0.8909,0.493,0]\n",
    "Abs_Sample6_exp3 = [0,0.037,0.112,0.196,0.1953,0.2494,0.925,0.434]\n",
    "\n",
    "hide_toggle()"
   ]
  },
  {
   "cell_type": "code",
   "execution_count": 10,
   "metadata": {},
   "outputs": [
    {
     "data": {
      "image/png": "[encoded data removed]",
      "text/plain": [
       "<Figure size 1440x360 with 2 Axes>"
      ]
     },
     "metadata": {
      "needs_background": "light"
     },
     "output_type": "display_data"
    },
    {
     "data": {
      "text/html": [
       "\n",
       "        <script>\n",
       "            function code_toggle_16975289622368395252() {\n",
       "                $('div.cell.code_cell.rendered.selected').find('div.input').toggle();\n",
       "            }\n",
       "\n",
       "            \n",
       "        </script>\n",
       "\n",
       "        <a href=\"javascript:code_toggle_16975289622368395252()\">Toggle show/hide</a>\n",
       "    "
      ],
      "text/plain": [
       "<IPython.core.display.HTML object>"
      ]
     },
     "execution_count": 10,
     "metadata": {},
     "output_type": "execute_result"
    }
   ],
   "source": [
    "fig,(axsolution, axpacking) = plt.subplots(1,2, figsize=(20,5))\n",
    "\n",
    "axsolution.plot(run4times, run4_OD_Z1, '.', label = 'Flask 1')\n",
    "axsolution.plot(run4times, run4_OD_Z2, 'p', label = 'Flask 2')\n",
    "axsolution.plot(run4times, run4_OD_Z3, '*', label = 'Flask 3')\n",
    "axsolution.plot(run4times, run4_OD_Z4, '+', label = 'Flask 4')\n",
    "axsolution.plot(run4times, run4_OD_Z5, '^', label = 'Flask 5')\n",
    "axsolution.plot(run4times, run4_OD_Z6, 's', label = 'Flask 6')\n",
    "axsolution.legend(fontsize='12')\n",
    "axsolution.set_xlabel('Time (h)', fontsize = '12')\n",
    "axsolution.set_ylabel('Absorptivity OD660', fontsize = '12')\n",
    "axsolution.set_title('Solution experiment 3 absorptivity ', fontsize = '16')\n",
    "\n",
    "axpacking.plot(hours_exp3, Abs_Sample1_exp3, '.', label = 'Flask 1')\n",
    "axpacking.plot(hours_exp3, Abs_Sample2_exp3, 'p', label = 'Flask 2')\n",
    "axpacking.plot(hours_exp3, Abs_Sample3_exp3, '*', label = 'Flask 3')\n",
    "axpacking.plot(hours_exp3, Abs_Sample4_exp3, '+', label = 'Flask 4')\n",
    "axpacking.plot(hours_exp3, Abs_Sample5_exp3, '^', label = 'Flask 5')\n",
    "axpacking.plot(hours_exp3, Abs_Sample6_exp3, 's', label = 'Flask 6')\n",
    "axpacking.legend(fontsize='12')\n",
    "axpacking.set_xlabel('Time (h)', fontsize = '12')\n",
    "axpacking.set_ylabel('Absorptivity OD660', fontsize = '12')\n",
    "axpacking.set_title('Packing experiment 3 absorptivity ', fontsize = '16')\n",
    "plt.show()\n",
    "\n",
    "hide_toggle()"
   ]
  },
  {
   "cell_type": "code",
   "execution_count": 11,
   "metadata": {},
   "outputs": [
    {
     "data": {
      "text/html": [
       "\n",
       "        <script>\n",
       "            function code_toggle_3177564547312464275() {\n",
       "                $('div.cell.code_cell.rendered.selected').find('div.input').toggle();\n",
       "            }\n",
       "\n",
       "            \n",
       "        </script>\n",
       "\n",
       "        <a href=\"javascript:code_toggle_3177564547312464275()\">Toggle show/hide</a>\n",
       "    "
      ],
      "text/plain": [
       "<IPython.core.display.HTML object>"
      ]
     },
     "execution_count": 11,
     "metadata": {},
     "output_type": "execute_result"
    }
   ],
   "source": [
    "run4_pH_Z1 = DATArun4['pH'][:15]\n",
    "run4_pH_Z2 = DATArun4['pH'][15:30]\n",
    "run4_pH_Z3 = DATArun4['pH'][30:45]\n",
    "run4_pH_Z4 = DATArun4['pH'][45:60]\n",
    "run4_pH_Z5 = DATArun4['pH'][60:75]\n",
    "run4_pH_Z6 = DATArun4['pH'][75:90]\n",
    "\n",
    "pH_hours_exp3 = [0,24,33,48,54,72,96]\n",
    "pH_Sample1_exp3 = [5.2,7.2,7.3,7.2,6.9,7.2,7.9]\n",
    "pH_Sample2_exp3 = [5.9,7.1,7.2,5.6,5.6,6.5,7.2]\n",
    "pH_Sample3_exp3 = [5.2,7.3,7.1,7.4,7.4,7.6,8]\n",
    "pH_Sample4_exp3 = [5.9,7.5,7.4,7.2,6.3,7.5,7.9]\n",
    "pH_Sample5_exp3 = [5.2,7,7.2,7.7,7.8,7.7,7.9]\n",
    "pH_Sample6_exp3 = [5.9,7.5,7.5,7.3,7.1,7.2,6.9]\n",
    "\n",
    "hide_toggle()"
   ]
  },
  {
   "cell_type": "code",
   "execution_count": 12,
   "metadata": {},
   "outputs": [
    {
     "data": {
      "image/png": "[encoded data removed]",
      "text/plain": [
       "<Figure size 1440x360 with 2 Axes>"
      ]
     },
     "metadata": {
      "needs_background": "light"
     },
     "output_type": "display_data"
    },
    {
     "data": {
      "text/html": [
       "\n",
       "        <script>\n",
       "            function code_toggle_1305018080733868047() {\n",
       "                $('div.cell.code_cell.rendered.selected').find('div.input').toggle();\n",
       "            }\n",
       "\n",
       "            \n",
       "        </script>\n",
       "\n",
       "        <a href=\"javascript:code_toggle_1305018080733868047()\">Toggle show/hide</a>\n",
       "    "
      ],
      "text/plain": [
       "<IPython.core.display.HTML object>"
      ]
     },
     "execution_count": 12,
     "metadata": {},
     "output_type": "execute_result"
    }
   ],
   "source": [
    "fig,(axsolution, axpacking) = plt.subplots(1,2, figsize=(20,5))\n",
    "\n",
    "axsolution.plot(run4times, run4_pH_Z1, '.', label = 'Flask 1')\n",
    "axsolution.plot(run4times, run4_pH_Z2, 'p', label = 'Flask 2')\n",
    "axsolution.plot(run4times, run4_pH_Z3, '*', label = 'Flask 3')\n",
    "axsolution.plot(run4times, run4_pH_Z4, '+', label = 'Flask 4')\n",
    "axsolution.plot(run4times, run4_pH_Z5, '^', label = 'Flask 5')\n",
    "axsolution.plot(run4times, run4_pH_Z6, 's', label = 'Flask 6')\n",
    "axsolution.legend(fontsize='12')\n",
    "axsolution.set_xlabel('Time (h)', fontsize = '12')\n",
    "axsolution.set_ylabel('pH', fontsize = '12')\n",
    "axsolution.set_title('Solution experiment 3 pH ', fontsize = '16')\n",
    "\n",
    "axpacking.plot(pH_hours_exp3, pH_Sample1_exp3, '.', label = 'Flask 1')\n",
    "axpacking.plot(pH_hours_exp3, pH_Sample2_exp3, 'p', label = 'Flask 2')\n",
    "axpacking.plot(pH_hours_exp3, pH_Sample3_exp3, '*', label = 'Flask 3')\n",
    "axpacking.plot(pH_hours_exp3, pH_Sample4_exp3, '+', label = 'Flask 4')\n",
    "axpacking.plot(pH_hours_exp3, pH_Sample5_exp3, '^', label = 'Flask 5')\n",
    "axpacking.plot(pH_hours_exp3, pH_Sample6_exp3, 's', label = 'Flask 6')\n",
    "axpacking.legend(fontsize='12')\n",
    "axpacking.set_xlabel('Time (h)', fontsize = '12')\n",
    "axpacking.set_ylabel('pH', fontsize = '12')\n",
    "axpacking.set_title('Packing experiment 3 pH ', fontsize = '16')\n",
    "plt.show()\n",
    "\n",
    "hide_toggle()"
   ]
  },
  {
   "cell_type": "code",
   "execution_count": 13,
   "metadata": {},
   "outputs": [
    {
     "data": {
      "text/html": [
       "\n",
       "        <script>\n",
       "            function code_toggle_2443001098796460374() {\n",
       "                $('div.cell.code_cell.rendered.selected').find('div.input').toggle();\n",
       "            }\n",
       "\n",
       "            \n",
       "        </script>\n",
       "\n",
       "        <a href=\"javascript:code_toggle_2443001098796460374()\">Toggle show/hide</a>\n",
       "    "
      ],
      "text/plain": [
       "<IPython.core.display.HTML object>"
      ]
     },
     "execution_count": 13,
     "metadata": {},
     "output_type": "execute_result"
    }
   ],
   "source": [
    "run4times_glucose = [ ]\n",
    "n = 0\n",
    "while n< 15:\n",
    "    if DATArun4['Time'][n] % 24 == 0:\n",
    "        time = DATArun4['Time'][n]\n",
    "        run4times_glucose.append(time)\n",
    "    n+=1\n",
    "    \n",
    "run4_glucose_Z1 = []\n",
    "run4_glucose_Z2 = []\n",
    "run4_glucose_Z3 = []\n",
    "run4_glucose_Z4 = []\n",
    "run4_glucose_Z5 = []\n",
    "run4_glucose_Z6 = []\n",
    "\n",
    "z = 0\n",
    "while z< 15:\n",
    "    if DATArun4['Time'][z] % 24 == 0:\n",
    "        gluc = DATArun4['Glucose [g/L]'][z]\n",
    "        run4_glucose_Z1.append(gluc)\n",
    "    z+=1\n",
    "    \n",
    "while 15 <= z < 30:\n",
    "    if DATArun4['Time'][z] % 24 == 0:\n",
    "        gluc = DATArun4['Glucose [g/L]'][z]\n",
    "        run4_glucose_Z2.append(gluc)\n",
    "    z+=1\n",
    "    \n",
    "while 30 <= z < 45:\n",
    "    if DATArun4['Time'][z] % 24 == 0:\n",
    "        gluc = DATArun4['Glucose [g/L]'][z]\n",
    "        run4_glucose_Z3.append(gluc)\n",
    "    z+=1\n",
    "    \n",
    "while 45 <= z < 60:\n",
    "    if DATArun4['Time'][z] % 24 == 0:\n",
    "        gluc = DATArun4['Glucose [g/L]'][z]\n",
    "        run4_glucose_Z4.append(gluc)\n",
    "    z+=1\n",
    "    \n",
    "while 60 <= z < 75:\n",
    "    if DATArun4['Time'][z] % 24 == 0:\n",
    "        gluc = DATArun4['Glucose [g/L]'][z]\n",
    "        run4_glucose_Z5.append(gluc)\n",
    "    z+=1\n",
    "    \n",
    "while 75 <= z < 90:\n",
    "    if DATArun4['Time'][z] % 24 == 0:\n",
    "        gluc = DATArun4['Glucose [g/L]'][z]\n",
    "        run4_glucose_Z6.append(gluc)\n",
    "    z+=1\n",
    "    \n",
    "Gluc_hours_exp3 = [0,24,48,72,96]\n",
    "Gluc_Sample1_exp3 = [5,1.3691856,0.43237440,0,0]\n",
    "Gluc_Sample2_exp3 = [10,4.7561184,4.1976348,0,0]\n",
    "Gluc_Sample3_exp3 = [5,0.45039,0,0,0]\n",
    "Gluc_Sample4_exp3 = [10,6.9179904,5.0984148,0,0]\n",
    "Gluc_Sample5_exp3 = [5,0,0,0,0]\n",
    "Gluc_Sample6_exp3 = [10,7.9628952,6.5937096,0.5764992,0]\n",
    "\n",
    "hide_toggle()"
   ]
  },
  {
   "cell_type": "code",
   "execution_count": 14,
   "metadata": {},
   "outputs": [
    {
     "data": {
      "image/png": "[encoded data removed]",
      "text/plain": [
       "<Figure size 1440x360 with 2 Axes>"
      ]
     },
     "metadata": {
      "needs_background": "light"
     },
     "output_type": "display_data"
    },
    {
     "data": {
      "text/html": [
       "\n",
       "        <script>\n",
       "            function code_toggle_12727710772385698787() {\n",
       "                $('div.cell.code_cell.rendered.selected').find('div.input').toggle();\n",
       "            }\n",
       "\n",
       "            \n",
       "        </script>\n",
       "\n",
       "        <a href=\"javascript:code_toggle_12727710772385698787()\">Toggle show/hide</a>\n",
       "    "
      ],
      "text/plain": [
       "<IPython.core.display.HTML object>"
      ]
     },
     "execution_count": 14,
     "metadata": {},
     "output_type": "execute_result"
    }
   ],
   "source": [
    "fig,(axsolution, axpacking) = plt.subplots(1,2, figsize=(20,5))\n",
    "\n",
    "axsolution.plot(run4times_glucose, run4_glucose_Z1, '.', label = 'Flask 1')\n",
    "axsolution.plot(run4times_glucose, run4_glucose_Z2, 'p', label = 'Flask 2')\n",
    "axsolution.plot(run4times_glucose, run4_glucose_Z3, '*', label = 'Flask 3')\n",
    "axsolution.plot(run4times_glucose, run4_glucose_Z4, '+', label = 'Flask 4')\n",
    "axsolution.plot(run4times_glucose, run4_glucose_Z5, '^', label = 'Flask 5')\n",
    "axsolution.plot(run4times_glucose, run4_glucose_Z6, 's', label = 'Flask 6')\n",
    "axsolution.legend(fontsize='12')\n",
    "axsolution.set_xlabel('Time (h)', fontsize = '12')\n",
    "axsolution.set_ylabel('Glucose (g/L)', fontsize = '12')\n",
    "axsolution.set_title('Solution experiment 3 glucose ', fontsize = '16')\n",
    "\n",
    "axpacking.plot(Gluc_hours_exp3, Gluc_Sample1_exp3, '.', label = 'Flask 1')\n",
    "axpacking.plot(Gluc_hours_exp3, Gluc_Sample2_exp3, 'p', label = 'Flask 2')\n",
    "axpacking.plot(Gluc_hours_exp3, Gluc_Sample3_exp3, '*', label = 'Flask 3')\n",
    "axpacking.plot(Gluc_hours_exp3, Gluc_Sample4_exp3, '+', label = 'Flask 4')\n",
    "axpacking.plot(Gluc_hours_exp3, Gluc_Sample5_exp3, '^', label = 'Flask 5')\n",
    "axpacking.plot(Gluc_hours_exp3, Gluc_Sample6_exp3, 's', label = 'Flask 6')\n",
    "axpacking.legend(fontsize='12')\n",
    "axpacking.set_xlabel('Time (h)', fontsize = '12')\n",
    "axpacking.set_ylabel('Glucose (g/L)', fontsize = '12')\n",
    "axpacking.set_title('Packing experiment 3 glucose ', fontsize = '16')\n",
    "plt.show()\n",
    "\n",
    "hide_toggle()"
   ]
  },
  {
   "cell_type": "markdown",
   "metadata": {},
   "source": [
    "<div style=\"text-align: justify\">The solution experiment showed that Flask 4 ($10$ g/L of glucose) had the fastest growth curve while Flask 3 ($5$ g/L of glucose) had the slowest. This could be just because of the higher concentration of glucose and the glucose concentration is not high enough to cause glucose inhibition. The solution experiment pH graph shows that all the flask's experience a drop in pH, the lowest being Flask 6. Finally the glucose graph shows one how how the growth of biomass exponentially removes the glucose until the glucose is completely consumed. The $10$ g/L will obviously take longer to consume than the $5$ g/L. The packing experiments absorptivity is generally higher than the solution experiment, this could be caused by the formation of a biofilm which would promote growth. Flask's 1 and 2 (which contain different glucose amounts but the same plastic wheel packing) seem to perform the best while Flask's 5 and 6 (with the green sponge blocks) perform the worst. The highest pH seem to be Flask's 5 and 6, but in general it is interesting to note that the solution pH is more acidic while the packing pH is more alkaline, this could be because of the biofilm formation. </div>"
   ]
  },
  {
   "cell_type": "markdown",
   "metadata": {},
   "source": [
    "# 7. Modelling"
   ]
  },
  {
   "cell_type": "code",
   "execution_count": 22,
   "metadata": {},
   "outputs": [
    {
     "data": {
      "text/html": [
       "\n",
       "        <script>\n",
       "            function code_toggle_3091492900769378859() {\n",
       "                $('div.cell.code_cell.rendered.selected').find('div.input').toggle();\n",
       "            }\n",
       "\n",
       "            \n",
       "        </script>\n",
       "\n",
       "        <a href=\"javascript:code_toggle_3091492900769378859()\">Toggle show/hide</a>\n",
       "    "
      ],
      "text/plain": [
       "<IPython.core.display.HTML object>"
      ]
     },
     "execution_count": 22,
     "metadata": {},
     "output_type": "execute_result"
    }
   ],
   "source": [
    "data_set1 = pandas.read_excel('Pure_culture_data.xlsx', sheet_name = 'Bali')\n",
    "df1 = pandas.DataFrame(data_set1, columns=['Time','Growth (KLETTZ)','Growth (OD600)','pH','Ammonia','Biomass (cells/mL)','Sucrose (mmol/L)','Biomass (g/L)','Biomass', 'Glucose'])\n",
    "t1, ph1, x1, a1, g1 = df1.Time, df1.pH, df1.Biomass, df1.Ammonia, df1.Glucose\n",
    "\n",
    "data_set2 = pandas.read_excel('Pure_culture_data.xlsx', sheet_name = 'Barney')\n",
    "df2 = pandas.DataFrame(data_set2, columns=['Time','Growth (OD600)','pH','Ammonia','Biomass (cells/mL)','Sucrose(mmol/L)','Biomass(g/L)','Biomass', 'Glucose'])\n",
    "t2, ph2, x2, a2, g2 = df2.Time, df2.pH, df2.Biomass, df2.Ammonia, df2.Glucose\n",
    "\n",
    "data_set3 = pandas.read_excel('Pure_culture_data.xlsx', sheet_name = 'Brewin')\n",
    "df3 = pandas.DataFrame(data_set3, columns=['Time','Growth (OD540)','pH','Ammonia','Biomass (cells/mL)','Sucrose (mmol/L)','Biomass(g/L)','Biomass', 'Glucose'])\n",
    "t1, ph3, x3, a3, g3 = df3.Time, df3.pH, df3.Biomass, df3.Ammonia, df3.Glucose\n",
    "\n",
    "data_set4 = pandas.read_excel('Data_collection_for_notebook.xlsx', sheet_name = 'webpage')\n",
    "df4 = pandas.DataFrame(data_set4, columns=['Absorptivity', 'pH', 'Time', 'Biomass (cells/mL)', 'Biomass (g/L)', 'Biomass', 'Ammonia', 'Glucose'])\n",
    "t4, ph4, x4, a4, g4 = df4.Time, df4.pH, df4.Biomass, df4.Ammonia, df4.Glucose\n",
    "\n",
    "data_set5 = pandas.read_excel('daSilva_ME_16052430_CSC_Data.xlsx', sheet_name = 'webpage')\n",
    "df5 = pandas.DataFrame(data_set5, columns=['Time', 'Growth (OD600)', 'pH', 'Ammonia', 'Biomass (cells/mL)', 'Biomass(g/L)', 'Biomass', 'Glucose'])\n",
    "t5, ph5, x5, a5,g5 = df5.Time, df5.pH, df5.Biomass, df5.Ammonia, df5.Glucose\n",
    "\n",
    "hide_toggle()"
   ]
  },
  {
   "cell_type": "markdown",
   "metadata": {},
   "source": [
    "## 7.1. Data collection"
   ]
  },
  {
   "cell_type": "markdown",
   "metadata": {},
   "source": [
    "<div style=\"text-align: justify \">\n",
    "As a starting point for BNF modelling, pure culture data was collected from literature. The data sets were chosen to match experimental conditions. This meant a starting pH around 7.0, a temperature close to 30 °C, a Burke's solution, and batch set-ups. Literature data sets that focussed mainly on Azotobacter were selected. This was done because this organism fixes nitrogen aerobically. Since, the shaker flask experiments had ample aeration, it was deemed that to fix nitrogen it should likely contain Azotobacter. The collected data was manipulated to be in units of (h) for time, (mmol/L) for the $NH_{4}^{+}$ concentrations, and (cmmol/L) for biomass and glucose concentrations. Data set 1 <a href=\"https://UnivofPretoria.on.worldcat.org/oclc/120440483\">(Bali, 1992)</a>\n",
    ", Data set 2 <a href=\"https://UnivofPretoria.on.worldcat.org/oclc/7104221964\">(Barney, 2017)</a> and Data set 3 <a href=\"https://UnivofPretoria.on.worldcat.org/oclc/117092589\">(Brewin, 1999)</a>.\n",
    " </div>"
   ]
  },
  {
   "cell_type": "code",
   "execution_count": 23,
   "metadata": {},
   "outputs": [
    {
     "ename": "ValueError",
     "evalue": "x and y must have same first dimension, but have shapes (14,) and (12,)",
     "output_type": "error",
     "traceback": [
      "\u001b[1;31m---------------------------------------------------------------------------\u001b[0m",
      "\u001b[1;31mValueError\u001b[0m                                Traceback (most recent call last)",
      "\u001b[1;32m<ipython-input-23-8aac65302142>\u001b[0m in \u001b[0;36m<module>\u001b[1;34m\u001b[0m\n\u001b[0;32m      5\u001b[0m \u001b[0max3\u001b[0m\u001b[1;33m.\u001b[0m\u001b[0mset_title\u001b[0m\u001b[1;33m(\u001b[0m\u001b[1;34m'Data set 3: Biomass'\u001b[0m\u001b[1;33m,\u001b[0m \u001b[0mfontsize\u001b[0m \u001b[1;33m=\u001b[0m \u001b[1;34m'16'\u001b[0m\u001b[1;33m)\u001b[0m\u001b[1;33m\u001b[0m\u001b[1;33m\u001b[0m\u001b[0m\n\u001b[0;32m      6\u001b[0m \u001b[1;33m\u001b[0m\u001b[0m\n\u001b[1;32m----> 7\u001b[1;33m \u001b[0max1\u001b[0m\u001b[1;33m.\u001b[0m\u001b[0mplot\u001b[0m\u001b[1;33m(\u001b[0m\u001b[0mt1\u001b[0m\u001b[1;33m,\u001b[0m\u001b[0mx1\u001b[0m\u001b[1;33m,\u001b[0m\u001b[1;34m'o'\u001b[0m\u001b[1;33m)\u001b[0m\u001b[1;33m\u001b[0m\u001b[1;33m\u001b[0m\u001b[0m\n\u001b[0m\u001b[0;32m      8\u001b[0m \u001b[0max1\u001b[0m\u001b[1;33m.\u001b[0m\u001b[0mset_ylabel\u001b[0m\u001b[1;33m(\u001b[0m\u001b[1;34m'Concentration (cmmol/L)'\u001b[0m\u001b[1;33m,\u001b[0m \u001b[0mfontsize\u001b[0m \u001b[1;33m=\u001b[0m \u001b[1;34m'12'\u001b[0m\u001b[1;33m)\u001b[0m\u001b[1;33m\u001b[0m\u001b[1;33m\u001b[0m\u001b[0m\n\u001b[0;32m      9\u001b[0m \u001b[0max1\u001b[0m\u001b[1;33m.\u001b[0m\u001b[0mset_xlabel\u001b[0m\u001b[1;33m(\u001b[0m\u001b[1;34m'Time (h)'\u001b[0m\u001b[1;33m,\u001b[0m \u001b[0mfontsize\u001b[0m \u001b[1;33m=\u001b[0m \u001b[1;34m'12'\u001b[0m\u001b[1;33m)\u001b[0m\u001b[1;33m\u001b[0m\u001b[1;33m\u001b[0m\u001b[0m\n",
      "\u001b[1;32mC:\\Users\\zvsta\\Anaconda3\\lib\\site-packages\\matplotlib\\__init__.py\u001b[0m in \u001b[0;36minner\u001b[1;34m(ax, data, *args, **kwargs)\u001b[0m\n\u001b[0;32m   1808\u001b[0m                         \u001b[1;34m\"the Matplotlib list!)\"\u001b[0m \u001b[1;33m%\u001b[0m \u001b[1;33m(\u001b[0m\u001b[0mlabel_namer\u001b[0m\u001b[1;33m,\u001b[0m \u001b[0mfunc\u001b[0m\u001b[1;33m.\u001b[0m\u001b[0m__name__\u001b[0m\u001b[1;33m)\u001b[0m\u001b[1;33m,\u001b[0m\u001b[1;33m\u001b[0m\u001b[1;33m\u001b[0m\u001b[0m\n\u001b[0;32m   1809\u001b[0m                         RuntimeWarning, stacklevel=2)\n\u001b[1;32m-> 1810\u001b[1;33m             \u001b[1;32mreturn\u001b[0m \u001b[0mfunc\u001b[0m\u001b[1;33m(\u001b[0m\u001b[0max\u001b[0m\u001b[1;33m,\u001b[0m \u001b[1;33m*\u001b[0m\u001b[0margs\u001b[0m\u001b[1;33m,\u001b[0m \u001b[1;33m**\u001b[0m\u001b[0mkwargs\u001b[0m\u001b[1;33m)\u001b[0m\u001b[1;33m\u001b[0m\u001b[1;33m\u001b[0m\u001b[0m\n\u001b[0m\u001b[0;32m   1811\u001b[0m \u001b[1;33m\u001b[0m\u001b[0m\n\u001b[0;32m   1812\u001b[0m         inner.__doc__ = _add_data_doc(inner.__doc__,\n",
      "\u001b[1;32mC:\\Users\\zvsta\\Anaconda3\\lib\\site-packages\\matplotlib\\axes\\_axes.py\u001b[0m in \u001b[0;36mplot\u001b[1;34m(self, scalex, scaley, *args, **kwargs)\u001b[0m\n\u001b[0;32m   1609\u001b[0m         \u001b[0mkwargs\u001b[0m \u001b[1;33m=\u001b[0m \u001b[0mcbook\u001b[0m\u001b[1;33m.\u001b[0m\u001b[0mnormalize_kwargs\u001b[0m\u001b[1;33m(\u001b[0m\u001b[0mkwargs\u001b[0m\u001b[1;33m,\u001b[0m \u001b[0mmlines\u001b[0m\u001b[1;33m.\u001b[0m\u001b[0mLine2D\u001b[0m\u001b[1;33m.\u001b[0m\u001b[0m_alias_map\u001b[0m\u001b[1;33m)\u001b[0m\u001b[1;33m\u001b[0m\u001b[1;33m\u001b[0m\u001b[0m\n\u001b[0;32m   1610\u001b[0m \u001b[1;33m\u001b[0m\u001b[0m\n\u001b[1;32m-> 1611\u001b[1;33m         \u001b[1;32mfor\u001b[0m \u001b[0mline\u001b[0m \u001b[1;32min\u001b[0m \u001b[0mself\u001b[0m\u001b[1;33m.\u001b[0m\u001b[0m_get_lines\u001b[0m\u001b[1;33m(\u001b[0m\u001b[1;33m*\u001b[0m\u001b[0margs\u001b[0m\u001b[1;33m,\u001b[0m \u001b[1;33m**\u001b[0m\u001b[0mkwargs\u001b[0m\u001b[1;33m)\u001b[0m\u001b[1;33m:\u001b[0m\u001b[1;33m\u001b[0m\u001b[1;33m\u001b[0m\u001b[0m\n\u001b[0m\u001b[0;32m   1612\u001b[0m             \u001b[0mself\u001b[0m\u001b[1;33m.\u001b[0m\u001b[0madd_line\u001b[0m\u001b[1;33m(\u001b[0m\u001b[0mline\u001b[0m\u001b[1;33m)\u001b[0m\u001b[1;33m\u001b[0m\u001b[1;33m\u001b[0m\u001b[0m\n\u001b[0;32m   1613\u001b[0m             \u001b[0mlines\u001b[0m\u001b[1;33m.\u001b[0m\u001b[0mappend\u001b[0m\u001b[1;33m(\u001b[0m\u001b[0mline\u001b[0m\u001b[1;33m)\u001b[0m\u001b[1;33m\u001b[0m\u001b[1;33m\u001b[0m\u001b[0m\n",
      "\u001b[1;32mC:\\Users\\zvsta\\Anaconda3\\lib\\site-packages\\matplotlib\\axes\\_base.py\u001b[0m in \u001b[0;36m_grab_next_args\u001b[1;34m(self, *args, **kwargs)\u001b[0m\n\u001b[0;32m    391\u001b[0m                 \u001b[0mthis\u001b[0m \u001b[1;33m+=\u001b[0m \u001b[0margs\u001b[0m\u001b[1;33m[\u001b[0m\u001b[1;36m0\u001b[0m\u001b[1;33m]\u001b[0m\u001b[1;33m,\u001b[0m\u001b[1;33m\u001b[0m\u001b[1;33m\u001b[0m\u001b[0m\n\u001b[0;32m    392\u001b[0m                 \u001b[0margs\u001b[0m \u001b[1;33m=\u001b[0m \u001b[0margs\u001b[0m\u001b[1;33m[\u001b[0m\u001b[1;36m1\u001b[0m\u001b[1;33m:\u001b[0m\u001b[1;33m]\u001b[0m\u001b[1;33m\u001b[0m\u001b[1;33m\u001b[0m\u001b[0m\n\u001b[1;32m--> 393\u001b[1;33m             \u001b[1;32myield\u001b[0m \u001b[1;32mfrom\u001b[0m \u001b[0mself\u001b[0m\u001b[1;33m.\u001b[0m\u001b[0m_plot_args\u001b[0m\u001b[1;33m(\u001b[0m\u001b[0mthis\u001b[0m\u001b[1;33m,\u001b[0m \u001b[0mkwargs\u001b[0m\u001b[1;33m)\u001b[0m\u001b[1;33m\u001b[0m\u001b[1;33m\u001b[0m\u001b[0m\n\u001b[0m\u001b[0;32m    394\u001b[0m \u001b[1;33m\u001b[0m\u001b[0m\n\u001b[0;32m    395\u001b[0m \u001b[1;33m\u001b[0m\u001b[0m\n",
      "\u001b[1;32mC:\\Users\\zvsta\\Anaconda3\\lib\\site-packages\\matplotlib\\axes\\_base.py\u001b[0m in \u001b[0;36m_plot_args\u001b[1;34m(self, tup, kwargs)\u001b[0m\n\u001b[0;32m    368\u001b[0m             \u001b[0mx\u001b[0m\u001b[1;33m,\u001b[0m \u001b[0my\u001b[0m \u001b[1;33m=\u001b[0m \u001b[0mindex_of\u001b[0m\u001b[1;33m(\u001b[0m\u001b[0mtup\u001b[0m\u001b[1;33m[\u001b[0m\u001b[1;33m-\u001b[0m\u001b[1;36m1\u001b[0m\u001b[1;33m]\u001b[0m\u001b[1;33m)\u001b[0m\u001b[1;33m\u001b[0m\u001b[1;33m\u001b[0m\u001b[0m\n\u001b[0;32m    369\u001b[0m \u001b[1;33m\u001b[0m\u001b[0m\n\u001b[1;32m--> 370\u001b[1;33m         \u001b[0mx\u001b[0m\u001b[1;33m,\u001b[0m \u001b[0my\u001b[0m \u001b[1;33m=\u001b[0m \u001b[0mself\u001b[0m\u001b[1;33m.\u001b[0m\u001b[0m_xy_from_xy\u001b[0m\u001b[1;33m(\u001b[0m\u001b[0mx\u001b[0m\u001b[1;33m,\u001b[0m \u001b[0my\u001b[0m\u001b[1;33m)\u001b[0m\u001b[1;33m\u001b[0m\u001b[1;33m\u001b[0m\u001b[0m\n\u001b[0m\u001b[0;32m    371\u001b[0m \u001b[1;33m\u001b[0m\u001b[0m\n\u001b[0;32m    372\u001b[0m         \u001b[1;32mif\u001b[0m \u001b[0mself\u001b[0m\u001b[1;33m.\u001b[0m\u001b[0mcommand\u001b[0m \u001b[1;33m==\u001b[0m \u001b[1;34m'plot'\u001b[0m\u001b[1;33m:\u001b[0m\u001b[1;33m\u001b[0m\u001b[1;33m\u001b[0m\u001b[0m\n",
      "\u001b[1;32mC:\\Users\\zvsta\\Anaconda3\\lib\\site-packages\\matplotlib\\axes\\_base.py\u001b[0m in \u001b[0;36m_xy_from_xy\u001b[1;34m(self, x, y)\u001b[0m\n\u001b[0;32m    229\u001b[0m         \u001b[1;32mif\u001b[0m \u001b[0mx\u001b[0m\u001b[1;33m.\u001b[0m\u001b[0mshape\u001b[0m\u001b[1;33m[\u001b[0m\u001b[1;36m0\u001b[0m\u001b[1;33m]\u001b[0m \u001b[1;33m!=\u001b[0m \u001b[0my\u001b[0m\u001b[1;33m.\u001b[0m\u001b[0mshape\u001b[0m\u001b[1;33m[\u001b[0m\u001b[1;36m0\u001b[0m\u001b[1;33m]\u001b[0m\u001b[1;33m:\u001b[0m\u001b[1;33m\u001b[0m\u001b[1;33m\u001b[0m\u001b[0m\n\u001b[0;32m    230\u001b[0m             raise ValueError(\"x and y must have same first dimension, but \"\n\u001b[1;32m--> 231\u001b[1;33m                              \"have shapes {} and {}\".format(x.shape, y.shape))\n\u001b[0m\u001b[0;32m    232\u001b[0m         \u001b[1;32mif\u001b[0m \u001b[0mx\u001b[0m\u001b[1;33m.\u001b[0m\u001b[0mndim\u001b[0m \u001b[1;33m>\u001b[0m \u001b[1;36m2\u001b[0m \u001b[1;32mor\u001b[0m \u001b[0my\u001b[0m\u001b[1;33m.\u001b[0m\u001b[0mndim\u001b[0m \u001b[1;33m>\u001b[0m \u001b[1;36m2\u001b[0m\u001b[1;33m:\u001b[0m\u001b[1;33m\u001b[0m\u001b[1;33m\u001b[0m\u001b[0m\n\u001b[0;32m    233\u001b[0m             raise ValueError(\"x and y can be no greater than 2-D, but have \"\n",
      "\u001b[1;31mValueError\u001b[0m: x and y must have same first dimension, but have shapes (14,) and (12,)"
     ]
    },
    {
     "data": {
      "image/png": "[encoded data removed]",
      "text/plain": [
       "<Figure size 1080x720 with 6 Axes>"
      ]
     },
     "metadata": {
      "needs_background": "light"
     },
     "output_type": "display_data"
    }
   ],
   "source": [
    "fig, ((ax1, ax2, ax3),(ax4,ax5,ax6)) = plt.subplots(2,3, figsize=[15,10])\n",
    "\n",
    "ax1.set_title('Data set 1: Biomass', fontsize = '16')\n",
    "ax2.set_title('Data set 2: Biomass', fontsize = '16')\n",
    "ax3.set_title('Data set 3: Biomass', fontsize = '16')\n",
    "\n",
    "ax1.plot(t1,x1,'o')\n",
    "ax1.set_ylabel('Concentration (cmmol/L)', fontsize = '12')\n",
    "ax1.set_xlabel('Time (h)', fontsize = '12')\n",
    "\n",
    "ax2.plot(t2,x2,'o')\n",
    "ax2.set_ylabel('Concentration (cmmol/L)', fontsize = '12')\n",
    "ax2.set_xlabel('Time (h)', fontsize = '12')\n",
    "\n",
    "ax3.plot(t3,x3,'o')\n",
    "ax3.set_ylabel('Concentration (cmmol/L)', fontsize = '12')\n",
    "ax3.set_xlabel('Time (h)', fontsize = '12')\n",
    "\n",
    "ax4.set_title('Data set 1: Ammonia', fontsize = '16')\n",
    "ax5.set_title('Data set 2: Ammonia', fontsize = '16')\n",
    "ax6.set_title('Data set 3: Ammonia', fontsize = '16')\n",
    "\n",
    "ax4.plot(t1,a1,'o')\n",
    "ax4.set_ylabel('Concentration (mmol/L)', fontsize = '12')\n",
    "ax4.set_xlabel('Time (h)', fontsize = '12')\n",
    "\n",
    "ax5.plot(t2,a2,'o')\n",
    "ax5.set_ylabel('Concentration (mmol/L)', fontsize = '12')\n",
    "ax5.set_xlabel('Time (h)', fontsize = '12')\n",
    "\n",
    "ax6.plot(t3,a3,'o')\n",
    "ax6.set_ylabel('Concentration (mmol/L)', fontsize = '12')\n",
    "ax6.set_xlabel('Time (h)', fontsize = '12')\n",
    "\n",
    "plt.show()\n",
    "hide_toggle()"
   ]
  },
  {
   "cell_type": "markdown",
   "metadata": {},
   "source": [
    "## 7.2. Stoichiometry"
   ]
  },
  {
   "cell_type": "markdown",
   "metadata": {},
   "source": [
    "<div style=\"text-align: justify\">Using a C,H,O,N balance, a basis, and an assumption, a matrix could be solved to give the microbial growth reaction (aerobic):</div>"
   ]
  },
  {
   "cell_type": "markdown",
   "metadata": {},
   "source": [
    "<div style=\"text-align: center\">$ Glucose + u N_{2} + v O_{2} \\xrightarrow{} w X + x CO_{2} + y H_{2}O + z NH_{4}^{+}$ </div>"
   ]
  },
  {
   "cell_type": "markdown",
   "metadata": {},
   "source": [
    "<div style=\"text-align: justify \">  Biological nitrogen fixation (BNF) can be described by two different reactions. One reaction stoichiometry produces $NH_{4}^{+}$, while the other shows $NH_{3}$ and $H_{2}$ production. \n",
    "Most papers provide $NH_{4}^{+}$ concentration data and therefore, its corresponding version of the BNF equation was used for modelling.\n",
    "However, the alternative version could also be used if pH data was provided. This version of BNF would allow for $H_{2}$ production modelling,\n",
    "if an assumption was made that part of the NH3 in the solution was fixed via BNF and not only generated in the redox reaction, shown below: </div>"
   ]
  },
  {
   "cell_type": "markdown",
   "metadata": {},
   "source": [
    "<div style=\"text-align: center\">$NH_{3} + H_{2}O <=> NH_{4}+ + OH^{-} $</div>"
   ]
  },
  {
   "cell_type": "markdown",
   "metadata": {},
   "source": [
    "    \n",
    "<div style=\"text-align: justify \">Using the equations above, the ratio of $NH_{3}$ and $NH_{4}^{+}$ could be calculated.  </div>"
   ]
  },
  {
   "cell_type": "markdown",
   "metadata": {},
   "source": [
    "<div style=\"text-align: justify\">Some constants used to create the model include $K_{m}$ as the monod constant and $C_{a1} ^{*}$ is the inhibition constant. $\\alpha$ is related to the stoichiometry of the process, it is a relationship between the final amount of biomass and glucose amount. $A$ is the carrying capcity, the highest value reached on the y-axis and finally $m$ is a constant. For the energy balance an inclusion of a constant value $\\kappa$ is used which is the amount of ATP needed to fixate one nitrogen molecule. The $\\gamma$ value is the amount of ATP needed to make biomass. \n",
    "</div>"
   ]
  },
  {
   "cell_type": "code",
   "execution_count": 17,
   "metadata": {},
   "outputs": [],
   "source": [
    "Km = 0.01\n",
    "α = 0.073 \n",
    "m = 0.4 \n",
    "Ca1_star = 0.7\n",
    "γ = 2"
   ]
  },
  {
   "cell_type": "markdown",
   "metadata": {},
   "source": [
    "<div style=\"text-align: justify\"> There are numerous growth models one can use to model the growth of bacteria, although some work better for certain data sets than others. Below you can choose a model you would like to fit the data to and vary the $\\mu$, $\\beta$ and $\\kappa$ values to get the best fit. For simplicity a first order growth model was used as using higher order ones did not seem to make sufficient difference to justify using any more complex models. It can be concluded that the more biomass created the more ammonia will be present that is why the ammonia is a function of the biomass and the growth rate of the biomass. </div>"
   ]
  },
  {
   "cell_type": "markdown",
   "metadata": {},
   "source": [
    "<div style=\"text-align: justify\"> The growth functions for various literature data sets were optimised in terms of their absolute error sums. Five different models were utilised to fit bacterial growth data and a linear function was applied to model the ammonia production. Each of the models assumed the theoretical ATP requirement applied and thus, results might differ when the energy demand is changed. The model with the overall best fit was found to be the logistic model as it fit each data set sufficiently. The logistic model was selected for the modelling of consortia data that was generated experimentally. </div>"
   ]
  },
  {
   "cell_type": "markdown",
   "metadata": {},
   "source": [
    "### Pure culture model"
   ]
  },
  {
   "cell_type": "code",
   "execution_count": 18,
   "metadata": {},
   "outputs": [],
   "source": [
    "def ModelSet(Dataset,TypeOfModel,mu_max,β_max, κ):\n",
    "    if Dataset == 'Bali':\n",
    "        t, tsmall, tbig, ph, x, a, g, A, Aa = t1, 3, 7, ph1, x1, a1, g1, x1.iloc[-1], a1.iloc[-1]\n",
    "    if Dataset == 'Barney':\n",
    "        t, tsmall, tbig, ph, x, a, g, A, Aa = t2, 3, 7, ph2, x2, a2, g2, x2.iloc[-1], a2.iloc[-1]\n",
    "    if Dataset == 'Brewin':\n",
    "        t, tsmall, tbig, ph, x, a, g, A, Aa = t3, 3, 7, ph3, x3, a3, g3, x3.iloc[-1], a3.iloc[-1]\n",
    "        \n",
    "    def growth_function(C): #All experiments were done in a batch fermenter\n",
    "        Cx,Cs,Ca1,Cco2,Cn2,Co2,Cw = C #Biomass, sucrose, NH4+, CO2, N2, O2, H2O\n",
    "        #Various models: Uncomment to select\n",
    "        \n",
    "        if TypeOfModel == 'Brody':\n",
    "            mu1 = mu_max*(A/Cx-1) #Brody\n",
    "            β1 = β_max\n",
    "            mu = mu1\n",
    "\n",
    "        if TypeOfModel == 'Gompertz':\n",
    "            mu1 = mu_max*np.log(A/Cx)\n",
    "            β1 = β_max\n",
    "            mu = mu1\n",
    "\n",
    "        if TypeOfModel == 'Logistic':\n",
    "            mu1 = mu_max*(A-Cx)/A\n",
    "            β1 = β_max\n",
    "            mu = mu1\n",
    "\n",
    "        if TypeOfModel == 'Monod':\n",
    "            mu1 = mu_max*Cs/(Km+Cs)*(1-Ca1/Ca1_star) \n",
    "            β1 = β_max\n",
    "            mu = mu1\n",
    "\n",
    "        if TypeOfModel == 'Richard':\n",
    "            mu1 = mu_max*((A/Cx)**(1-m)-1)/(1-m)\n",
    "            β1 = β_max\n",
    "            mu = mu1\n",
    "\n",
    "\n",
    "        if mu1 <= 0: #No negative growth\n",
    "            mu = 0\n",
    "\n",
    "\n",
    "        if Cs <=0 or Aa <= Ca1:\n",
    "            mu = 0 \n",
    "            β1 = 0\n",
    "\n",
    "\n",
    "        else:\n",
    "            mu = mu1\n",
    "            β1 = β1\n",
    "\n",
    "\n",
    "        #              Gluc  N2  O2  X  CO2 NH4+ H2O\n",
    "        M = np.matrix([[-1,  0,  0,  1,  1,  0,  0], #C\n",
    "                       [-2,  0,  0,1.8,  0,  4,  2], #H\n",
    "                       [-1,  0, -2,0.5,  2,  0,  1], #O\n",
    "                       [ 0, -2,  0,0.2,  0,  1,  0], #N\n",
    "                       [ 0,  -κ,  0, -γ,  0,  0,  4], #Energy balance:ATP\n",
    "                       [ 0,  0,  0,  0,  0,  1,  0], #NH4+ spec\n",
    "                       [ 0,  0,  0,  1,  0,  0,  0]])#Biomass spec\n",
    "\n",
    "        C = np.matrix([0,0,0,0,0,β1/100,mu]).T\n",
    "        r = np.linalg.solve(M,C)\n",
    "\n",
    "        return[r[3,0],\n",
    "              -r[0,0],\n",
    "              r[5,0],\n",
    "              r[4,0],\n",
    "              -r[1,0],\n",
    "              -r[2,0],\n",
    "              r[6,0]]\n",
    "\n",
    "\n",
    "    def fermenter(C,t):\n",
    "        Cx,Cs,Ca1,Cco2,Cn2,Co2,Cw = C\n",
    "        r = growth_function(C)\n",
    "\n",
    "        if  t <= tsmall:\n",
    "            dCx = 0\n",
    "            dCs = 0\n",
    "            dCa1 = 0\n",
    "            dCco2 = 0\n",
    "            dCn2 = 0\n",
    "            dCo2 = 0\n",
    "            dCw = 0\n",
    "\n",
    "        elif t>tsmall and t<tbig:\n",
    "            dCx = r[0]*Cx\n",
    "            dCs = r[1]*Cx\n",
    "            dCa1 = 0\n",
    "            dCco2 = r[3]*Cx\n",
    "            dCn2 = r[4]*Cx\n",
    "            dCo2 = r[5]*Cx\n",
    "            dCw = r[6]*Cx\n",
    "\n",
    "        else:   \n",
    "            dCx   = r[0]*Cx #Biomass production\n",
    "            dCs  = r[1]*Cx #N2 consumption\n",
    "            dCa1   = r[2]*Cx #Glucose consumption\n",
    "            dCco2  = r[3]*Cx        \n",
    "            dCn2  = r[4]*Cx #Function of time - not dependent on biomass\n",
    "            dCo2 = r[5]*Cx #CO2 production\n",
    "            dCw = r[6]*Cx\n",
    "\n",
    "        return [dCx,dCs,dCa1,dCco2,dCn2,dCo2,dCw]\n",
    "    \n",
    "    C0 = [x[0],720,1e-10,0,0,0,0] #Glucose in cmol\n",
    "    tspan = np.linspace(0,t.iloc[-1],5001)\n",
    "    Ci = sp.odeint(fermenter, C0, tspan)\n",
    "    Cx,Cs,Ca1,Cco2,Cn2,Co2,Cw = Ci.T\n",
    "    \n",
    "    errorsum_s = 0\n",
    "    errorsum_a = 0\n",
    "    for i in np.arange(0,len(t),1):\n",
    "        for j in np.arange(0,len(tspan),1):\n",
    "            if abs(tspan[j] - t[i]) < 0.1:\n",
    "                error_s = abs(x[i]-Cx[j])\n",
    "                error_a = abs(a[i]-Ca1[j])\n",
    "\n",
    "            else:\n",
    "                error_s = 0\n",
    "                error_a = 0\n",
    "\n",
    "        errorsum_s = errorsum_s + error_s\n",
    "        errorsum_a = errorsum_a + error_a\n",
    "\n",
    "    \n",
    "        \n",
    "\n",
    "    \n",
    "    plt.plot(tspan,Cx, 'g')\n",
    "    plt.plot(t,x,'ko')\n",
    "    plt.title('Biomass growth', fontsize = '16')\n",
    "    plt.xlabel('Time [h]', fontsize = '12')\n",
    "    plt.ylabel('Biomass (cmmol/L)', fontsize = '12')\n",
    "    plt.show()\n",
    "    print('Biomass fitting error= ', errorsum_s)\n",
    "\n",
    "    plt.plot(tspan, Cs, 'c')\n",
    "    plt.plot(t,g,'ko')\n",
    "    plt.title('Glucose curve', fontsize = '16')\n",
    "    plt.xlabel('Time [h]', fontsize = '12')\n",
    "    plt.ylabel('Glucose amount (cmmol/L)', fontsize = '12')\n",
    "    plt.show()\n",
    "\n",
    "    plt.plot(t,a,'ko')\n",
    "    plt.plot(tspan,Ca1, 'm')\n",
    "    plt.title('Ammonia production', fontsize = '16')\n",
    "    plt.xlabel('Time (h)', fontsize = '12')\n",
    "    plt.ylabel('Ammonia (mmol/L)', fontsize = '12')\n",
    "    plt.show()\n",
    "    print('Ammonia fitting error= ',errorsum_a)\n",
    "\n",
    "    rates = np.asarray([growth_function(C) for C in Ci])\n",
    "    rx, rs, ra1, rco2, rn2, ro2,rw = rates.T\n",
    "    plt.title('Rates profiles', fontsize = '16')\n",
    "    plt.xlabel('Time (h)', fontsize = '12')\n",
    "    plt.ylabel('Rate (mmol/ L. h)', fontsize = '12')\n",
    "    plt.plot(tspan,ro2,'y', label = '$O_{2}$ rate')\n",
    "    plt.plot(tspan,rco2,'r', label = '$CO_{2}$ rate')\n",
    "    plt.plot(tspan,rx, 'g', label = 'Biomass rate')\n",
    "    plt.plot(tspan,rs, 'k', label = 'Glucose rate')    \n",
    "    plt.plot(tspan,rn2,'c', label = '$N_{2}$ rate')\n",
    "    plt.plot(tspan, ra1, 'm', label = 'Ammonia rate')\n",
    "    plt.plot(tspan,rw,'b', label = '$H_{2}O$ rate')\n",
    "    plt.legend(loc='lower right')\n",
    "    plt.show()\n",
    "\n",
    "\n",
    "    \n",
    "   "
   ]
  },
  {
   "cell_type": "code",
   "execution_count": 19,
   "metadata": {},
   "outputs": [
    {
     "data": {
      "application/vnd.jupyter.widget-view+json": {
       "model_id": "83bfc513999c4071a069aa2016172d7a",
       "version_major": 2,
       "version_minor": 0
      },
      "text/plain": [
       "interactive(children=(Dropdown(description='Dataset', options=('Bali', 'Barney', 'Brewin'), value='Bali'), Dro…"
      ]
     },
     "metadata": {},
     "output_type": "display_data"
    },
    {
     "data": {
      "text/plain": [
       "<function __main__.ModelSet(Dataset, TypeOfModel, mu_max, β_max, κ)>"
      ]
     },
     "execution_count": 19,
     "metadata": {},
     "output_type": "execute_result"
    }
   ],
   "source": [
    "interact(ModelSet,Dataset=['Bali', 'Barney', 'Brewin'], TypeOfModel= ['Brody','Gompertz', 'Logistic', 'Monod', 'Richard'],mu_max = (0,1.0, 0.01),β_max=(0,2.0, 0.01), κ =(0, 32., 1.))"
   ]
  },
  {
   "cell_type": "markdown",
   "metadata": {},
   "source": [
    "### Bali data set: Optimized parameters\n",
    "\n",
    "| Model |$\\mu_{max}$|$\\beta$| $\\sum{Error_{X}}$|$\\sum{Error_{NH4}}$|\n",
    "| ---- | ---- | ---- | ---- | ---- |\n",
    "| Monod | 0.28 | 0.02|1.77| 2.2 x $10^{-7}$ |\n",
    "| Brody | 0.20 | 0.02 |5.96 |3.5 x $10^{-8}$ |\n",
    "| Richards | 0.24 | 0.02 |5.23|3.8 x $10^{-10}$ |\n",
    "| Logistic | 0.50 | 0.02 |2.15| 8.5 x $10^{-8}$ |\n",
    "| Gompertz | 0.33 | 0.02 |3.67|1.4 x $10^{-8}$ |"
   ]
  },
  {
   "cell_type": "markdown",
   "metadata": {},
   "source": [
    "### Barney data set: Optimized parameters\n",
    "\n",
    "| Model | $\\mu_{max}$ | $\\beta$| $\\sum{Error_{X}}$| $\\sum{Error_{NH4}}$|\n",
    "| --- | --- | --- | --- | --- |\n",
    "| Monod | 0.13 | 0.005|20.62|4.41 x $10^{-7}$|\n",
    "| Brody | 0.04 | 0.0012 |10.67|1.6 x $10^{-6}$|\n",
    "| Richards | 0.055 | 0.0012 |5.10|6.4 x $10^{-7}$|\n",
    "| Logistic | 0.25 | 0.0014 |0.00 | 9.3 x $10^{-7}$|\n",
    "| Gompertz | 0.12 | 0.001 |0.04|1.2 x $10^{-7}$|"
   ]
  },
  {
   "cell_type": "markdown",
   "metadata": {},
   "source": [
    "### Brewin data set: Optimized parameters\n",
    "\n",
    "| Model | $\\mu_{max}$ | $\\beta$| $\\sum{Error_{X}}$| $\\sum{Error_{NH4}}$|\n",
    "| --- | --- | --- | --- | --- |\n",
    "| Monod | 0.21 | 0.0062|10.54| 2.0|\n",
    "| Brody | 0.05 | 0.003 |39.65|2.0|\n",
    "| Richards | 0.08 | 0.0012 |24.06|2.0|\n",
    "| Logistic | 0.25 | 0.0045 |18.97|2.0|\n",
    "| Gompertz | 0.10 | 0.004 |42.22|2.0|"
   ]
  },
  {
   "cell_type": "markdown",
   "metadata": {},
   "source": [
    "### Solution and packing model"
   ]
  },
  {
   "cell_type": "code",
   "execution_count": null,
   "metadata": {},
   "outputs": [],
   "source": [
    "βmax_log = 0.0\n",
    "k = 16\n",
    "g_cons = 2\n",
    "#A = x5[7]\n",
    "\n",
    "def ModelSet(Dataset, TypeOfModel, mu_max):\n",
    "    if Dataset == 'Solution':\n",
    "        t, tsmall, tbig, ph, x, g, A = t4, 55, 110, ph4, x4, g4, x4.iloc[-1]\n",
    "        \n",
    "    if Dataset == 'Packing':\n",
    "        t, tsmall, tbig, ph, x, g, A = t5, 7, 30, ph5, x5, g5, x5.iloc[-1]\n",
    "    \n",
    "        \n",
    "    def growth_function(C): #All experiments were done in a batch fermenter\n",
    "        Cx,Cs,Ca1,Cco2,Cn2, Co2, Cw = C #Biomass, sucrose, NH4+, CO2, N2, O2, H2O\n",
    "    \n",
    "          \n",
    "        if TypeOfModel == 'Brody':\n",
    "            mu1 = mu_max*(A/Cx-1) #Brody\n",
    "            β1 = βmax_log\n",
    "            mu = mu1\n",
    "\n",
    "        if TypeOfModel == 'Gompertz':\n",
    "            mu1 = mu_max*np.log(A/Cx)\n",
    "            β1 = βmax_log\n",
    "            mu = mu1\n",
    "\n",
    "        if TypeOfModel == 'Logistic':\n",
    "            mu1 = mu_max*(A-Cx)/A\n",
    "            β1 = βmax_log\n",
    "            mu = mu1\n",
    "\n",
    "        if TypeOfModel == 'Monod':\n",
    "            mu1 = mu_max*Cs/(Km+Cs)*(1-Ca1/Ca1_star) \n",
    "            β1 = βmax_log\n",
    "            mu = mu1\n",
    "\n",
    "        if TypeOfModel == 'Richard':\n",
    "            mu1 = mu_max*((A/Cx)**(1-m)-1)/(1-m)\n",
    "            β1 = βmax_log\n",
    "            mu = mu1\n",
    "\n",
    "\n",
    "        if mu1 <= 0: #No negative growth\n",
    "            mu = 0    \n",
    "    \n",
    "        if Cs <=0:\n",
    "            mu = 0 \n",
    "            β1 = 0\n",
    "             \n",
    "        else:\n",
    "            mu = mu1\n",
    "            β1 = β1\n",
    "    \n",
    "  \n",
    "        #              Gluc  N2  O2  X  CO2 NH4+ H2O\n",
    "        M = np.matrix([[-1,  0,  0,  1,  1,  0,  0], #C\n",
    "                       [-2,  0,  0,1.8,  0,  4,  2], #H\n",
    "                       [-1,  0, -2,0.5,  2,  0,  1], #O\n",
    "                       [ 0, -2,  0,0.2,  0,  1,  0], #N\n",
    "                       [ 0, -k,  0, -g_cons,  0,  0,  4], #Energy balance:ATP\n",
    "                       [ 0,  0,  0,  0,  0,  1,  0], #NH4+ spec\n",
    "                       [ 0,  0,  0,  1,  0,  0,  0]])#Biomass spec\n",
    "        \n",
    "        C = np.matrix([0,0,0,0,0,β1,mu]).T\n",
    "        r = np.linalg.solve(M,C)\n",
    "    \n",
    "        return[r[3,0],\n",
    "              -r[0,0],\n",
    "              r[5,0],\n",
    "              r[4,0],\n",
    "              -r[1,0],\n",
    "              -r[2,0],\n",
    "              r[6,0]]\n",
    "    def fermenter(C,t):\n",
    "        Cx,Cs,Ca1,Cco2,Cn2,Co2,Cw = C\n",
    "        r = growth_function(C)\n",
    "\n",
    "        dCx   = r[0]*Cx #Biomass production\n",
    "        dCs  = r[1]*Cx #N2 consumption\n",
    "        dCa1   = r[2]*Cx #Glucose consumption\n",
    "        dCco2  = r[3]*Cx        \n",
    "        dCn2  = r[4]*Cx #Function of time - not dependent on biomass\n",
    "        dCo2 = r[5]*Cx #CO2 production\n",
    "        dCw = r[6]*Cx\n",
    "        \n",
    "        return [dCx,dCs,dCa1,dCco2,dCn2,dCo2,dCw]\n",
    "    \n",
    "    C0 = [x[0],g[0],1e-10,0,0,0,0] #Glucose in cmol\n",
    "    tspan = np.linspace(0,t.iloc[-1],2001)\n",
    "    Ci = sp.odeint(fermenter, C0, tspan)\n",
    "    Cx,Cs,Ca1,Cco2,Cn2,Co2,Cw = Ci.T\n",
    "    \n",
    "    errorsum_s = 0\n",
    "    errorsum_g = 0\n",
    "    for i in np.arange(0,len(t),1):\n",
    "        for j in np.arange(0,len(tspan),1):\n",
    "            if abs(tspan[j] - t[i]) < 0.1:\n",
    "                error_s = abs(x[i]-Cx[j])\n",
    "                error_g = abs(g[i]-Cs[j])\n",
    "\n",
    "            else:\n",
    "                error_s = 0\n",
    "                error_g = 0\n",
    "\n",
    "        errorsum_s = errorsum_s + error_s\n",
    "        errorsum_g = errorsum_g + error_g\n",
    "\n",
    "    \n",
    "    plt.plot(tspan,Cx, 'g')\n",
    "    plt.plot(t,x,'ko')\n",
    "    plt.title('Biomass growth', fontsize = '16')\n",
    "    plt.xlabel('Time [h]', fontsize = '12')\n",
    "    plt.ylabel('Biomass (cmmol/L)', fontsize = '12')\n",
    "    plt.show()\n",
    "    print('Biomass fitting error= ', errorsum_s)\n",
    "    \n",
    "    plt.plot(tspan, Cs, 'c')\n",
    "    plt.plot(t,g,'ko')\n",
    "    plt.title('Glucose curve', fontsize = '16')\n",
    "    plt.xlabel('Time [h]', fontsize = '12')\n",
    "    plt.ylabel('Glucose amount (cmmol/L)', fontsize = '12')\n",
    "    plt.show()\n",
    "    print('Glucose fitting error= ', errorsum_g)\n",
    "    \n",
    "    rates = np.asarray([growth_function(C) for C in Ci])\n",
    "    rx, rs, ra1, rco2, rn2, ro2,rw = rates.T\n",
    "    plt.title('Rates profiles', fontsize = '16')\n",
    "    plt.xlabel('Time (h)', fontsize = '12')\n",
    "    plt.ylabel('Rate (mmol/ L. h)', fontsize = '12')\n",
    "    plt.plot(tspan,ro2,'y', label = '$O_{2}$ rate')\n",
    "    plt.plot(tspan,rco2,'r', label = '$CO_{2}$ rate')\n",
    "    plt.plot(tspan,rx, 'g', label = 'Biomass rate')\n",
    "    plt.plot(tspan,rs, 'k', label = 'Glucose rate')    \n",
    "    plt.plot(tspan,rn2,'c', label = '$N_{2}$ rate')\n",
    "    plt.plot(tspan, ra1, 'm', label = 'Ammonia rate')\n",
    "    plt.plot(tspan,rw,'b', label = '$H_{2}O$ rate')\n",
    "    plt.legend(loc='lower right')\n",
    "    plt.show()\n"
   ]
  },
  {
   "cell_type": "code",
   "execution_count": 24,
   "metadata": {},
   "outputs": [
    {
     "data": {
      "application/vnd.jupyter.widget-view+json": {
       "model_id": "d661877bb76d4e9982266f6a6fcbc2cb",
       "version_major": 2,
       "version_minor": 0
      },
      "text/plain": [
       "interactive(children=(Dropdown(description='Dataset', options=('Solution', 'Packing'), value='Solution'), Drop…"
      ]
     },
     "metadata": {},
     "output_type": "display_data"
    },
    {
     "data": {
      "text/plain": [
       "<function __main__.ModelSet(Dataset, TypeOfModel, mu_max)>"
      ]
     },
     "execution_count": 24,
     "metadata": {},
     "output_type": "execute_result"
    }
   ],
   "source": [
    "interact(ModelSet,Dataset=['Solution', 'Packing'], TypeOfModel=['Brody','Gompertz', 'Logistic', 'Monod', 'Richard'], mu_max=(0,1.0,0.1))"
   ]
  },
  {
   "cell_type": "markdown",
   "metadata": {},
   "source": [
    "### Solution data set: Optimized parameters\n",
    "\n",
    "| Model    | $\\mu_{max}$ | $\\beta$| $\\sum{Error_{X}}$| Growth delay (h)|\n",
    "| ---      | ---         | ---    | ---              | --- |\n",
    "| Monod    |    BAD FIT  | 0.00   |   243.85        | 55|\n",
    "| Brody    |    0.10     | 0.0057 |   3.8027               |55|\n",
    "| Richards |   0.13      | 0.0072 |   3.8556               |55|\n",
    "| Logistic |   0.45      | 0.0072 |   3.9050               |55|\n",
    "| Gompertz |   0.21      | 0.0042   |  3.9048              |55|"
   ]
  },
  {
   "cell_type": "markdown",
   "metadata": {},
   "source": [
    "### Packing data set: Optimized parameters\n",
    "\n",
    "| Model    | $\\mu_{max}$ | $\\sum{Error_{X}}$|$\\sum{Error_{S}}$|\n",
    "| ---      | ---         | ---              | ---|\n",
    "| Monod    |    0.10  |   4.9729         |2.5370e-35|\n",
    "| Brody    |    0.10     |   0.0063        |8.9625|\n",
    "| Richards |   0.10     |0.0098         |8.9689|\n",
    "| Logistic |   0.20      |   4.2250e-05|8.9513|\n",
    "| Gompertz |   0.12      |  0.0043        |8.9589|"
   ]
  },
  {
   "cell_type": "code",
   "execution_count": null,
   "metadata": {},
   "outputs": [],
   "source": []
  }
 ],
 "metadata": {
  "kernelspec": {
   "display_name": "Python 3",
   "language": "python",
   "name": "python3"
  },
  "language_info": {
   "codemirror_mode": {
    "name": "ipython",
    "version": 3
   },
   "file_extension": ".py",
   "mimetype": "text/x-python",
   "name": "python",
   "nbconvert_exporter": "python",
   "pygments_lexer": "ipython3",
   "version": "3.7.3"
  }
 },
 "nbformat": 4,
 "nbformat_minor": 4
}

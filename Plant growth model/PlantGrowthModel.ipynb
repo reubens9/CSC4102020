{
 "cells": [
  {
   "cell_type": "code",
   "execution_count": 1,
   "metadata": {},
   "outputs": [],
   "source": [
    "import numpy\n",
    "from numpy import matrix, array, linspace, linalg, append, log10\n",
    "from scipy.integrate import odeint, solve_ivp\n",
    "import matplotlib.pyplot as plt"
   ]
  },
  {
   "cell_type": "markdown",
   "metadata": {},
   "source": [
    "The image illustrates some photons hitting plant-leaf cells. Below the cells is a simplified map of the carbon and nutrient flux. $ \\mathrm{r_1} $ represents the rate of carbon assimilated $via$ photosynthesis. We can define the units as $ \\mathrm{cmol~C~/~(g~chlorophyll~day)} $. Measuring the mass of chlorophyll in a plant is difficult, especially if one wants to keep them alive during the measurement. So to simplify things, lets assume that when the plant grows, it produces chlorophyll at a constant relative rate to other biomass parts, such ars roots and stems. i.e $\\frac{\\Delta g~chlorophyll}{\\Delta g~total~biomass} = constant$. Also, assume the total composition of chlorophyl and biomass remains constant. Thus, we can define $\\mathrm{r_1}$ with units of $ \\mathrm{cmol~C~/~(C~mol~plant)} $"
   ]
  },
  {
   "cell_type": "markdown",
   "metadata": {},
   "source": [
    "<img src=\"PMF.png\" alt=\"Drawing\" style=\"width: 600px;\"/>"
   ]
  },
  {
   "cell_type": "markdown",
   "metadata": {},
   "source": [
    "To begin a model we make further assumptions:<br>\n",
    "<br>\n",
    "* Assume only macro nutrients are absorbed <br>\n",
    "* Leaf surface area, and hence absorbed photons, increases proportionally with increasing plant size \n",
    "* The assimilated carbon is directly proportional to the photosynthetic photon flux density $\\left(\\mathrm{PPFD},~\\mathrm{\\mu mol/A/time}\\right)$ <br>\n",
    "  or the amount of photons available for photosynthesis that strike a unit surface area per unit time.\n",
    "* Let $\\nu$ (nu) equal th the proportionality constant: $r_1 = \\nu~\\mathrm{PPFD}$\n",
    "* No energy is expended in converting the assimilated carbon into biomass (the actual amount is<br> \n",
    "  about 40 % of the total photosynthetic carbon)<br>\n",
    "* Nutrient absorbtion is directly proportional to plant size and follows Michaelis Menten kinetics\n",
    "* The total biomass composition remains constant"
   ]
  },
  {
   "cell_type": "markdown",
   "metadata": {},
   "source": [
    "### Variables <br>\n",
    "<br>\n",
    "$r_1$ : assimilated carbon $\\mathrm{~~~~{cmol~/~day~/~cmolX}}$ <br>\n",
    "$r_2$ : carbon going to biomass $\\mathrm{~~~~{cmol~/~day~/~cmolX}}$ <br>\n",
    "$r_3$ : Exudate carbon $\\mathrm{~~~~{cmol~/~day~/~cmolX}}$ <br>\n",
    "$\\mu$ : Final plant biomass (carbon + nutrients) $\\mathrm{~~~~{cmolX~/~day~/~cmolX}}$ <br>\n",
    "$\\sigma$ : Total nutrient flux $\\mathrm{~~~~{mol~/~day~/~cmolX}}$ <br>"
   ]
  },
  {
   "cell_type": "markdown",
   "metadata": {},
   "source": [
    "### Equations:\n",
    "<br> <br>\n",
    "[Michaelis Menten expresion](https://chem.libretexts.org/Bookshelves/Biological_Chemistry/Supplemental_Modules_(Biological_Chemistry)/Enzymes/Enzymatic_Kinetics/Michaelis-Menten_Kinetics) for individual nutrient absorbtion rates $\\left(\\mathrm{mol/day/cmolX}\\right)$, where $C_i$ is the nutrient concentration in solution $\\left(\\mathrm{mol/\\ell}\\right)$ and Km is the [Michaelis Menten constant](https://depts.washington.edu/wmatkins/kinetics/michaelis-menten.html): <br>\n",
    "<br>\n",
    "\\begin{equation}\n",
    "r_i = \\frac{r_{i,max}~C_i}{K_M + C_i}\n",
    "\\tag{0.1}\n",
    "\\end{equation}\n",
    "\n",
    "<br>\n",
    "Let $~\\sigma~$ equal the total nutrient absorption rate:\n",
    "<br>\n",
    "\n",
    "\\begin{align}\n",
    "\\sigma = \\sum_{}^{} r_i\n",
    "\\tag{0.2}\n",
    "\\end{align}\n",
    "\n",
    "<br>\n",
    "\n",
    "[The average biomass composition](https://www.intechopen.com/books/biomass-volume-estimation-and-valorization-for-energy/biomass-compositional-analysis-for-conversion-to-renewable-fuels-and-chemicals):\n",
    "<br>\n",
    "\n",
    "\\begin{align}\n",
    "\\mathrm{C~H_{\\mathit{x}}~O_{\\mathit{y}}~N_{\\mathit{z_1}}~K_{\\mathit{z_2}}~Ca_{\\mathit{z_3}}~S_{\\mathit{z_4}}~Mg_{\\mathit{z_5}}~P_{\\mathit{z_6}}} \n",
    "\\tag{0.3}\n",
    "\\end{align}\n",
    "\n",
    "<br>\n",
    "Let $z$ equal the total nutrient to carbon ratio $\\left(\\mathrm{mol/mol}\\right)$: \n",
    "<br>\n",
    "\n",
    "\\begin{align}\n",
    "z = \\sum_{}^{} z_i\n",
    "\\tag{0.4}\n",
    "\\end{align}\n",
    "\n",
    "<br>\n",
    "Thus, the mass balance may be represented by equation 1 to 3:\n",
    "\n",
    "\\begin{equation}\n",
    "r_1 = \\nu~PPFD\n",
    "\\tag{1}\n",
    "\\end{equation}\n",
    "<br>\n",
    "where PPFD is the [photosynthetic photon flux density](https://link.springer.com/article/10.1007/s11099-010-0077-5), $\\nu$ is the [assimilated carbon to PPFD constant as](https://www.ncbi.nlm.nih.gov/pmc/articles/PMC1080802/) and as $r_2 = \\mu$:\n",
    "\n",
    "\\begin{align}\n",
    "r_1 = \\mu + r_3 \n",
    "\\tag{2}\n",
    "\\end{align}\n",
    "\n",
    "\\begin{align}\n",
    "\\sigma = z~\\mu\n",
    "\\tag{3}\n",
    "\\end{align}"
   ]
  },
  {
   "cell_type": "markdown",
   "metadata": {},
   "source": [
    "### Initial conditions and constants"
   ]
  },
  {
   "cell_type": "code",
   "execution_count": 2,
   "metadata": {},
   "outputs": [],
   "source": [
    "Exo     = 0                      ##  initial Exudates                            (cmol)\n",
    "Xo      = 1                      ##  initial plant size                          (cmol)\n",
    "Vo      = 20                     ##  liquid volume                               (l)\n",
    "pHo     = 5                      ##  initial pH          \n",
    "OHo     = 10**(pHo - 14)*Vo      ##  initial hydroxide ions                      (mol)\n",
    "Ho      = 10**(-pHo)*Vo          ##  initial hydronium ions                      (mol)\n",
    "\n",
    "Nr_max  = 0.1                    ##  Maximum Nitrogen absorption rate            (mol/day/cmol_plant)\n",
    "Kr_max  = 0.04                   ##  Maximum Potasium absorption rate            (mol/day/cmol_plant)\n",
    "Car_max = 0.03                   ##  Maximum Calcium absorption rate             (mol/day/cmol_plant)\n",
    "Sr_max  = 0.01                   ##  Maximum Sulphur absorption rate             (mol/day/cmol_plant)\n",
    "Mgr_max = 0.01                   ##  Maximum Magnesium absorption rate           (mol/day/cmol_plant)\n",
    "Pr_max  = 0.01                   ##  Maximum Phosphorus absorption rate          (mol/day/cmol_plant)\n",
    "\n",
    "NO3o    = 0.015*Vo               ##  initial Nitrogen                            (mol)\n",
    "NH4o    = 0*Vo                   ##  initial Ammonium                            (mol)\n",
    "Ko      = 0.006*Vo               ##  initial Potasium                            (mol)\n",
    "Cao     = 0.005*Vo               ##  initial Calcium                             (mol)\n",
    "So      = 0.002*Vo               ##  initial Sulphate                            (mol)\n",
    "Mgo     = 0.002*Vo               ##  initial Magnesium                           (mol)\n",
    "Po      = 0.001*Vo               ##  initial Phosphate                           (mol)\n",
    "\n",
    "z1      = 0.1                    ##  Nitrogen to carbon ratio                    (mol/mol)\n",
    "z2      = 0.04                   ##  Potasium to carbon ratio                    (mol/mol)               \n",
    "z3      = 0.03                   ##  Calcium to carbon ratio                     (mol/mol)\n",
    "z4      = 0.01                   ##  Sulphur to carbon ratio                     (mol/mol)\n",
    "z5      = 0.01                   ##  Magnesium to carbon ratio                   (mol/mol)\n",
    "z6      = 0.01                   ##  Phosphorus to carbon ratio                  (mol/mol)\n",
    "\n",
    "PPFD    = 60.48                  ##  photosynthetic photon flux density          (umol/m^2/day)\n",
    "nu      = 0.16                   ##  Assimilated carbon to PPFD constant         (cmol.m^2/umol/cmol_plant)  \n",
    "Kw      = 10**(-14)              ##  Water equilibrium constant \n",
    "Km      = Nr_max/2               ##  Michaelis Menten constant for N uptake      (mol/l)\n",
    "Km1     = Kr_max/2               ##  Michaelis Menten constant for K uptake      (mol/l)\n",
    "Km2     = Car_max/2              ##  Michaelis Menten constant for Ca uptake     (mol/l)\n",
    "Km3     = Sr_max/2               ##  Michaelis Menten constant for S uptake      (mol/l)\n",
    "Km4     = Mgr_max/2              ##  Michaelis Menten constant for Mg uptake     (mol/l)\n",
    "Km5     = Pr_max/2               ##  Michaelis Menten constant for P uptake      (mol/l)\n",
    "B       = 0.01                   ##  Buffer capacity                             (mol) \n",
    "\n",
    "to      = 0                      ##  start time                                  (day)\n",
    "tend    = 30                     ##  end time                                    (day)\n",
    "nit     = 1000                   ##  number of returned elements                       "
   ]
  },
  {
   "cell_type": "markdown",
   "metadata": {},
   "source": [
    "### Functions"
   ]
  },
  {
   "cell_type": "markdown",
   "metadata": {},
   "source": [
    "We know that pH affects the availability of Nutrients in a plant, this is called Nutrient limitation. However, nutrients are limited at different rates due to pH. A [Trough diagram](https://www.researchgate.net/publication/221928014_Nutrient_Solutions_for_Hydroponic_Systems) shows how each nutrient in a nutrient solution is limited at different pH levels. In our case, we have a function that controls the availability of nutrients according to the pH in the solution. The values are rough estimates of the Trough diagram."
   ]
  },
  {
   "cell_type": "code",
   "execution_count": 3,
   "metadata": {},
   "outputs": [],
   "source": [
    "def Nutrient_adjust(var):                                    ##  Nutrient limitation due to pH\n",
    "    NO3, NH4, K, Ca, S, Mg, P, Ex, X, H, OH, V = var\n",
    "\n",
    "    Hc = H/V\n",
    "    pH = -log10(Hc)\n",
    "    \n",
    "    x  = 0.5*pH - 2\n",
    "    xp = -0.5*pH + 4\n",
    "    \n",
    "    if 8 >= pH >= 6:       \n",
    "        \n",
    "        NO3a = NO3\n",
    "        NH4a = NH4\n",
    "        Ka   = K\n",
    "        Caa  = Ca\n",
    "        Sa   = S\n",
    "        Mga  = Mg\n",
    "        Pa   = xp*P\n",
    "        \n",
    "    elif 6 > pH >= 4:\n",
    "        \n",
    "        NO3a = x*NO3\n",
    "        NH4a = x*NH4\n",
    "        Ka   = x*K\n",
    "        Caa  = x*Ca\n",
    "        Sa   = x*S\n",
    "        Mga  = x*Mg\n",
    "        Pa   = P\n",
    "    \n",
    "    else:\n",
    "        \n",
    "        NO3a = 0\n",
    "        NH4a = 0\n",
    "        Ka   = 0\n",
    "        Caa  = 0\n",
    "        Sa   = 0\n",
    "        Mga  = 0\n",
    "        Pa   = 0                      \n",
    "    \n",
    "    return [NO3a, NH4a, Ka, Caa, Sa, Mga, Pa] \n"
   ]
  },
  {
   "cell_type": "markdown",
   "metadata": {},
   "source": [
    "Let's take mixing paint as an example to explain nutrient uptake in plants. Let's say you need to make purple paint of a certain hue, value and intensity. To get that purple paint, you need 100 parts black (where the black paint is the base), 10 parts blue 4 parts red and 1 part yellow. The composition of the paint always has to be in those proportions. This is the same in plants, where the 'purple' represents the biomass composition, the black represents Carbon and the blue, red and yellow represent the nutrients. The biomass needs to be at a certain composition (i.e. hue) and that requires that the Carbon and the nutrients be taken into the plant at certain fractions (just like the 10 parts of blue and so on). However, the nutrients in real life ('the paint') will never be available in the correct proportions for the plants so now we can talk about different situations that arise with plants while keeping our paint analogy. <br>\n",
    "<br>\n",
    "<img src=\"Paint.png\" width='600' height = '600'>\n",
    "<br>\n",
    "For our first scenario, let's say that we are not producing enough of the colour paint (so the maximum amount of blue, red and yellow that can be created is 5, 3, 0.8), it stands to reason that in order to maintain the ratio required to create a purple paint of the required quality then the red, yellow and black paint will have to be stepped down proportionally by the value furthest away from the its maximum value (in this case by a half because the blue is only 50 % available) in order to maintain the acceptable quality. The same thing can happen with plants. If a certain nutrient uptake is at a subpar standard (due to poor nutrient availability) in order to produce the required composition of biomass, then all the other nutrients will have to be stepped down proportionally in order to produce biomass with the right composition. <br>\n",
    "<br>\n",
    "<img src=\"Paint1.png\" width=\"600\" height = \"600\"/>\n",
    "<br>\n",
    "For our second scenario, let's say that there is more than enough black paint and there is not enough of the other colours to produce the desired composition of the purple paint. That means that some of the black paint needs to get split off in order to maintain the desired composition. This happens in plants as well. If the Carbon that comes in to the plant through photosynthesis is too much compared to the nutrients, then some of the Carbon gets split off back into the tub to maintain the correct composition in the biomass. The carbon that is split off is called [exudates](https://www.greenfacts.org/glossary/def/exudate-plants.htm). \n",
    "<br>\n",
    "<img src=\"Paintsplit.png\" width='600' height = '600'>\n",
    "<br>"
   ]
  },
  {
   "cell_type": "code",
   "execution_count": 4,
   "metadata": {},
   "outputs": [],
   "source": [
    "def res(var):\n",
    "    NO3, NH4, K, Ca, S, Mg, P, Ex, X, H, OH, V = var \n",
    "    \n",
    "    CNO3, CNH4, CK, CCa, CS, CMg, CP = Nutrient_adjust(var)/V \n",
    "    \n",
    "    CN = CNO3 + CNH4\n",
    "    \n",
    "    ra = array([Nr_max*CN/(Km + CN),                             \n",
    "                Kr_max*CK/(Km1 + CK),\n",
    "                Car_max*CCa/(Km2 + CCa),\n",
    "                Sr_max*CS/(Km3 + CS),\n",
    "                Mgr_max*CMg/(Km4 + CMg),\n",
    "                Pr_max*CP/(Km5 + CP)])\n",
    "    \n",
    "    ns = array([z1, z2, z3, z4, z5, z6])\n",
    "    \n",
    "    z = sum(ns)\n",
    "    \n",
    "    rr = array([ra[0]/ns[0], ra[1]/ns[1], ra[2]/ns[2], ra[3]/ns[3], ra[4]/ns[4], ra[5]/ns[5]])\n",
    "    \n",
    "    for i in range(len(rr)):               ##  Corrects for nutrient limitation\n",
    "        \n",
    "        if rr[i] == min(rr):\n",
    "            \n",
    "            ra = array([rr[i]*ns[0], rr[i]*ns[1], rr[i]*ns[2], rr[i]*ns[3], rr[i]*ns[4], rr[i]*ns[5]])\n",
    "            \n",
    "            sigma = sum(ra)\n",
    "            \n",
    "            break\n",
    "    \n",
    "    \n",
    "    M = matrix([[1,  0,  0],        # r1, r3, mu\n",
    "                [1, -1, -1],\n",
    "                [0,  0,  z]])        \n",
    "    \n",
    "    c = array([nu*PPFD, 0, sigma])\n",
    "    \n",
    "    ri = linalg.solve(M, c)\n",
    "    \n",
    "    \n",
    "    if ri[1] < 0:                    \n",
    "                    \n",
    "        sigma = z*nu*PPFD \n",
    "        \n",
    "        c = array([nu*PPFD, 0, sigma])\n",
    "        \n",
    "        ri = linalg.solve(M, c)\n",
    "        \n",
    "        ra = array([sigma*z1/z, sigma*z2/z, sigma*z3/z, sigma*z4/z, sigma*z5/z, sigma*z6/z])\n",
    "        \n",
    "    ri = append(ri, ra)\n",
    "\n",
    "    return ri"
   ]
  },
  {
   "cell_type": "code",
   "execution_count": 5,
   "metadata": {},
   "outputs": [],
   "source": [
    "def ebbnflow(var, t):\n",
    "    \n",
    "    NO3, NH4, K, Ca, S, Mg, P, Ex, X, H, OH, V = var              \n",
    "    \n",
    "    N = NO3 + NH4\n",
    "    Hc = H/V                         \n",
    "    pH = -log10(Hc)      \n",
    "    \n",
    "    if pH > 8 or pH < 4:\n",
    "        \n",
    "        return [0, 0, 0, 0, 0, 0, 0, 0, 0, 0, 0, 0]\n",
    "    \n",
    "    else:\n",
    "\n",
    "        r = res(var)\n",
    "\n",
    "        dNO3dt = -(NO3/N)*r[3]*X\n",
    "        dNH4dt = -(NH4/N)*r[3]*X\n",
    "        dKdt   = -r[4]*X\n",
    "        dCadt  = -r[5]*X\n",
    "        dSdt   = -r[6]*X\n",
    "        dMgdt  = -r[7]*X\n",
    "        dPdt   = -r[8]*X\n",
    "        dExdt  =  r[1]*X\n",
    "        dXdt   =  r[2]*X\n",
    "        \n",
    "        dOHdt  = -(dNO3dt + 2*dSdt + dPdt)\n",
    "        dHdt   = -(dNH4dt + dKdt + 2*dMgdt + 2*dCadt)\n",
    "        \n",
    "        netH   =  dHdt - dOHdt\n",
    "        \n",
    "        dOHdt_soln = -netH*(OH/(OH + H + B))\n",
    "        dHdt_soln  =  netH*(H/(OH + H + B))\n",
    "        \n",
    "        dVdt = 0\n",
    "\n",
    "        return [dNO3dt,\n",
    "                dNH4dt,\n",
    "                dKdt,\n",
    "                dCadt,\n",
    "                dSdt,\n",
    "                dMgdt,\n",
    "                dPdt,\n",
    "                dExdt,\n",
    "                dXdt,\n",
    "                dHdt_soln,\n",
    "                dOHdt_soln,\n",
    "                dVdt]"
   ]
  },
  {
   "cell_type": "code",
   "execution_count": 6,
   "metadata": {},
   "outputs": [],
   "source": [
    "def plotter(name):\n",
    "    \n",
    "    no3, nh4, k, ca, s, mg, p, ex, x, h, oh, v = C.T\n",
    "    \n",
    "    table = {'Exudates Conc' : {'x' : (tsp), 'y' : (ex)},\n",
    "             'Plantsize'     : {'x' : (tsp), 'y' : (x)},\n",
    "             'NO3 Conc'      : {'x' : (tsp), 'y' : (no3/v)},\n",
    "             'K Conc'        : {'x' : (tsp), 'y' : (k/v)},\n",
    "             'P Conc'        : {'x' : (tsp), 'y' : (p/v)},\n",
    "             'H Conc'        : {'x' : (tsp), 'y' : (h/v)},\n",
    "             'S Conc'        : {'x' : (tsp), 'y' : (s/v)},\n",
    "             'Mg Conc'       : {'x' : (tsp), 'y' : (mg/v)},\n",
    "             'Ca Conc'       : {'x' : (tsp), 'y' : (ca/v)},\n",
    "             'NH4 Conc'      : {'x' : (tsp), 'y' : (nh4/v)},\n",
    "             'OH Conc'       : {'x' : (tsp), 'y' : (oh/v)},\n",
    "             'Volume'        : {'x' : (tsp), 'y' : (v)},\n",
    "             'pH'            : {'x' : (tsp), 'y' : (-log10(h/v))},}\n",
    "    \n",
    "    plt.figure(name)\n",
    "    plt.xlabel('Time [Days]')\n",
    "    plt.ylabel(name)\n",
    "    \n",
    "    xvals = table[name]['x']\n",
    "    yvals = table[name]['y']\n",
    "    \n",
    "    \n",
    "    plt.plot(xvals, yvals)\n",
    "    plt.title(name)\n",
    "    \n",
    "    return plt.show()"
   ]
  },
  {
   "cell_type": "code",
   "execution_count": 7,
   "metadata": {},
   "outputs": [],
   "source": [
    "yo  = [NO3o, NH4o, Ko, Cao, So, Mgo, Po, Exo, Xo, Ho, OHo, Vo]\n",
    "tsp = linspace(to, tend, nit)\n",
    "C   = odeint(ebbnflow, yo, tsp)"
   ]
  },
  {
   "cell_type": "code",
   "execution_count": 8,
   "metadata": {},
   "outputs": [],
   "source": [
    "no3, nh4, k, ca, s, mg, p, ex, x, h, oh, v = C.T\n",
    "ph = -log10(h/v)"
   ]
  },
  {
   "cell_type": "markdown",
   "metadata": {},
   "source": [
    "### Plots"
   ]
  },
  {
   "cell_type": "code",
   "execution_count": 9,
   "metadata": {},
   "outputs": [
    {
     "data": {
      "image/png": "[encoded data removed]",
      "text/plain": [
       "<Figure size 432x288 with 1 Axes>"
      ]
     },
     "metadata": {},
     "output_type": "display_data"
    },
    {
     "data": {
      "text/plain": [
       "2.9988524752093655"
      ]
     },
     "execution_count": 9,
     "metadata": {},
     "output_type": "execute_result"
    }
   ],
   "source": [
    "plotter('Plantsize')\n",
    "max(x)"
   ]
  },
  {
   "cell_type": "code",
   "execution_count": 10,
   "metadata": {},
   "outputs": [
    {
     "data": {
      "image/png": "[encoded data removed]",
      "text/plain": [
       "<Figure size 432x288 with 1 Axes>"
      ]
     },
     "metadata": {},
     "output_type": "display_data"
    }
   ],
   "source": [
    "plotter('Exudates Conc')"
   ]
  },
  {
   "cell_type": "code",
   "execution_count": 11,
   "metadata": {},
   "outputs": [
    {
     "data": {
      "image/png": "[encoded data removed]",
      "text/plain": [
       "<Figure size 432x288 with 1 Axes>"
      ]
     },
     "metadata": {},
     "output_type": "display_data"
    }
   ],
   "source": [
    "plotter('P Conc')"
   ]
  },
  {
   "cell_type": "code",
   "execution_count": 12,
   "metadata": {},
   "outputs": [
    {
     "data": {
      "image/png": "[encoded data removed]",
      "text/plain": [
       "<Figure size 432x288 with 1 Axes>"
      ]
     },
     "metadata": {},
     "output_type": "display_data"
    },
    {
     "data": {
      "text/plain": [
       "0.10011475247906378"
      ]
     },
     "execution_count": 12,
     "metadata": {},
     "output_type": "execute_result"
    }
   ],
   "source": [
    "plotter('NO3 Conc')\n",
    "min(no3)"
   ]
  },
  {
   "cell_type": "code",
   "execution_count": 13,
   "metadata": {},
   "outputs": [
    {
     "data": {
      "image/png": "[encoded data removed]",
      "text/plain": [
       "<Figure size 432x288 with 1 Axes>"
      ]
     },
     "metadata": {},
     "output_type": "display_data"
    }
   ],
   "source": [
    "plotter('pH')"
   ]
  },
  {
   "cell_type": "markdown",
   "metadata": {},
   "source": [
    "It stands to reason that we would like to have the pH with minimum variation, so that we can have optimal plant growth, as we've already seen with the previous plots, pH has a heavy influence on plant growth. We can now optimize our inlet nutrients so that we can have the perfect combination of nutrients so that we have a minimum variance in  the pH."
   ]
  },
  {
   "cell_type": "code",
   "execution_count": 14,
   "metadata": {},
   "outputs": [],
   "source": [
    "#Function to find minimum required for any of the nutrients.\n",
    "def my_minimum(iterable, nut):\n",
    "    \n",
    "    iterable = iter(iterable)\n",
    "    minimum  = next(iterable)\n",
    "    \n",
    "    cnt = 0\n",
    "    \n",
    "    for i in iterable:\n",
    "        \n",
    "        cnt += 1\n",
    "        \n",
    "        if i < minimum:\n",
    "            \n",
    "            minimum = i\n",
    "            mins = nut[cnt]\n",
    "            \n",
    "    return print('The minimum pH difference is {} and the nutrient tested = {}'.format(minimum, mins))"
   ]
  },
  {
   "cell_type": "code",
   "execution_count": 15,
   "metadata": {},
   "outputs": [],
   "source": [
    "#Function to return the values of difference in pH\n",
    "def diffph(nut):\n",
    "    \n",
    "    vals = []\n",
    "\n",
    "    phbeg = -log10(Ho/Vo)\n",
    "\n",
    "    for NH4oo in nut:\n",
    "\n",
    "        yo  = [NO3o, NH4oo, Ko, Cao, So, Mgo, Po, Exo, Xo, Ho, OHo, Vo]\n",
    "\n",
    "        tsp = linspace(to, tend, nit)\n",
    "\n",
    "        C   = odeint(ebbnflow, yo, tsp)\n",
    "\n",
    "        no3, nh4, k, ca, s, mg, p, ex, x, h, oh, v = C.T\n",
    "\n",
    "        ph = -log10(h/v)[-1]\n",
    "\n",
    "        if ph < phbeg:\n",
    "\n",
    "            pass\n",
    "\n",
    "        else: \n",
    "\n",
    "            vals.append(abs(ph - phbeg)) \n",
    "            \n",
    "    return vals"
   ]
  },
  {
   "cell_type": "code",
   "execution_count": 16,
   "metadata": {},
   "outputs": [],
   "source": [
    "nut = numpy.linspace(0, NO3o, 1000)"
   ]
  },
  {
   "cell_type": "code",
   "execution_count": 17,
   "metadata": {},
   "outputs": [
    {
     "name": "stdout",
     "output_type": "stream",
     "text": [
      "The minimum pH difference is 0.008908419471763906 and the nutrient tested = 0.015615615615615615\n"
     ]
    }
   ],
   "source": [
    "#This cell takes a super long time to run so just give it some time\n",
    "my_minimum(diffph(nut), nut)"
   ]
  },
  {
   "cell_type": "code",
   "execution_count": 18,
   "metadata": {},
   "outputs": [],
   "source": [
    "#This answer makes sense, it's about 50% of the No3o"
   ]
  }
 ],
 "metadata": {
  "kernelspec": {
   "display_name": "Python 3",
   "language": "python",
   "name": "python3"
  },
  "language_info": {
   "codemirror_mode": {
    "name": "ipython",
    "version": 3
   },
   "file_extension": ".py",
   "mimetype": "text/x-python",
   "name": "python",
   "nbconvert_exporter": "python",
   "pygments_lexer": "ipython3",
   "version": "3.7.6"
  }
 },
 "nbformat": 4,
 "nbformat_minor": 2
}

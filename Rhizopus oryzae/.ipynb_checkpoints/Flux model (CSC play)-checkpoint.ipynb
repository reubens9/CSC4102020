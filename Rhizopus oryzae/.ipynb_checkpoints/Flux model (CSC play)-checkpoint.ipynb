{
 "cells": [
  {
   "cell_type": "markdown",
   "metadata": {},
   "source": [
    "# Rhizopus oryzae\n",
    "<img src=\"RhozyMap.png\" width=\"400\" />"
   ]
  },
  {
   "cell_type": "markdown",
   "metadata": {},
   "source": [
    "#### Help\n",
    "1.) Molecular Formula of SMH\n",
    "\n",
    "2.) Do we still fit β even if it has been calculated from anabolism?\n",
    "\n",
    "3.) how do I incorporate the little amount of nitrogen available when fermentation egins for SMH, and how do do this so that biomass reflect the on the presence of this and so could plot its depletion behavioour. Because Rhozy grows in the presence of nitrogen\n",
    "\n",
    "#### Assumptions\n",
    "1.)\n",
    "#### To do\n",
    "1.) Molecular Formula of SMH"
   ]
  },
  {
   "cell_type": "code",
   "execution_count": 7,
   "metadata": {},
   "outputs": [],
   "source": [
    "import numpy as np\n",
    "from numpy.linalg import solve\n",
    "from scipy.optimize import fsolve, minimize\n",
    "import matplotlib.pyplot as plt\n",
    "from scipy.integrate import odeint\n",
    "import pandas\n",
    "from ipywidgets import interact\n",
    "from IPython.display import Image\n",
    "# from __future__ import division\n",
    "%matplotlib inline"
   ]
  },
  {
   "cell_type": "code",
   "execution_count": 8,
   "metadata": {},
   "outputs": [
    {
     "data": {
      "text/plain": [
       "(23.0, 24.6, 30, 17, 29, 33.5)"
      ]
     },
     "execution_count": 8,
     "metadata": {},
     "output_type": "execute_result"
    }
   ],
   "source": [
    "c, h, o, n = 12, 1, 16, 14\n",
    "MMs = c + 2*h + o\n",
    "MMx = c + 1.8*h + 0.5*o + 0.2*n\n",
    "MMe = c + 3*h + 0.5*o\n",
    "MMn = n + 3*h\n",
    "MMf = c + h + o\n",
    "MMm = c + 1.5*h + 1.25*o\n",
    "MMe,MMx,MMs,MMn,MMf, MMm"
   ]
  },
  {
   "cell_type": "markdown",
   "metadata": {},
   "source": [
    "### Predicting the Molecular formula of SMH"
   ]
  },
  {
   "cell_type": "code",
   "execution_count": 9,
   "metadata": {},
   "outputs": [],
   "source": [
    "#Nitrgoen obtained by multiplyinh the protein by 16%\n",
    "#g/l of nitrogen coverted into mol/L by deviding by MM on nitrogen(14)"
   ]
  },
  {
   "cell_type": "code",
   "execution_count": 10,
   "metadata": {},
   "outputs": [],
   "source": [
    "datag = pandas.read_csv('growth.csv')\n",
    "tg = datag['t'].T\n",
    "Csugarg = datag['Cs']\n",
    "Cnitrogeng = datag['Cn']"
   ]
  },
  {
   "cell_type": "code",
   "execution_count": 13,
   "metadata": {},
   "outputs": [
    {
     "data": {
      "application/vnd.jupyter.widget-view+json": {
       "model_id": "bc2a5d9d79aa468ca731790d7887b8c7",
       "version_major": 2,
       "version_minor": 0
      },
      "text/plain": [
       "interactive(children=(FloatSlider(value=0.02, description='μ_max', max=2.0, step=0.05), FloatSlider(value=0.0,…"
      ]
     },
     "metadata": {},
     "output_type": "display_data"
    }
   ],
   "source": [
    "def growth (μ_max  = 0.02, θ_max = 0, Kms = 0.5, Kmn = 1,β =0.1):\n",
    "    def response_fun(C):\n",
    "        Cx, Cs, Cf, Ce, Cn = C\n",
    "        if Cs <= 0:\n",
    "            return [0,0,0,0,0]\n",
    "        \n",
    "        else:    \n",
    "            μ = μ_max* (Cs/ (Kms + Cs))#*((1+ (Cf/Kmn))**(-1))\n",
    "            θ = θ_max \n",
    "            Yxu = 0.2 #fix for SMH\n",
    "\n",
    "            A1 = np.matrix([[-1, 1+α, 1, 0, 0, 0, 0],\n",
    "                          [0, 0, -1, 1, 1, 1, 0],\n",
    "                          [0, -γ, 1/3, -1, 0, 1/3, 2*P_O],\n",
    "                          [0, β, 1/3, -1/4, -1/2, 2, -2],\n",
    "                          [1, 0, 0, 0, 0, 0, 0],\n",
    "                          [0, 1, 0, 0, 0, 0, 0],\n",
    "                          [0, 0, 0, 0, 1, 0, 0]])\n",
    "\n",
    "\n",
    "            B1 = np.matrix([[0, 0, θ, 0, r_gluc, μ, r_ethanol]]).T\n",
    "\n",
    "            r1 = np.linalg.solve(A1,B1)\n",
    "\n",
    "            return[r1[1,0],\n",
    "              -r1[0,0],\n",
    "              r1[3,0],\n",
    "              r1[4,0],\n",
    "                  -Yxu*r1[1,0]]\n",
    "\n",
    "    def ferm_eq(C,t):\n",
    "        Cx, Cs, Cf, Ce, Cn = C[0],C[1], C[2], C[3], C[4]\n",
    "\n",
    "        r=response_fun([Cx, Cs, Cf, Ce, Cn])     \n",
    "\n",
    "        return [r[0]*Cx,\n",
    "                r[1]*Cx,\n",
    "                r[2]*Cx,\n",
    "                r[3]*Cx,\n",
    "                r[4]*Cx,]\n",
    "    \n",
    "    \n",
    "    α, γ, P_O= 0.1, 2.5, 1.5#, μ_max, 0.1, θ, 0, \n",
    "    r_gluc = ((10-0.11)/((0.45/(0.05))*24))*(MMx/MMs) #cx,massx,50ml,time#\n",
    "    r_ethanol =((0.2-0)/((0.45/(0.05))*24))*(MMx/MMe) #NB: recheck: dvide it by 10 to match the amount of s i.e ferm 100g_s an 10 growth (look into this)\n",
    "    Cso,Cxo,Cno,Cfo,Ceo = 10/MMs, 0.45/(0.05*MMx), (0.16*0.44)/14, 0, 0 #Fix initial Cx value. is it zero or?\n",
    "                                                                      #Cn devided by 14 for nitrogen \n",
    "    Co=[Cxo, Cso, Cfo,Ceo, Cno]                     # [Cxo, Cso, Cfo, Ceo,Cno] in cmol/L\n",
    "    tspan=np.linspace(0,25 ,100)           # define the timespan of the integration\n",
    "    Ci = odeint(ferm_eq, Co, tspan)             # integration via odeint that calls apon ferm_eq\n",
    "\n",
    "    Cx, Cs, Cf, Ce, Cn = Ci.T\n",
    "\n",
    "    plt.figure(1)\n",
    "    \n",
    "    fig, ax1 = plt.subplots()\n",
    "    \n",
    "    color = 'tab:red'\n",
    "    ax1.set_xlabel('time (h)')\n",
    "    ax1.set_ylabel('glucose (cmol/L)', color=color)\n",
    "    ax1.plot(tspan, Cs, color=color, label='Cs')\n",
    "    ax1.plot(tg, Csugarg, '*', color=color)\n",
    "    ax1.tick_params(axis='y', labelcolor=color)\n",
    "\n",
    "    ax2 = ax1.twinx()  # instantiate a second axes that shares the same x-axis\n",
    "\n",
    "    color = 'tab:green'\n",
    "    ax2.set_ylabel('Nitrogen', color=color)  # we already handled the x-label with ax1\n",
    "    ax2.plot(tspan, Cn, color=color, label='Cn') #fix the nitrogen data, figure it out\n",
    "    ax2.plot(tg, Cnitrogeng, '*', color=color)\n",
    "    ax2.tick_params(axis='y', labelcolor=color)\n",
    "\n",
    "    fig.tight_layout()  # otherwise the right y-label is slightly clipped\n",
    "\n",
    "    \n",
    "interact(growth, μ_max  = (0,2,0.05), θ_max = (0,10,0.05), Kms = (0, 3.3, 0.01),Kmn =  (0,1.3,0.01),β = (0,3,0.01))\n",
    "plt.show()"
   ]
  },
  {
   "cell_type": "code",
   "execution_count": 14,
   "metadata": {},
   "outputs": [
    {
     "data": {
      "image/png": "[encoded data removed]",
      "text/plain": [
       "<IPython.core.display.Image object>"
      ]
     },
     "execution_count": 14,
     "metadata": {},
     "output_type": "execute_result"
    }
   ],
   "source": [
    "Image(\"growth.png\")"
   ]
  },
  {
   "cell_type": "markdown",
   "metadata": {},
   "source": [
    " <tr>\n",
    "    <td> <img src=\"growth.png\" alt=\"Drawing\" style=\"width: 400px;\"/> </td>\n",
    "    </tr>"
   ]
  },
  {
   "cell_type": "markdown",
   "metadata": {},
   "source": [
    "# SMH 20% v/v (growth phase)"
   ]
  },
  {
   "cell_type": "markdown",
   "metadata": {},
   "source": [
    "# - - - - - - - - - - - - - - - - - - - - - - - - - - - - - - - - - - - - - - - - - - - - - - - - - - - - - - - - - - "
   ]
  },
  {
   "cell_type": "markdown",
   "metadata": {},
   "source": [
    "# SMH 20% v/v (production phase)"
   ]
  },
  {
   "cell_type": "code",
   "execution_count": null,
   "metadata": {},
   "outputs": [],
   "source": [
    "data = pandas.read_csv('SMH.csv')\n",
    "t = data['t'].T\n",
    "Csugar = data['Cs']\n",
    "Cfumarate = data['Cf']\n",
    "Cethanol = data['Ce']\n",
    "Cmalic = data['Cm']"
   ]
  },
  {
   "cell_type": "code",
   "execution_count": null,
   "metadata": {},
   "outputs": [],
   "source": [
    "def SMH (μ_max  = 0.02, θ_max = 0, Kms = 0.5, Kmn = 1,β =0.1):\n",
    "    def response_fun(C):\n",
    "        Cx, Cs, Cf, Ce, Cn = C\n",
    "        if Cs <= 0:\n",
    "            return [0,0,0,0,0]\n",
    "        \n",
    "        else:    \n",
    "            μ = μ_max* (Cs/ (Kms + Cs))#*((1+ (Cf/Kmn))**(-1))\n",
    "            θ = θ_max\n",
    "            Yxu = 0.2 #fix for SMH\n",
    "\n",
    "            A1 = np.matrix([[-1, 1+α, 1, 0, 0, 0, 0],\n",
    "                          [0, 0, -1, 1, 1, 1, 0],\n",
    "                          [0, -γ, 1/3, -1, 0, 1/3, 2*P_O],\n",
    "                          [0, β, 1/3, -1/4, -1/2, 2, -2],\n",
    "                          [1, 0, 0, 0, 0, 0, 0],\n",
    "                          [0, 1, 0, 0, 0, 0, 0],\n",
    "                          [0, 0, 0, 0, 1, 0, 0]])\n",
    "\n",
    "\n",
    "            B1 = np.matrix([[0, 0, θ, 0, r_gluc, μ, r_ethanol]]).T\n",
    "\n",
    "            r1 = np.linalg.solve(A1,B1)\n",
    "\n",
    "            return[r1[1,0],\n",
    "              -r1[0,0],\n",
    "              r1[3,0],\n",
    "              r1[4,0],\n",
    "                  -Yxu*r1[1,0]]\n",
    "\n",
    "    def ferm_eq(C,t):\n",
    "        Cx, Cs, Cf, Ce, Cn = C[0],C[1], C[2], C[3], C[4]\n",
    "\n",
    "        r=response_fun([Cx, Cs, Cf, Ce, Cn])     \n",
    "\n",
    "        return [r[0]*Cx,\n",
    "                r[1]*Cx,\n",
    "                r[2]*Cx,\n",
    "                r[3]*Cx,\n",
    "                r[4]*Cx,]\n",
    "    \n",
    "    \n",
    "    α, γ, P_O= 0.1, 2.5, 1.5#, μ_max, 0.1, θ, 0, \n",
    "    r_gluc = ((100-20)/((0.45/(0.04))*145))*(MMx/MMs) #cx,massx,40ml,time#\n",
    "    r_ethanol =((2-0)/((0.45/(0.04))*145))*(MMx/MMe)\n",
    "    Cso,Cxo,Cno,Cfo,Ceo = 97/MMs, 0.45/(0.04*MMx), (0.16*0.15)/14, 0, 0 #Cn devided by 14 for nitrogen \n",
    "\n",
    "    Co=[Cxo, Cso, Cfo,Ceo, Cno]                     # [Cxo, Cso, Cfo, Ceo,Cno] in cmol/L\n",
    "    tspan=np.linspace(0,150 ,100)           # define the timespan of the integration\n",
    "    Ci = odeint(ferm_eq, Co, tspan)             # integration via odeint that calls apon ferm_eq\n",
    "\n",
    "    Cx, Cs, Cf, Ce, Cn = Ci.T\n",
    "\n",
    "    plt.figure(1)\n",
    "\n",
    "    plt.plot(tspan, Cs, color='red', label='Cs')\n",
    "    plt.plot(t, Csugar, '*', color='red')\n",
    "    \n",
    "    plt.plot(tspan, Cf, color='green', label='Cf')\n",
    "    plt.plot(t, Cfumarate, '*', color='green')\n",
    "    \n",
    "    plt.plot(tspan, Ce, color='black', label='Ce')\n",
    "    plt.plot(t, Cethanol, '*', color='black')\n",
    "    \n",
    "#     plt.plot(tspan, Cm, color='black', label='Cm')\n",
    "#     plt.plot(t, Cmalic, '*', color='blue')\n",
    "\n",
    "    plt.legend(loc='best')\n",
    "    plt.ylabel('Concentration cmol/L') \n",
    "    plt.xlabel('time (h)') \n",
    "\n",
    "    \n",
    "interact(SMH, μ_max  = (0,2,0.05), θ_max = (0,10,0.05), Kms = (0, 3.3, 0.01),Kmn =  (0,1.3,0.01),β = (0,3,0.01))\n",
    "plt.show()"
   ]
  },
  {
   "cell_type": "markdown",
   "metadata": {},
   "source": [
    " <tr>\n",
    "    <td> <img src=\"smh20.png\" alt=\"Drawing\" style=\"width: 400px;\"/> </td>\n",
    "    </tr>"
   ]
  },
  {
   "cell_type": "markdown",
   "metadata": {},
   "source": [
    "# - - - - - - - - - - - - - - - - - - - - - - - - - - - - - - - - - - - - - - - - - - - - - - - - - - - - - - - - - - "
   ]
  },
  {
   "cell_type": "markdown",
   "metadata": {},
   "source": [
    "# Yeast (production phase)"
   ]
  },
  {
   "cell_type": "code",
   "execution_count": null,
   "metadata": {},
   "outputs": [],
   "source": [
    "data1 = pandas.read_csv('yeast.csv')\n",
    "t1 = data1['t'].T\n",
    "Csugar1 = data1['Cs']\n",
    "Cfumarate1 = data1['Cf']\n",
    "Cethanol1 = data1['Ce']\n",
    "Cmalic1 = data1['Cm']"
   ]
  },
  {
   "cell_type": "code",
   "execution_count": null,
   "metadata": {},
   "outputs": [],
   "source": [
    "def yeast (μ_max  = 0.02, θ_max = 0, Kms = 0.5, Kmn = 1,β =0.1):\n",
    "    def response_fun(C):\n",
    "        Cx, Cs, Cf, Ce, Cn = C\n",
    "        if Cs <= 0:\n",
    "            return [0,0,0,0,0]\n",
    "        \n",
    "        else:    \n",
    "            μ = μ_max* (Cs/ (Kms + Cs))#*((1+ (Cf/Kmn))**(-1))\n",
    "            θ = θ_max\n",
    "            Yxu = 0.2 #fix for yeast and recalculate β\n",
    "\n",
    "            A1 = np.matrix([[-1, 1+α, 1, 0, 0, 0, 0],\n",
    "                          [0, 0, -1, 1, 1, 1, 0],\n",
    "                          [0, -γ, 1/3, -1, 0, 1/3, 2*P_O],\n",
    "                          [0, β, 1/3, -1/4, -1/2, 2, -2],\n",
    "                          [1, 0, 0, 0, 0, 0, 0],\n",
    "                          [0, 1, 0, 0, 0, 0, 0],\n",
    "                          [0, 0, 0, 0, 1, 0, 0]])\n",
    "\n",
    "\n",
    "            B1 = np.matrix([[0, 0, θ, 0, r_gluc, μ, r_ethanol]]).T\n",
    "\n",
    "            r1 = np.linalg.solve(A1,B1)\n",
    "\n",
    "            return[r1[1,0],\n",
    "              -r1[0,0],\n",
    "              r1[3,0],\n",
    "              r1[4,0],\n",
    "                  -Yxu*r1[1,0]]\n",
    "\n",
    "    def ferm_eq(C,t):\n",
    "        Cx, Cs, Cf, Ce, Cn = C[0],C[1], C[2], C[3], C[4]\n",
    "\n",
    "        r=response_fun([Cx, Cs, Cf, Ce, Cn])     \n",
    "\n",
    "        return [r[0]*Cx,\n",
    "                r[1]*Cx,\n",
    "                r[2]*Cx,\n",
    "                r[3]*Cx,\n",
    "                r[4]*Cx,]\n",
    "    \n",
    "    \n",
    "    α, γ, P_O= 0.1, 2.5, 1.5#, μ_max, 0.1, θ, 0, \n",
    "    r_gluc = ((100-10)/((0.45/(0.04))*88))*(MMx/MMs) #cx,massx,50ml,time#\n",
    "    r_ethanol =((28-0)/((0.45/(0.04))*88))*(MMx/MMe) #NB: chane to malic spec cause it is constant. remember to also change matrix\n",
    "    Cso,Cxo,Cno,Cfo,Ceo = 100/MMs, 0.45/(0.04*MMx), 0, 0, 0\n",
    "\n",
    "    Co=[Cxo, Cso, Cfo,Ceo, Cno]                     # [Cxo, Cso, Cfo, Ceo,Cno] in cmol/L\n",
    "    tspan=np.linspace(0,100 ,100)           # define the timespan of the integration\n",
    "    Ci = odeint(ferm_eq, Co, tspan)             # integration via odeint that calls apon ferm_eq\n",
    "\n",
    "    Cx, Cs, Cf, Ce, Cn = Ci.T\n",
    "\n",
    "    plt.figure(2)\n",
    "\n",
    "    plt.plot(tspan, Cs, color='red', label='Cs')\n",
    "    plt.plot(t1, Csugar1, '*', color='red')\n",
    "    \n",
    "    plt.plot(tspan, Cf, color='green', label='Cf')\n",
    "    plt.plot(t1, Cfumarate1, '*', color='green')\n",
    "    \n",
    "    plt.plot(tspan, Ce, color='black', label='Ce')\n",
    "    plt.plot(t1, Cethanol1, '*', color='black')\n",
    "    \n",
    "#     plt.plot(tspan, Cm, color='black', label='Cm')\n",
    "#     plt.plot(t, Cmalic1, '*', color='blue')\n",
    "\n",
    "    plt.legend(loc='best')\n",
    "    plt.ylabel('Concentration cmol/L') \n",
    "    plt.xlabel('time (h)') \n",
    "\n",
    "    \n",
    "interact(yeast, μ_max  = (0,2,0.05), θ_max = (0,10,0.05), Kms = (0, 3.3, 0.01),Kmn =  (0,1.3,0.01),β = (0,3,0.01))\n",
    "plt.show()"
   ]
  },
  {
   "cell_type": "markdown",
   "metadata": {},
   "source": [
    " <tr>\n",
    "    <td> <img src=\"yeast.png\" alt=\"Drawing\" style=\"width: 400px;\"/> </td>\n",
    "    </tr>"
   ]
  },
  {
   "cell_type": "markdown",
   "metadata": {},
   "source": [
    "# - - - - - - - - - - - - - - - - - - - - - - - - - - - - - - - - - - - - - - - - - - - - - - - - - - - - - - - - - - "
   ]
  },
  {
   "cell_type": "markdown",
   "metadata": {},
   "source": [
    "# Urea (production phase)"
   ]
  },
  {
   "cell_type": "code",
   "execution_count": null,
   "metadata": {},
   "outputs": [],
   "source": [
    "data2 = pandas.read_csv('urea.csv')\n",
    "t2 = data2['t'].T\n",
    "Csugar2 = data2['Cs']\n",
    "Cfumarate2 = data2['Cf']\n",
    "Cethanol2 = data2['Ce']\n",
    "Cmalic2 = data2['Cm']"
   ]
  },
  {
   "cell_type": "code",
   "execution_count": null,
   "metadata": {},
   "outputs": [],
   "source": [
    "def Urea (μ_max  = 0.02, θ_max = 0, Kms = 0.5, Kmn = 1,β =0.1):\n",
    "    def response_fun(C):\n",
    "        Cx, Cs, Cf, Ce, Cn = C\n",
    "        if Cs <= 0:\n",
    "            return [0,0,0,0,0]\n",
    "        \n",
    "        else:    \n",
    "            μ = μ_max* (Cs/ (Kms + Cs))#*((1+ (Cf/Kmn))**(-1))\n",
    "            θ = θ_max\n",
    "            Yxu = 0.2 #fix for yeast and recalculate β\n",
    "\n",
    "            A1 = np.matrix([[-1, 1+α, 1, 0, 0, 0, 0],\n",
    "                          [0, 0, -1, 1, 1, 1, 0],\n",
    "                          [0, -γ, 1/3, -1, 0, 1/3, 2*P_O],\n",
    "                          [0, β, 1/3, -1/4, -1/2, 2, -2],\n",
    "                          [1, 0, 0, 0, 0, 0, 0],\n",
    "                          [0, 1, 0, 0, 0, 0, 0],\n",
    "                          [0, 0, 0, 0, 1, 0, 0]])\n",
    "\n",
    "\n",
    "            B1 = np.matrix([[0, 0, θ, 0, r_gluc, μ, r_ethanol]]).T\n",
    "\n",
    "            r1 = np.linalg.solve(A1,B1)\n",
    "\n",
    "            return[r1[1,0],\n",
    "              -r1[0,0],\n",
    "              r1[3,0],\n",
    "              r1[4,0],\n",
    "                  -Yxu*r1[1,0]]\n",
    "\n",
    "    def ferm_eq(C,t):\n",
    "        Cx, Cs, Cf, Ce, Cn = C[0],C[1], C[2], C[3], C[4]\n",
    "\n",
    "        r=response_fun([Cx, Cs, Cf, Ce, Cn])     \n",
    "\n",
    "        return [r[0]*Cx,\n",
    "                r[1]*Cx,\n",
    "                r[2]*Cx,\n",
    "                r[3]*Cx,\n",
    "                r[4]*Cx,]\n",
    "    \n",
    "    \n",
    "    α, γ, P_O= 0.1, 2.5, 1.5#, μ_max, 0.1, θ, 0, \n",
    "    r_gluc = ((100-10)/((0.45/(0.04))*88))*(MMx/MMs) #cx,massx,50ml,time#\n",
    "    r_ethanol =((20-0)/((0.45/(0.04))*88))*(MMx/MMe) #NB: chane to malic spec cause it is constant. remember to also change matrix\n",
    "    Cso,Cxo,Cno,Cfo,Ceo = 100/MMs, 0.45/(0.04*MMx), 0, 0, 0\n",
    "\n",
    "    Co=[Cxo, Cso, Cfo,Ceo, Cno]                     # [Cxo, Cso, Cfo, Ceo,Cno] in cmol/L\n",
    "    tspan=np.linspace(0,100 ,100)           # define the timespan of the integration\n",
    "    Ci = odeint(ferm_eq, Co, tspan)             # integration via odeint that calls apon ferm_eq\n",
    "\n",
    "    Cx, Cs, Cf, Ce, Cn = Ci.T\n",
    "\n",
    "    plt.figure(3)\n",
    "\n",
    "    plt.plot(tspan, Cs, color='red', label='Cs')\n",
    "    plt.plot(t2, Csugar2, '*', color='red')\n",
    "    \n",
    "    plt.plot(tspan, Cf, color='green', label='Cf')\n",
    "    plt.plot(t2, Cfumarate2, '*', color='green')\n",
    "    \n",
    "    plt.plot(tspan, Ce, color='black', label='Ce')\n",
    "    plt.plot(t2, Cethanol2, '*', color='black')\n",
    "    \n",
    "#     plt.plot(tspan, Cm, color='black', label='Cm')\n",
    "#     plt.plot(t, Cmalic2, '*', color='blue')\n",
    "\n",
    "    plt.legend(loc='best')\n",
    "    plt.ylabel('Concentration cmol/L') \n",
    "    plt.xlabel('time (h)') \n",
    "\n",
    "    \n",
    "interact(Urea, μ_max  = (0,2,0.05), θ_max = (0,10,0.05), Kms = (0, 3.3, 0.01),Kmn =  (0,1.3,0.01),β = (0,3,0.01))\n",
    "plt.show()"
   ]
  },
  {
   "cell_type": "markdown",
   "metadata": {},
   "source": [
    " <tr>\n",
    "    <td> <img src=\"urea.png\" alt=\"Drawing\" style=\"width: 400px;\"/> </td>\n",
    "    </tr>"
   ]
  },
  {
   "cell_type": "markdown",
   "metadata": {},
   "source": [
    "# - - - - - - - - - - - - - - - - - - - - - - - - - - - - - - - - - - - - - - - - - - - - - - - - - - - - - - - - - - "
   ]
  },
  {
   "cell_type": "markdown",
   "metadata": {},
   "source": [
    "A | B | SMH 20 v/v \n",
    "- | - | -  \n",
    "![alt](urea.png) | ![alt](yeast.png) | ![alt](smh2.png)"
   ]
  },
  {
   "cell_type": "markdown",
   "metadata": {},
   "source": [
    "###### Figure 3 Fermentation Kinetics of SMH 20 v/v (Kun Zhang 2015)\n",
    "<img src=\"smh20.png\" width=\"200\" />\n",
    "\n"
   ]
  },
  {
   "cell_type": "markdown",
   "metadata": {},
   "source": [
    " <tr>\n",
    "    <td> <img src=\"smh20.png\" alt=\"Drawing\" style=\"width: 300px;\"/> </td>\n",
    "    <td> <img src=\"smh20.png\" alt=\"Drawing\" style=\"width: 250px;\"/> </td>\n",
    "    </tr>\n",
    "    \n",
    "<table><tr>\n",
    "<td> <img src=\"smh20.png\" alt=\"Drawing\" style=\"width: 300px;\"/> </td>\n",
    "<td> <img src=\"smh20.png\" alt=\"Drawing\" style=\"width: 250px;\"/> </td>\n",
    "</tr></table>"
   ]
  },
  {
   "cell_type": "code",
   "execution_count": null,
   "metadata": {},
   "outputs": [],
   "source": [
    "# # Create some mock data\n",
    "# t = np.arange(0.01, 10.0, 0.01)\n",
    "# data1 = np.exp(t)\n",
    "# data2 = np.sin(2 * np.pi * t)\n",
    "\n",
    "# fig, ax1 = plt.subplots()\n",
    "\n",
    "# color = 'tab:red'\n",
    "# ax1.set_xlabel('time (h)')\n",
    "# ax1.set_ylabel('glucose (cmol/L)', color=color)\n",
    "# ax1.plot(tspan, Cs, color=color, label='Cs')\n",
    "# ax1.plot(tg, Csugarg, '*', color=color)\n",
    "# ax1.tick_params(axis='y', labelcolor=color)\n",
    "\n",
    "# ax2 = ax1.twinx()  # instantiate a second axes that shares the same x-axis\n",
    "\n",
    "# color = 'tab:green'\n",
    "# ax2.set_ylabel('Nitrogen', color=color)  # we already handled the x-label with ax1\n",
    "# ax2.plot(tspan, Cn, color=color, label='Cn')\n",
    "# ax2.plot(tg, Cnitrogeng, '*', color=color)\n",
    "# ax2.tick_params(axis='y', labelcolor=color)\n",
    "\n",
    "# fig.tight_layout()  # otherwise the right y-label is slightly clipped\n",
    "# plt.show()"
   ]
  },
  {
   "cell_type": "code",
   "execution_count": null,
   "metadata": {},
   "outputs": [],
   "source": [
    "# plt.figure(1)\n",
    "\n",
    "# plt.plot(tspan, Cs, color='red', label='Cs')\n",
    "# plt.plot(tg, Csugarg, '*', color='red')\n",
    "\n",
    "# plt.plot(tspan, Cn, color='green', label='Cf')\n",
    "# plt.plot(tg, Cnitrogeng, '*', color='green')\n",
    "\n",
    "# plt.legend(loc='best')\n",
    "# plt.ylabel('Concentration cmol/L') \n",
    "# plt.xlabel('time (h)') \n"
   ]
  },
  {
   "cell_type": "markdown",
   "metadata": {},
   "source": [
    "###### axis"
   ]
  },
  {
   "cell_type": "code",
   "execution_count": null,
   "metadata": {},
   "outputs": [],
   "source": [
    "# ax1 = plt.axes()  # standard axes\n",
    "# ax2 = plt.axes([0.65, 0.65, 0.2, 0.2])"
   ]
  },
  {
   "cell_type": "markdown",
   "metadata": {},
   "source": [
    "###### Subplots"
   ]
  },
  {
   "cell_type": "code",
   "execution_count": null,
   "metadata": {},
   "outputs": [],
   "source": [
    "# fig = plt.figure()\n",
    "# fig.subplots_adjust(hspace=0.4, wspace=0.4)\n",
    "# for i in range(1, 7):\n",
    "#     ax = fig.add_subplot(2, 3, i)\n",
    "#     ax.text(0.5, 0.5, str((2, 3, i)),\n",
    "#            fontsize=18, ha='center')"
   ]
  },
  {
   "cell_type": "markdown",
   "metadata": {},
   "source": [
    "###### images"
   ]
  },
  {
   "cell_type": "code",
   "execution_count": null,
   "metadata": {},
   "outputs": [],
   "source": [
    "# #Load and show an image with Pillow\n",
    "# from PIL import Image\n",
    "\n",
    "# #Load the image\n",
    "# img = Image.open('smh2.png')\n",
    "\n",
    "# #Get basic details about the image\n",
    "# print(img.format)\n",
    "# print(img.mode)\n",
    "# print(img.size)\n",
    "\n",
    "# #show the image\n",
    "# img.show()"
   ]
  }
 ],
 "metadata": {
  "kernelspec": {
   "display_name": "Python 3",
   "language": "python",
   "name": "python3"
  },
  "language_info": {
   "codemirror_mode": {
    "name": "ipython",
    "version": 3
   },
   "file_extension": ".py",
   "mimetype": "text/x-python",
   "name": "python",
   "nbconvert_exporter": "python",
   "pygments_lexer": "ipython3",
   "version": "3.7.3"
  }
 },
 "nbformat": 4,
 "nbformat_minor": 2
}

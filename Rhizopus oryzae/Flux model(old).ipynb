{
 "cells": [
  {
   "cell_type": "markdown",
   "metadata": {},
   "source": [
    "## Rhizopus oryzae\n",
    "<img src=\"RhozyMap.png\" width=\"500\" />"
   ]
  },
  {
   "cell_type": "code",
   "execution_count": 1,
   "metadata": {},
   "outputs": [],
   "source": [
    "import numpy as np\n",
    "from numpy.linalg import solve\n",
    "from scipy.optimize import fsolve, minimize\n",
    "import matplotlib.pyplot as plt\n",
    "from scipy.integrate import odeint\n",
    "import pandas\n",
    "from ipywidgets import interact\n",
    "# from __future__ import division\n",
    "%matplotlib inline"
   ]
  },
  {
   "cell_type": "code",
   "execution_count": 2,
   "metadata": {},
   "outputs": [],
   "source": [
    "data = pandas.read_csv('SMH.csv')\n",
    "t = data['t'].T\n",
    "Csugar = data['Cs']\n",
    "Cfumarate = data['Cf']\n",
    "Cethanol = data['Ce']\n",
    "Cmalic = data['Cm']"
   ]
  },
  {
   "cell_type": "code",
   "execution_count": 3,
   "metadata": {},
   "outputs": [
    {
     "data": {
      "text/plain": [
       "(23.0, 24.6, 30, 17, 29, 33.5)"
      ]
     },
     "execution_count": 3,
     "metadata": {},
     "output_type": "execute_result"
    }
   ],
   "source": [
    "c, h, o, n = 12, 1, 16, 14\n",
    "MMs = c + 2*h + o\n",
    "MMx = c + 1.8*h + 0.5*o + 0.2*n\n",
    "MMe = c + 3*h + 0.5*o\n",
    "MMn = n + 3*h\n",
    "MMf = c + h + o\n",
    "MMm = c + 1.5*h + 1.25*o\n",
    "MMe,MMx,MMs,MMn,MMf, MMm"
   ]
  },
  {
   "cell_type": "code",
   "execution_count": 4,
   "metadata": {},
   "outputs": [
    {
     "data": {
      "image/png": "[encoded data removed]",
      "text/plain": [
       "<Figure size 432x288 with 1 Axes>"
      ]
     },
     "metadata": {
      "needs_background": "light"
     },
     "output_type": "display_data"
    }
   ],
   "source": [
    "def func (μ_max  = 0.02, θ_max = 0, Kms = 0.5, Kmn = 1,β =0.1):\n",
    "    def response_fun(C):\n",
    "        Cx, Cs, Cf, Ce, Cn = C\n",
    "        if Cs <= 0:\n",
    "            return [0,0,0,0,0]\n",
    "        \n",
    "        else:    \n",
    "            μ = μ_max* (Cs/ (Kms + Cs))#*((1+ (Cf/Kmn))**(-1))\n",
    "            θ = θ_max\n",
    "            Yxu = 0.2\n",
    "\n",
    "            A1 = np.matrix([[-1, 1+α, 1, 0, 0, 0, 0],\n",
    "                          [0, 0, -1, 1, 1, 1, 0],\n",
    "                          [0, -γ, 1/3, -1, 0, 1/3, 2*P_O],\n",
    "                          [0, β, 1/3, -1/4, -1/2, 2, -2],\n",
    "                          [1, 0, 0, 0, 0, 0, 0],\n",
    "                          [0, 1, 0, 0, 0, 0, 0],\n",
    "                          [0, 0, 0, 0, 1, 0, 0]])\n",
    "\n",
    "\n",
    "            B1 = np.matrix([[0, 0, θ, 0, r_gluc, μ, r_ethanol]]).T\n",
    "\n",
    "            r1 = np.linalg.solve(A1,B1)\n",
    "\n",
    "            return[r1[1,0],\n",
    "              -r1[0,0],\n",
    "              r1[3,0],\n",
    "              r1[4,0],\n",
    "                  -Yxu*r1[1,0]]\n",
    "\n",
    "    def ferm_eq(C,t):\n",
    "        Cx, Cs, Cf, Ce, Cn = C[0],C[1], C[2], C[3], C[4]\n",
    "\n",
    "        r=response_fun([Cx, Cs, Cf, Ce, Cn])     \n",
    "\n",
    "        return [r[0]*Cx,\n",
    "                r[1]*Cx,\n",
    "                r[2]*Cx,\n",
    "                r[3]*Cx,\n",
    "                r[4]*Cx,]\n",
    "    \n",
    "    \n",
    "    α, γ, P_O= 0.1, 2.5, 1.5#, μ_max, 0.1, θ, 0, \n",
    "    r_gluc = ((100-20)/((0.45/(0.05))*145))*(MMx/MMs) #cx,massx,50ml,time#\n",
    "    r_ethanol =((2-0)/((0.45/(0.05))*145))*(MMx/MMe)\n",
    "    Cso,Cxo,Cno,Cfo,Ceo = 97/MMs, 0.45/(0.05*MMx), 0.16*0.15/MMn, 0, 0\n",
    "\n",
    "    Co=[Cxo, Cso, Cfo,Ceo, Cno]                     # [Cxo, Cso, Cfo, Ceo,Cno] in cmol/L\n",
    "    tspan=np.linspace(0,150 ,100)           # define the timespan of the integration\n",
    "    Ci = odeint(ferm_eq, Co, tspan)             # integration via odeint that calls apon ferm_eq\n",
    "\n",
    "    Cx, Cs, Cf, Ce, Cn = Ci.T\n",
    "\n",
    "    plt.figure(1)\n",
    "    plt.plot(tspan, Cs, color='red', label='Cs')\n",
    "    plt.plot(t, Csugar, '*', color='red')\n",
    "    \n",
    "    plt.plot(tspan, Cf, color='green', label='Cf')\n",
    "    plt.plot(t, Cfumarate, '*', color='green')\n",
    "    \n",
    "    plt.plot(tspan, Ce, color='black', label='Ce')\n",
    "    plt.plot(t, Cethanol, '*', color='black')\n",
    "    \n",
    "#     plt.plot(tspan, Cm, color='black', label='Cm')\n",
    "#     plt.plot(t, Cmalic, '*', color='blue')\n",
    "\n",
    "    plt.legend(loc='best')\n",
    "    plt.ylabel('Concentration cmol/L') \n",
    "    plt.xlabel('time (h)') \n",
    "\n",
    "    \n",
    "interact(func, μ_max  = (0,2,0.05), θ_max = (0,10,0.05), Kms = (0, 3.3, 0.01),Kmn =  (0,1.3,0.01),β = (0,3,0.01))\n",
    "plt.show()"
   ]
  },
  {
   "cell_type": "markdown",
   "metadata": {},
   "source": [
    "###### Figure 3 Fermentation Kinetics of SMH 20 v/v (Kun Zhang 2015)\n",
    "<img src=\"smh20.png\" width=\"450\" />\n"
   ]
  },
  {
   "cell_type": "code",
   "execution_count": null,
   "metadata": {},
   "outputs": [],
   "source": []
  }
 ],
 "metadata": {
  "kernelspec": {
   "display_name": "Python 3",
   "language": "python",
   "name": "python3"
  },
  "language_info": {
   "codemirror_mode": {
    "name": "ipython",
    "version": 3
   },
   "file_extension": ".py",
   "mimetype": "text/x-python",
   "name": "python",
   "nbconvert_exporter": "python",
   "pygments_lexer": "ipython3",
   "version": "3.7.3"
  }
 },
 "nbformat": 4,
 "nbformat_minor": 4
}

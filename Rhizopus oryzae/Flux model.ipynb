{
 "cells": [
  {
   "cell_type": "markdown",
   "metadata": {},
   "source": [
    "# Table of Contents\n",
    "\n",
    "[1 Project description and objective](#1-Project-description-and-objective)\n",
    "\n",
    "[2 Background](#2-Background)\n",
    "\n",
    "- [2.1 Fumaric acid](2.1-Fumaric-acid)\n",
    "\n",
    "- [2.2 Rhizopus Oryzae](#2.2-Rhizopus-Oryzae)\n",
    "\n",
    "- [2.3 Nitrogen sources](#2.3-Nitrogen-sources)\n",
    " \n",
    "    - [2.3.1 Yeast](#2.3.1-Yeast)\n",
    "    \n",
    "    - [2.3.2 Soya beans](#2.3.2-Soya-beans)\n",
    "    \n",
    "    - [2.3.2.1 Soybean meal hydrolysate](#2.3.2.1-Soybean-meal-hydrolysate)\n",
    "    \n",
    "[3 Modelling](#3-Modelling)\n",
    "- [3.1 SMH 20% v/v (growth phase)](#3.1-SMH-20%-v/v-(growth-phase))\n",
    "- [3.2 SMH 20% v/v (production phase)](#3.2-SMH-20%-v/v-(production-phase))\n",
    "- [3.3 Yeast (production phase)](#3.3-Yeast-(production-phase))\n",
    "- [3.4 Urea (production phase)](#3.4-Urea-(production-phase))\n"
   ]
  },
  {
   "cell_type": "markdown",
   "metadata": {},
   "source": [
    "# 1 Project description and objective"
   ]
  },
  {
   "cell_type": "markdown",
   "metadata": {},
   "source": [
    "The lab project was focused on the effects of different nitrogen sources on the production of fumaric acid by Rhizopus oryzae highlighted in the findings in an article by <a href=\"https://www.sciencedirect.com/science/article/pii/S1359511314006084\" target=\"_blank\">(Zhang et al, 2015)</a>.\n",
    "\n",
    "In an online based project develop a dynamic model for the fermentation profiles provided in <a href=\"https://www.sciencedirect.com/science/article/pii/S1359511314006084\" target=\"_blank\">(Zhang et al, 2015)</a> to investigate how using different nitrogen source will affect the fitted parameters that are varied to achieve suitable fits to the data. This will give us a greater understanding of the physiological effect of different nitrogen sources on R. oryzae and will potentially improve how further fermentations are conducted."
   ]
  },
  {
   "cell_type": "markdown",
   "metadata": {},
   "source": [
    "# 2 Background"
   ]
  },
  {
   "cell_type": "markdown",
   "metadata": {},
   "source": [
    "## 2.1 Fumaric acid\n",
    "Fermentation is a conventional production method employed in bioprocess engineering, a subdiscipline of biotechnology, to convert simple cheap forms into valuable industrial products. It consists of the cells (producers), culture medium (growth medium), bioreactor (fermenter) and bioreactor fluid. It is crucial for the process to be economical, as a result chemical engineers are employed to identify and describe suitable fermenter practice, depending on the product of interest. Figure 1 below shows an illustration of a flask fermenter lab setup.\n",
    "\n",
    "<center><video controls src=\"fermenter_setup.mp4\" width=\"400\" height=\"400\" /></center> \n",
    "\n",
    "###### <center>Figure 1: Flask fermentation.</center> \n",
    "\n",
    "Fumaric acid is one of the largest industrial chemicals produced in the world (reference). The white crystalline chemical compound has numerous applications ranging from manufacture of medicines, drinks, food, animal feed, cleansing agents and a whole lot more. It is primarily valued as an acidulant in the food and pharmaceutical industry for its strength compared to other organic food acids <a href=\"https://thechemco.com/chemical/fumaric-acid/\" target=\"_blank\">(Roach, 2018)</a>.\n",
    "A huge portion of the fumaric acid production is derived from petroleum resources. Currently pressed by the negative impacts of petroleum industries, environmental pollution is of primary concern globally creating a window of interest for renewable substitutes.\n"
   ]
  },
  {
   "cell_type": "markdown",
   "metadata": {},
   "source": [
    "## 2.2 Rhizopus oryzae\n",
    "There is an unlimited range of fungi but only a number of useful fungi is limited, and only a few of the limited fungi can produce significant quantities. Rhizopus oryzae is from the genre Rhizopus, and the Mucoromycotina family \n",
    "<a href=\"https://app.knovel.com/web/view/khtml/show.v/rcid:kpAFFBIQT3/cid:kt00U9J0L3/viewerType:khtml//root_slug:advances-in-fermented/url_slug:bacterial-functions-hazards?page=13&view=collapsed&zoom=1\" target=\"_blank\">(Holzapfel)</a>. Rhizopus species are found from the soil as common as contaminants of crops, mostly tropical. Rhizopus oryzae (synonym Rhizopus arrhizus), a specie of Rhizopus, is a filamentous fungus that is grey in colour on cultural media. The characteristic appearance is differentiated on the basis of stolons and sporangiospores which arise above the rhizoids \n",
    "<a href=\"https://app.knovel.com/web/view/khtml/show.v/rcid:kpEFMV0004/cid:kt0051KLQ3/viewerType:khtml//root_slug:encyclopedia-food-microbiology/url_slug:colletotrichum-corda?page=5&view=collapsed&zoom=1\" target=\"_blank\">(Robinson)</a>.\n",
    "The metabolic pathways for R. oryzae ATCC 20344 are illustrated in Figure 2. The enzymes are indicated by the bracketed numbers and their names can be found from literature as referenced in Figure 2 blow.\n",
    "<img src=\"metabolic_pathway.PNG\" width=\"400\" />\n",
    "###### <center>Figure 2: Metabolic pathway of R. oryzae ATCC 20344 <a href=\"\" target=\"_blank\">(Naude and Nicol, 2017)</a>.</center> "
   ]
  },
  {
   "cell_type": "markdown",
   "metadata": {},
   "source": [
    "## 2.3 Nitrogen sources\n",
    "Nitrogen is an essential requirement for growth. Urea and Yeast extracts are common sources that have wide experimental analyses. The choice of nitrogen source depends on operation benefits during production. The choice can affect morphology and fumaric acid yield. A complex nitrogen source, Soybean meal hydrolysate, is of interest in this study which is evaluated along urea (CH_4 N_2 O) and yeast extract.\n"
   ]
  },
  {
   "cell_type": "markdown",
   "metadata": {},
   "source": [
    "### 2.3.1 Yeast \n",
    "Yeast is a unicellular fungus, that can reproduce asexually(budding) and sexually(ascospores). It belongs to the Hemiascomycetous class and phylum Ascomycota <a  href=\"https://app.knovel.com/web/view/khtml/show.v/rcid:kpDCE00021/cid:kt00TW7CC2/viewerType:khtml//root_slug:dictionary-chemical-engineering/url_slug:young-james?page=1&view=collapsed&zoom=1\" target=\"_blank\">(Schaschke)</a>. Yeast extract is just yeast without cell walls. Its use is common in culture media analyses, brewing beer, baking and the chemical composition depends the method of production.\n",
    "Saccharomyces cerevisiae is one of the fungi species that is widely used for the production of yeast extract. S. cerevisiae has a biomass formula of CH_1.64 O_0.52 N_0.16 given by Najafpour.\n",
    "\n",
    "### 2.3.2 Soya beans\n",
    "Soya beans were discovered thousands of years ago in Asia, specifically China, and were then classified as one of the five sacred grains (of rice, wheat, barley, and millets). They belong to the legume family. Forty percent of this bean consists of protein, making it the highest protein constituent of crops. It is by no doubt a nutritional hub as it also contains vitamins, minerals, and some elements. The bean is famously used for oil and as protein food for livestock and poultry. Some of its industrial applications include the manufacture of explosives, plastics, insecticides and paint <a href=\"https://UnivofPretoria.on.worldcat.org/oclc/7343733\" target=\"_blank\">(Botsford, 1980)</a>. Figure 3 below depicts a soybean plant ready for harvest.\n",
    "\n",
    "<img src=\"plant2.jpg\" width=\"350\" />\n",
    "\n",
    "###### <center>Figure 3: Soybean plant ready for harvest.</center> \n",
    "\n",
    "Oil extraction from soybeans began in 1911, and the extraction techniques improve with time. First the beans are harvested and stored in silos. The moisture content of the bean has to be less than or equal to 13 % for proper storage, or else the beans will rot. As a result, the moisture content is checked every now and then during growth. If it happens that the moisture exceeds the minimum storage standard, the soybeans can be naturally dried under the sun before storage. During oil extraction, the soybeans first are cleaned to remove foreign objects, cracked into smaller sizes and dehulled (removal of the seed coat). From there the seeds are flaked. Prior to this, the small soybean sizes are steamed to soften for easy flaking. Usually they are pressed to get the oil but now a solvent is employed to dissolve the oil from the flakes forming defatted flakes. The oil is further refined for consumption. Defatted flakes, also referred to as defatted soybean meal, can be used as soybean meal feedstock for poultry and livestock. The high protein content of the soybean meal presents it as a valuable nitrogen source for this research <a href=\"https://UnivofPretoria.on.worldcat.org/oclc/7343733\" target=\"_blank\">(Botsford, 1980)</a>. \n",
    "\n",
    "In Figure 4 a local farmer uses the soybeans for bovine feedstock without extracting the oil. The soybeans (left), are cracked and mixed with chicken manure (Right) to produce feedstock\n",
    "***\n",
    "Soybeans | Cracked |soybean meal | Chicken manure\n",
    "-|-|-|-   \n",
    "![alt](soybean2.jpg)|![alt](cracked.jpg)|![alt](soybean_meal.jpg)|![alt](chicken_manure.jpg)\n",
    "\n",
    "***\n",
    "###### <center>Figure 4: Producing local soybean meal feed stock <a href=\"https://goo.gl/maps/qBbNH8cKF8E34onM9\" target=\"_blank\">(Limpopo. Makgophong)</a>.</center> "
   ]
  },
  {
   "cell_type": "markdown",
   "metadata": {},
   "source": [
    "The evaluation of the approximate amount of almost all the nitrogen content of soybean meal is a debatable procedure that has been in discussion till this day. A nitrogen protein conversion factor, NPCF, of 6.25 protein per nitrogen. This conversion factor is based on two assumptions: (I) protein contains 16 % nitrogen and (II) all the nitrogen is derived from proteins. Attempts to correct this by analysts and agronomists but it is suggested that the development of various conversion factors will lead to confusion, so any value either than 6.25 should be avoided <a href=\"https://UnivofPretoria.on.worldcat.org/oclc/388496\" target=\"_blank\">(Smith and Circle, 1972)</a>. Realistically, nitrogen content of proteins varies between 13 % and 19 %, that is 5.26 to 7.69 protein per nitrogen. This varies because of the nitrogen content of amino acids and the nonprotein nitrogen sources. Recently, there is interest to mitigate this irregularity. Therefore, for now, the NPCF used for soybean meal is 6.25 according the international nutritional labelling standards listed in <a href=\"https://aocs.onlinelibrary.wiley.com/doi/abs/10.1002/aocs.12196#.XsxRgXd5Ar4.emails\" target=\"_blank\">(Krul, 2019)</a>.\n",
    "\n",
    "Farm located in <a href=\"https://goo.gl/maps/qBbNH8cKF8E34onM9\" target=\"_blank\">Makhudutamagka</a>."
   ]
  },
  {
   "cell_type": "markdown",
   "metadata": {},
   "source": [
    "#### 2.3.2.1 Soybean meal hydrolysate\n",
    "Soybean meal is hydrolysed to make soybean meal hydrolysate. During hydrolysis, the meal is broken down for easy digestion. There are various processes for the production Soybean meal hydrolysate. The feasible method involves adding hydrochloric acid onto the soybeans and autoclaving at 121 °C for 30 minutes <a href=\"https://www.sciencedirect.com/science/article/pii/S1359511314006084\" target=\"_blank\">(Zhang et al, 2015)</a>, but the literature isn’t as detailed as the use of H_2 SO_4. \n",
    "<a href=\"https://search.proquest.com/docview/2108562896?accountid=14717\" target=\"_blank\">Yang et al (2018)</a>. hydrolysed defatted soybean meal, DSM, in a 500m1 PYREX bottle for 45 minutes at 45 ℃ in an autoclave. The materials used are 50 g DSM and 250 ml of 0.5 % H_2 SO_4. After 45 minutes, the reaction is stopped, and the bottle cooled in an ice bath followed by PH adjustment right after the bottle has cooled down. The PH is adjusted using NaOH, but excess CaCO_3 can also be used. Solids are separated from the liquid by centrifuge at 10 ℃ for 35 minutes and 3900 g. The protein analysis of Soybean meal hydrolysate, SMH, after autoclave is essential because this process might affect protein concentration just as it has been shown in <a href=\"https://search.proquest.com/docview/2108562896?accountid=14717\" target=\"_blank\">Yang et al (2018)</a>., where concentration of protein increased from 48.1 % to 58.6 % dry basis."
   ]
  },
  {
   "cell_type": "markdown",
   "metadata": {},
   "source": [
    "# 3 Modeling"
   ]
  },
  {
   "cell_type": "markdown",
   "metadata": {},
   "source": [
    "<img src=\"RhozyMap.png\" width=\"400\" />"
   ]
  },
  {
   "cell_type": "markdown",
   "metadata": {},
   "source": [
    "#### Help\n",
    "1.) Molecular Formula of SMH\n",
    "\n",
    "2.) Do we still fit β even if it has been calculated from anabolism?\n",
    "\n",
    "3.) how do I incorporate the little amount of nitrogen available when fermentation egins for SMH, and how do do this so that biomass reflect the on the presence of this and so could plot its depletion behavioour. Because Rhozy grows in the presence of nitrogen\n",
    "\n",
    "#### Assumptions\n",
    "1.)\n",
    "\n",
    "#### To do\n",
    "1.) Molecular Formula of SMH\n",
    "\n",
    "2.) Text background to the problem.\n",
    "\n",
    "3.) Purpose (What are you modelling and what do you want to get out of the model?)\n",
    "\n",
    "4.) References (Links)\n",
    "\n",
    "5.) Edit and Lable apparatus in video provided below\n",
    "\n",
    "6.) Group the initial contions of growth and production phase into a Table"
   ]
  },
  {
   "cell_type": "code",
   "execution_count": 7,
   "metadata": {},
   "outputs": [],
   "source": [
    "import numpy as np\n",
    "from numpy.linalg import solve\n",
    "from scipy.optimize import fsolve, minimize\n",
    "import matplotlib.pyplot as plt\n",
    "from scipy.integrate import odeint\n",
    "import pandas\n",
    "from ipywidgets import interact\n",
    "from IPython.display import Image\n",
    "# from __future__ import division\n",
    "%matplotlib inline"
   ]
  },
  {
   "cell_type": "code",
   "execution_count": 8,
   "metadata": {},
   "outputs": [
    {
     "data": {
      "text/plain": [
       "(23.0, 24.6, 30, 17, 29, 33.5)"
      ]
     },
     "execution_count": 8,
     "metadata": {},
     "output_type": "execute_result"
    }
   ],
   "source": [
    "c, h, o, n = 12, 1, 16, 14\n",
    "MMs = c + 2*h + o\n",
    "MMx = c + 1.8*h + 0.5*o + 0.2*n\n",
    "MMe = c + 3*h + 0.5*o\n",
    "MMn = n + 3*h\n",
    "MMf = c + h + o\n",
    "MMm = c + 1.5*h + 1.25*o\n",
    "MMe,MMx,MMs,MMn,MMf, MMm"
   ]
  },
  {
   "cell_type": "markdown",
   "metadata": {},
   "source": [
    "## 3.1 SMH 20% v/v (growth phase)\n",
    "Predicting the Molecular formula of SMH"
   ]
  },
  {
   "cell_type": "code",
   "execution_count": 9,
   "metadata": {},
   "outputs": [],
   "source": [
    "#Nitrgoen obtained by multiplyinh the protein by 16%\n",
    "#g/l of nitrogen coverted into mol/L by deviding by MM on nitrogen(14)"
   ]
  },
  {
   "cell_type": "code",
   "execution_count": 10,
   "metadata": {},
   "outputs": [],
   "source": [
    "datag = pandas.read_csv('growth.csv')\n",
    "tg = datag['t'].T\n",
    "Csugarg = datag['Cs']\n",
    "Cnitrogeng = datag['Cn']"
   ]
  },
  {
   "cell_type": "code",
   "execution_count": 11,
   "metadata": {},
   "outputs": [
    {
     "data": {
      "application/vnd.jupyter.widget-view+json": {
       "model_id": "e1a47ab60c8043f1ae26a94defaaacc2",
       "version_major": 2,
       "version_minor": 0
      },
      "text/plain": [
       "interactive(children=(FloatSlider(value=0.02, description='μ_max', max=2.0, step=0.05), FloatSlider(value=0.0,…"
      ]
     },
     "metadata": {},
     "output_type": "display_data"
    }
   ],
   "source": [
    "def growth (μ_max  = 0.02, θ_max = 0, Kms = 0.5, Kmn = 1,β =0.1):\n",
    "    def response_fun(C):\n",
    "        Cx, Cs, Cf, Ce, Cn = C\n",
    "        if Cs <= 0:\n",
    "            return [0,0,0,0,0]\n",
    "        \n",
    "        else:    \n",
    "            μ = μ_max* (Cs/ (Kms + Cs))#*((1+ (Cf/Kmn))**(-1))\n",
    "            θ = θ_max \n",
    "            Yxu = 0.2 #fix for SMH\n",
    "\n",
    "            A1 = np.matrix([[-1, 1+α, 1, 0, 0, 0, 0],\n",
    "                          [0, 0, -1, 1, 1, 1, 0],\n",
    "                          [0, -γ, 1/3, -1, 0, 1/3, 2*P_O],\n",
    "                          [0, β, 1/3, -1/4, -1/2, 2, -2],\n",
    "                          [1, 0, 0, 0, 0, 0, 0],\n",
    "                          [0, 1, 0, 0, 0, 0, 0],\n",
    "                          [0, 0, 0, 0, 1, 0, 0]])\n",
    "\n",
    "\n",
    "            B1 = np.matrix([[0, 0, θ, 0, r_gluc, μ, r_ethanol]]).T\n",
    "\n",
    "            r1 = np.linalg.solve(A1,B1)\n",
    "\n",
    "            return[r1[1,0],\n",
    "              -r1[0,0],\n",
    "              r1[3,0],\n",
    "              r1[4,0],\n",
    "                  -Yxu*r1[1,0]]\n",
    "\n",
    "    def ferm_eq(C,t):\n",
    "        Cx, Cs, Cf, Ce, Cn = C[0],C[1], C[2], C[3], C[4]\n",
    "\n",
    "        r=response_fun([Cx, Cs, Cf, Ce, Cn])     \n",
    "\n",
    "        return [r[0]*Cx,\n",
    "                r[1]*Cx,\n",
    "                r[2]*Cx,\n",
    "                r[3]*Cx,\n",
    "                r[4]*Cx,]\n",
    "    \n",
    "    \n",
    "    α, γ, P_O= 0.1, 2.5, 1.5#, μ_max, 0.1, θ, 0, \n",
    "    r_gluc = ((10-0.11)/((0.45/(0.05))*24))*(MMx/MMs) #cx,massx,50ml,time#\n",
    "    r_ethanol =((0.2-0)/((0.45/(0.05))*24))*(MMx/MMe) #NB: recheck: dvide it by 10 to match the amount of s i.e ferm 100g_s an 10 growth (look into this)\n",
    "    Cso,Cxo,Cno,Cfo,Ceo = 10/MMs, 0.45/(0.05*MMx), (0.16*0.44)/14, 0, 0 #Fix initial Cx value. is it zero or?\n",
    "                                                                      #Cn devided by 14 for nitrogen \n",
    "    Co=[Cxo, Cso, Cfo,Ceo, Cno]                     # [Cxo, Cso, Cfo, Ceo,Cno] in cmol/L\n",
    "    tspan=np.linspace(0,25 ,100)           # define the timespan of the integration\n",
    "    Ci = odeint(ferm_eq, Co, tspan)             # integration via odeint that calls apon ferm_eq\n",
    "\n",
    "    Cx, Cs, Cf, Ce, Cn = Ci.T\n",
    "\n",
    "    plt.figure(1)\n",
    "    \n",
    "    fig, ax1 = plt.subplots()\n",
    "    \n",
    "    color = 'tab:red'\n",
    "    ax1.set_xlabel('time (h)')\n",
    "    ax1.set_ylabel('glucose (cmol/L)', color=color)\n",
    "    ax1.plot(tspan, Cs, color=color, label='Cs')\n",
    "    ax1.plot(tg, Csugarg, '*', color=color)\n",
    "    ax1.tick_params(axis='y', labelcolor=color)\n",
    "\n",
    "    ax2 = ax1.twinx()  # instantiate a second axes that shares the same x-axis\n",
    "\n",
    "    color = 'tab:green'\n",
    "    ax2.set_ylabel('Nitrogen', color=color)  # we already handled the x-label with ax1\n",
    "    ax2.plot(tspan, Cn, color=color, label='Cn') #fix the nitrogen data, figure it out\n",
    "    ax2.plot(tg, Cnitrogeng, '*', color=color)\n",
    "    ax2.tick_params(axis='y', labelcolor=color)\n",
    "\n",
    "    fig.tight_layout()  # otherwise the right y-label is slightly clipped\n",
    "\n",
    "    \n",
    "interact(growth, μ_max  = (0,2,0.05), θ_max = (0,10,0.05), Kms = (0, 3.3, 0.01),Kmn =  (0,1.3,0.01),β = (0,3,0.01))\n",
    "plt.show()"
   ]
  },
  {
   "cell_type": "markdown",
   "metadata": {},
   "source": [
    " <tr>\n",
    "    <td> <img src=\"growth.png\" alt=\"Drawing\" style=\"width: 400px;\"/> </td>\n",
    "    </tr>"
   ]
  },
  {
   "cell_type": "markdown",
   "metadata": {},
   "source": [
    "# - - - - - - - - - - - - - - - - - - - - - - - - - - - - - - - - - - - - - - - - - - - - - - - - - - - - - - - - - - "
   ]
  },
  {
   "cell_type": "markdown",
   "metadata": {},
   "source": [
    "## 3.2 SMH 20% v/v (production phase)"
   ]
  },
  {
   "cell_type": "code",
   "execution_count": 12,
   "metadata": {},
   "outputs": [],
   "source": [
    "data = pandas.read_csv('SMH.csv')\n",
    "t = data['t'].T\n",
    "Csugar = data['Cs']\n",
    "Cfumarate = data['Cf']\n",
    "Cethanol = data['Ce']\n",
    "Cmalic = data['Cm']"
   ]
  },
  {
   "cell_type": "code",
   "execution_count": 13,
   "metadata": {},
   "outputs": [
    {
     "data": {
      "application/vnd.jupyter.widget-view+json": {
       "model_id": "ee4258d7a6464cc0b30c83880b560e4f",
       "version_major": 2,
       "version_minor": 0
      },
      "text/plain": [
       "interactive(children=(FloatSlider(value=0.02, description='μ_max', max=2.0, step=0.05), FloatSlider(value=0.0,…"
      ]
     },
     "metadata": {},
     "output_type": "display_data"
    }
   ],
   "source": [
    "def SMH (μ_max  = 0.02, θ_max = 0, Kms = 0.5, Kmn = 1,β =0.1):\n",
    "    def response_fun(C):\n",
    "        Cx, Cs, Cf, Ce, Cn = C\n",
    "        if Cs <= 0:\n",
    "            return [0,0,0,0,0]\n",
    "        \n",
    "        else:    \n",
    "            μ = μ_max* (Cs/ (Kms + Cs))#*((1+ (Cf/Kmn))**(-1))\n",
    "            θ = θ_max\n",
    "            Yxu = 0.2 #fix for SMH\n",
    "\n",
    "            A1 = np.matrix([[-1, 1+α, 1, 0, 0, 0, 0],\n",
    "                          [0, 0, -1, 1, 1, 1, 0],\n",
    "                          [0, -γ, 1/3, -1, 0, 1/3, 2*P_O],\n",
    "                          [0, β, 1/3, -1/4, -1/2, 2, -2],\n",
    "                          [1, 0, 0, 0, 0, 0, 0],\n",
    "                          [0, 1, 0, 0, 0, 0, 0],\n",
    "                          [0, 0, 0, 0, 1, 0, 0]])\n",
    "\n",
    "\n",
    "            B1 = np.matrix([[0, 0, θ, 0, r_gluc, μ, r_ethanol]]).T\n",
    "\n",
    "            r1 = np.linalg.solve(A1,B1)\n",
    "\n",
    "            return[r1[1,0],\n",
    "              -r1[0,0],\n",
    "              r1[3,0],\n",
    "              r1[4,0],\n",
    "                  -Yxu*r1[1,0]]\n",
    "\n",
    "    def ferm_eq(C,t):\n",
    "        Cx, Cs, Cf, Ce, Cn = C[0],C[1], C[2], C[3], C[4]\n",
    "\n",
    "        r=response_fun([Cx, Cs, Cf, Ce, Cn])     \n",
    "\n",
    "        return [r[0]*Cx,\n",
    "                r[1]*Cx,\n",
    "                r[2]*Cx,\n",
    "                r[3]*Cx,\n",
    "                r[4]*Cx,]\n",
    "    \n",
    "    \n",
    "    α, γ, P_O= 0.1, 2.5, 1.5#, μ_max, 0.1, θ, 0, \n",
    "    r_gluc = ((100-20)/((0.45/(0.04))*145))*(MMx/MMs) #cx,massx,40ml,time#\n",
    "    r_ethanol =((2-0)/((0.45/(0.04))*145))*(MMx/MMe)\n",
    "    Cso,Cxo,Cno,Cfo,Ceo = 97/MMs, 0.45/(0.04*MMx), (0.16*0.15)/14, 0, 0 #Cn devided by 14 for nitrogen \n",
    "\n",
    "    Co=[Cxo, Cso, Cfo,Ceo, Cno]                     # [Cxo, Cso, Cfo, Ceo,Cno] in cmol/L\n",
    "    tspan=np.linspace(0,150 ,100)           # define the timespan of the integration\n",
    "    Ci = odeint(ferm_eq, Co, tspan)             # integration via odeint that calls apon ferm_eq\n",
    "\n",
    "    Cx, Cs, Cf, Ce, Cn = Ci.T\n",
    "\n",
    "    plt.figure(1)\n",
    "\n",
    "    plt.plot(tspan, Cs, color='red', label='Cs')\n",
    "    plt.plot(t, Csugar, '*', color='red')\n",
    "    \n",
    "    plt.plot(tspan, Cf, color='green', label='Cf')\n",
    "    plt.plot(t, Cfumarate, '*', color='green')\n",
    "    \n",
    "    plt.plot(tspan, Ce, color='black', label='Ce')\n",
    "    plt.plot(t, Cethanol, '*', color='black')\n",
    "    \n",
    "#     plt.plot(tspan, Cm, color='black', label='Cm')\n",
    "#     plt.plot(t, Cmalic, '*', color='blue')\n",
    "\n",
    "    plt.legend(loc='best')\n",
    "    plt.ylabel('Concentration cmol/L') \n",
    "    plt.xlabel('time (h)') \n",
    "\n",
    "    \n",
    "interact(SMH, μ_max  = (0,2,0.05), θ_max = (0,10,0.05), Kms = (0, 3.3, 0.01),Kmn =  (0,1.3,0.01),β = (0,3,0.01))\n",
    "plt.show()"
   ]
  },
  {
   "cell_type": "markdown",
   "metadata": {},
   "source": [
    " <tr>\n",
    "    <td> <img src=\"smh20.png\" alt=\"Drawing\" style=\"width: 400px;\"/> </td>\n",
    "    </tr>"
   ]
  },
  {
   "cell_type": "markdown",
   "metadata": {},
   "source": [
    "# - - - - - - - - - - - - - - - - - - - - - - - - - - - - - - - - - - - - - - - - - - - - - - - - - - - - - - - - - - "
   ]
  },
  {
   "cell_type": "markdown",
   "metadata": {},
   "source": [
    "# 3.3 Yeast (production phase)"
   ]
  },
  {
   "cell_type": "code",
   "execution_count": 14,
   "metadata": {},
   "outputs": [],
   "source": [
    "data1 = pandas.read_csv('yeast.csv')\n",
    "t1 = data1['t'].T\n",
    "Csugar1 = data1['Cs']\n",
    "Cfumarate1 = data1['Cf']\n",
    "Cethanol1 = data1['Ce']\n",
    "Cmalic1 = data1['Cm']"
   ]
  },
  {
   "cell_type": "code",
   "execution_count": 15,
   "metadata": {},
   "outputs": [
    {
     "data": {
      "application/vnd.jupyter.widget-view+json": {
       "model_id": "9bc48306029c43f0a9bc360b7871b768",
       "version_major": 2,
       "version_minor": 0
      },
      "text/plain": [
       "interactive(children=(FloatSlider(value=0.02, description='μ_max', max=2.0, step=0.05), FloatSlider(value=0.0,…"
      ]
     },
     "metadata": {},
     "output_type": "display_data"
    }
   ],
   "source": [
    "def yeast (μ_max  = 0.02, θ_max = 0, Kms = 0.5, Kmn = 1,β =0.1):\n",
    "    def response_fun(C):\n",
    "        Cx, Cs, Cf, Ce, Cn = C\n",
    "        if Cs <= 0:\n",
    "            return [0,0,0,0,0]\n",
    "        \n",
    "        else:    \n",
    "            μ = μ_max* (Cs/ (Kms + Cs))#*((1+ (Cf/Kmn))**(-1))\n",
    "            θ = θ_max\n",
    "            Yxu = 0.2 #fix for yeast and recalculate β\n",
    "\n",
    "            A1 = np.matrix([[-1, 1+α, 1, 0, 0, 0, 0],\n",
    "                          [0, 0, -1, 1, 1, 1, 0],\n",
    "                          [0, -γ, 1/3, -1, 0, 1/3, 2*P_O],\n",
    "                          [0, β, 1/3, -1/4, -1/2, 2, -2],\n",
    "                          [1, 0, 0, 0, 0, 0, 0],\n",
    "                          [0, 1, 0, 0, 0, 0, 0],\n",
    "                          [0, 0, 0, 0, 1, 0, 0]])\n",
    "\n",
    "\n",
    "            B1 = np.matrix([[0, 0, θ, 0, r_gluc, μ, r_ethanol]]).T\n",
    "\n",
    "            r1 = np.linalg.solve(A1,B1)\n",
    "\n",
    "            return[r1[1,0],\n",
    "              -r1[0,0],\n",
    "              r1[3,0],\n",
    "              r1[4,0],\n",
    "                  -Yxu*r1[1,0]]\n",
    "\n",
    "    def ferm_eq(C,t):\n",
    "        Cx, Cs, Cf, Ce, Cn = C[0],C[1], C[2], C[3], C[4]\n",
    "\n",
    "        r=response_fun([Cx, Cs, Cf, Ce, Cn])     \n",
    "\n",
    "        return [r[0]*Cx,\n",
    "                r[1]*Cx,\n",
    "                r[2]*Cx,\n",
    "                r[3]*Cx,\n",
    "                r[4]*Cx,]\n",
    "    \n",
    "    \n",
    "    α, γ, P_O= 0.1, 2.5, 1.5#, μ_max, 0.1, θ, 0, \n",
    "    r_gluc = ((100-10)/((0.45/(0.04))*88))*(MMx/MMs) #cx,massx,50ml,time#\n",
    "    r_ethanol =((28-0)/((0.45/(0.04))*88))*(MMx/MMe) #NB: chane to malic spec cause it is constant. remember to also change matrix\n",
    "    Cso,Cxo,Cno,Cfo,Ceo = 100/MMs, 0.45/(0.04*MMx), 0, 0, 0\n",
    "\n",
    "    Co=[Cxo, Cso, Cfo,Ceo, Cno]                     # [Cxo, Cso, Cfo, Ceo,Cno] in cmol/L\n",
    "    tspan=np.linspace(0,100 ,100)           # define the timespan of the integration\n",
    "    Ci = odeint(ferm_eq, Co, tspan)             # integration via odeint that calls apon ferm_eq\n",
    "\n",
    "    Cx, Cs, Cf, Ce, Cn = Ci.T\n",
    "\n",
    "    plt.figure(2)\n",
    "\n",
    "    plt.plot(tspan, Cs, color='red', label='Cs')\n",
    "    plt.plot(t1, Csugar1, '*', color='red')\n",
    "    \n",
    "    plt.plot(tspan, Cf, color='green', label='Cf')\n",
    "    plt.plot(t1, Cfumarate1, '*', color='green')\n",
    "    \n",
    "    plt.plot(tspan, Ce, color='black', label='Ce')\n",
    "    plt.plot(t1, Cethanol1, '*', color='black')\n",
    "    \n",
    "#     plt.plot(tspan, Cm, color='black', label='Cm')\n",
    "#     plt.plot(t, Cmalic1, '*', color='blue')\n",
    "\n",
    "    plt.legend(loc='best')\n",
    "    plt.ylabel('Concentration cmol/L') \n",
    "    plt.xlabel('time (h)') \n",
    "\n",
    "    \n",
    "interact(yeast, μ_max  = (0,2,0.05), θ_max = (0,10,0.05), Kms = (0, 3.3, 0.01),Kmn =  (0,1.3,0.01),β = (0,3,0.01))\n",
    "plt.show()"
   ]
  },
  {
   "cell_type": "markdown",
   "metadata": {},
   "source": [
    " <tr>\n",
    "    <td> <img src=\"yeast.png\" alt=\"Drawing\" style=\"width: 400px;\"/> </td>\n",
    "    </tr>"
   ]
  },
  {
   "cell_type": "markdown",
   "metadata": {},
   "source": [
    "# - - - - - - - - - - - - - - - - - - - - - - - - - - - - - - - - - - - - - - - - - - - - - - - - - - - - - - - - - - "
   ]
  },
  {
   "cell_type": "markdown",
   "metadata": {},
   "source": [
    "# 3.4 Urea (production phase)"
   ]
  },
  {
   "cell_type": "code",
   "execution_count": 16,
   "metadata": {},
   "outputs": [],
   "source": [
    "data2 = pandas.read_csv('urea.csv')\n",
    "t2 = data2['t'].T\n",
    "Csugar2 = data2['Cs']\n",
    "Cfumarate2 = data2['Cf']\n",
    "Cethanol2 = data2['Ce']\n",
    "Cmalic2 = data2['Cm']"
   ]
  },
  {
   "cell_type": "code",
   "execution_count": 17,
   "metadata": {},
   "outputs": [
    {
     "data": {
      "application/vnd.jupyter.widget-view+json": {
       "model_id": "020d30ff13c641f48dbf98e78f3e802a",
       "version_major": 2,
       "version_minor": 0
      },
      "text/plain": [
       "interactive(children=(FloatSlider(value=0.02, description='μ_max', max=2.0, step=0.05), FloatSlider(value=0.0,…"
      ]
     },
     "metadata": {},
     "output_type": "display_data"
    }
   ],
   "source": [
    "def Urea (μ_max  = 0.02, θ_max = 0, Kms = 0.5, Kmn = 1,β =0.1):\n",
    "    def response_fun(C):\n",
    "        Cx, Cs, Cf, Ce, Cn = C\n",
    "        if Cs <= 0:\n",
    "            return [0,0,0,0,0]\n",
    "        \n",
    "        else:    \n",
    "            μ = μ_max* (Cs/ (Kms + Cs))#*((1+ (Cf/Kmn))**(-1))\n",
    "            θ = θ_max\n",
    "            Yxu = 0.2 #fix for yeast and recalculate β\n",
    "\n",
    "            A1 = np.matrix([[-1, 1+α, 1, 0, 0, 0, 0],\n",
    "                          [0, 0, -1, 1, 1, 1, 0],\n",
    "                          [0, -γ, 1/3, -1, 0, 1/3, 2*P_O],\n",
    "                          [0, β, 1/3, -1/4, -1/2, 2, -2],\n",
    "                          [1, 0, 0, 0, 0, 0, 0],\n",
    "                          [0, 1, 0, 0, 0, 0, 0],\n",
    "                          [0, 0, 0, 0, 1, 0, 0]])\n",
    "\n",
    "\n",
    "            B1 = np.matrix([[0, 0, θ, 0, r_gluc, μ, r_ethanol]]).T\n",
    "\n",
    "            r1 = np.linalg.solve(A1,B1)\n",
    "\n",
    "            return[r1[1,0],\n",
    "              -r1[0,0],\n",
    "              r1[3,0],\n",
    "              r1[4,0],\n",
    "                  -Yxu*r1[1,0]]\n",
    "\n",
    "    def ferm_eq(C,t):\n",
    "        Cx, Cs, Cf, Ce, Cn = C[0],C[1], C[2], C[3], C[4]\n",
    "\n",
    "        r=response_fun([Cx, Cs, Cf, Ce, Cn])     \n",
    "\n",
    "        return [r[0]*Cx,\n",
    "                r[1]*Cx,\n",
    "                r[2]*Cx,\n",
    "                r[3]*Cx,\n",
    "                r[4]*Cx,]\n",
    "    \n",
    "    \n",
    "    α, γ, P_O= 0.1, 2.5, 1.5#, μ_max, 0.1, θ, 0, \n",
    "    r_gluc = ((100-10)/((0.45/(0.04))*88))*(MMx/MMs) #cx,massx,50ml,time#\n",
    "    r_ethanol =((20-0)/((0.45/(0.04))*88))*(MMx/MMe) #NB: chane to malic spec cause it is constant. remember to also change matrix\n",
    "    Cso,Cxo,Cno,Cfo,Ceo = 100/MMs, 0.45/(0.04*MMx), 0, 0, 0\n",
    "\n",
    "    Co=[Cxo, Cso, Cfo,Ceo, Cno]                     # [Cxo, Cso, Cfo, Ceo,Cno] in cmol/L\n",
    "    tspan=np.linspace(0,100 ,100)           # define the timespan of the integration\n",
    "    Ci = odeint(ferm_eq, Co, tspan)             # integration via odeint that calls apon ferm_eq\n",
    "\n",
    "    Cx, Cs, Cf, Ce, Cn = Ci.T\n",
    "\n",
    "    plt.figure(3)\n",
    "\n",
    "    plt.plot(tspan, Cs, color='red', label='Cs')\n",
    "    plt.plot(t2, Csugar2, '*', color='red')\n",
    "    \n",
    "    plt.plot(tspan, Cf, color='green', label='Cf')\n",
    "    plt.plot(t2, Cfumarate2, '*', color='green')\n",
    "    \n",
    "    plt.plot(tspan, Ce, color='black', label='Ce')\n",
    "    plt.plot(t2, Cethanol2, '*', color='black')\n",
    "    \n",
    "#     plt.plot(tspan, Cm, color='black', label='Cm')\n",
    "#     plt.plot(t, Cmalic2, '*', color='blue')\n",
    "\n",
    "    plt.legend(loc='best')\n",
    "    plt.ylabel('Concentration cmol/L') \n",
    "    plt.xlabel('time (h)') \n",
    "\n",
    "    \n",
    "interact(Urea, μ_max  = (0,2,0.05), θ_max = (0,10,0.05), Kms = (0, 3.3, 0.01),Kmn =  (0,1.3,0.01),β = (0,3,0.01))\n",
    "plt.show()"
   ]
  },
  {
   "cell_type": "markdown",
   "metadata": {},
   "source": [
    " <tr>\n",
    "    <td> <img src=\"urea.png\" alt=\"Drawing\" style=\"width: 400px;\"/> </td>\n",
    "    </tr>"
   ]
  },
  {
   "cell_type": "markdown",
   "metadata": {},
   "source": [
    "# - - - - - - - - - - - - - - - - - - - - - - - - - - - - - - - - - - - - - - - - - - - - - - - - - - - - - - - - - - "
   ]
  }
 ],
 "metadata": {
  "kernelspec": {
   "display_name": "Python 3",
   "language": "python",
   "name": "python3"
  },
  "language_info": {
   "codemirror_mode": {
    "name": "ipython",
    "version": 3
   },
   "file_extension": ".py",
   "mimetype": "text/x-python",
   "name": "python",
   "nbconvert_exporter": "python",
   "pygments_lexer": "ipython3",
   "version": "3.7.6"
  }
 },
 "nbformat": 4,
 "nbformat_minor": 4
}

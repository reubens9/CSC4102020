{
 "cells": [
  {
   "cell_type": "markdown",
   "metadata": {},
   "source": [
    "***\n",
    "# <font size=\"25\"> Effects of soybean meal hydrolysate as the nitrogen source on seed culture morphology and fumaric acid</font>\n",
    "***"
   ]
  },
  {
   "cell_type": "markdown",
   "metadata": {},
   "source": [
    "| <div style=\"text-align: justify\"> <font size=\"3\"> SM Mnisi, </font> </div>| <div style=\"text-align: justify\"> <font size=\"3\"> Prof W Nicol, </font> </div> | <div style=\"text-align: justify\"> <font size=\"3\"> and Reuben M. Swart </font> </div> |\n",
    "| --- | --- | --- |"
   ]
  },
  {
   "cell_type": "markdown",
   "metadata": {},
   "source": [
    "# Table of Contents\n",
    "\n",
    "[1 Literature Review](#1-Literature-Review)\n",
    "\n",
    "- [1.1 Introduction](#1.1-Introduction)\n",
    "\n",
    "- [1.2 Rhizopus oryzae](#1.2-Rhizopus-oryzae)\n",
    "\n",
    "- [1.3 Pretreatment](#1.3-Pretreatment)\n",
    " \n",
    "    - [1.3.1 *R. oryzae* sporulation](#1.3.1-R.-oryzae-sporulation)\n",
    "    \n",
    "    - [1.3.2 Inoculation](#1.3.2-Inoculation)\n",
    "    \n",
    "- [1.4 Reactor fluid](#1.4-Reactor-fluid)\n",
    "- [1.5 Sterilization](#1.5-Sterilization)\n",
    "- [1.6 Morphology](#1.6-Morphology)\n",
    "- [1.7 Growth medium](#1.7-Growth-medium)\n",
    "    - [1.7.1 Macronutrients](#1.7.1-Macronutrients)\n",
    "    - [1.7.2 Micronutrients](#1.7.2-Micronutrients)\n",
    "- [1.8 Factors affecting the fermentation process](#1.8-Factors-affecting-the-fermentation-process)\n",
    "    - [1.8.1 pH](#1.8.1-pH)\n",
    "    - [1.8.2 Temperature](#1.8.2-Temperature)\n",
    "    - [1.8.3 Mechanical forces](#1.8.3-Mechanical-forces)\n",
    "- [1.9 Nitrogen sources](#1.9-Nitrogen-sources)\n",
    "    - [1.9.1 Yeast](#1.9.1-Yeast)\n",
    "    - [1.9.2 Soya beans](#1.9.2-Soya-beans)\n",
    "    - [1.9.3 Soybean meal hydrolysate](#1.9.3-Soybean-meal-hydrolysate)\n"
   ]
  },
  {
   "cell_type": "markdown",
   "metadata": {},
   "source": [
    "###### List of Tables"
   ]
  },
  {
   "cell_type": "markdown",
   "metadata": {},
   "source": [
    "# List of Figures\n",
    "- [Figure 1: Flask fermentation](#Figure-1:-Flask-fermentation.)\n",
    "- Figure 2: Metabolic pathway of *R. oryzae* ATCC 20344\n",
    "- [Figure 3: Soybean plant ready for harvest](#Figure-3:-Soybean-plant-ready-for-harvest.)\n",
    "- Figure 4: Producing local soybean meal feed stock"
   ]
  },
  {
   "cell_type": "markdown",
   "metadata": {},
   "source": [
    "# 1 Literature Review"
   ]
  },
  {
   "cell_type": "markdown",
   "metadata": {},
   "source": [
    "## 1.1 Introduction\n",
    "\n",
    "<div style=\"text-align: justify\"><font size=\"3\"> Fermentation is a conventional production method employed in bioprocess engineering, a subdiscipline of biotechnology, to convert simple cheap forms into valuable industrial products. It consists of the cells (producers), culture medium (growth medium), bioreactor (fermenter) and bioreactor fluid. It is crucial for the process to be economical, as a result chemical engineers are employed to identify and describe suitable fermenter practice, depending on the product of interest. The product of interest in the case is fumaric acid. Figure 1 below shows an illustration of a flask fermenter lab setup. </font></div>\n",
    "&nbsp;\n",
    "<center><video controls src=\"fermenter_setup.mp4\" width=\"400\" height=\"400\" /></center> \n",
    "\n",
    "###### <center><font size=\"3\">Figure 1: Flask fermentation.</font></center> \n"
   ]
  },
  {
   "cell_type": "markdown",
   "metadata": {},
   "source": [
    "<font size=\"3\"> <div style=\"text-align: justify\"> Fumaric acid and its other 4 carbon dicarboxylic acids (e.g. malic and succinic acid) and their derivatives have a $15 billion market of bulk chemicals <a href=\"https://onlinelibrary-wiley-com.uplib.idm.oclc.org/doi/epdf/10.1002/bit.24599\" target=\"_blank\">(Jang et al, 2012)</a>. The dicarboxylic acid occurs naturally as a metabolic intermediate in the tricarboxylic acid cycle of most microorganisms. It has a carbon-carbon double bond and two carboxylic groups, characteristics potential for industrial applications <a href=\"https://link.springer.com/content/pdf/10.1007/s00253-007-1341-x.pdf\" target=\"_blank\">(Roa Engel et al, 2008)</a>. The white crystalline chemical compound has numerous applications ranging from manufacture of medicines, drinks, food, animal feed, cleansing agents and a whole lot more. It is primarily valued as an acidulant in the food and pharmaceutical industry for its strength compared to other organic food acids <a href=\"https://thechemco.com/chemical/fumaric-acid/\" target=\"_blank\">(Roach, 2018)</a>.\n",
    "A huge portion of the fumaric acid production is derived from petroleum resources, where it is produced by the isomerisation of maleic acid. Maleic acid is produced from maleic anhydride, which is produced from butane <a href=\"https://link.springer.com/content/pdf/10.1007/s00253-007-1341-x.pdf\" target=\"_blank\">(Roa Engel et al, 2008)</a>. Currently pressed by the negative impacts of petroleum industries, environmental pollution is of primary concern globally creating a window of interest for renewable substitutes. </div>\n",
    "&nbsp;\n",
    "<div style=\"text-align: justify\"> Over the long term, raw materials replace each other in a regular fashion, with an increasing interest and applications of renewable resources. Implementation of biotechnology began as early as the 1750’s when Samaritans brew beer. In the modern world, fermentation has an endless list of revolutionary applications. Fungal fermentation provides promising alternative method for production of fumaric acid as a outcome of its environmental friendliness relative to petroleum synthesis, but suffers from low yield, low productivity and high production cost <a href=\"https://www-sciencedirect-com.uplib.idm.oclc.org/science/article/pii/S073497500300168X/pdfft?md5=86fe8e580aa95a075083144d7552bb39&pid=1-s2.0-S073497500300168X-main.pdf\" target=\"_blank\">(Papagianni, 2004)</a>. </div>\n",
    "&nbsp;\n",
    "<div style=\"text-align: justify\"> Fungal fermentation depends on a vast number of factors for production of specific products. It is important to conduct a solid review before conducting any experiments. The review will focus on the impacts of nitrogen sources, morphology, for fumaric acid production using Rhizopus oryzae. </div> </font>"
   ]
  },
  {
   "cell_type": "markdown",
   "metadata": {},
   "source": [
    "## 1.2 Rhizopus oryzae\n",
    "<font size=\"3\"> <div style=\"text-align: justify\"> There is an unlimited range of fungi but only a number of useful fungi is limited, and only a few of the limited fungi can produce significant quantities of desired fermentation products <a href=\"https://app.knovel.com/web/view/khtml/show.v/rcid:kpAFFBIQT3/cid:kt00U9J0L3/viewerType:khtml//root_slug:advances-in-fermented/url_slug:bacterial-functions-hazards?page=13&view=collapsed&zoom=1\" target=\"_blank\">(Holzapfel, 2015)</a>. Rhizopus oryzae is from the genre Rhizopus, and the Mucoromycotina family \n",
    "<a href=\"https://app.knovel.com/web/view/khtml/show.v/rcid:kpAFFBIQT3/cid:kt00U9J0L3/viewerType:khtml//root_slug:advances-in-fermented/url_slug:bacterial-functions-hazards?page=13&view=collapsed&zoom=1\" target=\"_blank\">(Holzapfel, 2015)</a>. Rhizopus species are found from the soil as common as contaminants of crops, mostly tropical <a href=\"https://ebookcentral-proquest-com.uplib.idm.oclc.org/lib/pretoria-ebooks/reader.action?docID=292066&ppg=157\" target=\"_blank\">(Ploetz, 2003)</a>. Rhizopus oryzae (synonym Rhizopus arrhizus), a specie of Rhizopus, is a filamentous fungus that is grey in colour on cultural media. The characteristic appearance is differentiated on the basis of stolons and sporangiospores which arise above the rhizoids <a \n",
    "href=\"https://app.knovel.com/web/view/khtml/show.v/rcid:kpEFMV0004/cid:kt0051KLQ3/viewerType:khtml//root_slug:encyclopedia-food-microbiology/url_slug:colletotrichum-corda?page=5&view=collapsed&zoom=1\" target=\"_blank\">(Robinson, 2000)</a>.\n",
    "    \n",
    "\n",
    "Although Rhizopus oryzae is considered as potentially pathogenic, given that it grows at 37 °C, it has substantial benefits in its use for the production of valuable biproducts like fumaric acid, an end product of the TCA cycle, under operational conditions <a href=\"https://onlinelibrary-wiley-com.uplib.idm.oclc.org/doi/epdf/10.1002/bit.24599\" target=\"_blank\">(Jang et al, 2012)</a>. \n",
    "*R. oryzae* (ATC20344) is mostly used in analysis. Modified microbes have been attempted for the production of fumaric acid, but nothing that performs better than *R. oryzae* has been discovered yet <a href=\"https://www-sciencedirect-com.uplib.idm.oclc.org/science/article/pii/S187167841730362X/pdfft?md5=fd6dd0545ba6944963bb573f1e79e452&pid=1-s2.0-S187167841730362X-main.pdf\" target=\"_blank\">(Naude and Nicol, 2018)</a>.\n",
    "\n",
    "\n",
    "“Unlike most other microbes, the glucose consumption rate does not drop significantly with the onset of phosphate/nitrogen limitation (Biomass cannot grow in the absence of nitrogen as result because proteins cannot be produced). Instead the glucose is redirected towards FA production since the pathway is both adenosine triphosphate (ATP) and nicotinamide adenine dinucleotide (NADH) neutral, i.e. there is no net production/consumption of NADH or ATP when FA is produced from glucose by *R. oryzae*” <a href=\"https://www-sciencedirect-com.uplib.idm.oclc.org/science/article/pii/S187167841730362X/pdfft?md5=fd6dd0545ba6944963bb573f1e79e452&pid=1-s2.0-S187167841730362X-main.pdf\" target=\"_blank\">(Naude and Nicol, 2018)</a>.\n",
    "\n",
    "\n",
    "Not all strains of *R. oryzae* can produce fumaric acid. By comparing fumaric acid producers of the Rhizopus genus family relative to yield and material costs, *R. oryzae* appeared to have the best potential. It has a good yield and uses simple nutrients (lower material costs). *R. oryzae* strains were classified into two types, that is type 1 and type 2. The first type produced fumaric acid but close to nothing of lactic acid and vice versa for type 2. According to literature, fumaric acid producers may not belong to *R. oryzae* species, and they reclassified the fumaric acid producers as *R. delemar*. However, to avoid confusion, we still refer to fumaric acid producers as *R. oryzae* <a href=\"https://www-sciencedirect-com.uplib.idm.oclc.org/science/article/pii/S0734975012001462/pdfft?md5=78091f98001f654cfd28be9e6feb6e6a&pid=1-s2.0-S0734975012001462-main.pdf\" target=\"_blank\">(Xu et al, 2012)</a>.\n",
    "\n",
    "\n",
    "The metabolic pathways for *R. oryzae* ATCC 20344 are illustrated in Figure 2. The enzymes are indicated by the bracketed numbers and their names can be found from literature as referenced in Figure 2 blow. </div>\n",
    "&nbsp;\n",
    "<img src=\"metabolic_pathway.PNG\" width=\"400\" />\n",
    "\n",
    "###### <center> <font size=\"3\"> Figure 2: Metabolic pathway of *R. oryzae* ATCC 20344 </font> <a href=\"https://www-sciencedirect-com.uplib.idm.oclc.org/science/article/pii/S1359511316304573/pdfft?md5=14a4b3f9619c246c6ff3da0226df9468&pid=1-s2.0-S1359511316304573-main.pdf\" target=\"_blank\"><font size=\"3\">(Naude and Nicol, 2017)</font></a>.</center> "
   ]
  },
  {
   "cell_type": "markdown",
   "metadata": {},
   "source": [
    "## 1.3 Pretreatment\n",
    "<font size=\"3\"> <div style=\"text-align: justify\"> With the growing application of fungal biotechnology, industrial scale productions highlight’s major process problems. For instance, if liquid is to be removed, the cells follow. This kind of operational limitation is simplified by the innovation of a technique called immobilisation. The strategy makes it possible to harvest spores effectively. Immobilisation techniques fall into four broad categories, namely: attachment. entrapment, aggregation and containment. The entrapment category is of prime interests in this case. This method makes use of polysaccharide gels, like agar. The porous structures, agar, can be harmful in some case and appropriate operating conditions are required <a href=\"https://www-sciencedirect-com.uplib.idm.oclc.org/science/article/pii/S0269915X89801107/pdf?md5=6daa4452d69256fc631c5392355a613c&pid=1-s2.0-S0269915X89801107-main.pdf\" target=\"_blank\">(Webb, 1989)</a>. </div> </font>"
   ]
  },
  {
   "cell_type": "markdown",
   "metadata": {},
   "source": [
    "### 1.3.1 *R. oryzae* sporulation\n",
    "<font size=\"3\"> <div style=\"text-align: justify\"> Raw materials, Rhizopus oryzae, have to be converted into forms, spores, that are suitable for the production. Spores are formed by a process called sporulation. During sporulation, spores are made in response to environmental stress or nutrient depletion to preserve genetic content. They remain dormant until they exposed to favourable conditions where they resurrect into an actively growing and dividing cell <a href=\"https://app.knovel.com/web/view/khtml/show.v/rcid:kpFMAIE004/cid:kt008XK8I1/viewerType:khtml//root_slug:food-microbiology-an/url_slug:sporulation?page=14&view=collapsed&zoom=1\" target=\"_blank\">(Montville, 2008)</a>. \n",
    "*R. oryzae* spores can be grown on YMP agar plates that consist of yeast extract, malt extract, peptone, glycerol, and agar. Sporulation takes about 8 to 9 days at 25 °C <a href=\"https://www.sciencedirect.com/science/article/pii/S1359511314006084\" target=\"_blank\">(Zhang et al, 2015)</a>. </div> </font>"
   ]
  },
  {
   "cell_type": "markdown",
   "metadata": {},
   "source": [
    "### 1.3.2 Inoculation\n",
    "<font size=\"3\"> <div style=\"text-align: justify\"> Rhizopus oryzae ATCC 20344 is a good producer of fumaric acid. It has the best production of fumaric acid by glucose, compared to other strands of Rhizopus. The concentration of the inoculum is also factor of the process.  Determining the concentration of spores is a long process, therefore a certain concentration can be produced based on the conditions used in previous experiments. </div>\n",
    "&nbsp;\n",
    "<div style=\"text-align: justify\"> Extraction of spores from agar plates can be conducted by pouring distilled water onto the plates and diligently scraping off using a scalpel blade (inoculation). The spore and distilled mixture, inoculum, can be obtained using a lab syringe and stored at 4 °C for later use. </div>\n",
    "<div style=\"text-align: justify\"> During inoculation, it is imperative to sterilise your apparatus/equipment to avoid internal or external infections. The procedure should be carried out under the laminar flow hood <a href=\"https://link-springer-com.uplib.idm.oclc.org/content/pdf/10.1385/ABAB:84-86:1-9:779.pdf\" target=\"_blank\">(Zhou et al, 2000)</a>.\n",
    " </div> </font>\n"
   ]
  },
  {
   "cell_type": "markdown",
   "metadata": {},
   "source": [
    "## 1.4 Reactor fluid\n",
    "<font size=\"3\"> <div style=\"text-align: justify\"> The reactor fluid is either a liquid or a slurry that is a Newtonian or Non-Newtonian fluid. Newtonian fluids have a constant viscosity irrespective of shear stress during mixing. Non-Newtonian viscosities vary, their viscosity may increase or decrease with shear. The application of *R. oryzae* for fumaric acid production prescribe a Newtonian fluid, distilled water, for viable production. </div> </font>\n"
   ]
  },
  {
   "cell_type": "markdown",
   "metadata": {},
   "source": [
    "## 1.5 Sterilization\n",
    "<font size=\"3\"> <div style=\"text-align: justify\"> It is important to sterilize bioprocesses due to possible contamination. Sterilization prevents or reduces the number of unwanted species in the medium.  Any traces of unwanted microorganisms may flourish. The possibility is this is high, taking note that the experimental setup is engineered for a specific microorganism to thrive, but contaminants may adapt better under the design conditions <a href=\"https://UnivofPretoria.on.worldcat.org/oclc/50684808\" target=\"_blank\">(Acquaah, 2004)</a>.\n",
    " </div>\n",
    " &nbsp;\n",
    "<div style=\"text-align: justify\"> During contamination, the contaminant and the microbe, microorganism, of interest feed off the available nutrition. This introduces competition and limitations for the microbe. Some contaminants may exhibit great grow and result in an increase in viscosity of the medium, most specifically if the contaminant is filamentous, that will affect the rotation dynamics of the fermenter leading to a decrease in harvest efficiency. Therefore, all apparatus should be routinely sterilized before use. Autoclaving is the common method for sterilization. It employs steam at a specific temperature and pressure to kill contaminants  <a href=\"https://UnivofPretoria.on.worldcat.org/oclc/11969668\" target=\"_blank\">(Moo-Young, 1985)</a>. </div> </font>\n"
   ]
  },
  {
   "cell_type": "markdown",
   "metadata": {},
   "source": [
    "## 1.6 Morphology\n",
    "<font size=\"3\"> <div style=\"text-align: justify\"> Filamentous fungi have different structural changes throughout their life cycle. These complex microorganisms have a vegetative structure of growth made of a tubular filament, hypha, that germinates from a spore. Hypha makes filamentous hypha called mycelium. When introduced into a growth medium, culture, the mycelium portrays different forms (dispersed mycelia, mycelial clumps and pellets). The mycelium forms, morphology, depends on the inoculum, culture make-up (growth medium) and physical properties -temperature, pH, Mechanical forms <a href=\"https://www-sciencedirect-com.uplib.idm.oclc.org/science/article/pii/S073497500300168X/pdfft?md5=86fe8e580aa95a075083144d7552bb39&pid=1-s2.0-S073497500300168X-main.pdf\" target=\"_blank\">(Papagianni, 2004)</a>. </div>\n",
    "&nbsp;\n",
    "<div style=\"text-align: justify\"> \n",
    "Dispersed mycelia and mycelial clumps exhibit high viscous effects which are inefficient during the operation of reactors. Therefore, pallet morphology is preferred. However, it is crucial to consider the pallet size during production. According to literature, a pallets size of about 1mm is preferred. Uniformly dispersed mycelial clumps of about 0.1mm are acceptable if pellet morphology is strenuous to achieve <a href=\"https://www.sciencedirect.com/science/article/pii/S1359511314006084\" target=\"_blank\">(Zhang et al, 2015)</a>. Large pellets undergo autolysis, that is the breakdown of cells by self-produced enzymes, as a result of nutrient limitation. Which will have an effect on production. </div>\n",
    "&nbsp;\n",
    "<div style=\"text-align: justify\"> To obtain a pallet morphology the recommended conditions for Rhizopus oryzae to effectively produce fumaric acid will be discussed below. </div> </font>"
   ]
  },
  {
   "cell_type": "markdown",
   "metadata": {},
   "source": [
    "## 1.7 Growth medium\n",
    "<font size=\"3\"> <div style=\"text-align: justify\"> The process to fumaric acid production employs two phases, that is the growth phase and the fermentation phase. The difference between the two phases is the presence of nitrogen phase. The fermentation phase, production of the fumaric acid, contains no nitrogen.  During the growth phase the inoculum is fed into the growth medium containing a nitrogen source, metal ions and glucose in a shaker incubator. The spores grow into either dispersed mycelia, mycelial clumps or pellets that can be used in the fermentation process. </div>\n",
    "&nbsp;\n",
    "<div style=\"text-align: justify\"> It is important to understand the nutritional requirements of microorganisms for an appropriate environment to execute efficient growth, maximise yield and lower costs. The components in the growth medium are classed as macronutrients, micronutrients, vitamins, amino acids and miscellaneous growth factors. </div> </font>"
   ]
  },
  {
   "cell_type": "markdown",
   "metadata": {},
   "source": [
    "### 1.7.1 Macronutrients\n",
    "<font size=\"3\"> <div style=\"text-align: justify\"> About 30 to 40 periodic elements are essential for microbial growth. Most of which are metals, but six non-metals (C, H, O, N, S and P) and 2 metals make-up 90 % to 95 % dry weight. These are termed micronutrients and have a concentration greater than  0.1 mmol/l. The others are called macronutrients with concentration less than 0.1 mmol/l  <a href=\"https://UnivofPretoria.on.worldcat.org/oclc/11969668\" target=\"_blank\">(Moo-Young, 1985)</a>. </div> </font>"
   ]
  },
  {
   "cell_type": "markdown",
   "metadata": {},
   "source": [
    "###### <center> <font size=\"3\"> Table 1: Micronutrients and some of their function </font> <a href=\"https://UnivofPretoria.on.worldcat.org/oclc/11969668\" target=\"_blank\"><font size=\"3\"> (Moo-Young, 1985) </font></a>. <center>\n",
    " \n",
    "| <font size=\"3\"> Micronutrients </font> | <div style=\"text-align: justify\"> <font size=\"3\"> Function </font> </div> |\n",
    "| --- | --- |\n",
    "| <div style=\"text-align: justify\"> <font size=\"3\"> C </font> </div> | <div style=\"text-align: justify\"> <font size=\"3\"> Energy source (≈ 50 % biomass dry weight) </font> </div> |\n",
    "| <div style=\"text-align: justify\"> <font size=\"3\"> H </font> </div> | <div style=\"text-align: justify\"> <font size=\"3\"> Terminal electron donor </font> </div> |\n",
    "| <div style=\"text-align: justify\"> <font size=\"3\"> O </font> </div> | <div style=\"text-align: justify\"> <font size=\"3\"> Aerobic degradation of C compounds, and terminal electron acceptor </font> </div> |\n",
    "| <div style=\"text-align: justify\"> <font size=\"3\"> N </font> </div> | <div style=\"text-align: justify\"> <font size=\"3\"> Protein (Growth) </font> </div> |\n",
    "| <div style=\"text-align: justify\"> <font size=\"3\"> S </font> </div> | <div style=\"text-align: justify\"> <font size=\"3\"> Electron donor </font> </div> |\n",
    "| <div style=\"text-align: justify\"> <font size=\"3\"> P </font> </div> | <div style=\"text-align: justify\"> <font size=\"3\"> PH buffer, structural component, regulates, carbohydrates, lipid metabolism and production of many organic acids </font> </div> |\n",
    "| <div style=\"text-align: justify\"> <font size=\"3\"> K </font> </div> | <div style=\"text-align: justify\"> <font size=\"3\"> Transport processes, carbohydrate metabolism and growth regulator </font> </div> |\n",
    "| <div style=\"text-align: justify\"> <font size=\"3\"> Mg </font> </div> | <div style=\"text-align: justify\"> <font size=\"3\"> Enzyme cofactor and ribosome requirements </font> </div> |"
   ]
  },
  {
   "cell_type": "markdown",
   "metadata": {},
   "source": [
    "### 1.7.2 Micronutrients\n",
    "<font size=\"3\"> <div style=\"text-align: justify\"> This is an uncertain area in biotechnology. Not much is known exact quantities required for growth. As a result, standard formulations from past works are passed on and used. Although they are required in micro-quantities, these nutrients impact the production of metabolites. Lack of an essential micronutrient, also called trace element, may prevent growth completely. The trace elements required by all fungi are Fe, Mn and Zn. </div> </font>"
   ]
  },
  {
   "cell_type": "markdown",
   "metadata": {},
   "source": [
    "### 1.7.2 Micronutrients\n",
    "<font size=\"3\"> <div style=\"text-align: justify\"> This is an uncertain area in biotechnology. Not much is known exact quantities required for growth. As a result, standard formulations from past works are passed on and used. Although they are required in micro-quantities, these nutrients impact the production of metabolites. Lack of an essential micronutrient, also called trace element, may prevent growth completely. The trace elements required by all fungi are Fe, Mn and Zn. </div> </font>"
   ]
  },
  {
   "cell_type": "markdown",
   "metadata": {},
   "source": [
    "## 1.8 Factors affecting the fermentation process"
   ]
  },
  {
   "cell_type": "markdown",
   "metadata": {},
   "source": [
    "### 1.8.1 pH\n",
    "<font size=\"3\"> <div style=\"text-align: justify\"> Like most living things, fungi have a pH tolerance to prevent denature. The surface properties of fungi change as pH changes, and this affects morphology. The sensitivity of the pH relies on the type of strain, media conditions and factors described in the literature above and below <a href=\"https://www-sciencedirect-com.uplib.idm.oclc.org/science/article/pii/S0734975012001462/pdfft?md5=78091f98001f654cfd28be9e6feb6e6a&pid=1-s2.0-S0734975012001462-main.pdf\" target=\"_blank\">(Xu et al, 2012)</a>. </div> </font>"
   ]
  },
  {
   "cell_type": "markdown",
   "metadata": {},
   "source": [
    "### 1.8.2 Temperature\n",
    "<font size=\"3\"> <div style=\"text-align: justify\"> As temperature influences enzymic reactions it has an important role in promoting or preventing microbial growth. At temperatures higher than an organism’s optimum growth range, cells die rapidly. Lower temperatures still result in cell death but at a slower rate (Wareing et al). The optimum growth and fermenter temperatures are usually around 35 °C to 37 °C <a href=\"https://www.sciencedirect.com/science/article/pii/S1359511314006084\" target=\"_blank\">(Zhang et al, 2015)</a>. </div>\n",
    " </font>"
   ]
  },
  {
   "cell_type": "markdown",
   "metadata": {},
   "source": [
    "### 1.8.3 Mechanical forces\n",
    "<font size=\"3\"> <div style=\"text-align: justify\"> “Different agitation rates and impellers may alter the shearing action and oxygen transfer in the broth and can affect the branching or the length of the mycelia. The effect of the agitation rate has also been investigated during morphology control. Bai et al. (2003) observed the correlation between the agitation speed and the aeration rate and the morphology of *R. oryzae*. The data showed that increasing the agitation speed resulted in a decrease in pellet size but an increase in the pellet number; the reverse was true when the aeration rate was increased” <a href=\"https://www-sciencedirect-com.uplib.idm.oclc.org/science/article/pii/S0734975012001462/pdfft?md5=78091f98001f654cfd28be9e6feb6e6a&pid=1-s2.0-S0734975012001462-main.pdf\" target=\"_blank\">(Xu et al, 2012)</a>. The speed of pellet formation, in an incubator, is 220rpm for a 250ml Erlenmeyer flask according to literature <a href=\"https://www.sciencedirect.com/science/article/pii/S1359511314006084\" target=\"_blank\">(Zhang et al, 2015)</a>. This can be tested by running on various rpm’s for larger flask volumes. </div> </font>"
   ]
  },
  {
   "cell_type": "markdown",
   "metadata": {},
   "source": [
    "## 1.9 Nitrogen sources\n",
    "<font size=\"3\"> <font size=\"3\"> <div style=\"text-align: justify\"> Nitrogen is an essential requirement for growth. Urea and Yeast extracts are common sources that have wide experimental analyses. The choice of nitrogen source depends on operation benefits during production. The choice can affect morphology and fumaric acid yield. A complex nitrogen source, Soybean meal hydrolysate, is of interest in this study which is evaluated along urea (CH<sub>4</sub>N<sub>2</sub>O) and yeast extract. </div> </font> </font>"
   ]
  },
  {
   "cell_type": "markdown",
   "metadata": {},
   "source": [
    "### 1.9.1 Yeast \n",
    "<font size=\"3\"> <div style=\"text-align: justify\"> Yeast is a unicellular fungus, that can reproduce asexually(budding) and sexually(ascospores). It belongs to the Hemiascomycetous class and phylum Ascomycota <a  href=\"https://app.knovel.com/web/view/khtml/show.v/rcid:kpDCE00021/cid:kt00TW7CC2/viewerType:khtml//root_slug:dictionary-chemical-engineering/url_slug:young-james?page=1&view=collapsed&zoom=1\" target=\"_blank\">(Schaschke, 2014)</a>. Yeast extract is just yeast without cell walls. Its use is common in culture media analyses, brewing beer, baking and the chemical composition depends the method of production. Saccharomyces cerevisiae is one of the fungi species that is widely used for the production of yeast extract. Other important genera used in biotechnological processes include Kluyveromyces, and Candida. S. cerevisiae has a biomass formula of CH<sub>1.64</sub>O<sub>0.52</sub>N<sub>0.16</sub> given by Najafpour . The chemical composition is represented in Table 2. </div> </font>"
   ]
  },
  {
   "cell_type": "markdown",
   "metadata": {},
   "source": [
    "###### <center> <font size=\"3\"> Table 2: Yeast extract </font> <a href=\"https://pubs-rsc-org.uplib.idm.oclc.org/en/content/articlepdf/2017/ew/c7ew00304h?page=search\" target=\"_blank\"><font size=\"3\"> (Thompson et al, 2017) </font></a>. <center>\n",
    "| <div style=\"text-align: justify\"> <font size=\"3\"> Literature </font> </div> | <div style=\"text-align: left\"> <font size=\"3\"> % (w/w) </font> </div> | <div style=\"text-align: left\"> <font size=\"3\"> Experiment </font> </div> | <div style=\"text-align: left\"> <font size=\"3\"> % (w/w) </font> </div> |\n",
    "| --- | --- | --- | --- |\n",
    "| <div style=\"text-align: justify\"> <font size=\"3\"> Organic carbon </font> </div> | <div style=\"text-align: justify\"> <font size=\"3\"> 40 </font> </div> | <div style=\"text-align: justify\"> <font size=\"3\"> Nitrogen </font> </div> | <div style=\"text-align: justify\"> <font size=\"3\"> 10 </font> </div> |\n",
    "| <div style=\"text-align: justify\"> <font size=\"3\"> Potassium </font> </div> | <div style=\"text-align: justify\"> <font size=\"3\"> 5 </font> </div> | <div style=\"text-align: justify\"> <font size=\"3\"> Ammonia </font> </div> | <div style=\"text-align: justify\"> <font size=\"3\"> 0.8 </font> </div> |\n",
    "| <div style=\"text-align: justify\"> <font size=\"3\"> Chloride </font> </div> | <div style=\"text-align: justify\"> <font size=\"3\"> 0.2 </font> </div> | <div style=\"text-align: justify\"> <font size=\"3\"> Phosphorous </font> </div> | <div style=\"text-align: justify\"> <font size=\"3\"> 1.8 </font> </div> |\n",
    "| <div style=\"text-align: justify\"> <font size=\"3\"> <font size=\"3\"> Magnesium </font> </font> </div> | <div style=\"text-align: justify\"> <font size=\"3\"> 0.13 </font> </div> | <div style=\"text-align: justify\"> <font size=\"3\"> Phosphate </font> </div> | <div style=\"text-align: justify\"> <font size=\"3\"> 1 </font> </div> |"
   ]
  },
  {
   "cell_type": "markdown",
   "metadata": {},
   "source": [
    "### 1.9.2 Soya beans\n",
    "<font size=\"3\"> <div style=\"text-align: justify\"> Soya beans were discovered thousands of years ago in Asia, specifically China, and were then classified as one of the five sacred grains (of rice, wheat, barley, and millets). They belong to the legume family. Forty percent of this bean consists of protein, making it the highest protein constituent of crops. It is by no doubt a nutritional hub as it also contains vitamins, minerals, and some elements. The bean is famously used for oil and as protein food for livestock and poultry. Some of its industrial applications include the manufacture of explosives, plastics, insecticides and paint <a href=\"https://UnivofPretoria.on.worldcat.org/oclc/7343733\" target=\"_blank\">(Botsford, 1980)</a>. Figure 3 below depicts a soybean plant ready for harvest. </div>\n",
    "&nbsp;\n",
    "<img src=\"plant2.jpg\" width=\"350\" />\n",
    "\n",
    "###### <center>Figure 3: Soybean plant ready for harvest.</center> \n",
    "\n",
    "<div style=\"text-align: justify\"> Oil extraction from soybeans began in 1911, and the extraction techniques improve with time. First the beans are harvested and stored in silos. The moisture content of the bean has to be less than or equal to 13 % for proper storage, or else the beans will rot. As a result, the moisture content is checked every now and then during growth. If it happens that the moisture exceeds the minimum storage standard, the soybeans can be naturally dried under the sun before storage. During oil extraction, the soybeans first are cleaned to remove foreign objects, cracked into smaller sizes and dehulled (removal of the seed coat). From there the seeds are flaked. Prior to this, the small soybean sizes are steamed to soften for easy flaking. Usually they are pressed to get the oil but now a solvent is employed to dissolve the oil from the flakes forming defatted flakes. The oil is further refined for consumption. Defatted flakes, also referred to as defatted soybean meal, can be used as soybean meal feedstock for poultry and livestock. The high protein content of the soybean meal presents it as a valuable nitrogen source for this research <a href=\"https://UnivofPretoria.on.worldcat.org/oclc/7343733\" target=\"_blank\">(Botsford, 1980)</a>. In Figure 4 a local farmer uses the soybeans for bovine feedstock without extracting the oil. </div> </font>\n",
    "\n",
    "***\n",
    "<div style=\"text-align: justify\"> <font size=\"3\"> Soybeans </font> </div> | <div style=\"text-align: justify\"> <font size=\"3\"> Cracked </font> </div> | <div style=\"text-align: justify\"> <font size=\"3\"> Soybean meal </font> </div> | <div style=\"text-align: justify\"> <font size=\"3\"> Chicken manure </font> </div>\n",
    "-|-|-|-   \n",
    "![alt](soybean2.jpg)|![alt](cracked.jpg)|![alt](soybean_meal.jpg)|![alt](chicken_manure.jpg)\n",
    "\n",
    "***\n",
    "###### <center> <font size=\"3\"> Figure 4: Producing local soybean meal feed stock </font> <a href=\"https://goo.gl/maps/qBbNH8cKF8E34onM9\" target=\"_blank\"><font size=\"3\"> (Limpopo. Makgophong) </font></a>.</center> "
   ]
  },
  {
   "cell_type": "markdown",
   "metadata": {},
   "source": [
    "<font size=\"3\"> <div style=\"text-align: justify\"> The evaluation of the approximate amount of almost all the nitrogen content of soybean meal is a debatable procedure that has been in discussion till this day. A nitrogen protein conversion factor, NPCF, of 6.25 protein per nitrogen. This conversion factor is based on two assumptions: (I) protein contains 16 % nitrogen and (II) all the nitrogen is derived from proteins. Attempts to correct this by analysts and agronomists but it is suggested that the development of various conversion factors will lead to confusion, so any value either than 6.25 should be avoided <a href=\"https://UnivofPretoria.on.worldcat.org/oclc/388496\" target=\"_blank\">(Smith and Circle, 1972)</a>. Realistically, nitrogen content of proteins varies between 13 % and 19 %, that is 5.26 to 7.69 protein per nitrogen. This varies because of the nitrogen content of amino acids and the nonprotein nitrogen sources. Recently, there is interest to mitigate this irregularity. Therefore, for now, the NPCF used for soybean meal is 6.25 according the international nutritional labelling standards listed in <a href=\"https://aocs.onlinelibrary.wiley.com/doi/abs/10.1002/aocs.12196#.XsxRgXd5Ar4.emails\" target=\"_blank\">(Krul, 2019)</a>. </div> </font>"
   ]
  },
  {
   "cell_type": "markdown",
   "metadata": {},
   "source": [
    "### 1.9.3 Soybean meal hydrolysate\n",
    "<font size=\"3\"> <div style=\"text-align: justify\"> Soybean meal is hydrolysed to make soybean meal hydrolysate. During hydrolysis, the meal is broken down for easy digestion. There are various processes for the production Soybean meal hydrolysate. The feasible method involves adding hydrochloric acid onto the soybeans and autoclaving at 121 °C for 30 minutes <a href=\"https://www.sciencedirect.com/science/article/pii/S1359511314006084\" target=\"_blank\">(Zhang et al, 2015)</a>, but the literature isn’t as detailed as the use of H<sub>2</sub>SO<sub>4</sub>. </div>\n",
    "&nbsp;\n",
    "<div style=\"text-align: justify\"> <a href=\"https://search.proquest.com/docview/2108562896?accountid=14717\" target=\"_blank\">Yang et al (2018)</a>. hydrolysed defatted soybean meal, DSM, in a 500m1 PYREX bottle for 45 minutes at 45 ℃ in an autoclave. The materials used are 50 g DSM and 250 ml of 0.5 % H<sub>2</sub>SO<sub>4</sub>. After 45 minutes, the reaction is stopped, and the bottle cooled in an ice bath followed by PH adjustment right after the bottle has cooled down. The PH is adjusted using NaOH, but excess CaCO<sub>3</sub> can also be used. Solids are separated from the liquid by centrifuge at 10 ℃ for 35 minutes and 3900 g. The protein analysis of Soybean meal hydrolysate, SMH, after autoclave is essential because this process might affect protein concentration just as it has been shown in <a href=\"https://search.proquest.com/docview/2108562896?accountid=14717\" target=\"_blank\">Yang et al (2018)</a>., where concentration of protein increased from 48.1 % to 58.6 % dry basis.</div> </font>"
   ]
  },
  {
   "cell_type": "markdown",
   "metadata": {},
   "source": [
    "###### <center> <font size=\"3\"> Table 3: Codex Standards </font> <a href=\"https://aocs.onlinelibrary.wiley.com/doi/abs/10.1002/aocs.12196#.XsxRgXd5Ar4.emails\" target=\"_blank\"><font size=\"3\">(Krul, 2019)  </font></a>.<center>\n",
    "\n",
    "| <div style=\"text-align: justify\"> <font size=\"3\"> Codex Standards for Cereals, Pulses, Legumes, and Vegetable Proteins </font> </div> |\n",
    "| --- | \n",
    "| <div style=\"text-align: justify\"> <font size=\"3\"> 175-1989 “Codex General Standard for Soy Protein Products” (Codex Alimentarius STAN 175-1989). </font> </div> |\n",
    "| <div style=\"text-align: justify\"> <font size=\"3\"> 174-1989 “Codex General Standard for Vegetable Protein Products (VPP) (Codex Alimentarius STAN 174-1989). </font> </div> |\n",
    "| <div style=\"text-align: justify\"> <font size=\"3\"> CAC/GL 2-1985 “Guidelines on Nutrition Labelling” (as amended by the 29th Session of the Commission, 2006) (Codex Alimentarius CAC/GL 2-1985). </font> </div> | "
   ]
  },
  {
   "cell_type": "markdown",
   "metadata": {},
   "source": [
    "***\n",
    "# <center><font size=\"25\"> Summary </font></center>\n",
    "***"
   ]
  },
  {
   "cell_type": "markdown",
   "metadata": {},
   "source": [
    "<div style=\"text-align: justify\"> <font size=\"3\"> Bio based fungal fermentations have gained great attention but suffers from low yield and productivity due to fermenter conditions yet to be investigated. In the study of <a href=\"https://www.sciencedirect.com/science/article/pii/S1359511314006084\" target=\"_blank\">Zhang et al (2015)</a>, culture media are prepared with yeast, urea and SMH as the nitrogen source. Analysis is guided by the comparison yeast and urea to SMH. This is carried out by varying the pH, R. oryzae spore concentration and the concentration of SMH. R. oryzae was sporulated on agar plates under controlled conditions of incubation at 32 ℃  for 7 days. The spores were harvested and inoculated into a 50 ml growth media with constituents as described in the article/journal. The culture media were incubated at 35-37 ℃ for 24-48 hours in a shaker flask at 220 rpm (please complete). After microbial growth, the 10ml of the seed culture was transferred into a 30ml production composition. The production was carried out at 35 ℃ in a rotatory shaker at 220 rpm for 4 – 5 days <a href=\"https://www.sciencedirect.com/science/article/pii/S1359511314006084\" target=\"_blank\">(Zhang et al, 2015)</a>. </font> </div>\n",
    "&nbsp;\n",
    "<div style=\"text-align: justify\"> <font size=\"3\"> When the pH, SMH concentration and spore concentration were varied changes in morphology of seed culture were observed. These variables are varied at the initial conditions of the growth medium. As the initial SMH concentration (v/v) is varied from 10 % to 40 % in increments of 10, the cell morphology changes from large aggregates to uniformly dispersed mycelial clumps. The change in SMH concentration disperses mycelia and separates them into clumps. At low pH values of about 2.2 the spores do not germinate, increasing the pH increases the size and non-uniformity of the intertwined mycelial clumps. The influence of spore concentration on the morphology is not clear, but it changes from loosely intertwined to small uniformly dispersed clumps (denser). It is clear that it might be challenging, or almost impossible, to obtain pellet morphology using SMH as a nitrogen source. </font> </div>\n",
    "&nbsp;\n",
    "<div style=\"text-align: justify\"> <font size=\"3\"> During microbial growth, urea and yeast have longer lag phases, greater than 24 hours, compared to SMH. Immediately after inoculation, onset of lag phase, the inoculum takes time to adapt to the environment and no cell growth takes place. The lag phase depends on the inoculum size, history of inoculum and the growth media composition. For an SMH concentration of 20 % (v/v), <a href=\"https://www.sciencedirect.com/science/article/pii/S1359511314006084\" target=\"_blank\">Zhang et al (2015)</a> depicts the profiles of glucose and protein, at a pH of 3. At this concentration and pH, the lag phase takes ≈ 4 hours. The glucose concentration remains constant for the next 5 hours while protein is being consumed and growth is observed implying that initial cell growth uses protein. Both glucose and protein were rapidly consumed from 9 to 21 hours and there is growth acceleration <a href=\"https://www.sciencedirect.com/science/article/pii/S1359511314006084\" target=\"_blank\">(Zhang et al, 2015)</a>. This corresponds to exponential growth phase. Therefore, SMH has a shorter lag phase and a more rapid growth. We can then conclude that SMH is a better nitrogen source for growth when compared to urea and yeast. </font> </div>\n",
    "&nbsp;\n",
    "<div style=\"text-align: justify\"> <font size=\"3\"> When a critical growth nutrient (nitrogen in this case) is completely consumed, microbial growth halts and the amount of biomass remains unchanged. This is called the stationary phase. During this phase, the different seed cultures were used for production. Production by pellets of yeast and urea yields ≈ 0.22 g/g (20 g/90 g) of fumaric acid and ethanol in 90 hours while 20 % SMH yields ≈ 0.54 g/g (38.3 g fumaric/70.9 g glucose) and 0.02 g/g (1.7 g ethanol/70.9 g glucose) within 142 hours. The malic acid product all productions was considerably low (2.1-3.7 g/l). Therefore, the production using SMH takes longer but yields more fumaric acid, less ethanol but a bit more malic acid compared to yeast and urea. The presence of the high ethanol in yeast and urea exhibit oxygen limitations, anaerobiosis, by the pellets (0.5-4 mm diameter) and SMH has low ethanol by mycelial clumps, diameter ≈ 0.1 mm, <a href=\"https://www.sciencedirect.com/science/article/pii/S1359511314006084\" target=\"_blank\">(Zhang et al, 2015)</a>. </font> </div>\n",
    "&nbsp;\n",
    "<div style=\"text-align: justify\"> <font size=\"3\"> The optimal concentration of SMH for seed culture was investigated on two different spore concentrations of 4 x 10<sup>7</sup>/L and 8 x 10<sup>7</sup>/L. As the SMH concentration was increased from 10 to 30 % (v/v) there was an increase in fumaric acid produced and cell density for both spore concentrations. The higher spore concentration had a more uniform morphology, higher fumaric acid and cell density. Although the yield of fumaric acid and cell density decreased when the SMH concentration is at 40 % (v/v). Therefore, the best SMH concentration was 30 % (v/v) with a spore concentration of 8 x 10<sup>7</sup>/L <a href=\"https://www.sciencedirect.com/science/article/pii/S1359511314006084\" target=\"_blank\">(Zhang et al, 2015)</a>. </font> </div>\n",
    "&nbsp;\n",
    "<div style=\"text-align: justify\"> <font size=\"3\"> In this investigation of SMH as nitrogen source on the production of fumaric acid and its effects on the morphology of microbial growth, the results imply that SMH forms uniformly dispersed mycelial clumps (best diameter being ≈ 0.1mm)  which offer better aeration and can hardly form pellets. The protein content of the SMH, complex and organic, significantly reduces the lag phase during microbial growth. The major dependence of better fumaric production on protein is highlighted when its yield is reduced if the growth is washed before being transferred to the production flask <a href=\"https://www.sciencedirect.com/science/article/pii/S1359511314006084\" target=\"_blank\">(Zhang et al, 2015)</a> </font> </div>"
   ]
  },
  {
   "cell_type": "markdown",
   "metadata": {},
   "source": [
    "***\n",
    "# <center><font size=\"25\"> Modelling </font></center>\n",
    "***"
   ]
  },
  {
   "cell_type": "markdown",
   "metadata": {},
   "source": [
    "# Table of Contents"
   ]
  },
  {
   "cell_type": "markdown",
   "metadata": {},
   "source": [
    "# 1 Project description and objective"
   ]
  },
  {
   "cell_type": "markdown",
   "metadata": {},
   "source": [
    "<div style=\"text-align: justify\"> <font size=\"3\"> The lab project was focused on the effects of different nitrogen sources on the production of fumaric acid by Rhizopus oryzae highlighted in the findings in an article by <a href=\"https://www.sciencedirect.com/science/article/pii/S1359511314006084\" target=\"_blank\">(Zhang et al, 2015)</a>.\n",
    "\n",
    "In an online based project, a dynamic model is developed for the fermentation profiles provided in <a href=\"https://www.sciencedirect.com/science/article/pii/S1359511314006084\" target=\"_blank\">(Zhang et al, 2015)</a> to investigate how using different nitrogen source will affect the fitted parameters that are varied to achieve suitable fits to the data. This will give us a greater understanding of the physiological effect of different nitrogen sources on *R. oryzae* and will potentially improve how further fermentations are conducted. The data to be fitted is extracted using (<a href=\"https://automeris.io/WebPlotDigitizer/\" target=\"_blank\">WebPlotDigitizer</a>), collected into csv files, uploaded into the notebook  and assigned data, data1 and data2 as names for SMH 20 % , yeast and urea, respectively as will be shown in the code below. The fit attempt is by a predicted dynamic model of the central carbon metabolism of the cell. The model is constructed using expected pathways by the anabolism and catabolism of *R. oryzae*. The best fitting μ, θ, β, γ and P_O parameters of all three nitrogen sources will be compared to explain/understand the impact of different nitrogen sources on *R. oryzae*. </font> </div>\n",
    "\n",
    "\n"
   ]
  },
  {
   "cell_type": "markdown",
   "metadata": {},
   "source": [
    "# 2 Background"
   ]
  },
  {
   "cell_type": "markdown",
   "metadata": {},
   "source": [
    "## 2.1 Crabtree effect"
   ]
  },
  {
   "cell_type": "markdown",
   "metadata": {},
   "source": [
    "<font size=\"3\"> <div style=\"text-align: justify\"> *R. oryzae* is Crabtree positive, i.e. it exhibits the Crabtree effect. The Crabtree effect is the result of a fermentative pathway (production of ethanol) under aerobic conditions at high glucose concentrations, rather than complete respiration <a href=\"https://www.microbiologyresearch.org/docserver/fulltext/micro/44/2/mic-44-2-149.pdf?expires=1592509017&id=id&accname=guest&checksum=60511964598A579A0D226FCFBDC043BA\" target=\"_blank\">(DE DEKEN, 1966)</a>. During the degradation of glucose, glucose concentrations above a certain value inhibit the formation inhibit the formation of respiratory enzymes <a href=\"https://www.microbiologyresearch.org/docserver/fulltext/micro/44/2/mic-44-2-149.pdf?expires=1592509017&id=id&accname=guest&checksum=60511964598A579A0D226FCFBDC043BA\" target=\"_blank\">(DE DEKEN, 1966)</a>. The rate of glycolysis is suspected to be higher than the capacity of oxidative phosphorylation <a href=\"https://www-sciencedirect-com.uplib.idm.oclc.org/science/article/pii/000527288090153X/pdf?md5=2ac96cacc3f9aa2798470cbbd5cb886f&pid=1-s2.0-000527288090153X-main.pdf\" target=\"_blank\">(Sussman et al, 1980)</a>. As a result, a build-up of NADH is counteracted by redirecting it back to pyruvate via ethanol formation <a href=\"https://nbviewer.jupyter.org/github/willienicol/Biochemical-engineering-notes/blob/master/2%20Basic%20biochemistry/Basic%20Biochemistry.ipynb\" target=\"_blank\">(Nicol, 2018)</a>. </div>"
   ]
  },
  {
   "cell_type": "markdown",
   "metadata": {},
   "source": [
    "## 2.2 Nitrogen limitation"
   ]
  },
  {
   "cell_type": "markdown",
   "metadata": {},
   "source": [
    "<div style=\"text-align: justify\"> <font size=\"3\"> Nitrogen is one of the most important macronutrients necessary for the growth of a cell. The absence of it halts the growth of a cell. *R. oryzae* continues to consume glucose in the absence of cell growth and this characteristic can be used to investigate fumaric acid formation capabilities under various conditions <a href=\"https://biotechnologyforbiofuels.biomedcentral.com/track/pdf/10.1186/s13068-020-1664-8\" target=\"_blank\">(Swart et al, 2020)</a>. </font> </div>"
   ]
  },
  {
   "cell_type": "markdown",
   "metadata": {},
   "source": [
    "# 3 Modeling"
   ]
  },
  {
   "cell_type": "markdown",
   "metadata": {},
   "source": [
    "<img src=\"RhozyMap.png\" width=\"400\" />"
   ]
  },
  {
   "cell_type": "code",
   "execution_count": 1,
   "metadata": {},
   "outputs": [],
   "source": [
    "# !pip install lmfit"
   ]
  },
  {
   "cell_type": "code",
   "execution_count": 2,
   "metadata": {},
   "outputs": [],
   "source": [
    "import numpy as np\n",
    "import pandas as pd\n",
    "import matplotlib.pyplot as plt\n",
    "import matplotlib.lines as mlines\n",
    "from scipy.integrate import odeint as integrate\n",
    "import ipywidgets as widgets\n",
    "from IPython.display import display\n",
    "from lmfit import minimize, Minimizer, Parameters, Parameter, report_fit\n",
    "from scipy.interpolate import interp1d\n",
    "%matplotlib inline"
   ]
  },
  {
   "cell_type": "markdown",
   "metadata": {},
   "source": [
    "###### <div style=\"text-align: right\"> Molecular formula </div> "
   ]
  },
  {
   "cell_type": "code",
   "execution_count": 3,
   "metadata": {},
   "outputs": [
    {
     "data": {
      "text/plain": [
       "(23.0, 24.6, 30, 60, 29, 33.5)"
      ]
     },
     "execution_count": 3,
     "metadata": {},
     "output_type": "execute_result"
    }
   ],
   "source": [
    "c, h, o, n = 12, 1, 16, 14\n",
    "MMs = c + 2*h + o\n",
    "MMx = c + 1.8*h + 0.5*o + 0.2*n\n",
    "MMe = c + 3*h + 0.5*o\n",
    "MMn = c + 4*h + 2*n + o #urea\n",
    "MMf = c + h + o\n",
    "MMm = c + 1.5*h + 1.25*o\n",
    "MMe,MMx,MMs,MMn,MMf, MMm"
   ]
  },
  {
   "cell_type": "markdown",
   "metadata": {},
   "source": [
    "###### <div style=\"text-align: right\"> define cellular responce </div> "
   ]
  },
  {
   "cell_type": "code",
   "execution_count": 4,
   "metadata": {},
   "outputs": [],
   "source": [
    "def response_fun(C,t,var):\n",
    "    Cx, Cs, Cf, Ce, Cm = C\n",
    "    μ_max, θ_max, β, γ, P_O = var\n",
    "    t = t\n",
    "#     r_gluc = (Cs/Cx)*(1/(tmax-t)) # ( gs/[(gx/L)*t] )*(MMx/MMs)\n",
    "#     r_ethanol = (Ce/Cx)*(1/tmax) # ( ge/[(gx/L)*t] )*(MMx/MMe)\n",
    "    r_gluc    = (Cs/Cx)*(1/tmax)       # ( gs/[(gx/L)*t] )*(MMx/MMs)\n",
    "    \n",
    "    if Cs <= 0:\n",
    "        return [0,0,0,0,0]\n",
    "\n",
    "    else:    \n",
    "        μ = μ_max\n",
    "        θ = θ_max\n",
    "        A1 = np.matrix([[-1, 1+α, 1, 0, 0, 0, 0],\n",
    "                      [0, 0, -1, 1, 1, 1, 0],\n",
    "                      [0, -γ, 1/3, -1, 0, 1/3, 2*P_O],\n",
    "                      [0, β, 1/3, -1/4, -1/2, 2, -2],\n",
    "                      [1, 0, 0, 0, 0, 0, 0],\n",
    "                      [0, 1, 0, 0, 0, 0, 0],\n",
    "                      [0, 0, 0, 1, 0, 0, 0]])\n",
    "\n",
    "\n",
    "        B1 = np.matrix([[0, 0, θ, 0, r_gluc, μ, (Ysf*r_gluc)]]).T\n",
    "\n",
    "        r1 = np.linalg.solve(A1,B1)\n",
    "\n",
    "        return[r1[1,0],        #X\n",
    "              -r1[0,0],        #S\n",
    "               r1[3,0],        #F\n",
    "               r1[4,0],        #E\n",
    "               Ysm*(r1[0,0])]  #M# check wether you have t include the negative or not"
   ]
  },
  {
   "cell_type": "markdown",
   "metadata": {},
   "source": [
    "###### <div style=\"text-align: right\"> batch fermenter </div> "
   ]
  },
  {
   "cell_type": "code",
   "execution_count": 5,
   "metadata": {},
   "outputs": [],
   "source": [
    "    def ferm_eq(C,t,var):\n",
    "        Cx, Cs, Cf, Ce, Cm = C[0],C[1], C[2], C[3], C[4]\n",
    "        t = t\n",
    "\n",
    "        r = response_fun([Cx, Cs, Cf, Ce, Cm],t,var)     \n",
    "\n",
    "        return [r[0]*Cx,  #X\n",
    "                r[1]*Cx,  #S\n",
    "                r[2]*Cx,  #F\n",
    "                r[3]*Cx,  #E\n",
    "                r[4]*Cx]  #M# NB: do not be confuse by the index number (nitrogen analysis has been skipped)"
   ]
  },
  {
   "cell_type": "markdown",
   "metadata": {},
   "source": [
    "###### <div style=\"text-align: right\"> Interpolation </div> "
   ]
  },
  {
   "cell_type": "code",
   "execution_count": 6,
   "metadata": {},
   "outputs": [],
   "source": [
    "\"\"\"Interpolating function\"\"\"\n",
    "\n",
    "def INTERP(Time_data,Time_model,Conc_model):\n",
    "    Conc  = []\n",
    "    model = interp1d(Time_model,Conc_model)\n",
    "    for t in Time_data:\n",
    "        Y = model(t)\n",
    "        Conc.append(Y)\n",
    "\n",
    "    Conc = np.array(Conc)\n",
    "    return Conc"
   ]
  },
  {
   "cell_type": "markdown",
   "metadata": {},
   "source": [
    "###### <div style=\"text-align: right\"> define cellular parameters </div> "
   ]
  },
  {
   "cell_type": "code",
   "execution_count": 7,
   "metadata": {},
   "outputs": [],
   "source": [
    "α   = 0.1 \n",
    "# γ   = 2.5\n",
    "# P_O = 1.25\n",
    "\n",
    "'''  parameters will be fit by lmfit  '''\n",
    "params = Parameters()\n",
    "params.add('μ_max',value=0.1, min=0.001, max=4)\n",
    "params.add('θ_max',value=0.1, min=0.001, max=4)\n",
    "params.add('β',value=0.1, min=0.001, max=4)\n",
    "params.add('γ',value=2.5, min=1.8, max=3)\n",
    "params.add('P_O',value=1.25, min=1, max=3)"
   ]
  },
  {
   "cell_type": "markdown",
   "metadata": {},
   "source": [
    "## 3.1 Yeast (production phase)"
   ]
  },
  {
   "cell_type": "markdown",
   "metadata": {},
   "source": [
    "###### <div style=\"text-align: right\"> Experimental data </div> "
   ]
  },
  {
   "cell_type": "code",
   "execution_count": 8,
   "metadata": {},
   "outputs": [],
   "source": [
    "data1      = pd.read_csv('yeast.csv')\n",
    "t1         = np.array(data1['t'].T)\n",
    "Csugar1    = np.array(data1['Cs'])\n",
    "Cfumarate1 = np.array(data1['Cf'])\n",
    "Cethanol1  = np.array(data1['Ce'])\n",
    "Cmalic1    = np.array(data1['Cm'])"
   ]
  },
  {
   "cell_type": "markdown",
   "metadata": {},
   "source": [
    " ###### <div style=\"text-align: right\"> define fermentor parameters</div> "
   ]
  },
  {
   "cell_type": "code",
   "execution_count": 9,
   "metadata": {},
   "outputs": [],
   "source": [
    "'intitial conditions'\n",
    "lg   = 0.05          #l# Total Volume of the growth phase (50ml)\n",
    "lg_p = 0.01          #l# Volume of the growth phase(10ml) into 30ml_production \n",
    "Lp   = 0.04          #l# Total Volume of the production phase [30ml_production + 10ml of Lg]\n",
    "gxo  = 0.45          #g# mass of biomass by 20%SMH assuming its the same for all N types \n",
    "\n",
    "Cso  = 100/MMs\n",
    "Cxo  = gxo/(Lp*MMx)\n",
    "Cno  = 0\n",
    "Cfo  = 0\n",
    "Ceo  = 0\n",
    "Cmo  = 0\n",
    "Co   = [Cxo, Cso, Cfo, Ceo, Cmo] #cmol/L# [Cxo, Cso, Cfo, Ceo,Cmo] in \n",
    "\n",
    "'Yields'\n",
    "Ysm = (Cmalic1[-1]/Cso)    #Cmolm/Cmols# yield fix for malic\n",
    "Ysf = (Cfumarate1[-1]/Cso) #Cmolf/Cmols# yield fix for fumaric\n",
    "'timespan'\n",
    "tmin = 0                                # startup time\n",
    "tmax = 88                               # termination time\n",
    "tres = tmax\n",
    "tspan=np.linspace(0,tmax+1,tres)        # define the timespan of the integration"
   ]
  },
  {
   "cell_type": "markdown",
   "metadata": {},
   "source": [
    " ###### <div style=\"text-align: right\"> fitting function</div> "
   ]
  },
  {
   "cell_type": "code",
   "execution_count": 10,
   "metadata": {},
   "outputs": [],
   "source": [
    "\"\"\"Fitting function\"\"\"\n",
    "def Fit(params):\n",
    "    \n",
    "    '''\n",
    "    This function is used to determine the error between experimental data and that of the model.\n",
    "    '''\n",
    "    \n",
    "    μ_max = params['μ_max']\n",
    "    θ_max = params['θ_max']\n",
    "    β     = params['β']\n",
    "    γ     = params['γ']\n",
    "    P_O   = params['P_O']\n",
    "\n",
    "    var = μ_max, θ_max,β, γ, P_O    \n",
    "    Ci  = integrate(response_fun, Co, tspan, args = (var,))\n",
    "\n",
    "    Cx = Ci[:, 0]\n",
    "    Cs = Ci[:, 1]\n",
    "    Cf = Ci[:, 2]\n",
    "    Ce = Ci[:, 3]\n",
    "    Cm = Ci[:, 4] # NB: do not be confuse by the index number (nitrogen analysis has been skipped)\n",
    "\n",
    "    C1 = INTERP(t1,tspan,Cs) # sugar\n",
    "    C2 = INTERP(t1,tspan,Cf) # fumarate\n",
    "    C3 = INTERP(t1,tspan,Ce) # ethanol\n",
    "    C4 = INTERP(t1,tspan,Cm) # malic\n",
    "\n",
    "\n",
    "    Error_1 = (Csugar1 - C1)**1\n",
    "    Error_2 = (Cfumarate1 - C2)**1\n",
    "    Error_3 = (Cethanol1 - C3)**1\n",
    "    Error_4 = (Cmalic1 - C4)**1\n",
    "\n",
    "    return [Error_1,Error_2,Error_3,Error_4]"
   ]
  },
  {
   "cell_type": "markdown",
   "metadata": {},
   "source": [
    " ###### <div style=\"text-align: right\"> plots</div> "
   ]
  },
  {
   "cell_type": "code",
   "execution_count": 11,
   "metadata": {},
   "outputs": [
    {
     "data": {
      "text/plain": [
       "(<Parameter 'μ_max', value=0.0010000000008995 +/- 0.00159, bounds=[0.001:4]>,\n",
       " <Parameter 'θ_max', value=0.12761783804364465 +/- 8.29e+04, bounds=[0.001:4]>,\n",
       " <Parameter 'β', value=3.4984383857871055 +/- 8.31e+06, bounds=[0.001:4]>,\n",
       " <Parameter 'γ', value=2.651316678295081 +/- 5.82e+07, bounds=[1.8:3]>,\n",
       " <Parameter 'P_O', value=2.9962745191862394 +/- 38.5, bounds=[1:3]>)"
      ]
     },
     "execution_count": 11,
     "metadata": {},
     "output_type": "execute_result"
    },
    {
     "data": {
      "text/plain": [
       "<Figure size 432x288 with 0 Axes>"
      ]
     },
     "metadata": {},
     "output_type": "display_data"
    },
    {
     "data": {
      "image/png": "[encoded data removed]",
      "text/plain": [
       "<Figure size 1080x432 with 2 Axes>"
      ]
     },
     "metadata": {
      "needs_background": "light"
     },
     "output_type": "display_data"
    }
   ],
   "source": [
    "def Model(μ_max, θ_max, β, γ, P_O):    \n",
    "    '''\n",
    "    This function is used to plot the expermental data over the fitted model.\n",
    "    '''\n",
    "    \n",
    "    var = μ_max, θ_max, β, γ, P_O \n",
    "    Ci  = integrate(response_fun, Co, tspan, args = (var,))\n",
    "\n",
    "    Cx = Ci[:, 0]\n",
    "    Cs = Ci[:, 1]\n",
    "    Cf = Ci[:, 2]\n",
    "    Ce = Ci[:, 3]\n",
    "    Cm = Ci[:, 4] # NB: do not be confuse by the index number (nitrogen analysis has been skipped)\n",
    "\n",
    "    plt.figure(3)\n",
    "    fig, ax1 = plt.subplots(1, figsize=(15,6))\n",
    "    \n",
    "    ax1.set_title('Yeast', fontsize=16, fontweight='bold')\n",
    "    ax1.set_xlabel('time (h)', fontsize=14)\n",
    "    ax1.set_ylabel('glucose (cmol/L)', color='black', fontsize=14)\n",
    "    ax1.plot(tspan, Cs*MMs, color='black')\n",
    "    ax1.plot([t1], [Csugar1*MMs],linestyle='None', marker='o', color = 'black')\n",
    "    ax1.tick_params(axis='y', labelcolor='black')\n",
    "\n",
    "    ax2 = ax1.twinx()  # instantiate a second axes that shares the same x-axis\n",
    "    ax2.set_ylabel('Products', color='black', fontsize=14)  # we already handled the x-label with ax1\n",
    "    ax2.plot(tspan, Cf*MMf, color='red')\n",
    "    ax2.plot([t1], [Cfumarate1*MMf], linestyle='None', marker='s', ms=6, color = 'red')\n",
    "    ax2.plot(tspan, Ce*MMe, color='black')\n",
    "    ax2.plot([t1], [Cethanol1*MMe], linestyle='None', marker='o', ms=8, markerfacecolor=\"None\", markeredgecolor='black')\n",
    "    ax2.plot(tspan, Cm*MMm, color='blue')\n",
    "    ax2.plot([t1], [Cmalic1*MMm], linestyle='None', marker='^', ms=6, color='blue')\n",
    "    ax2.tick_params(axis='y', labelcolor='black')\n",
    "\n",
    "    #legend handling\n",
    "    black_cirlcles   = mlines.Line2D([], [], color='black', marker='o', linestyle='None', markersize=10, label='Cs')\n",
    "    red_square       = mlines.Line2D([], [], color='red', marker='s', linestyle='None', markersize=10, label='Cf')\n",
    "    blue_triangle    = mlines.Line2D([], [], color='blue', marker='^', linestyle='None', markersize=10, label='Cm')\n",
    "    black_cirlcles_w = mlines.Line2D([], [], color='black', marker='o', markerfacecolor=\"None\", markeredgecolor='black',\n",
    "                       linestyle='None', markersize=10, label='Ce')\n",
    "    plt.legend(handles=[black_cirlcles, red_square, blue_triangle,black_cirlcles_w ])\n",
    "\n",
    "    fig.tight_layout()  # otherwise the right y-label is slightly clipped\n",
    "\n",
    "\"\"\"Fitting the parameters to the data\"\"\"\n",
    "\n",
    "minner = Minimizer(Fit, params,nan_policy='omit') \n",
    "result = minner.minimize()\n",
    "\n",
    "μ_max = result.params['μ_max']\n",
    "θ_max = result.params['θ_max']\n",
    "β     = result.params['β']\n",
    "γ     = result.params['γ']\n",
    "P_O   = result.params['P_O']\n",
    "\n",
    "Model(μ_max, θ_max, β, γ, P_O)\n",
    "μ_max, θ_max, β, γ, P_O   "
   ]
  },
  {
   "cell_type": "markdown",
   "metadata": {},
   "source": [
    " <tr>\n",
    "    <td> <img src=\"yeast.png\" alt=\"Drawing\" style=\"width: 400px;\"/> </td>\n",
    "    </tr>"
   ]
  },
  {
   "cell_type": "markdown",
   "metadata": {},
   "source": [
    "## 3.2 Urea (production phase)"
   ]
  },
  {
   "cell_type": "markdown",
   "metadata": {},
   "source": [
    "###### <div style=\"text-align: right\"> Experimental data </div> "
   ]
  },
  {
   "cell_type": "code",
   "execution_count": 12,
   "metadata": {},
   "outputs": [],
   "source": [
    "data2      = pd.read_csv('urea.csv')\n",
    "t2         = np.array(data2['t'].T)\n",
    "Csugar2    = np.array(data2['Cs'])\n",
    "Cfumarate2 = np.array(data2['Cf'])\n",
    "Cethanol2  = np.array(data2['Ce'])\n",
    "Cmalic2    = np.array(data2['Cm'])"
   ]
  },
  {
   "cell_type": "markdown",
   "metadata": {},
   "source": [
    " ###### <div style=\"text-align: right\"> define fermentor parameters</div> "
   ]
  },
  {
   "cell_type": "code",
   "execution_count": 13,
   "metadata": {},
   "outputs": [],
   "source": [
    "'intitial conditions'\n",
    "lg   = 0.05          #l# Total Volume of the growth phase (50ml)\n",
    "lg_p = 0.01          #l# Volume of the growth phase(10ml) into 30ml_production \n",
    "Lp   = 0.04          #l# Total Volume of the production phase [30ml_production + 10ml of Lg]\n",
    "gxo  = 0.45          #g# mass of biomass by 20%SMH assuming its the same for all N types \n",
    "\n",
    "Cso  = 100/MMs\n",
    "Cxo  = gxo/(Lp*MMx)\n",
    "Cno  = 0\n",
    "Cfo  = 0\n",
    "Ceo  = 0\n",
    "Cmo  = 0\n",
    "Co   = [Cxo, Cso, Cfo, Ceo, Cmo] #cmol/L# [Cxo, Cso, Cfo, Ceo,Cmo] in \n",
    "\n",
    "'Yields'\n",
    "Ysm = (Cmalic2[-1]/Cso)    #Cmolm/Cmols# yield fix for malic\n",
    "Ysf = (Cfumarate2[-1]/Cso) #Cmolf/Cmols# yield fix for fumaric\n",
    "'timespan'\n",
    "tmin = 0                                # startup time\n",
    "tmax = 88                               # termination time\n",
    "tres = tmax\n",
    "tspan=np.linspace(0,tmax+1,tres)        # define the timespan of the integration"
   ]
  },
  {
   "cell_type": "markdown",
   "metadata": {},
   "source": [
    " ###### <div style=\"text-align: right\"> fitting function</div> "
   ]
  },
  {
   "cell_type": "code",
   "execution_count": 14,
   "metadata": {},
   "outputs": [],
   "source": [
    "\"\"\"Fitting function\"\"\"\n",
    "def Fit(params):\n",
    "    \n",
    "    '''\n",
    "    This function is used to determine the error between experimental data and that of the model.\n",
    "    '''\n",
    "    \n",
    "    μ_max = params['μ_max']\n",
    "    θ_max = params['θ_max']\n",
    "    β     = params['β']\n",
    "    γ     = params['γ']\n",
    "    P_O   = params['P_O']\n",
    "\n",
    "    var = μ_max, θ_max,β, γ, P_O    \n",
    "    Ci  = integrate(response_fun, Co, tspan, args = (var,))\n",
    "\n",
    "    Cx = Ci[:, 0]\n",
    "    Cs = Ci[:, 1]\n",
    "    Cf = Ci[:, 2]\n",
    "    Ce = Ci[:, 3]\n",
    "    Cm = Ci[:, 4] # NB: do not be confuse by the index number (nitrogen analysis has been skipped)\n",
    "\n",
    "    C1 = INTERP(t2,tspan,Cs) # sugar\n",
    "    C2 = INTERP(t2,tspan,Cf) # fumarate\n",
    "    C3 = INTERP(t2,tspan,Ce) # ethanol\n",
    "    C4 = INTERP(t2,tspan,Cm) # malic\n",
    "\n",
    "\n",
    "    Error_1 = (Csugar2 - C1)**1\n",
    "    Error_2 = (Cfumarate2 - C2)**1\n",
    "    Error_3 = (Cethanol2 - C3)**1\n",
    "    Error_4 = (Cmalic2 - C4)**1\n",
    "\n",
    "    return [Error_1,Error_2,Error_3,Error_4]"
   ]
  },
  {
   "cell_type": "markdown",
   "metadata": {},
   "source": [
    " ###### <div style=\"text-align: right\"> plots</div> "
   ]
  },
  {
   "cell_type": "code",
   "execution_count": 15,
   "metadata": {},
   "outputs": [
    {
     "data": {
      "text/plain": [
       "(<Parameter 'μ_max', value=0.0010000000004757226 +/- 0.000206, bounds=[0.001:4]>,\n",
       " <Parameter 'θ_max', value=0.1283472950341661 +/- 1.53e+04, bounds=[0.001:4]>,\n",
       " <Parameter 'β', value=3.9947080093735514 +/- 5.14e+06, bounds=[0.001:4]>,\n",
       " <Parameter 'γ', value=1.8000000901446203 +/- 8.2e+04, bounds=[1.8:3]>,\n",
       " <Parameter 'P_O', value=2.9984480279262504 +/- 42.1, bounds=[1:3]>)"
      ]
     },
     "execution_count": 15,
     "metadata": {},
     "output_type": "execute_result"
    },
    {
     "data": {
      "text/plain": [
       "<Figure size 432x288 with 0 Axes>"
      ]
     },
     "metadata": {},
     "output_type": "display_data"
    },
    {
     "data": {
      "image/png": "[encoded data removed]",
      "text/plain": [
       "<Figure size 1080x432 with 2 Axes>"
      ]
     },
     "metadata": {
      "needs_background": "light"
     },
     "output_type": "display_data"
    }
   ],
   "source": [
    "def Model(μ_max, θ_max, β, γ, P_O):    \n",
    "    '''\n",
    "    This function is used to plot the expermental data over the fitted model.\n",
    "    '''\n",
    "    \n",
    "    var = μ_max, θ_max, β, γ, P_O \n",
    "    Ci  = integrate(response_fun, Co, tspan, args = (var,))\n",
    "\n",
    "    Cx = Ci[:, 0]\n",
    "    Cs = Ci[:, 1]\n",
    "    Cf = Ci[:, 2]\n",
    "    Ce = Ci[:, 3]\n",
    "    Cm = Ci[:, 4] # NB: do not be confuse by the index number (nitrogen analysis has been skipped)\n",
    "\n",
    "    plt.figure(2)\n",
    "    fig, ax1 = plt.subplots(1, figsize=(15,6))\n",
    "    \n",
    "    ax1.set_title('Urea', fontsize=16, fontweight='bold')\n",
    "    ax1.set_xlabel('time (h)', fontsize=14)\n",
    "    ax1.set_ylabel('glucose (cmol/L)', color='black', fontsize=14)\n",
    "    ax1.plot(tspan, Cs*MMs, color='black')\n",
    "    ax1.plot([t2], [Csugar2*MMs],linestyle='None', marker='o', color = 'black')\n",
    "    ax1.tick_params(axis='y', labelcolor='black')\n",
    "\n",
    "    ax2 = ax1.twinx()  # instantiate a second axes that shares the same x-axis\n",
    "\n",
    "    ax2.set_ylabel('Products', color='black', fontsize=14)  # we already handled the x-label with ax1\n",
    "    ax2.plot(tspan, Cf*MMf, color='red')\n",
    "    ax2.plot([t2], [Cfumarate2*MMf], linestyle='None', marker='s', ms=6, color = 'red')\n",
    "    ax2.plot(tspan, Ce*MMe, color='black')\n",
    "    ax2.plot([t2], [Cethanol2*MMe], linestyle='None', marker='o', ms=8, markerfacecolor=\"None\", markeredgecolor='black')\n",
    "    ax2.plot(tspan, Cm*MMm, color='blue')\n",
    "    ax2.plot([t2], [Cmalic2*MMm], linestyle='None', marker='^', ms=6, color='blue')\n",
    "    ax2.tick_params(axis='y', labelcolor='black')\n",
    "    \n",
    "    #legend handling\n",
    "    black_cirlcles   = mlines.Line2D([], [], color='black', marker='o', linestyle='None', markersize=10, label='Cs')\n",
    "    red_square       = mlines.Line2D([], [], color='red', marker='s', linestyle='None', markersize=10, label='Cf')\n",
    "    blue_triangle    = mlines.Line2D([], [], color='blue', marker='^', linestyle='None', markersize=10, label='Cm')\n",
    "    black_cirlcles_w = mlines.Line2D([], [], color='black', marker='o', markerfacecolor=\"None\", markeredgecolor='black',\n",
    "                       linestyle='None', markersize=10, label='Ce')\n",
    "    plt.legend(handles=[black_cirlcles, red_square, blue_triangle,black_cirlcles_w ])\n",
    "\n",
    "    fig.tight_layout()  # otherwise the right y-label is slightly clipped\n",
    "\n",
    "\"\"\"Fitting the parameters to the data\"\"\"\n",
    "\n",
    "minner = Minimizer(Fit, params,nan_policy='omit') \n",
    "result = minner.minimize()\n",
    "\n",
    "μ_max = result.params['μ_max']\n",
    "θ_max = result.params['θ_max']\n",
    "β     = result.params['β']\n",
    "γ     = result.params['γ']\n",
    "P_O   = result.params['P_O']\n",
    "\n",
    "Model(μ_max, θ_max, β, γ, P_O)\n",
    "μ_max, θ_max, β, γ, P_O   "
   ]
  },
  {
   "cell_type": "markdown",
   "metadata": {},
   "source": [
    " <tr>\n",
    "    <td> <img src=\"urea.png\" alt=\"Drawing\" style=\"width: 400px;\"/> </td>\n",
    "    </tr>"
   ]
  },
  {
   "cell_type": "markdown",
   "metadata": {},
   "source": [
    "## 3.3 SMH 20% v/v (production phase)"
   ]
  },
  {
   "cell_type": "markdown",
   "metadata": {},
   "source": [
    "###### <div style=\"text-align: right\"> Experimental data </div> "
   ]
  },
  {
   "cell_type": "code",
   "execution_count": 16,
   "metadata": {},
   "outputs": [],
   "source": [
    "data      = pd.read_csv('SMH.csv')\n",
    "t0         = np.array(data['t'].T)\n",
    "Csugar    = np.array(data['Cs'])\n",
    "Cfumarate = np.array(data['Cf'])\n",
    "Cethanol  = np.array(data['Ce'])\n",
    "Cmalic    = np.array(data['Cm'])"
   ]
  },
  {
   "cell_type": "markdown",
   "metadata": {},
   "source": [
    " ###### <div style=\"text-align: right\"> define fermentor parameters</div> "
   ]
  },
  {
   "cell_type": "code",
   "execution_count": 17,
   "metadata": {},
   "outputs": [],
   "source": [
    "'intitial conditions'\n",
    "lg   = 0.05          #l# Total Volume of the growth phase (50ml)\n",
    "lg_p = 0.01          #l# Volume of the growth phase(10ml) into 30ml_production \n",
    "Lp   = 0.04          #l# Total Volume of the production phase [30ml_production + 10ml of Lg]\n",
    "gxo  = 0.45          #g# mass of biomass by 20%SMH assuming its the same for all N types \n",
    "\n",
    "Cso  = 100/MMs\n",
    "Cxo  = gxo/(Lp*MMx)\n",
    "Cno  = 0\n",
    "Cfo  = 0\n",
    "Ceo  = 0\n",
    "Cmo  = 0\n",
    "Co   = [Cxo, Cso, Cfo, Ceo, Cmo] #cmol/L# [Cxo, Cso, Cfo, Ceo,Cmo] in \n",
    "\n",
    "'Yields'\n",
    "Ysm = (Cmalic[-1]/Cso)    #Cmolm/Cmols# yield fix for malic\n",
    "Ysf = (Cfumarate[-1]/Cso) #Cmolf/Cmols# yield fix for fumaric\n",
    "'timespan'\n",
    "tmin = 0                                # startup time\n",
    "tmax = 144                              # termination time\n",
    "tres = tmax\n",
    "tspan=np.linspace(0,tmax+1,tres)        # define the timespan of the integration"
   ]
  },
  {
   "cell_type": "markdown",
   "metadata": {},
   "source": [
    " ###### <div style=\"text-align: right\"> fitting function</div> "
   ]
  },
  {
   "cell_type": "code",
   "execution_count": 18,
   "metadata": {},
   "outputs": [],
   "source": [
    "\"\"\"Fitting function\"\"\"\n",
    "def Fit(params):\n",
    "    \n",
    "    '''\n",
    "    This function is used to determine the error between experimental data and that of the model.\n",
    "    '''\n",
    "    \n",
    "    μ_max = params['μ_max']\n",
    "    θ_max = params['θ_max']\n",
    "    β     = params['β']\n",
    "    γ     = params['γ']\n",
    "    P_O   = params['P_O']\n",
    "\n",
    "    var = μ_max, θ_max,β, γ, P_O    \n",
    "    Ci  = integrate(response_fun, Co, tspan, args = (var,))\n",
    "\n",
    "    Cx = Ci[:, 0]\n",
    "    Cs = Ci[:, 1]\n",
    "    Cf = Ci[:, 2]\n",
    "    Ce = Ci[:, 3]\n",
    "    Cm = Ci[:, 4] # NB: do not be confuse by the index number (nitrogen analysis has been skipped)\n",
    "\n",
    "    C1 = INTERP(t0,tspan,Cs) # sugar\n",
    "    C2 = INTERP(t0,tspan,Cf) # fumarate\n",
    "    C3 = INTERP(t0,tspan,Ce) # ethanol\n",
    "    C4 = INTERP(t0,tspan,Cm) # malic\n",
    "\n",
    "\n",
    "    Error_1 = (Csugar - C1)**1\n",
    "    Error_2 = (Cfumarate - C2)**1\n",
    "    Error_3 = (Cethanol - C3)**1\n",
    "    Error_4 = (Cmalic - C4)**1\n",
    "\n",
    "    return [Error_1,Error_2,Error_3,Error_4]"
   ]
  },
  {
   "cell_type": "markdown",
   "metadata": {},
   "source": [
    " ###### <div style=\"text-align: right\"> plots</div> "
   ]
  },
  {
   "cell_type": "code",
   "execution_count": 19,
   "metadata": {},
   "outputs": [
    {
     "data": {
      "text/plain": [
       "(<Parameter 'μ_max', value=0.0038330391131952894 +/- 0.00104, bounds=[0.001:4]>,\n",
       " <Parameter 'θ_max', value=0.027141499702309595 +/- 1.6e+03, bounds=[0.001:4]>,\n",
       " <Parameter 'β', value=3.9534446262855174 +/- 9.1e+04, bounds=[0.001:4]>,\n",
       " <Parameter 'γ', value=1.8128936336258545 +/- 3.33e+05, bounds=[1.8:3]>,\n",
       " <Parameter 'P_O', value=1.0000000209014273 +/- 8.79, bounds=[1:3]>)"
      ]
     },
     "execution_count": 19,
     "metadata": {},
     "output_type": "execute_result"
    },
    {
     "data": {
      "text/plain": [
       "<Figure size 432x288 with 0 Axes>"
      ]
     },
     "metadata": {},
     "output_type": "display_data"
    },
    {
     "data": {
      "image/png": "[encoded data removed]",
      "text/plain": [
       "<Figure size 1080x432 with 2 Axes>"
      ]
     },
     "metadata": {
      "needs_background": "light"
     },
     "output_type": "display_data"
    }
   ],
   "source": [
    "def Model(μ_max, θ_max, β, γ, P_O):    \n",
    "    '''\n",
    "    This function is used to plot the expermental data over the fitted model.\n",
    "    '''\n",
    "    \n",
    "    var = μ_max, θ_max, β, γ, P_O \n",
    "    Ci  = integrate(response_fun, Co, tspan, args = (var,))\n",
    "\n",
    "    Cx = Ci[:, 0]\n",
    "    Cs = Ci[:, 1]\n",
    "    Cf = Ci[:, 2]\n",
    "    Ce = Ci[:, 3]\n",
    "    Cm = Ci[:, 4] # NB: do not be confuse by the index number (nitrogen analysis has been skipped)\n",
    "\n",
    "    plt.figure(1)\n",
    "    fig, ax1 = plt.subplots(1, figsize=(15,6))\n",
    "    \n",
    "    ax1.set_title('SMH 20 %', fontsize=16, fontweight='bold')\n",
    "    ax1.set_xlabel('time (h)', fontsize=14)\n",
    "    ax1.set_ylabel('glucose (cmol/L)', color='black', fontsize=14)\n",
    "    ax1.plot(tspan, Cs*MMs, color='black')\n",
    "    ax1.plot([t0], [Csugar*MMs],linestyle='None', marker='o', color = 'black')\n",
    "    ax1.tick_params(axis='y', labelcolor='black')\n",
    "\n",
    "    ax2 = ax1.twinx()  # instantiate a second axes that shares the same x-axis\n",
    "\n",
    "    ax2.set_ylabel('Products', color='black', fontsize=14)  # we already handled the x-label with ax1\n",
    "    ax2.plot(tspan, Cf*MMf, color='red')\n",
    "    ax2.plot([t0], [Cfumarate*MMf], linestyle='None', marker='s', ms=6, color = 'red')\n",
    "    ax2.plot(tspan, Ce*MMe, color='black')\n",
    "    ax2.plot([t0], [Cethanol*MMe], linestyle='None', marker='o', ms=8, markerfacecolor=\"None\", markeredgecolor='black')\n",
    "    ax2.plot(tspan, Cm*MMm, color='blue')\n",
    "    ax2.plot([t0], [Cmalic*MMm], linestyle='None', marker='^', ms=6, color='blue')\n",
    "    ax2.tick_params(axis='y', labelcolor='black')\n",
    "    \n",
    "    #legend handling\n",
    "    black_cirlcles   = mlines.Line2D([], [], color='black', marker='o', linestyle='None', markersize=10, label='Cs')\n",
    "    red_square       = mlines.Line2D([], [], color='red', marker='s', linestyle='None', markersize=10, label='Cf')\n",
    "    blue_triangle    = mlines.Line2D([], [], color='blue', marker='^', linestyle='None', markersize=10, label='Cm')\n",
    "    black_cirlcles_w = mlines.Line2D([], [], color='black', marker='o', markerfacecolor=\"None\", markeredgecolor='black',\n",
    "                       linestyle='None', markersize=10, label='Ce')\n",
    "    plt.legend(handles=[black_cirlcles, red_square, blue_triangle,black_cirlcles_w ])\n",
    "\n",
    "    fig.tight_layout()  # otherwise the right y-label is slightly clipped\n",
    "\n",
    "\"\"\"Fitting the parameters to the data\"\"\"\n",
    "\n",
    "minner = Minimizer(Fit, params,nan_policy='omit') \n",
    "result = minner.minimize()\n",
    "\n",
    "μ_max = result.params['μ_max']\n",
    "θ_max = result.params['θ_max']\n",
    "β     = result.params['β']\n",
    "γ     = result.params['γ']\n",
    "P_O   = result.params['P_O']\n",
    "\n",
    "Model(μ_max, θ_max, β, γ, P_O)\n",
    "μ_max, θ_max, β, γ, P_O   "
   ]
  },
  {
   "cell_type": "markdown",
   "metadata": {},
   "source": [
    " <tr>\n",
    "    <td> <img src=\"smh20.png\" alt=\"Drawing\" style=\"width: 400px;\"/> </td>\n",
    "    </tr>"
   ]
  },
  {
   "cell_type": "markdown",
   "metadata": {},
   "source": [
    "# Discussion"
   ]
  },
  {
   "cell_type": "markdown",
   "metadata": {},
   "source": [
    "<div style=\"text-align: justify\"> <font size=\"3\"> The results of the fitted parameters are summarized in Table 4 below. According to the results, SMH grows better than yeast and urea, higher μ. Yeast and urea have the same μ. The energy required for maintenance of the cell is quiet in low in SMH compared to the other two nitrogen sources, which require about the same amount. The difference is noticeable, i.e. yeast and urea cell maintenance is about 0.101 higher than SMH. This would explain the low P_O value, taking note that this value is at its lowest bound, implying that it might probably be lower. </font> </div>"
   ]
  },
  {
   "cell_type": "markdown",
   "metadata": {},
   "source": [
    "###### <center> Table 4: Fitted Parameters<center>\n",
    "| <div style=\"text-align: justify\"> Symbol </div> | <div style=\"text-align: justify\"> Description </div> | <div style=\"text-align: left\"> Yeast </div> | <div style=\"text-align: left\"> Urea </div> | <div style=\"text-align: left\"> SMH </div> |\n",
    "| --- | --- | --- | --- | --- |\n",
    "| <div style=\"text-align: justify\"> μ_max (μ) </div> | <div style=\"text-align: justify\"> Growth rate of biomass ($\\frac{1}{h}$) </div> | <div style=\"text-align: justify\">  0.001 </div> | <div style=\"text-align: justify\"> 0.001 </div> | <div style=\"text-align: left\"> 0.004 </div> |\n",
    "| <div style=\"text-align: justify\"> θ_max (θ) </div> | <div style=\"text-align: justify\"> maintenance rate requirements of the cell ($\\frac{mol ATP}{Cmol X.h}$) </div> | <div style=\"text-align: justify\"> 0.128 </div> | <div style=\"text-align: justify\"> 0.128 </div> | <div style=\"text-align: left\"> 0.027 </div> |\n",
    "| <div style=\"text-align: justify\"> β </div> | <div style=\"text-align: justify\"> Yield of biomass NADH ($\\frac{mol NADH}{Cmol X}$) </div> | <div style=\"text-align: justify\"> 3.498 </div> | <div style=\"text-align: justify\"> 3.995 </div> | <div style=\"text-align: left\"> 3.954 </div> |\n",
    "| <div style=\"text-align: justify\"> γ </div> | <div style=\"text-align: justify\"> Energy required to make more cells ($\\frac{mol ATP}{Cmol X}$)</div> | <div style=\"text-align: justify\"> 2.651 </div> | <div style=\"text-align: justify\"> 1.800 </div> | <div style=\"text-align: left\"> 1.813 </div> |\n",
    "| <div style=\"text-align: justify\"> P_O </div> | <div style=\"text-align: justify\"> Phosphate (added to ADP to form ATP) per atomic oxygen </div> | <div style=\"text-align: justify\"> 2.996 </div> | <div style=\"text-align: justify\"> 2.998 </div> | <div style=\"text-align: left\"> 1.000 </div> |\n",
    "| <div style=\"text-align: justify\"> ATP (≠ parameter)</div> | <div style=\"text-align: justify\"> Energy currency of cells </div> | <div style=\"text-align: justify\">  - </div> | <div style=\"text-align: justify\"> - </div> | <div style=\"text-align: left\"> - </div> |\n",
    "| <div style=\"text-align: justify\"> NADH (≠ parameter)</div> | <div style=\"text-align: justify\"> Electron carrier </div> | <div style=\"text-align: justify\">  - </div> | <div style=\"text-align: justify\"> - </div> | <div style=\"text-align: left\"> - </div> |"
   ]
  },
  {
   "cell_type": "markdown",
   "metadata": {},
   "source": [
    "<div style=\"text-align: justify\"> <font size=\"3\"> As explained in Table, P_O is a value that represents the amount of ATP produced through oxidative phosphorylation. The conversion can be given by the reaction below. A far more intuitive insight about the conversion process can be found from <a href=\"https://nbviewer.jupyter.org/github/willienicol/Biochemical-engineering-notes/blob/master/2%20Basic%20biochemistry/Basic%20Biochemistry.ipynb\" target=\"_blank\">(Nicol, 2018)</a>.From the reaction if P_O is low, less ATP (energy) is made, which corresponds to the low cell maintenance (θ, energy) requirements with SMH as the nitrogen source. </font> </div>\n",
    "\n",
    "$$NADH+\\frac{1}{2}O_2 \\to (P/O)_{NADH}\\, ATP+H_2 O$$\n"
   ]
  },
  {
   "cell_type": "markdown",
   "metadata": {},
   "source": [
    "# Conclusion"
   ]
  },
  {
   "cell_type": "markdown",
   "metadata": {},
   "source": [
    "<div style=\"text-align: justify\"> <font size=\"3\"> Therefore, higher SMH growth rate agrees with the observation by <a href=\"https://www.sciencedirect.com/science/article/pii/S1359511314006084\" target=\"_blank\">(Zhang et al, 2015)</a>, as mentioned in the summary above. That is SMH has a shorter growth lag phase (≈ 4 hours) than yeast and urea (>24 hours), more rapid growth as suggested. </font> </div>\n",
    "&nbsp;\n",
    "\n",
    "###### Not sure:\n",
    "\n",
    "<div style=\"text-align: justify\"> <font size=\"3\">  The high ethanol spikes in yeast and urea might be due to the inability of their μ to handle the initial Cso, while the higher μ of SMH handles it well because it quickly consumes the glucose. Due to Crabtree effect <a href=\"https://biotechnologyforbiofuels.biomedcentral.com/track/pdf/10.1186/s13068-020-1664-8\" target=\"_blank\">(Swart et al, 2020)</a> not oxygen transfer <a href=\"https://www.sciencedirect.com/science/article/pii/S1359511314006084\" target=\"_blank\">(Zhang et al, 2015)</a> </font> </div>\n",
    "&nbsp;"
   ]
  },
  {
   "cell_type": "markdown",
   "metadata": {},
   "source": [
    "# References\n",
    "Acquaah, G (2004), Understanding biotechnology : an integrated and cyber-based approach, Pearson/Prentice Hall, Upper Saddle River, N.J.\n",
    "\n",
    "Botsford, J (1980), Soya, Wayland, Hove, England.\n",
    "\n",
    "Holzapfel, W 18.3.3 Bacterial Functions and Hazards. Advances in Fermented Foods and Beverages - Improving Quality, Technologies and Health Benefits. Elsevier.\n",
    "\n",
    "Jang, YS, Kim, B, Shin, JH, Choi, YJ, Choi, S, Song, CW, Lee, J, Park, HG, and Lee, SY (2012), \"Bio‐based production of C2–C6 platform chemicals\" Biotechnology and Bioengineering, 109(10), 2437-2459.\n",
    "\n",
    "Krul, ES (2019), \"Calculation of Nitrogen-to-Protein Conversion Factors: A Review with a Focus on Soy Protein\" Journal of the American Oil Chemists' Society, 96(4), 339-364.\n",
    "\n",
    "Montville, TJ, and Matthews, KR 3.4.1 Sporulation. Food Microbiology - An Introduction (2nd Edition). American Society for Microbiology (ASM).\n",
    "\n",
    "Moo-Young, M (1985), Comprehensive biotechnology : the principles, applications, and regulations of biotechnology in industry, agriculture, and medicine, Pergamon Press, Oxford [Oxfordshire] ;.\n",
    "\n",
    "Najafpour, GD 9.3 Energy Balance for Continuous Ethanol Fermentation. Biochemical Engineering and Biotechnology. Elsevier.\n",
    "\n",
    "Naude, A, and Nicol, W (2017), \"Fumaric acid fermentation with immobilised Rhizopus oryzae: Quantifying time-dependent variations in catabolic flux\" Process Biochemistry, 568-20.\n",
    "\n",
    "Naude, A, and Nicol, W (2018), \"Improved continuous fumaric acid production with immobilised Rhizopus oryzae by implementation of a revised nitrogen control strategy\" New Biotechnology, 4413-22.\n",
    "\n",
    "Papagianni, M (2004), \"Fungal morphology and metabolite production in submerged mycelial processes\" Biotechnology Advances, 22(3), 189-259.\n",
    "\n",
    "Roach, N (2018), \"Fumaric Acid\", The Chemical Company, https://thechemco.com/chemical/fumaric-acid/ [2018, 3 March].\n",
    "Robinson, RK Colletotrichum Corda. Encyclopedia of Food Microbiology, Volumes 1-3. Elsevier.\n",
    "\n",
    "Schaschke, C Young, James. Dictionary of Chemical Engineering. Oxford University Press.\n",
    "\n",
    "Smith, AK, and Circle, SJ (1972), Soybeans: chemistry and technology, Avi Pub. Co., Westport, Conn.\n",
    "\n",
    "Thompson, KA, Summers, RS, and Cook, SM (2017), \"Development and experimental validation of the composition and treatability of a new synthetic bathroom greywater (SynGrey)\" Environmental Science: Water Research and Technology, 3(6), 1120-1131.\n",
    "\n",
    "Wareing, P, Stuart, F, and Fernandes, R 6.27 Rhizopus. Micro-Facts - The Working Companion for Food Microbiologists (7th Edition). Royal Society of Chemistry.\n",
    "\n",
    "Webb, C (1989), \"Fungal cell immobilisation\" Mycologist, 3(4), 167-170.\n",
    "\n",
    "Xu, Q, Li, S, Huang, H, and Wen, J (2012), \"Key technologies for the industrial production of fumaric acid by fermentation\" Biotechnology Advances, 30(6), 1685-1696.\n",
    "\n",
    "Yang, J, Zhang, Y, Zhao, S, Zhou, Q, Xue, X, and Chen, L (2018), \"Statistical Optimization of Medium for Pullulan Production by Aureobasidium pullulans NCPS2016 Using Fructose and Soybean Meal Hydrolysates\" Molecules, 23(6), 1334.\n",
    "\n",
    "Zhang, K, Yu, C, and Yang, S-T (2015), \"Effects of soybean meal hydrolysate as the nitrogen source on seed culture morphology and fumaric acid production by <b>Rhizopus oryzae</b>\" Process Biochemistry, 50(2), 173-179.\n",
    "\n",
    "Zhou, Y, Du, J, and Tsao, GT (2000), \"Mycelial pellet formation by Rhizopus oryzae ATCC 20344\" Applied Biochemistry and Biotechnology, 84(1), 779-789.\n",
    "\n",
    "Ploetz, RC (2003), Diseases of Tropical Fruit Crops, CABI, Wallingford, UNITED KINGDOM."
   ]
  }
 ],
 "metadata": {
  "kernelspec": {
   "display_name": "Python 3",
   "language": "python",
   "name": "python3"
  },
  "language_info": {
   "codemirror_mode": {
    "name": "ipython",
    "version": 3
   },
   "file_extension": ".py",
   "mimetype": "text/x-python",
   "name": "python",
   "nbconvert_exporter": "python",
   "pygments_lexer": "ipython3",
   "version": "3.7.3"
  }
 },
 "nbformat": 4,
 "nbformat_minor": 2
}

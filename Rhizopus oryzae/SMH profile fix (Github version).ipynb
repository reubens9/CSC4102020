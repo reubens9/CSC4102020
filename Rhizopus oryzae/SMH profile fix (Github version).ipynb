{
 "cells": [
  {
   "cell_type": "markdown",
   "metadata": {},
   "source": [
    "# 3 Modeling"
   ]
  },
  {
   "cell_type": "markdown",
   "metadata": {},
   "source": [
    "<img src=\"RhozyMap.png\" width=\"400\" />\n",
    "\n",
    "######  Figure 5: Reduced metabolic pathway <a href=\"https://nbviewer.jupyter.org/github/willienicol/Biochemical-engineering-notes/blob/master/7%20Fed-batch%20and%20continuous%20fermenters/Rhozytut_final.ipynb\" target=\"_blank\"> (Reynecke, 2018)</a>."
   ]
  },
  {
   "cell_type": "markdown",
   "metadata": {},
   "source": [
    "<img src=\"fluxmodel.PNG\" width=\"720\" height=\"200\" />"
   ]
  },
  {
   "cell_type": "markdown",
   "metadata": {},
   "source": [
    "###### Importing modules"
   ]
  },
  {
   "cell_type": "code",
   "execution_count": 1,
   "metadata": {},
   "outputs": [],
   "source": [
    "# !pip install lmfit"
   ]
  },
  {
   "cell_type": "code",
   "execution_count": 2,
   "metadata": {},
   "outputs": [],
   "source": [
    "import numpy as np\n",
    "import pandas as pd\n",
    "import matplotlib.pyplot as plt\n",
    "import matplotlib.lines as mlines\n",
    "from scipy.integrate import odeint as integrate\n",
    "import ipywidgets as widgets\n",
    "# from IPython.display import display\n",
    "from lmfit import minimize, Minimizer, Parameters, Parameter, report_fit\n",
    "from scipy.interpolate import interp1d\n",
    "%matplotlib inline"
   ]
  },
  {
   "cell_type": "markdown",
   "metadata": {},
   "source": [
    "###### Molecular formula"
   ]
  },
  {
   "cell_type": "markdown",
   "metadata": {},
   "source": [
    "Microbial biomass has an approximate molecular formula of CH<sub>1.8</sub>O<sub>0.5</sub>N<sub>0.2</sub>, in g/cmol, <a href=\"https://biotechnologyforbiofuels.biomedcentral.com/track/pdf/10.1186/s13068-020-1664-8\" target=\"_blank\">(Swart et al, 2020)</a>. The molar mass of the metabolites, glucose and biomass are given in g/cmols below."
   ]
  },
  {
   "cell_type": "code",
   "execution_count": 3,
   "metadata": {},
   "outputs": [
    {
     "data": {
      "text/plain": [
       "(23.0, 24.6, 30, 60, 29, 33.5, 44)"
      ]
     },
     "execution_count": 3,
     "metadata": {},
     "output_type": "execute_result"
    }
   ],
   "source": [
    "c, h, o, n = 12, 1, 16, 14      # g/cmol\n",
    "MMs = c + 2*h + o               # glucose\n",
    "MMx = c + 1.8*h + 0.5*o + 0.2*n # Biomass (R. oryzae)\n",
    "MMe = c + 3*h + 0.5*o           # ethanol\n",
    "MMn = c + 4*h + 2*n + o         # urea\n",
    "MMf = c + h + o                 # fumaric acid\n",
    "MMm = c + 1.5*h + 1.25*o        # Malic acid\n",
    "MMco2 = c + 2*o                 # Carbon dioxide\n",
    "MMe,MMx,MMs,MMn,MMf, MMm, MMco2 "
   ]
  },
  {
   "cell_type": "code",
   "execution_count": 4,
   "metadata": {},
   "outputs": [],
   "source": [
    "def ferm_eq(C,t,var):\n",
    "    Cx, Cs, Cf, Ce, Cm = C[0],C[1], C[2], C[3], C[4]\n",
    "    t = t\n",
    "\n",
    "    r = response_fun([Cx, Cs, Cf, Ce, Cm],t,var)     \n",
    "\n",
    "    return [r[0]*Cx,  #X\n",
    "            r[1]*Cx,  #S\n",
    "            r[2]*Cx,  #F\n",
    "            r[3]*Cx,  #E\n",
    "            r[4]*Cx]  #M# NB: do not be confuse by the index number (nitrogen analysis has been skipped)"
   ]
  },
  {
   "cell_type": "markdown",
   "metadata": {},
   "source": [
    "###### Interpolation"
   ]
  },
  {
   "cell_type": "code",
   "execution_count": 5,
   "metadata": {},
   "outputs": [],
   "source": [
    "\"\"\"Interpolating function\"\"\"\n",
    "\n",
    "def INTERP(Time_data,Time_model,Conc_model):\n",
    "    Conc  = []\n",
    "    model = interp1d(Time_model,Conc_model)\n",
    "    for t in Time_data:\n",
    "        Y = model(t)\n",
    "        Conc.append(Y)\n",
    "\n",
    "    Conc = np.array(Conc)\n",
    "    return Conc"
   ]
  },
  {
   "cell_type": "markdown",
   "metadata": {},
   "source": [
    "## 3.3 SMH 20% v/v (production phase)"
   ]
  },
  {
   "cell_type": "markdown",
   "metadata": {},
   "source": [
    "###### Define cellular parameters"
   ]
  },
  {
   "cell_type": "code",
   "execution_count": 6,
   "metadata": {},
   "outputs": [],
   "source": [
    "'''  parameters will be fit by lmfit  '''\n",
    "\n",
    "params = Parameters()                           #Parameters\n",
    "params.add('μ_max',value=0.1, min=0.001, max=4) #1#Growth rate of biomass\n",
    "params.add('θ_max',value=0.1, min=0.001, max=4) #2#Maintenance rate requirements of the cell\n",
    "params.add('β',value=0.1, min=0.001, max=20)     #3#Yield of biomass NADH******\n",
    "params.add('γ',value=2.5, min=0, max=3)      #4#Energy required to make more cells******\n",
    "params.add('P_O',value=1.25, min=0.01, max=3)   #5#Phosphate (added to ADP to form ATP) per atomic oxygen*****\n",
    "params.add('α',value=0.1, min=0.1, max=0.11)    #6#Yield of biomass CO2******"
   ]
  },
  {
   "cell_type": "code",
   "execution_count": 7,
   "metadata": {},
   "outputs": [],
   "source": [
    "# '''  parameters will be fit by lmfit  '''\n",
    "\n",
    "# params = Parameters()                           #Parameters\n",
    "# params.add('μ_max',value=0.1, min=0.001, max=4) #1#Growth rate of biomass\n",
    "# params.add('θ_max',value=0.1, min=0.001, max=4) #2#Maintenance rate requirements of the cell\n",
    "# params.add('β',value=0.1, min=0.001, max=4)     #3#Yield of biomass NADH\n",
    "# params.add('γ',value=2.5, min=1.8, max=3)       #4#Energy required to make more cells\n",
    "# params.add('P_O',value=1.25, min=1, max=3)      #5#Phosphate (added to ADP to form ATP) per atomic oxygen\n",
    "# params.add('α',value=0.1, min=0.001, max=4)     #6#Yield of biomass CO2"
   ]
  },
  {
   "cell_type": "code",
   "execution_count": 8,
   "metadata": {},
   "outputs": [],
   "source": [
    "# (<Parameter 'μ_max', value=0.005068721116674157 +/- 0.0022, bounds=[0.001:4]>,\n",
    "#  <Parameter 'θ_max', value=0.018297133525909736 +/- 177, bounds=[0.001:4]>,\n",
    "#  <Parameter 'β', value=3.994959584564099 +/- 1.33e+05, bounds=[0.001:4]>,\n",
    "#  <Parameter 'γ', value=1.803303997683038 +/- 5.85e+04, bounds=[1.8:3]>,\n",
    "#  <Parameter 'P_O', value=1.0000000027070315 +/- 1.13, bounds=[1:3]>,\n",
    "#  <Parameter 'α', value=0.0010036788884418986 +/- 2.22e+04, bounds=[0.001:4]>)"
   ]
  },
  {
   "cell_type": "markdown",
   "metadata": {},
   "source": [
    "###### Define cellular responce"
   ]
  },
  {
   "cell_type": "code",
   "execution_count": 9,
   "metadata": {},
   "outputs": [],
   "source": [
    "def response_fun(C,t,var):\n",
    "    Cx, Cs, Cf, Ce, Cm = C\n",
    "    μ_max, θ_max, β, γ, P_O, α = var\n",
    "    t = t\n",
    "    r_gluc    = (Cs/Cx)*(1/tmax)       # ( Cs/[(Cx/L)*t] )\n",
    "    \n",
    "    if Cs <= 0:\n",
    "        return [0,0,0,0,0]\n",
    "\n",
    "    else:    \n",
    "        μ = μ_max\n",
    "        θ = θ_max\n",
    "        A1 = np.matrix([[-1, 1+α, 1, 0, 0, 0, 0],\n",
    "                      [0, 0, -1, 1, 1, 1, 0],\n",
    "                      [0, -γ, 1/3, -1, 0, 1/3, 2*P_O],\n",
    "                      [0, β, 1/3, -1/4, -1/2, 2, -2],\n",
    "                      [1, 0, 0, 0, 0, 0, 0],\n",
    "                      [0, 1, 0, 0, 0, 0, 0],\n",
    "                      [0, 0, 0, 0, 1, 0, 0]])\n",
    "\n",
    "\n",
    "        B1 = np.matrix([[0, 0, θ, 0, r_gluc, μ, (Yse*r_gluc)]]).T\n",
    "\n",
    "        r1 = np.linalg.solve(A1,B1)\n",
    "\n",
    "        return[r1[1,0],        #X\n",
    "              -r1[0,0],        #S\n",
    "               r1[3,0],        #F\n",
    "               r1[4,0],        #E\n",
    "               Ysm*(r1[0,0])]  #M# check wether you have t include the negative or not"
   ]
  },
  {
   "cell_type": "markdown",
   "metadata": {},
   "source": [
    "###### Experimental data"
   ]
  },
  {
   "cell_type": "code",
   "execution_count": 10,
   "metadata": {},
   "outputs": [],
   "source": [
    "data      = pd.read_csv('SMH.csv')\n",
    "t0         = np.array(data['t'].T)\n",
    "Csugar    = np.array(data['Cs'])\n",
    "Cfumarate = np.array(data['Cf'])\n",
    "Cethanol  = np.array(data['Ce'])\n",
    "Cmalic    = np.array(data['Cm'])"
   ]
  },
  {
   "cell_type": "markdown",
   "metadata": {},
   "source": [
    " ###### Define fermentor parameters"
   ]
  },
  {
   "cell_type": "code",
   "execution_count": 11,
   "metadata": {},
   "outputs": [],
   "source": [
    "'intitial conditions'\n",
    "lg   = 0.05          #l# Total Volume of the growth phase (50ml)\n",
    "lg_p = 0.01          #l# Volume of the growth phase(10ml) into 30ml_production \n",
    "Lp   = 0.04          #l# Total Volume of the production phase [30ml_production + 10ml of Lg]\n",
    "gxo  = 0.45          #g# mass of biomass by 20%SMH assuming its the same for all N types \n",
    "\n",
    "Cso  = 100/MMs\n",
    "Cxo  = gxo/(Lp*MMx)\n",
    "Cno  = 0\n",
    "Cfo  = 0\n",
    "Ceo  = 0\n",
    "Cmo  = 0\n",
    "Co   = [Cxo, Cso, Cfo, Ceo, Cmo] #cmol/L# [Cxo, Cso, Cfo, Ceo,Cmo] in \n",
    "\n",
    "'Yields'\n",
    "Ysm = (Cmalic[-1]/Cso)    #Cmolm/Cmols# yield fix for malic\n",
    "Yse = (Cethanol[-1]/Cso)    #Cmolm/Cmols# yield fix for malic\n",
    "# Ysf = (Cfumarate[-1]/Cso) #Cmolf/Cmols# yield fix for fumaric\n",
    "'timespan'\n",
    "tmin = 0                                # startup time\n",
    "tmax = 144                              # termination time\n",
    "tres = tmax\n",
    "tspan=np.linspace(0,tmax+1,tres)        # define the timespan of the integration"
   ]
  },
  {
   "cell_type": "markdown",
   "metadata": {},
   "source": [
    " ###### Fitting function"
   ]
  },
  {
   "cell_type": "code",
   "execution_count": 12,
   "metadata": {},
   "outputs": [],
   "source": [
    "\"\"\"Fitting function\"\"\"\n",
    "def Fit(params):\n",
    "    \n",
    "    '''\n",
    "    This function is used to determine the error between experimental data and that of the model.\n",
    "    '''\n",
    "    \n",
    "    μ_max = params['μ_max']\n",
    "    θ_max = params['θ_max']\n",
    "    β     = params['β']\n",
    "    γ     = params['γ']\n",
    "    P_O   = params['P_O']\n",
    "    α     = params['α']\n",
    "\n",
    "    var = μ_max, θ_max,β, γ, P_O, α    \n",
    "    Ci  = integrate(response_fun, Co, tspan, args = (var,))\n",
    "\n",
    "    Cx = Ci[:, 0]\n",
    "    Cs = Ci[:, 1]\n",
    "    Cf = Ci[:, 2]\n",
    "    Ce = Ci[:, 3]\n",
    "    Cm = Ci[:, 4] # NB: do not be confuse by the index number (nitrogen analysis has been skipped)\n",
    "\n",
    "    C1 = INTERP(t0,tspan,Cs) # sugar\n",
    "    C2 = INTERP(t0,tspan,Cf) # fumarate\n",
    "    C3 = INTERP(t0,tspan,Ce) # ethanol\n",
    "    C4 = INTERP(t0,tspan,Cm) # malic\n",
    "\n",
    "\n",
    "    Error_1 = (Csugar - C1)**1\n",
    "    Error_2 = (Cfumarate - C2)**1\n",
    "    Error_3 = (Cethanol - C3)**1\n",
    "    Error_4 = (Cmalic - C4)**1\n",
    "\n",
    "    return [Error_1,Error_2,Error_3,Error_4]"
   ]
  },
  {
   "cell_type": "markdown",
   "metadata": {},
   "source": [
    " ###### Plots"
   ]
  },
  {
   "cell_type": "code",
   "execution_count": 13,
   "metadata": {},
   "outputs": [
    {
     "data": {
      "text/plain": [
       "(<Parameter 'μ_max', value=0.004782816731081021, bounds=[0.001:4]>,\n",
       " <Parameter 'θ_max', value=0.0010000234595623542, bounds=[0.001:4]>,\n",
       " <Parameter 'β', value=19.952225140400866, bounds=[0.001:20]>,\n",
       " <Parameter 'γ', value=5.466868624459664e-10, bounds=[0:3]>,\n",
       " <Parameter 'P_O', value=0.046030295695168026, bounds=[0.01:3]>,\n",
       " <Parameter 'α', value=0.1, bounds=[0.1:0.11]>)"
      ]
     },
     "execution_count": 13,
     "metadata": {},
     "output_type": "execute_result"
    },
    {
     "data": {
      "text/plain": [
       "<Figure size 432x288 with 0 Axes>"
      ]
     },
     "metadata": {},
     "output_type": "display_data"
    },
    {
     "data": {
      "image/png": "[encoded data removed]",
      "text/plain": [
       "<Figure size 1080x432 with 2 Axes>"
      ]
     },
     "metadata": {
      "needs_background": "light"
     },
     "output_type": "display_data"
    }
   ],
   "source": [
    "def Model(μ_max, θ_max, β, γ, P_O, α):    \n",
    "    '''\n",
    "    This function is used to plot the expermental data over the fitted model.\n",
    "    '''\n",
    "    \n",
    "    var = μ_max, θ_max, β, γ, P_O, α \n",
    "    Ci  = integrate(response_fun, Co, tspan, args = (var,))\n",
    "\n",
    "    Cx = Ci[:, 0]\n",
    "    Cs = Ci[:, 1]\n",
    "    Cf = Ci[:, 2]\n",
    "    Ce = Ci[:, 3]\n",
    "    Cm = Ci[:, 4] # NB: do not be confuse by the index number (nitrogen analysis has been skipped)\n",
    "\n",
    "    plt.figure(1)\n",
    "    fig, ax1 = plt.subplots(1, figsize=(15,6))\n",
    "    \n",
    "    ax1.set_title('SMH 20 %', fontsize=16, fontweight='bold')\n",
    "    ax1.set_xlabel('time (h)', fontsize=14)\n",
    "    ax1.set_ylabel('glucose (cmol/L)', color='black', fontsize=14)\n",
    "    ax1.plot(tspan, Cs*MMs, color='black')\n",
    "    ax1.plot([t0], [Csugar*MMs],linestyle='None', marker='o', color = 'black')\n",
    "    ax1.tick_params(axis='y', labelcolor='black')\n",
    "\n",
    "    ax2 = ax1.twinx()  # instantiate a second axes that shares the same x-axis\n",
    "\n",
    "    ax2.set_ylabel('Products', color='black', fontsize=14)  # we already handled the x-label with ax1\n",
    "    ax2.plot(tspan, Cf*MMf, color='red')\n",
    "    ax2.plot([t0], [Cfumarate*MMf], linestyle='None', marker='s', ms=6, color = 'red')\n",
    "    ax2.plot(tspan, Ce*MMe, color='black')\n",
    "    ax2.plot([t0], [Cethanol*MMe], linestyle='None', marker='o', ms=8, markerfacecolor=\"None\", markeredgecolor='black')\n",
    "    ax2.plot(tspan, Cm*MMm, color='blue')\n",
    "    ax2.plot([t0], [Cmalic*MMm], linestyle='None', marker='^', ms=6, color='blue')\n",
    "    ax2.tick_params(axis='y', labelcolor='black')\n",
    "    \n",
    "    #legend handling\n",
    "    black_cirlcles   = mlines.Line2D([], [], color='black', marker='o', linestyle='None', markersize=10, label='Cs')\n",
    "    red_square       = mlines.Line2D([], [], color='red', marker='s', linestyle='None', markersize=10, label='Cf')\n",
    "    blue_triangle    = mlines.Line2D([], [], color='blue', marker='^', linestyle='None', markersize=10, label='Cm')\n",
    "    black_cirlcles_w = mlines.Line2D([], [], color='black', marker='o', markerfacecolor=\"None\", markeredgecolor='black',\n",
    "                       linestyle='None', markersize=10, label='Ce')\n",
    "    plt.legend(handles=[black_cirlcles, red_square, blue_triangle,black_cirlcles_w ])\n",
    "\n",
    "    fig.tight_layout()  # otherwise the right y-label is slightly clipped\n",
    "\n",
    "\"\"\"Fitting the parameters to the data\"\"\"\n",
    "\n",
    "minner = Minimizer(Fit, params,nan_policy='omit') \n",
    "result = minner.minimize()\n",
    "\n",
    "μ_max = result.params['μ_max']\n",
    "θ_max = result.params['θ_max']\n",
    "β     = result.params['β']\n",
    "γ     = result.params['γ']\n",
    "P_O   = result.params['P_O']\n",
    "α   = result.params['α']\n",
    "\n",
    "Model(μ_max, θ_max, β, γ, P_O, α)\n",
    "μ_max, θ_max, β, γ, P_O, α   "
   ]
  },
  {
   "cell_type": "markdown",
   "metadata": {},
   "source": [
    "1. Check the expected β,γ,P_O, and α values\n",
    "\n",
    "2. Change:\n",
    " - fumarate spec\n",
    "   - α \n",
    "     - constant (α = 0.1): Fumarate (below experimental points) and ethanol(above experimental points) do not have good     approximates.\n",
    "     - changes (parameter): The profiles do not change (insignificant change, ethanol max decreases a bit ) and fumarate and      ethanol do not have good approximation. \n",
    " - ethanol spec\n",
    "   - α \n",
    "     - constant (α = 0.1): the ethanol fit is improved but fumarate (above experimental points) is still bad.  \n",
    "     - changes (parameter): not much of change, i.e same as constant.\n",
    "   - α and other parameters\n",
    "     - constant α (0.1) and change in bounds (max and or min) of others: both fumarate and ethanol fit improved.\n",
    "     - changes in α and change in bounds (max and or min) of others: nore or less the same as when α is constant.\n",
    "       - velidate this observation and others using R<sup>2</sup> by comparison.\n",
    " - Conclusion:\n",
    " - Use the \"constant α (0.1) and change in bounds (max and or min) of others\" because the α is constant for other nitrogen sources.\n",
    " - And maybe change the bounds of the other nitrogen sources since smh is changed.\n",
    "3. investigate why rate of glucose is constant (why it does not play around with the change in t, fix this for initial      t since we get an error there)\n",
    "\n",
    "4. Proof:\n",
    " - have pictures of the graphs \n",
    " - Not sure about the code\n",
    "\n",
    "5. Conclusion:\n",
    " - when the minimum bound of the The P_O value is decreased, the Fitted value decreases as suspected.\n",
    " \n",
    "6. Explain observations using:\n",
    " - Rate graphs\n",
    "   - Net Carbon dioxide\n",
    "     - Carbon dioxide to fumarate\n",
    "     - Fumarate\n",
    "     - Respiration\n",
    "     - ethanol\n",
    "     - and maybe oxygen\n",
    "7. Next goal:\n",
    " - Investigate expected value of parameters for bounds to  check if they make sense\n",
    " - Check if I could maybe play around the energy (3θ) needed to excrete fumarate  to see if this changes with different nitrogen sources. That is,make it a parameter.\n",
    "   - Check literature for the suggested 3θ.\n",
    "   - I there is a case of 3θ changing with changes in nitrogen sources, we can include this in the results and discussion.\n",
    "8. Questions:\n",
    " - Why is the ethanol lower in SMH?\n",
    "   - Compare the respiration rates of nitrogen sources and see if they are equal.\n",
    "     - Equal. Maybe its beacuse there is better aeration in SMH.\n",
    "       - So, then you check the oxygen rates to check if aeration is an issue y looking at the rates.\n",
    "       - Better aeration higher O<sub>2</sub> rates\n",
    "     - Not equal. Maybe its because of the nitrogen source.\n",
    "     - So, SMH as nitrogen source increases (improves) the rate of respiration."
   ]
  }
 ],
 "metadata": {
  "kernelspec": {
   "display_name": "Python 3",
   "language": "python",
   "name": "python3"
  },
  "language_info": {
   "codemirror_mode": {
    "name": "ipython",
    "version": 3
   },
   "file_extension": ".py",
   "mimetype": "text/x-python",
   "name": "python",
   "nbconvert_exporter": "python",
   "pygments_lexer": "ipython3",
   "version": "3.7.3"
  }
 },
 "nbformat": 4,
 "nbformat_minor": 2
}

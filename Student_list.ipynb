{
 "cells": [
  {
   "cell_type": "markdown",
   "metadata": {},
   "source": [
    "# Bio-reaction reports"
   ]
  },
  {
   "cell_type": "markdown",
   "metadata": {},
   "source": [
    "## CSC411"
   ]
  },
  {
   "cell_type": "markdown",
   "metadata": {},
   "source": [
    "* [Ecosystem](https://nbviewer.jupyter.org/github/reubens9/CSC4102020/blob/master/Ecosystem/Ecosystem1.ipynb)"
   ]
  },
  {
   "cell_type": "markdown",
   "metadata": {},
   "source": [
    "* [Microbial Fuel Cells](https://nbviewer.jupyter.org/github/reubens9/CSC4102020/blob/master/Microbial%20Fuel%20Cells/MFC.ipynb)"
   ]
  },
  {
   "cell_type": "markdown",
   "metadata": {},
   "source": [
    "* [Modelling the metabolism of duckweed](https://nbviewer.jupyter.org/github/reubens9/CSC4102020/blob/master/Modelling%20the%20metabolism%20of%20duckweed/Modelling%20the%20metabolism%20of%20duckweed.ipynb)"
   ]
  },
  {
   "cell_type": "markdown",
   "metadata": {},
   "source": [
    "* [Nitrogen fixation](https://nbviewer.jupyter.org/github/reubens9/CSC4102020/blob/master/Nitrogen%20fixation/Nitrogen%20fixation.ipynb)"
   ]
  },
  {
   "cell_type": "markdown",
   "metadata": {},
   "source": [
    "* [Plant growth model](https://nbviewer.jupyter.org/github/reubens9/CSC4102020/blob/master/Plant%20growth%20model/PlantGrowthModel.ipynb)"
   ]
  },
  {
   "cell_type": "markdown",
   "metadata": {},
   "source": [
    "* [Rhizopus oryzae](https://nbviewer.jupyter.org/github/reubens9/CSC4102020/blob/master/Rhizopus%20oryzae/Flux%20model.ipynb)"
   ]
  }
 ],
 "metadata": {
  "kernelspec": {
   "display_name": "Python 3",
   "language": "python",
   "name": "python3"
  },
  "language_info": {
   "codemirror_mode": {
    "name": "ipython",
    "version": 3
   },
   "file_extension": ".py",
   "mimetype": "text/x-python",
   "name": "python",
   "nbconvert_exporter": "python",
   "pygments_lexer": "ipython3",
   "version": "3.7.3"
  }
 },
 "nbformat": 4,
 "nbformat_minor": 4
}
